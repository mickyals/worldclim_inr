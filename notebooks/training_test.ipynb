{
 "cells": [
  {
   "metadata": {},
   "cell_type": "markdown",
   "source": "## Training and Testing",
   "id": "5262d9d64aa02ebb"
  },
  {
   "metadata": {
    "ExecuteTime": {
     "end_time": "2025-07-09T19:53:35.814439Z",
     "start_time": "2025-07-09T19:53:33.279463Z"
    }
   },
   "cell_type": "code",
   "source": [
    "import torch\n",
    "from torch.utils.data import DataLoader, Dataset\n",
    "import torch.nn as nn\n",
    "from tqdm import tqdm\n",
    "import torch.nn.functional as F\n",
    "import torch.optim as optim\n",
    "from helpers import model_summary, set_device\n",
    "import matplotlib.pyplot as plt\n",
    "import numpy as np\n",
    "import xarray as xr\n",
    "from models.implicit_neural_representations.inr_models.siren_model import SirenModel, FinerModel\n"
   ],
   "id": "c9134b222ccc1c7e",
   "outputs": [],
   "execution_count": 1
  },
  {
   "metadata": {
    "ExecuteTime": {
     "end_time": "2025-07-09T19:53:35.821656Z",
     "start_time": "2025-07-09T19:53:35.817318Z"
    }
   },
   "cell_type": "code",
   "source": [
    "def train(model, train_loader, optimizer, criterion, epoch):\n",
    "    model.train()\n",
    "    train_loss = 0\n",
    "    \n",
    "    # Create the tqdm progress bar for batches\n",
    "    progress_bar = tqdm(enumerate(train_loader), total=len(train_loader), desc=f\"Epoch {epoch}\")\n",
    "\n",
    "    for batch_idx, (data, target) in progress_bar:\n",
    "        data, target = data.to('cpu'), target.to('cpu')\n",
    "        optimizer.zero_grad()\n",
    "        output = model(data).to('cpu')\n",
    "        loss = criterion(output, target)\n",
    "        loss.backward()\n",
    "        optimizer.step()\n",
    "        train_loss += loss.item()\n",
    "\n",
    "        # Update tqdm progress bar with current loss every 10 steps\n",
    "        if batch_idx % 10 == 0:\n",
    "            progress_bar.set_postfix(loss=loss.item(), refresh=True)\n",
    "\n",
    "    train_loss /= len(train_loader)\n",
    "    return train_loss\n"
   ],
   "id": "48a84a594712e3b6",
   "outputs": [],
   "execution_count": 2
  },
  {
   "metadata": {
    "ExecuteTime": {
     "end_time": "2025-07-09T19:53:36.097931Z",
     "start_time": "2025-07-09T19:53:35.910223Z"
    }
   },
   "cell_type": "code",
   "source": [
    "ds = xr.open_dataset('../data/era5_singlehour_1var.nc')\n",
    "ds"
   ],
   "id": "b15afb385f72a882",
   "outputs": [
    {
     "data": {
      "text/plain": [
       "<xarray.Dataset> Size: 4MB\n",
       "Dimensions:         (valid_time: 1, pressure_level: 1, latitude: 721,\n",
       "                     longitude: 1440)\n",
       "Coordinates:\n",
       "    number          int64 8B ...\n",
       "  * valid_time      (valid_time) datetime64[ns] 8B 2025-07-03T07:00:00\n",
       "  * pressure_level  (pressure_level) float64 8B 1e+03\n",
       "  * latitude        (latitude) float64 6kB 90.0 89.75 89.5 ... -89.75 -90.0\n",
       "  * longitude       (longitude) float64 12kB 0.0 0.25 0.5 ... 359.2 359.5 359.8\n",
       "    expver          <U4 16B ...\n",
       "Data variables:\n",
       "    t               (valid_time, pressure_level, latitude, longitude) float32 4MB ...\n",
       "Attributes:\n",
       "    GRIB_centre:             ecmf\n",
       "    GRIB_centreDescription:  European Centre for Medium-Range Weather Forecasts\n",
       "    GRIB_subCentre:          0\n",
       "    Conventions:             CF-1.7\n",
       "    institution:             European Centre for Medium-Range Weather Forecasts\n",
       "    history:                 2025-07-09T18:52 GRIB to CDM+CF via cfgrib-0.9.1..."
      ],
      "text/html": [
       "<div><svg style=\"position: absolute; width: 0; height: 0; overflow: hidden\">\n",
       "<defs>\n",
       "<symbol id=\"icon-database\" viewBox=\"0 0 32 32\">\n",
       "<path d=\"M16 0c-8.837 0-16 2.239-16 5v4c0 2.761 7.163 5 16 5s16-2.239 16-5v-4c0-2.761-7.163-5-16-5z\"></path>\n",
       "<path d=\"M16 17c-8.837 0-16-2.239-16-5v6c0 2.761 7.163 5 16 5s16-2.239 16-5v-6c0 2.761-7.163 5-16 5z\"></path>\n",
       "<path d=\"M16 26c-8.837 0-16-2.239-16-5v6c0 2.761 7.163 5 16 5s16-2.239 16-5v-6c0 2.761-7.163 5-16 5z\"></path>\n",
       "</symbol>\n",
       "<symbol id=\"icon-file-text2\" viewBox=\"0 0 32 32\">\n",
       "<path d=\"M28.681 7.159c-0.694-0.947-1.662-2.053-2.724-3.116s-2.169-2.030-3.116-2.724c-1.612-1.182-2.393-1.319-2.841-1.319h-15.5c-1.378 0-2.5 1.121-2.5 2.5v27c0 1.378 1.122 2.5 2.5 2.5h23c1.378 0 2.5-1.122 2.5-2.5v-19.5c0-0.448-0.137-1.23-1.319-2.841zM24.543 5.457c0.959 0.959 1.712 1.825 2.268 2.543h-4.811v-4.811c0.718 0.556 1.584 1.309 2.543 2.268zM28 29.5c0 0.271-0.229 0.5-0.5 0.5h-23c-0.271 0-0.5-0.229-0.5-0.5v-27c0-0.271 0.229-0.5 0.5-0.5 0 0 15.499-0 15.5 0v7c0 0.552 0.448 1 1 1h7v19.5z\"></path>\n",
       "<path d=\"M23 26h-14c-0.552 0-1-0.448-1-1s0.448-1 1-1h14c0.552 0 1 0.448 1 1s-0.448 1-1 1z\"></path>\n",
       "<path d=\"M23 22h-14c-0.552 0-1-0.448-1-1s0.448-1 1-1h14c0.552 0 1 0.448 1 1s-0.448 1-1 1z\"></path>\n",
       "<path d=\"M23 18h-14c-0.552 0-1-0.448-1-1s0.448-1 1-1h14c0.552 0 1 0.448 1 1s-0.448 1-1 1z\"></path>\n",
       "</symbol>\n",
       "</defs>\n",
       "</svg>\n",
       "<style>/* CSS stylesheet for displaying xarray objects in jupyterlab.\n",
       " *\n",
       " */\n",
       "\n",
       ":root {\n",
       "  --xr-font-color0: var(--jp-content-font-color0, rgba(0, 0, 0, 1));\n",
       "  --xr-font-color2: var(--jp-content-font-color2, rgba(0, 0, 0, 0.54));\n",
       "  --xr-font-color3: var(--jp-content-font-color3, rgba(0, 0, 0, 0.38));\n",
       "  --xr-border-color: var(--jp-border-color2, #e0e0e0);\n",
       "  --xr-disabled-color: var(--jp-layout-color3, #bdbdbd);\n",
       "  --xr-background-color: var(--jp-layout-color0, white);\n",
       "  --xr-background-color-row-even: var(--jp-layout-color1, white);\n",
       "  --xr-background-color-row-odd: var(--jp-layout-color2, #eeeeee);\n",
       "}\n",
       "\n",
       "html[theme=\"dark\"],\n",
       "html[data-theme=\"dark\"],\n",
       "body[data-theme=\"dark\"],\n",
       "body.vscode-dark {\n",
       "  --xr-font-color0: rgba(255, 255, 255, 1);\n",
       "  --xr-font-color2: rgba(255, 255, 255, 0.54);\n",
       "  --xr-font-color3: rgba(255, 255, 255, 0.38);\n",
       "  --xr-border-color: #1f1f1f;\n",
       "  --xr-disabled-color: #515151;\n",
       "  --xr-background-color: #111111;\n",
       "  --xr-background-color-row-even: #111111;\n",
       "  --xr-background-color-row-odd: #313131;\n",
       "}\n",
       "\n",
       ".xr-wrap {\n",
       "  display: block !important;\n",
       "  min-width: 300px;\n",
       "  max-width: 700px;\n",
       "}\n",
       "\n",
       ".xr-text-repr-fallback {\n",
       "  /* fallback to plain text repr when CSS is not injected (untrusted notebook) */\n",
       "  display: none;\n",
       "}\n",
       "\n",
       ".xr-header {\n",
       "  padding-top: 6px;\n",
       "  padding-bottom: 6px;\n",
       "  margin-bottom: 4px;\n",
       "  border-bottom: solid 1px var(--xr-border-color);\n",
       "}\n",
       "\n",
       ".xr-header > div,\n",
       ".xr-header > ul {\n",
       "  display: inline;\n",
       "  margin-top: 0;\n",
       "  margin-bottom: 0;\n",
       "}\n",
       "\n",
       ".xr-obj-type,\n",
       ".xr-array-name {\n",
       "  margin-left: 2px;\n",
       "  margin-right: 10px;\n",
       "}\n",
       "\n",
       ".xr-obj-type {\n",
       "  color: var(--xr-font-color2);\n",
       "}\n",
       "\n",
       ".xr-sections {\n",
       "  padding-left: 0 !important;\n",
       "  display: grid;\n",
       "  grid-template-columns: 150px auto auto 1fr 0 20px 0 20px;\n",
       "}\n",
       "\n",
       ".xr-section-item {\n",
       "  display: contents;\n",
       "}\n",
       "\n",
       ".xr-section-item input {\n",
       "  display: inline-block;\n",
       "  opacity: 0;\n",
       "  height: 0;\n",
       "}\n",
       "\n",
       ".xr-section-item input + label {\n",
       "  color: var(--xr-disabled-color);\n",
       "}\n",
       "\n",
       ".xr-section-item input:enabled + label {\n",
       "  cursor: pointer;\n",
       "  color: var(--xr-font-color2);\n",
       "}\n",
       "\n",
       ".xr-section-item input:focus + label {\n",
       "  border: 2px solid var(--xr-font-color0);\n",
       "}\n",
       "\n",
       ".xr-section-item input:enabled + label:hover {\n",
       "  color: var(--xr-font-color0);\n",
       "}\n",
       "\n",
       ".xr-section-summary {\n",
       "  grid-column: 1;\n",
       "  color: var(--xr-font-color2);\n",
       "  font-weight: 500;\n",
       "}\n",
       "\n",
       ".xr-section-summary > span {\n",
       "  display: inline-block;\n",
       "  padding-left: 0.5em;\n",
       "}\n",
       "\n",
       ".xr-section-summary-in:disabled + label {\n",
       "  color: var(--xr-font-color2);\n",
       "}\n",
       "\n",
       ".xr-section-summary-in + label:before {\n",
       "  display: inline-block;\n",
       "  content: \"►\";\n",
       "  font-size: 11px;\n",
       "  width: 15px;\n",
       "  text-align: center;\n",
       "}\n",
       "\n",
       ".xr-section-summary-in:disabled + label:before {\n",
       "  color: var(--xr-disabled-color);\n",
       "}\n",
       "\n",
       ".xr-section-summary-in:checked + label:before {\n",
       "  content: \"▼\";\n",
       "}\n",
       "\n",
       ".xr-section-summary-in:checked + label > span {\n",
       "  display: none;\n",
       "}\n",
       "\n",
       ".xr-section-summary,\n",
       ".xr-section-inline-details {\n",
       "  padding-top: 4px;\n",
       "  padding-bottom: 4px;\n",
       "}\n",
       "\n",
       ".xr-section-inline-details {\n",
       "  grid-column: 2 / -1;\n",
       "}\n",
       "\n",
       ".xr-section-details {\n",
       "  display: none;\n",
       "  grid-column: 1 / -1;\n",
       "  margin-bottom: 5px;\n",
       "}\n",
       "\n",
       ".xr-section-summary-in:checked ~ .xr-section-details {\n",
       "  display: contents;\n",
       "}\n",
       "\n",
       ".xr-array-wrap {\n",
       "  grid-column: 1 / -1;\n",
       "  display: grid;\n",
       "  grid-template-columns: 20px auto;\n",
       "}\n",
       "\n",
       ".xr-array-wrap > label {\n",
       "  grid-column: 1;\n",
       "  vertical-align: top;\n",
       "}\n",
       "\n",
       ".xr-preview {\n",
       "  color: var(--xr-font-color3);\n",
       "}\n",
       "\n",
       ".xr-array-preview,\n",
       ".xr-array-data {\n",
       "  padding: 0 5px !important;\n",
       "  grid-column: 2;\n",
       "}\n",
       "\n",
       ".xr-array-data,\n",
       ".xr-array-in:checked ~ .xr-array-preview {\n",
       "  display: none;\n",
       "}\n",
       "\n",
       ".xr-array-in:checked ~ .xr-array-data,\n",
       ".xr-array-preview {\n",
       "  display: inline-block;\n",
       "}\n",
       "\n",
       ".xr-dim-list {\n",
       "  display: inline-block !important;\n",
       "  list-style: none;\n",
       "  padding: 0 !important;\n",
       "  margin: 0;\n",
       "}\n",
       "\n",
       ".xr-dim-list li {\n",
       "  display: inline-block;\n",
       "  padding: 0;\n",
       "  margin: 0;\n",
       "}\n",
       "\n",
       ".xr-dim-list:before {\n",
       "  content: \"(\";\n",
       "}\n",
       "\n",
       ".xr-dim-list:after {\n",
       "  content: \")\";\n",
       "}\n",
       "\n",
       ".xr-dim-list li:not(:last-child):after {\n",
       "  content: \",\";\n",
       "  padding-right: 5px;\n",
       "}\n",
       "\n",
       ".xr-has-index {\n",
       "  font-weight: bold;\n",
       "}\n",
       "\n",
       ".xr-var-list,\n",
       ".xr-var-item {\n",
       "  display: contents;\n",
       "}\n",
       "\n",
       ".xr-var-item > div,\n",
       ".xr-var-item label,\n",
       ".xr-var-item > .xr-var-name span {\n",
       "  background-color: var(--xr-background-color-row-even);\n",
       "  margin-bottom: 0;\n",
       "}\n",
       "\n",
       ".xr-var-item > .xr-var-name:hover span {\n",
       "  padding-right: 5px;\n",
       "}\n",
       "\n",
       ".xr-var-list > li:nth-child(odd) > div,\n",
       ".xr-var-list > li:nth-child(odd) > label,\n",
       ".xr-var-list > li:nth-child(odd) > .xr-var-name span {\n",
       "  background-color: var(--xr-background-color-row-odd);\n",
       "}\n",
       "\n",
       ".xr-var-name {\n",
       "  grid-column: 1;\n",
       "}\n",
       "\n",
       ".xr-var-dims {\n",
       "  grid-column: 2;\n",
       "}\n",
       "\n",
       ".xr-var-dtype {\n",
       "  grid-column: 3;\n",
       "  text-align: right;\n",
       "  color: var(--xr-font-color2);\n",
       "}\n",
       "\n",
       ".xr-var-preview {\n",
       "  grid-column: 4;\n",
       "}\n",
       "\n",
       ".xr-index-preview {\n",
       "  grid-column: 2 / 5;\n",
       "  color: var(--xr-font-color2);\n",
       "}\n",
       "\n",
       ".xr-var-name,\n",
       ".xr-var-dims,\n",
       ".xr-var-dtype,\n",
       ".xr-preview,\n",
       ".xr-attrs dt {\n",
       "  white-space: nowrap;\n",
       "  overflow: hidden;\n",
       "  text-overflow: ellipsis;\n",
       "  padding-right: 10px;\n",
       "}\n",
       "\n",
       ".xr-var-name:hover,\n",
       ".xr-var-dims:hover,\n",
       ".xr-var-dtype:hover,\n",
       ".xr-attrs dt:hover {\n",
       "  overflow: visible;\n",
       "  width: auto;\n",
       "  z-index: 1;\n",
       "}\n",
       "\n",
       ".xr-var-attrs,\n",
       ".xr-var-data,\n",
       ".xr-index-data {\n",
       "  display: none;\n",
       "  background-color: var(--xr-background-color) !important;\n",
       "  padding-bottom: 5px !important;\n",
       "}\n",
       "\n",
       ".xr-var-attrs-in:checked ~ .xr-var-attrs,\n",
       ".xr-var-data-in:checked ~ .xr-var-data,\n",
       ".xr-index-data-in:checked ~ .xr-index-data {\n",
       "  display: block;\n",
       "}\n",
       "\n",
       ".xr-var-data > table {\n",
       "  float: right;\n",
       "}\n",
       "\n",
       ".xr-var-name span,\n",
       ".xr-var-data,\n",
       ".xr-index-name div,\n",
       ".xr-index-data,\n",
       ".xr-attrs {\n",
       "  padding-left: 25px !important;\n",
       "}\n",
       "\n",
       ".xr-attrs,\n",
       ".xr-var-attrs,\n",
       ".xr-var-data,\n",
       ".xr-index-data {\n",
       "  grid-column: 1 / -1;\n",
       "}\n",
       "\n",
       "dl.xr-attrs {\n",
       "  padding: 0;\n",
       "  margin: 0;\n",
       "  display: grid;\n",
       "  grid-template-columns: 125px auto;\n",
       "}\n",
       "\n",
       ".xr-attrs dt,\n",
       ".xr-attrs dd {\n",
       "  padding: 0;\n",
       "  margin: 0;\n",
       "  float: left;\n",
       "  padding-right: 10px;\n",
       "  width: auto;\n",
       "}\n",
       "\n",
       ".xr-attrs dt {\n",
       "  font-weight: normal;\n",
       "  grid-column: 1;\n",
       "}\n",
       "\n",
       ".xr-attrs dt:hover span {\n",
       "  display: inline-block;\n",
       "  background: var(--xr-background-color);\n",
       "  padding-right: 10px;\n",
       "}\n",
       "\n",
       ".xr-attrs dd {\n",
       "  grid-column: 2;\n",
       "  white-space: pre-wrap;\n",
       "  word-break: break-all;\n",
       "}\n",
       "\n",
       ".xr-icon-database,\n",
       ".xr-icon-file-text2,\n",
       ".xr-no-icon {\n",
       "  display: inline-block;\n",
       "  vertical-align: middle;\n",
       "  width: 1em;\n",
       "  height: 1.5em !important;\n",
       "  stroke-width: 0;\n",
       "  stroke: currentColor;\n",
       "  fill: currentColor;\n",
       "}\n",
       "</style><pre class='xr-text-repr-fallback'>&lt;xarray.Dataset&gt; Size: 4MB\n",
       "Dimensions:         (valid_time: 1, pressure_level: 1, latitude: 721,\n",
       "                     longitude: 1440)\n",
       "Coordinates:\n",
       "    number          int64 8B ...\n",
       "  * valid_time      (valid_time) datetime64[ns] 8B 2025-07-03T07:00:00\n",
       "  * pressure_level  (pressure_level) float64 8B 1e+03\n",
       "  * latitude        (latitude) float64 6kB 90.0 89.75 89.5 ... -89.75 -90.0\n",
       "  * longitude       (longitude) float64 12kB 0.0 0.25 0.5 ... 359.2 359.5 359.8\n",
       "    expver          &lt;U4 16B ...\n",
       "Data variables:\n",
       "    t               (valid_time, pressure_level, latitude, longitude) float32 4MB ...\n",
       "Attributes:\n",
       "    GRIB_centre:             ecmf\n",
       "    GRIB_centreDescription:  European Centre for Medium-Range Weather Forecasts\n",
       "    GRIB_subCentre:          0\n",
       "    Conventions:             CF-1.7\n",
       "    institution:             European Centre for Medium-Range Weather Forecasts\n",
       "    history:                 2025-07-09T18:52 GRIB to CDM+CF via cfgrib-0.9.1...</pre><div class='xr-wrap' style='display:none'><div class='xr-header'><div class='xr-obj-type'>xarray.Dataset</div></div><ul class='xr-sections'><li class='xr-section-item'><input id='section-fd09fd59-73de-4781-b1f3-ee4870c332ec' class='xr-section-summary-in' type='checkbox' disabled ><label for='section-fd09fd59-73de-4781-b1f3-ee4870c332ec' class='xr-section-summary'  title='Expand/collapse section'>Dimensions:</label><div class='xr-section-inline-details'><ul class='xr-dim-list'><li><span class='xr-has-index'>valid_time</span>: 1</li><li><span class='xr-has-index'>pressure_level</span>: 1</li><li><span class='xr-has-index'>latitude</span>: 721</li><li><span class='xr-has-index'>longitude</span>: 1440</li></ul></div><div class='xr-section-details'></div></li><li class='xr-section-item'><input id='section-8cb9580a-2df4-4046-a98e-3cc4f50a454e' class='xr-section-summary-in' type='checkbox'  checked><label for='section-8cb9580a-2df4-4046-a98e-3cc4f50a454e' class='xr-section-summary' >Coordinates: <span>(6)</span></label><div class='xr-section-inline-details'></div><div class='xr-section-details'><ul class='xr-var-list'><li class='xr-var-item'><div class='xr-var-name'><span>number</span></div><div class='xr-var-dims'>()</div><div class='xr-var-dtype'>int64</div><div class='xr-var-preview xr-preview'>...</div><input id='attrs-d3c08e5b-c6b5-4354-af94-86637c48e9c9' class='xr-var-attrs-in' type='checkbox' ><label for='attrs-d3c08e5b-c6b5-4354-af94-86637c48e9c9' title='Show/Hide attributes'><svg class='icon xr-icon-file-text2'><use xlink:href='#icon-file-text2'></use></svg></label><input id='data-4fbe492d-e78c-49ca-91f5-de24a39c1c7b' class='xr-var-data-in' type='checkbox'><label for='data-4fbe492d-e78c-49ca-91f5-de24a39c1c7b' title='Show/Hide data repr'><svg class='icon xr-icon-database'><use xlink:href='#icon-database'></use></svg></label><div class='xr-var-attrs'><dl class='xr-attrs'><dt><span>long_name :</span></dt><dd>ensemble member numerical id</dd><dt><span>units :</span></dt><dd>1</dd><dt><span>standard_name :</span></dt><dd>realization</dd></dl></div><div class='xr-var-data'><pre>[1 values with dtype=int64]</pre></div></li><li class='xr-var-item'><div class='xr-var-name'><span class='xr-has-index'>valid_time</span></div><div class='xr-var-dims'>(valid_time)</div><div class='xr-var-dtype'>datetime64[ns]</div><div class='xr-var-preview xr-preview'>2025-07-03T07:00:00</div><input id='attrs-ad6787f9-e006-4e9c-830e-27723e9825a5' class='xr-var-attrs-in' type='checkbox' ><label for='attrs-ad6787f9-e006-4e9c-830e-27723e9825a5' title='Show/Hide attributes'><svg class='icon xr-icon-file-text2'><use xlink:href='#icon-file-text2'></use></svg></label><input id='data-45ce5d9f-f0e1-4199-adfa-babacf6dc5ca' class='xr-var-data-in' type='checkbox'><label for='data-45ce5d9f-f0e1-4199-adfa-babacf6dc5ca' title='Show/Hide data repr'><svg class='icon xr-icon-database'><use xlink:href='#icon-database'></use></svg></label><div class='xr-var-attrs'><dl class='xr-attrs'><dt><span>long_name :</span></dt><dd>time</dd><dt><span>standard_name :</span></dt><dd>time</dd></dl></div><div class='xr-var-data'><pre>array([&#x27;2025-07-03T07:00:00.000000000&#x27;], dtype=&#x27;datetime64[ns]&#x27;)</pre></div></li><li class='xr-var-item'><div class='xr-var-name'><span class='xr-has-index'>pressure_level</span></div><div class='xr-var-dims'>(pressure_level)</div><div class='xr-var-dtype'>float64</div><div class='xr-var-preview xr-preview'>1e+03</div><input id='attrs-a77f7f40-18ed-457d-abe2-7c16bb0924f1' class='xr-var-attrs-in' type='checkbox' ><label for='attrs-a77f7f40-18ed-457d-abe2-7c16bb0924f1' title='Show/Hide attributes'><svg class='icon xr-icon-file-text2'><use xlink:href='#icon-file-text2'></use></svg></label><input id='data-523a5170-e318-4e0f-9609-a9cf904c01ff' class='xr-var-data-in' type='checkbox'><label for='data-523a5170-e318-4e0f-9609-a9cf904c01ff' title='Show/Hide data repr'><svg class='icon xr-icon-database'><use xlink:href='#icon-database'></use></svg></label><div class='xr-var-attrs'><dl class='xr-attrs'><dt><span>long_name :</span></dt><dd>pressure</dd><dt><span>units :</span></dt><dd>hPa</dd><dt><span>positive :</span></dt><dd>down</dd><dt><span>stored_direction :</span></dt><dd>decreasing</dd><dt><span>standard_name :</span></dt><dd>air_pressure</dd></dl></div><div class='xr-var-data'><pre>array([1000.])</pre></div></li><li class='xr-var-item'><div class='xr-var-name'><span class='xr-has-index'>latitude</span></div><div class='xr-var-dims'>(latitude)</div><div class='xr-var-dtype'>float64</div><div class='xr-var-preview xr-preview'>90.0 89.75 89.5 ... -89.75 -90.0</div><input id='attrs-03260ed6-4006-4416-b759-7833f99ff619' class='xr-var-attrs-in' type='checkbox' ><label for='attrs-03260ed6-4006-4416-b759-7833f99ff619' title='Show/Hide attributes'><svg class='icon xr-icon-file-text2'><use xlink:href='#icon-file-text2'></use></svg></label><input id='data-41743126-9286-4a8d-b41d-e4183b14984b' class='xr-var-data-in' type='checkbox'><label for='data-41743126-9286-4a8d-b41d-e4183b14984b' title='Show/Hide data repr'><svg class='icon xr-icon-database'><use xlink:href='#icon-database'></use></svg></label><div class='xr-var-attrs'><dl class='xr-attrs'><dt><span>units :</span></dt><dd>degrees_north</dd><dt><span>standard_name :</span></dt><dd>latitude</dd><dt><span>long_name :</span></dt><dd>latitude</dd><dt><span>stored_direction :</span></dt><dd>decreasing</dd></dl></div><div class='xr-var-data'><pre>array([ 90.  ,  89.75,  89.5 , ..., -89.5 , -89.75, -90.  ])</pre></div></li><li class='xr-var-item'><div class='xr-var-name'><span class='xr-has-index'>longitude</span></div><div class='xr-var-dims'>(longitude)</div><div class='xr-var-dtype'>float64</div><div class='xr-var-preview xr-preview'>0.0 0.25 0.5 ... 359.2 359.5 359.8</div><input id='attrs-bba7d9f3-a71a-4d4a-97a9-f180dc1d3a35' class='xr-var-attrs-in' type='checkbox' ><label for='attrs-bba7d9f3-a71a-4d4a-97a9-f180dc1d3a35' title='Show/Hide attributes'><svg class='icon xr-icon-file-text2'><use xlink:href='#icon-file-text2'></use></svg></label><input id='data-83e019bc-af9b-4aec-a77e-ad3d648bf48d' class='xr-var-data-in' type='checkbox'><label for='data-83e019bc-af9b-4aec-a77e-ad3d648bf48d' title='Show/Hide data repr'><svg class='icon xr-icon-database'><use xlink:href='#icon-database'></use></svg></label><div class='xr-var-attrs'><dl class='xr-attrs'><dt><span>units :</span></dt><dd>degrees_east</dd><dt><span>standard_name :</span></dt><dd>longitude</dd><dt><span>long_name :</span></dt><dd>longitude</dd></dl></div><div class='xr-var-data'><pre>array([0.0000e+00, 2.5000e-01, 5.0000e-01, ..., 3.5925e+02, 3.5950e+02,\n",
       "       3.5975e+02])</pre></div></li><li class='xr-var-item'><div class='xr-var-name'><span>expver</span></div><div class='xr-var-dims'>()</div><div class='xr-var-dtype'>&lt;U4</div><div class='xr-var-preview xr-preview'>...</div><input id='attrs-57c06ba4-f439-4dfe-8ffc-09eabb8b5acb' class='xr-var-attrs-in' type='checkbox' disabled><label for='attrs-57c06ba4-f439-4dfe-8ffc-09eabb8b5acb' title='Show/Hide attributes'><svg class='icon xr-icon-file-text2'><use xlink:href='#icon-file-text2'></use></svg></label><input id='data-c848449e-5078-4a5e-bb16-f1d2e7f9853a' class='xr-var-data-in' type='checkbox'><label for='data-c848449e-5078-4a5e-bb16-f1d2e7f9853a' title='Show/Hide data repr'><svg class='icon xr-icon-database'><use xlink:href='#icon-database'></use></svg></label><div class='xr-var-attrs'><dl class='xr-attrs'></dl></div><div class='xr-var-data'><pre>[1 values with dtype=&lt;U4]</pre></div></li></ul></div></li><li class='xr-section-item'><input id='section-6345a5d9-2065-4eca-8b2c-c53acb91e335' class='xr-section-summary-in' type='checkbox'  checked><label for='section-6345a5d9-2065-4eca-8b2c-c53acb91e335' class='xr-section-summary' >Data variables: <span>(1)</span></label><div class='xr-section-inline-details'></div><div class='xr-section-details'><ul class='xr-var-list'><li class='xr-var-item'><div class='xr-var-name'><span>t</span></div><div class='xr-var-dims'>(valid_time, pressure_level, latitude, longitude)</div><div class='xr-var-dtype'>float32</div><div class='xr-var-preview xr-preview'>...</div><input id='attrs-f7d3ae3e-a51d-457f-8851-a746502ee36b' class='xr-var-attrs-in' type='checkbox' ><label for='attrs-f7d3ae3e-a51d-457f-8851-a746502ee36b' title='Show/Hide attributes'><svg class='icon xr-icon-file-text2'><use xlink:href='#icon-file-text2'></use></svg></label><input id='data-be18155c-6594-4e7f-af3d-f46349684a12' class='xr-var-data-in' type='checkbox'><label for='data-be18155c-6594-4e7f-af3d-f46349684a12' title='Show/Hide data repr'><svg class='icon xr-icon-database'><use xlink:href='#icon-database'></use></svg></label><div class='xr-var-attrs'><dl class='xr-attrs'><dt><span>GRIB_paramId :</span></dt><dd>130</dd><dt><span>GRIB_dataType :</span></dt><dd>an</dd><dt><span>GRIB_numberOfPoints :</span></dt><dd>1038240</dd><dt><span>GRIB_typeOfLevel :</span></dt><dd>isobaricInhPa</dd><dt><span>GRIB_stepUnits :</span></dt><dd>1</dd><dt><span>GRIB_stepType :</span></dt><dd>instant</dd><dt><span>GRIB_gridType :</span></dt><dd>regular_ll</dd><dt><span>GRIB_uvRelativeToGrid :</span></dt><dd>0</dd><dt><span>GRIB_NV :</span></dt><dd>0</dd><dt><span>GRIB_Nx :</span></dt><dd>1440</dd><dt><span>GRIB_Ny :</span></dt><dd>721</dd><dt><span>GRIB_cfName :</span></dt><dd>air_temperature</dd><dt><span>GRIB_cfVarName :</span></dt><dd>t</dd><dt><span>GRIB_gridDefinitionDescription :</span></dt><dd>Latitude/Longitude Grid</dd><dt><span>GRIB_iDirectionIncrementInDegrees :</span></dt><dd>0.25</dd><dt><span>GRIB_iScansNegatively :</span></dt><dd>0</dd><dt><span>GRIB_jDirectionIncrementInDegrees :</span></dt><dd>0.25</dd><dt><span>GRIB_jPointsAreConsecutive :</span></dt><dd>0</dd><dt><span>GRIB_jScansPositively :</span></dt><dd>0</dd><dt><span>GRIB_latitudeOfFirstGridPointInDegrees :</span></dt><dd>90.0</dd><dt><span>GRIB_latitudeOfLastGridPointInDegrees :</span></dt><dd>-90.0</dd><dt><span>GRIB_longitudeOfFirstGridPointInDegrees :</span></dt><dd>0.0</dd><dt><span>GRIB_longitudeOfLastGridPointInDegrees :</span></dt><dd>359.75</dd><dt><span>GRIB_missingValue :</span></dt><dd>3.4028234663852886e+38</dd><dt><span>GRIB_name :</span></dt><dd>Temperature</dd><dt><span>GRIB_shortName :</span></dt><dd>t</dd><dt><span>GRIB_totalNumber :</span></dt><dd>0</dd><dt><span>GRIB_units :</span></dt><dd>K</dd><dt><span>long_name :</span></dt><dd>Temperature</dd><dt><span>units :</span></dt><dd>K</dd><dt><span>standard_name :</span></dt><dd>air_temperature</dd></dl></div><div class='xr-var-data'><pre>[1038240 values with dtype=float32]</pre></div></li></ul></div></li><li class='xr-section-item'><input id='section-4e4d6aff-c355-406f-9503-8730a645f53c' class='xr-section-summary-in' type='checkbox'  ><label for='section-4e4d6aff-c355-406f-9503-8730a645f53c' class='xr-section-summary' >Indexes: <span>(4)</span></label><div class='xr-section-inline-details'></div><div class='xr-section-details'><ul class='xr-var-list'><li class='xr-var-item'><div class='xr-index-name'><div>valid_time</div></div><div class='xr-index-preview'>PandasIndex</div><input type='checkbox' disabled/><label></label><input id='index-ab9d2ab2-6376-46f9-8d6c-91fbdacbbed3' class='xr-index-data-in' type='checkbox'/><label for='index-ab9d2ab2-6376-46f9-8d6c-91fbdacbbed3' title='Show/Hide index repr'><svg class='icon xr-icon-database'><use xlink:href='#icon-database'></use></svg></label><div class='xr-index-data'><pre>PandasIndex(DatetimeIndex([&#x27;2025-07-03 07:00:00&#x27;], dtype=&#x27;datetime64[ns]&#x27;, name=&#x27;valid_time&#x27;, freq=None))</pre></div></li><li class='xr-var-item'><div class='xr-index-name'><div>pressure_level</div></div><div class='xr-index-preview'>PandasIndex</div><input type='checkbox' disabled/><label></label><input id='index-f34fb033-1bb7-4a1c-9429-870eef509c5c' class='xr-index-data-in' type='checkbox'/><label for='index-f34fb033-1bb7-4a1c-9429-870eef509c5c' title='Show/Hide index repr'><svg class='icon xr-icon-database'><use xlink:href='#icon-database'></use></svg></label><div class='xr-index-data'><pre>PandasIndex(Index([1000.0], dtype=&#x27;float64&#x27;, name=&#x27;pressure_level&#x27;))</pre></div></li><li class='xr-var-item'><div class='xr-index-name'><div>latitude</div></div><div class='xr-index-preview'>PandasIndex</div><input type='checkbox' disabled/><label></label><input id='index-bddd6680-8613-4fd7-bdfa-653a45e9522c' class='xr-index-data-in' type='checkbox'/><label for='index-bddd6680-8613-4fd7-bdfa-653a45e9522c' title='Show/Hide index repr'><svg class='icon xr-icon-database'><use xlink:href='#icon-database'></use></svg></label><div class='xr-index-data'><pre>PandasIndex(Index([  90.0,  89.75,   89.5,  89.25,   89.0,  88.75,   88.5,  88.25,   88.0,\n",
       "        87.75,\n",
       "       ...\n",
       "       -87.75,  -88.0, -88.25,  -88.5, -88.75,  -89.0, -89.25,  -89.5, -89.75,\n",
       "        -90.0],\n",
       "      dtype=&#x27;float64&#x27;, name=&#x27;latitude&#x27;, length=721))</pre></div></li><li class='xr-var-item'><div class='xr-index-name'><div>longitude</div></div><div class='xr-index-preview'>PandasIndex</div><input type='checkbox' disabled/><label></label><input id='index-805475cc-6486-4475-ad90-2fa1904e2c6a' class='xr-index-data-in' type='checkbox'/><label for='index-805475cc-6486-4475-ad90-2fa1904e2c6a' title='Show/Hide index repr'><svg class='icon xr-icon-database'><use xlink:href='#icon-database'></use></svg></label><div class='xr-index-data'><pre>PandasIndex(Index([   0.0,   0.25,    0.5,   0.75,    1.0,   1.25,    1.5,   1.75,    2.0,\n",
       "         2.25,\n",
       "       ...\n",
       "        357.5, 357.75,  358.0, 358.25,  358.5, 358.75,  359.0, 359.25,  359.5,\n",
       "       359.75],\n",
       "      dtype=&#x27;float64&#x27;, name=&#x27;longitude&#x27;, length=1440))</pre></div></li></ul></div></li><li class='xr-section-item'><input id='section-c2dba710-2822-4ee9-96f7-fad360c81fcd' class='xr-section-summary-in' type='checkbox'  checked><label for='section-c2dba710-2822-4ee9-96f7-fad360c81fcd' class='xr-section-summary' >Attributes: <span>(6)</span></label><div class='xr-section-inline-details'></div><div class='xr-section-details'><dl class='xr-attrs'><dt><span>GRIB_centre :</span></dt><dd>ecmf</dd><dt><span>GRIB_centreDescription :</span></dt><dd>European Centre for Medium-Range Weather Forecasts</dd><dt><span>GRIB_subCentre :</span></dt><dd>0</dd><dt><span>Conventions :</span></dt><dd>CF-1.7</dd><dt><span>institution :</span></dt><dd>European Centre for Medium-Range Weather Forecasts</dd><dt><span>history :</span></dt><dd>2025-07-09T18:52 GRIB to CDM+CF via cfgrib-0.9.15.0/ecCodes-2.41.0 with {&quot;source&quot;: &quot;tmp7rruscv3/data.grib&quot;, &quot;filter_by_keys&quot;: {&quot;stream&quot;: [&quot;oper&quot;], &quot;stepType&quot;: [&quot;instant&quot;]}, &quot;encode_cf&quot;: [&quot;parameter&quot;, &quot;time&quot;, &quot;geography&quot;, &quot;vertical&quot;]}</dd></dl></div></li></ul></div></div>"
      ]
     },
     "execution_count": 3,
     "metadata": {},
     "output_type": "execute_result"
    }
   ],
   "execution_count": 3
  },
  {
   "metadata": {
    "ExecuteTime": {
     "end_time": "2025-07-09T19:53:36.114831Z",
     "start_time": "2025-07-09T19:53:36.107827Z"
    }
   },
   "cell_type": "code",
   "source": [
    "lon = ds.longitude.values\n",
    "lat = ds.latitude.values\n",
    "\n",
    "lon_grid, lat_grid = np.meshgrid(lon, lat)  # longitude first!\n"
   ],
   "id": "91e7d4b1856ff70e",
   "outputs": [],
   "execution_count": 4
  },
  {
   "metadata": {
    "ExecuteTime": {
     "end_time": "2025-07-09T19:53:36.125834Z",
     "start_time": "2025-07-09T19:53:36.120829Z"
    }
   },
   "cell_type": "code",
   "source": "lon_grid",
   "id": "257aad0f102bc29f",
   "outputs": [
    {
     "data": {
      "text/plain": [
       "array([[0.0000e+00, 2.5000e-01, 5.0000e-01, ..., 3.5925e+02, 3.5950e+02,\n",
       "        3.5975e+02],\n",
       "       [0.0000e+00, 2.5000e-01, 5.0000e-01, ..., 3.5925e+02, 3.5950e+02,\n",
       "        3.5975e+02],\n",
       "       [0.0000e+00, 2.5000e-01, 5.0000e-01, ..., 3.5925e+02, 3.5950e+02,\n",
       "        3.5975e+02],\n",
       "       ...,\n",
       "       [0.0000e+00, 2.5000e-01, 5.0000e-01, ..., 3.5925e+02, 3.5950e+02,\n",
       "        3.5975e+02],\n",
       "       [0.0000e+00, 2.5000e-01, 5.0000e-01, ..., 3.5925e+02, 3.5950e+02,\n",
       "        3.5975e+02],\n",
       "       [0.0000e+00, 2.5000e-01, 5.0000e-01, ..., 3.5925e+02, 3.5950e+02,\n",
       "        3.5975e+02]])"
      ]
     },
     "execution_count": 5,
     "metadata": {},
     "output_type": "execute_result"
    }
   ],
   "execution_count": 5
  },
  {
   "metadata": {
    "ExecuteTime": {
     "end_time": "2025-07-09T19:53:36.159434Z",
     "start_time": "2025-07-09T19:53:36.154504Z"
    }
   },
   "cell_type": "code",
   "source": "lat_grid",
   "id": "2824b9cd54e907d2",
   "outputs": [
    {
     "data": {
      "text/plain": [
       "array([[ 90.  ,  90.  ,  90.  , ...,  90.  ,  90.  ,  90.  ],\n",
       "       [ 89.75,  89.75,  89.75, ...,  89.75,  89.75,  89.75],\n",
       "       [ 89.5 ,  89.5 ,  89.5 , ...,  89.5 ,  89.5 ,  89.5 ],\n",
       "       ...,\n",
       "       [-89.5 , -89.5 , -89.5 , ..., -89.5 , -89.5 , -89.5 ],\n",
       "       [-89.75, -89.75, -89.75, ..., -89.75, -89.75, -89.75],\n",
       "       [-90.  , -90.  , -90.  , ..., -90.  , -90.  , -90.  ]])"
      ]
     },
     "execution_count": 6,
     "metadata": {},
     "output_type": "execute_result"
    }
   ],
   "execution_count": 6
  },
  {
   "metadata": {
    "ExecuteTime": {
     "end_time": "2025-07-09T19:53:36.510687Z",
     "start_time": "2025-07-09T19:53:36.499627Z"
    }
   },
   "cell_type": "code",
   "source": [
    "coords = np.stack([lat_grid, lon_grid], axis=-1).reshape(-1, 2)  # shape (N, 2)\n",
    "coords"
   ],
   "id": "6ba9731cb7dd5dd",
   "outputs": [
    {
     "data": {
      "text/plain": [
       "array([[ 9.0000e+01,  0.0000e+00],\n",
       "       [ 9.0000e+01,  2.5000e-01],\n",
       "       [ 9.0000e+01,  5.0000e-01],\n",
       "       ...,\n",
       "       [-9.0000e+01,  3.5925e+02],\n",
       "       [-9.0000e+01,  3.5950e+02],\n",
       "       [-9.0000e+01,  3.5975e+02]])"
      ]
     },
     "execution_count": 7,
     "metadata": {},
     "output_type": "execute_result"
    }
   ],
   "execution_count": 7
  },
  {
   "metadata": {
    "ExecuteTime": {
     "end_time": "2025-07-09T20:04:03.205601Z",
     "start_time": "2025-07-09T20:04:03.193815Z"
    }
   },
   "cell_type": "code",
   "source": [
    "class GeoDataset(Dataset):\n",
    "    def __init__(self, path='../data/era5_singlehour_1var.nc', shuffle=True):\n",
    "        # Open dataset with Dask backend\n",
    "        self.data_array = xr.open_dataset(path, chunks={'latitude': 50, 'longitude': 50})\n",
    "\n",
    "        # Normalize longitude to [-180, 180]\n",
    "        lon = self.data_array.longitude.values\n",
    "        lon = ((lon + 180) % 360) - 180\n",
    "        self.data_array = self.data_array.assign_coords(longitude=lon)\n",
    "        self.data_array = self.data_array.sortby('longitude')  # Important for .sel\n",
    "\n",
    "        # Store min/max for normalization\n",
    "        # Compute min and max over the entire dataset (use .compute() because of Dask)\n",
    "        self.min = float(self.data_array.t.min().compute())\n",
    "        self.max = float(self.data_array.t.max().compute())\n",
    "\n",
    "        # Create normalized 't' array\n",
    "        self.data_array['t_norm'] = 2 * (self.data_array.t - self.min) / (self.max - self.min) - 1\n",
    "\n",
    "        # Create [lat, lon] coordinate pairs\n",
    "        lat = self.data_array.latitude.values\n",
    "        lon = self.data_array.longitude.values\n",
    "        lon_grid, lat_grid = np.meshgrid(lon, lat)\n",
    "        coords = np.vstack([lat_grid.ravel(), lon_grid.ravel()]).T\n",
    "\n",
    "        # Shuffle if requested\n",
    "        if shuffle:\n",
    "            np.random.shuffle(coords)\n",
    "\n",
    "        # 75% train split (you can remove this if dataset should be full)\n",
    "        length = len(coords)\n",
    "        split = int(length * 0.75)\n",
    "        self.inputs = torch.tensor(coords[:split], dtype=torch.float32)\n",
    "\n",
    "    def __len__(self):\n",
    "        return self.inputs.shape[0]\n",
    "\n",
    "    def __getitem__(self, idx):\n",
    "        coord = self.inputs[idx]\n",
    "        lat, lon = float(coord[0]), float(coord[1])\n",
    "\n",
    "        # Fetch target value using .sel with Dask, and compute the result\n",
    "        target = self.data_array.t_norm.sel(latitude=lat, longitude=lon, method=\"nearest\").values\n",
    "        target = torch.tensor([target], dtype=torch.float32).squeeze().unsqueeze(0)  # Ensure target is a tensor\n",
    "        return coord, target\n"
   ],
   "id": "3f778948495f763",
   "outputs": [],
   "execution_count": 27
  },
  {
   "metadata": {
    "ExecuteTime": {
     "end_time": "2025-07-09T20:10:03.905304Z",
     "start_time": "2025-07-09T20:10:02.470542Z"
    }
   },
   "cell_type": "code",
   "source": [
    "dataset = GeoDataset(shuffle=True)\n",
    "loader = DataLoader(dataset, batch_size=1024, shuffle=True)"
   ],
   "id": "25769454e8568dd7",
   "outputs": [
    {
     "name": "stderr",
     "output_type": "stream",
     "text": [
      "C:\\Users\\micke\\AppData\\Local\\Temp\\ipykernel_24764\\2697316761.py:4: UserWarning: The specified chunks separate the stored chunks along dimension \"latitude\" starting at index 50. This could degrade performance. Instead, consider rechunking after loading.\n",
      "  self.data_array = xr.open_dataset(path, chunks={'latitude': 50, 'longitude': 50})\n",
      "C:\\Users\\micke\\AppData\\Local\\Temp\\ipykernel_24764\\2697316761.py:4: UserWarning: The specified chunks separate the stored chunks along dimension \"longitude\" starting at index 50. This could degrade performance. Instead, consider rechunking after loading.\n",
      "  self.data_array = xr.open_dataset(path, chunks={'latitude': 50, 'longitude': 50})\n"
     ]
    }
   ],
   "execution_count": 31
  },
  {
   "metadata": {
    "ExecuteTime": {
     "end_time": "2025-07-09T20:10:09.122942Z",
     "start_time": "2025-07-09T20:10:05.764224Z"
    }
   },
   "cell_type": "code",
   "source": "next(iter(loader))",
   "id": "b54a1a34a1dec6c6",
   "outputs": [
    {
     "data": {
      "text/plain": [
       "[tensor([[ -65.2500,   61.7500],\n",
       "         [  -7.0000,  172.5000],\n",
       "         [   5.5000, -107.5000],\n",
       "         ...,\n",
       "         [ -80.2500,  -26.5000],\n",
       "         [ -55.0000,    1.2500],\n",
       "         [   7.2500, -105.0000]]),\n",
       " tensor([[-0.4953],\n",
       "         [ 0.5286],\n",
       "         [ 0.4561],\n",
       "         ...,\n",
       "         [-0.6503],\n",
       "         [-0.2619],\n",
       "         [ 0.4634]])]"
      ]
     },
     "execution_count": 32,
     "metadata": {},
     "output_type": "execute_result"
    }
   ],
   "execution_count": 32
  },
  {
   "metadata": {
    "ExecuteTime": {
     "end_time": "2025-07-09T19:59:23.241656Z",
     "start_time": "2025-07-09T19:59:23.220162Z"
    }
   },
   "cell_type": "code",
   "source": [
    "siren_model = SirenModel(\n",
    "    in_features=2,\n",
    "    out_features=1,\n",
    "    hidden_layers=5,\n",
    "    hidden_features=512,\n",
    "    first_omega_0=30.0,\n",
    "    hidden_omega_0=30.0,\n",
    "    residual_net=False,\n",
    "    encoding='dfs',\n",
    "    r_min=0.001,\n",
    "    r_max=1.0,\n",
    "    scale=[10, 10]\n",
    ")"
   ],
   "id": "5f394a4e2ab2a0b4",
   "outputs": [],
   "execution_count": 19
  },
  {
   "metadata": {
    "ExecuteTime": {
     "end_time": "2025-07-09T19:59:25.634165Z",
     "start_time": "2025-07-09T19:59:25.627029Z"
    }
   },
   "cell_type": "code",
   "source": [
    "finer_model = FinerModel(\n",
    "    in_features=2,\n",
    "    out_features=1,\n",
    "    bias=True,\n",
    "    hidden_layers=5,\n",
    "    hidden_features=128,\n",
    "    first_omega_0=30.,\n",
    "    hidden_omega_0=30.,\n",
    "    first_k=10,\n",
    "    hidden_k=10,\n",
    "    residual_net=False,\n",
    "    encoding='dfs',\n",
    "    r_min=0.001,\n",
    "    r_max=1.0,\n",
    "    scale=[10, 10]\n",
    ")"
   ],
   "id": "99e6faf404aac767",
   "outputs": [],
   "execution_count": 20
  },
  {
   "metadata": {
    "ExecuteTime": {
     "end_time": "2025-07-09T21:22:15.474237Z",
     "start_time": "2025-07-09T20:10:33.270766Z"
    }
   },
   "cell_type": "code",
   "source": "train(siren_model, loader, torch.optim.Adam(siren_model.parameters(), lr=1e-3), nn.MSELoss(), 10)",
   "id": "da524816e593294a",
   "outputs": [
    {
     "name": "stderr",
     "output_type": "stream",
     "text": [
      "Epoch 10: 100%|██████████| 761/761 [1:11:42<00:00,  5.65s/it, loss=0.188]\n"
     ]
    },
    {
     "data": {
      "text/plain": [
       "0.17182525107331095"
      ]
     },
     "execution_count": 33,
     "metadata": {},
     "output_type": "execute_result"
    }
   ],
   "execution_count": 33
  },
  {
   "metadata": {},
   "cell_type": "code",
   "outputs": [],
   "execution_count": null,
   "source": "",
   "id": "df04cc2cd4d021ec"
  },
  {
   "metadata": {},
   "cell_type": "code",
   "outputs": [],
   "execution_count": null,
   "source": "",
   "id": "5e46cc59e39158a7"
  },
  {
   "metadata": {},
   "cell_type": "code",
   "outputs": [],
   "execution_count": null,
   "source": "",
   "id": "7914651e95f2c99c"
  },
  {
   "metadata": {},
   "cell_type": "code",
   "outputs": [],
   "execution_count": null,
   "source": "",
   "id": "9de8bef91d6851"
  },
  {
   "metadata": {
    "ExecuteTime": {
     "end_time": "2025-07-09T19:53:40.527936900Z",
     "start_time": "2025-07-09T19:34:18.538246Z"
    }
   },
   "cell_type": "code",
   "source": "",
   "id": "d87f3f27c8634a56",
   "outputs": [],
   "execution_count": null
  }
 ],
 "metadata": {
  "kernelspec": {
   "display_name": "Python (worldclim)",
   "language": "python",
   "name": "worldclim"
  },
  "language_info": {
   "codemirror_mode": {
    "name": "ipython",
    "version": 2
   },
   "file_extension": ".py",
   "mimetype": "text/x-python",
   "name": "python",
   "nbconvert_exporter": "python",
   "pygments_lexer": "ipython2",
   "version": "2.7.6"
  }
 },
 "nbformat": 4,
 "nbformat_minor": 5
}
