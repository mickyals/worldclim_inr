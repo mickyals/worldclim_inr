{
 "cells": [
  {
   "metadata": {
    "ExecuteTime": {
     "end_time": "2025-07-09T18:21:34.824104Z",
     "start_time": "2025-07-09T18:21:31.592450Z"
    }
   },
   "cell_type": "code",
   "source": [
    "import torch\n",
    "from helpers import model_summary\n",
    "x_dummy = torch.tensor([[90.0, 180.0],\n",
    "                        [-90.0,180.0],\n",
    "                        [90.0,180.0],\n",
    "                        [0.0, 180.0]])"
   ],
   "id": "8f91803098cae9cd",
   "outputs": [],
   "execution_count": 1
  },
  {
   "metadata": {
    "ExecuteTime": {
     "end_time": "2025-07-09T18:21:34.845316Z",
     "start_time": "2025-07-09T18:21:34.836421Z"
    }
   },
   "cell_type": "code",
   "source": "print(x_dummy)",
   "id": "9263cde0899d221f",
   "outputs": [
    {
     "name": "stdout",
     "output_type": "stream",
     "text": [
      "tensor([[ 90., 180.],\n",
      "        [-90., 180.],\n",
      "        [ 90., 180.],\n",
      "        [  0., 180.]])\n"
     ]
    }
   ],
   "execution_count": 2
  },
  {
   "metadata": {},
   "cell_type": "markdown",
   "source": "## SIREN and FINER MODEL",
   "id": "5e0fcc9793abb39f"
  },
  {
   "metadata": {
    "collapsed": true,
    "ExecuteTime": {
     "end_time": "2025-07-09T18:21:35.025709Z",
     "start_time": "2025-07-09T18:21:35.001312Z"
    }
   },
   "cell_type": "code",
   "source": "from models.implicit_neural_representations.inr_models.siren_model import SirenModel, FinerModel",
   "id": "initial_id",
   "outputs": [],
   "execution_count": 3
  },
  {
   "metadata": {
    "ExecuteTime": {
     "end_time": "2025-07-09T18:21:35.086219Z",
     "start_time": "2025-07-09T18:21:35.041677Z"
    }
   },
   "cell_type": "code",
   "source": [
    "# initialize siren model without residual layers\n",
    "siren_model = SirenModel(\n",
    "    in_features=2,\n",
    "    out_features=2,\n",
    "    hidden_layers=5,\n",
    "    hidden_features=512,\n",
    "    first_omega_0=30.0,\n",
    "    hidden_omega_0=30.0,\n",
    "    residual_net=False,\n",
    "    encoding='dfs',\n",
    "    r_min=0.001,\n",
    "    r_max=1.0,\n",
    "    scale=[10, 10]\n",
    ")"
   ],
   "id": "1351d587cbfe65fd",
   "outputs": [],
   "execution_count": 4
  },
  {
   "metadata": {
    "ExecuteTime": {
     "end_time": "2025-07-09T18:21:35.136343Z",
     "start_time": "2025-07-09T18:21:35.105656Z"
    }
   },
   "cell_type": "code",
   "source": "output = siren_model(x_dummy)",
   "id": "b8b6be995c71318e",
   "outputs": [],
   "execution_count": 5
  },
  {
   "metadata": {
    "ExecuteTime": {
     "end_time": "2025-07-09T18:21:35.163653Z",
     "start_time": "2025-07-09T18:21:35.157725Z"
    }
   },
   "cell_type": "code",
   "source": [
    "# Print input and output\n",
    "print(\"Input:\")\n",
    "print(x_dummy)\n",
    "print(\"Output:\")\n",
    "print(output)"
   ],
   "id": "5e5969588e434a48",
   "outputs": [
    {
     "name": "stdout",
     "output_type": "stream",
     "text": [
      "Input:\n",
      "tensor([[ 90., 180.],\n",
      "        [-90., 180.],\n",
      "        [ 90., 180.],\n",
      "        [  0., 180.]])\n",
      "Output:\n",
      "tensor([[ 0.0057,  0.0046],\n",
      "        [-0.0045, -0.0196],\n",
      "        [ 0.0057,  0.0046],\n",
      "        [ 0.0341,  0.0101]], grad_fn=<MmBackward0>)\n"
     ]
    }
   ],
   "execution_count": 6
  },
  {
   "metadata": {
    "ExecuteTime": {
     "end_time": "2025-07-09T18:21:35.222596Z",
     "start_time": "2025-07-09T18:21:35.204634Z"
    }
   },
   "cell_type": "code",
   "source": "model_summary(siren_model, input_size=(1, 2))",
   "id": "f6320330e3fb33d",
   "outputs": [
    {
     "name": "stdout",
     "output_type": "stream",
     "text": [
      "===============================================================================================\n",
      "Layer (type:depth-idx)                        Output Shape              Param #\n",
      "===============================================================================================\n",
      "SirenModel                                    [1, 2]                    --\n",
      "├─SphericalFourierFeatureTransform: 1-1       [1, 440]                  --\n",
      "├─Sequential: 1-2                             [1, 2]                    --\n",
      "│    └─SirenLayer: 2-1                        [1, 512]                  --\n",
      "│    │    └─Linear: 3-1                       [1, 512]                  225,792\n",
      "│    │    └─siren_activation: 3-2             [1, 512]                  --\n",
      "│    └─SirenLayer: 2-2                        [1, 512]                  --\n",
      "│    │    └─Linear: 3-3                       [1, 512]                  262,656\n",
      "│    │    └─siren_activation: 3-4             [1, 512]                  --\n",
      "│    └─SirenLayer: 2-3                        [1, 512]                  --\n",
      "│    │    └─Linear: 3-5                       [1, 512]                  262,656\n",
      "│    │    └─siren_activation: 3-6             [1, 512]                  --\n",
      "│    └─SirenLayer: 2-4                        [1, 512]                  --\n",
      "│    │    └─Linear: 3-7                       [1, 512]                  262,656\n",
      "│    │    └─siren_activation: 3-8             [1, 512]                  --\n",
      "│    └─SirenLayer: 2-5                        [1, 512]                  --\n",
      "│    │    └─Linear: 3-9                       [1, 512]                  262,656\n",
      "│    │    └─siren_activation: 3-10            [1, 512]                  --\n",
      "│    └─SirenLayer: 2-6                        [1, 512]                  --\n",
      "│    │    └─Linear: 3-11                      [1, 512]                  262,656\n",
      "│    │    └─siren_activation: 3-12            [1, 512]                  --\n",
      "│    └─Linear: 2-7                            [1, 2]                    1,024\n",
      "===============================================================================================\n",
      "Total params: 1,540,096\n",
      "Trainable params: 1,540,096\n",
      "Non-trainable params: 0\n",
      "Total mult-adds (Units.MEGABYTES): 1.54\n",
      "===============================================================================================\n",
      "Input size (MB): 0.00\n",
      "Forward/backward pass size (MB): 0.02\n",
      "Params size (MB): 6.16\n",
      "Estimated Total Size (MB): 6.19\n",
      "===============================================================================================\n"
     ]
    }
   ],
   "execution_count": 7
  },
  {
   "metadata": {
    "ExecuteTime": {
     "end_time": "2025-07-09T18:21:35.271723Z",
     "start_time": "2025-07-09T18:21:35.264088Z"
    }
   },
   "cell_type": "code",
   "source": [
    "finer_model = FinerModel(\n",
    "    in_features=2,\n",
    "    out_features=2,\n",
    "    bias=True,\n",
    "    hidden_layers=5,\n",
    "    hidden_features=128,\n",
    "    first_omega_0=30.,\n",
    "    hidden_omega_0=30.,\n",
    "    first_k=10,\n",
    "    hidden_k=10,\n",
    "    residual_net=False,\n",
    "    encoding='dfs',\n",
    "    r_min=0.001,\n",
    "    r_max=1.0,\n",
    "    scale=[10, 10]\n",
    ")"
   ],
   "id": "d10b5ab135cb770b",
   "outputs": [],
   "execution_count": 8
  },
  {
   "metadata": {
    "ExecuteTime": {
     "end_time": "2025-07-09T18:21:35.305983Z",
     "start_time": "2025-07-09T18:21:35.298966Z"
    }
   },
   "cell_type": "code",
   "source": "output = finer_model(x_dummy)",
   "id": "3cda3b4e3fd8068e",
   "outputs": [],
   "execution_count": 9
  },
  {
   "metadata": {
    "ExecuteTime": {
     "end_time": "2025-07-09T18:21:35.327662Z",
     "start_time": "2025-07-09T18:21:35.322199Z"
    }
   },
   "cell_type": "code",
   "source": [
    "# Print input and output\n",
    "print(\"Input:\")\n",
    "print(x_dummy)\n",
    "print(\"Output:\")\n",
    "print(output)"
   ],
   "id": "d5ab8845c39a0e08",
   "outputs": [
    {
     "name": "stdout",
     "output_type": "stream",
     "text": [
      "Input:\n",
      "tensor([[ 90., 180.],\n",
      "        [-90., 180.],\n",
      "        [ 90., 180.],\n",
      "        [  0., 180.]])\n",
      "Output:\n",
      "tensor([[ 0.0340,  0.0382],\n",
      "        [ 0.0046, -0.0257],\n",
      "        [ 0.0340,  0.0382],\n",
      "        [-0.0686,  0.0460]], grad_fn=<MmBackward0>)\n"
     ]
    }
   ],
   "execution_count": 10
  },
  {
   "metadata": {
    "ExecuteTime": {
     "end_time": "2025-07-09T18:21:35.383536Z",
     "start_time": "2025-07-09T18:21:35.370796Z"
    }
   },
   "cell_type": "code",
   "source": "model_summary(finer_model, input_size=(1, 2))",
   "id": "ed0dfd6ffc9a7f8b",
   "outputs": [
    {
     "name": "stdout",
     "output_type": "stream",
     "text": [
      "===============================================================================================\n",
      "Layer (type:depth-idx)                        Output Shape              Param #\n",
      "===============================================================================================\n",
      "FinerModel                                    [1, 2]                    --\n",
      "├─SphericalFourierFeatureTransform: 1-1       [1, 440]                  --\n",
      "├─Sequential: 1-2                             [1, 2]                    --\n",
      "│    └─FinerLayer: 2-1                        [1, 128]                  --\n",
      "│    │    └─Linear: 3-1                       [1, 128]                  56,448\n",
      "│    │    └─siren_activation: 3-2             [1, 128]                  --\n",
      "│    └─FinerLayer: 2-2                        [1, 128]                  --\n",
      "│    │    └─Linear: 3-3                       [1, 128]                  16,512\n",
      "│    │    └─siren_activation: 3-4             [1, 128]                  --\n",
      "│    └─FinerLayer: 2-3                        [1, 128]                  --\n",
      "│    │    └─Linear: 3-5                       [1, 128]                  16,512\n",
      "│    │    └─siren_activation: 3-6             [1, 128]                  --\n",
      "│    └─FinerLayer: 2-4                        [1, 128]                  --\n",
      "│    │    └─Linear: 3-7                       [1, 128]                  16,512\n",
      "│    │    └─siren_activation: 3-8             [1, 128]                  --\n",
      "│    └─FinerLayer: 2-5                        [1, 128]                  --\n",
      "│    │    └─Linear: 3-9                       [1, 128]                  16,512\n",
      "│    │    └─siren_activation: 3-10            [1, 128]                  --\n",
      "│    └─FinerLayer: 2-6                        [1, 128]                  --\n",
      "│    │    └─Linear: 3-11                      [1, 128]                  16,512\n",
      "│    │    └─siren_activation: 3-12            [1, 128]                  --\n",
      "│    └─Linear: 2-7                            [1, 2]                    256\n",
      "===============================================================================================\n",
      "Total params: 139,264\n",
      "Trainable params: 139,264\n",
      "Non-trainable params: 0\n",
      "Total mult-adds (Units.MEGABYTES): 0.14\n",
      "===============================================================================================\n",
      "Input size (MB): 0.00\n",
      "Forward/backward pass size (MB): 0.01\n",
      "Params size (MB): 0.56\n",
      "Estimated Total Size (MB): 0.56\n",
      "===============================================================================================\n"
     ]
    }
   ],
   "execution_count": 11
  },
  {
   "metadata": {
    "ExecuteTime": {
     "end_time": "2025-07-09T18:21:35.485134Z",
     "start_time": "2025-07-09T18:21:35.450627Z"
    }
   },
   "cell_type": "code",
   "source": [
    "siren_residual_model = SirenModel(\n",
    "    in_features=2,\n",
    "    out_features=2,\n",
    "    hidden_layers=5,\n",
    "    hidden_features=512,\n",
    "    first_omega_0=30.0,\n",
    "    hidden_omega_0=30.0,\n",
    "    residual_net=True,\n",
    "    encoding='dfs',\n",
    "    r_min=0.001,\n",
    "    r_max=1.0,\n",
    "    scale=[10, 10]\n",
    ")"
   ],
   "id": "ce4ad6f79b9f0daf",
   "outputs": [],
   "execution_count": 12
  },
  {
   "metadata": {
    "ExecuteTime": {
     "end_time": "2025-07-09T18:21:35.501287Z",
     "start_time": "2025-07-09T18:21:35.489150Z"
    }
   },
   "cell_type": "code",
   "source": "output = siren_residual_model(x_dummy)",
   "id": "ffcc799028eefe3c",
   "outputs": [],
   "execution_count": 13
  },
  {
   "metadata": {
    "ExecuteTime": {
     "end_time": "2025-07-09T18:21:35.521285Z",
     "start_time": "2025-07-09T18:21:35.515458Z"
    }
   },
   "cell_type": "code",
   "source": [
    "# Print input and output\n",
    "print(\"Input:\")\n",
    "print(x_dummy)\n",
    "print(\"Output:\")\n",
    "print(output)"
   ],
   "id": "ef89bf21830f6054",
   "outputs": [
    {
     "name": "stdout",
     "output_type": "stream",
     "text": [
      "Input:\n",
      "tensor([[ 90., 180.],\n",
      "        [-90., 180.],\n",
      "        [ 90., 180.],\n",
      "        [  0., 180.]])\n",
      "Output:\n",
      "tensor([[ 0.0008, -0.0024],\n",
      "        [-0.0307, -0.0163],\n",
      "        [ 0.0008, -0.0024],\n",
      "        [ 0.0157,  0.0221]], grad_fn=<MmBackward0>)\n"
     ]
    }
   ],
   "execution_count": 14
  },
  {
   "metadata": {
    "ExecuteTime": {
     "end_time": "2025-07-09T18:21:35.572638Z",
     "start_time": "2025-07-09T18:21:35.555007Z"
    }
   },
   "cell_type": "code",
   "source": "model_summary(siren_residual_model, input_size=(1, 2))",
   "id": "f1aa40bae8bfa0cb",
   "outputs": [
    {
     "name": "stdout",
     "output_type": "stream",
     "text": [
      "===============================================================================================\n",
      "Layer (type:depth-idx)                        Output Shape              Param #\n",
      "===============================================================================================\n",
      "SirenModel                                    [1, 2]                    --\n",
      "├─SphericalFourierFeatureTransform: 1-1       [1, 440]                  --\n",
      "├─Sequential: 1-2                             [1, 2]                    --\n",
      "│    └─SirenLayer: 2-1                        [1, 512]                  --\n",
      "│    │    └─Linear: 3-1                       [1, 512]                  225,792\n",
      "│    │    └─siren_activation: 3-2             [1, 512]                  --\n",
      "│    └─SirenResidualLayer: 2-2                [1, 512]                  --\n",
      "│    │    └─Linear: 3-3                       [1, 512]                  262,656\n",
      "│    │    └─siren_activation: 3-4             [1, 512]                  --\n",
      "│    │    └─Linear: 3-5                       [1, 512]                  262,656\n",
      "│    │    └─siren_activation: 3-6             [1, 512]                  --\n",
      "│    └─SirenResidualLayer: 2-3                [1, 512]                  --\n",
      "│    │    └─Linear: 3-7                       [1, 512]                  262,656\n",
      "│    │    └─siren_activation: 3-8             [1, 512]                  --\n",
      "│    │    └─Linear: 3-9                       [1, 512]                  262,656\n",
      "│    │    └─siren_activation: 3-10            [1, 512]                  --\n",
      "│    └─SirenResidualLayer: 2-4                [1, 512]                  --\n",
      "│    │    └─Linear: 3-11                      [1, 512]                  262,656\n",
      "│    │    └─siren_activation: 3-12            [1, 512]                  --\n",
      "│    │    └─Linear: 3-13                      [1, 512]                  262,656\n",
      "│    │    └─siren_activation: 3-14            [1, 512]                  --\n",
      "│    └─SirenResidualLayer: 2-5                [1, 512]                  --\n",
      "│    │    └─Linear: 3-15                      [1, 512]                  262,656\n",
      "│    │    └─siren_activation: 3-16            [1, 512]                  --\n",
      "│    │    └─Linear: 3-17                      [1, 512]                  262,656\n",
      "│    │    └─siren_activation: 3-18            [1, 512]                  --\n",
      "│    └─SirenResidualLayer: 2-6                [1, 512]                  --\n",
      "│    │    └─Linear: 3-19                      [1, 512]                  262,656\n",
      "│    │    └─siren_activation: 3-20            [1, 512]                  --\n",
      "│    │    └─Linear: 3-21                      [1, 512]                  262,656\n",
      "│    │    └─siren_activation: 3-22            [1, 512]                  --\n",
      "│    └─Linear: 2-7                            [1, 2]                    1,024\n",
      "===============================================================================================\n",
      "Total params: 2,853,376\n",
      "Trainable params: 2,853,376\n",
      "Non-trainable params: 0\n",
      "Total mult-adds (Units.MEGABYTES): 2.85\n",
      "===============================================================================================\n",
      "Input size (MB): 0.00\n",
      "Forward/backward pass size (MB): 0.05\n",
      "Params size (MB): 11.41\n",
      "Estimated Total Size (MB): 11.46\n",
      "===============================================================================================\n"
     ]
    }
   ],
   "execution_count": 15
  },
  {
   "metadata": {
    "ExecuteTime": {
     "end_time": "2025-07-09T18:21:35.619240Z",
     "start_time": "2025-07-09T18:21:35.607065Z"
    }
   },
   "cell_type": "code",
   "source": [
    "finer_residual_model = FinerModel( \n",
    "    in_features=2,\n",
    "    out_features=2,\n",
    "    bias=True,\n",
    "    hidden_layers=5,\n",
    "    hidden_features=128,\n",
    "    first_omega_0=30.,\n",
    "    hidden_omega_0=30.,\n",
    "    first_k=10,\n",
    "    hidden_k=10,\n",
    "    residual_net=True,\n",
    "    encoding='dfs',\n",
    "    r_min=0.001,\n",
    "    r_max=1.0,\n",
    "    scale=[10, 10]\n",
    ")"
   ],
   "id": "1b815d502c6cbd92",
   "outputs": [],
   "execution_count": 16
  },
  {
   "metadata": {
    "ExecuteTime": {
     "end_time": "2025-07-09T18:21:35.646737Z",
     "start_time": "2025-07-09T18:21:35.639131Z"
    }
   },
   "cell_type": "code",
   "source": "output = finer_residual_model(x_dummy)",
   "id": "2052922e4f26d50b",
   "outputs": [],
   "execution_count": 17
  },
  {
   "metadata": {
    "ExecuteTime": {
     "end_time": "2025-07-09T18:21:35.667009Z",
     "start_time": "2025-07-09T18:21:35.661079Z"
    }
   },
   "cell_type": "code",
   "source": [
    "# Print input and output\n",
    "print(\"Input:\")\n",
    "print(x_dummy)\n",
    "print(\"Output:\")\n",
    "print(output)"
   ],
   "id": "1ade6f5941e980f7",
   "outputs": [
    {
     "name": "stdout",
     "output_type": "stream",
     "text": [
      "Input:\n",
      "tensor([[ 90., 180.],\n",
      "        [-90., 180.],\n",
      "        [ 90., 180.],\n",
      "        [  0., 180.]])\n",
      "Output:\n",
      "tensor([[ 0.0817,  0.0108],\n",
      "        [ 0.0112,  0.0693],\n",
      "        [ 0.0817,  0.0108],\n",
      "        [-0.0186, -0.0273]], grad_fn=<MmBackward0>)\n"
     ]
    }
   ],
   "execution_count": 18
  },
  {
   "metadata": {
    "ExecuteTime": {
     "end_time": "2025-07-09T18:21:35.719916Z",
     "start_time": "2025-07-09T18:21:35.701954Z"
    }
   },
   "cell_type": "code",
   "source": "model_summary(finer_residual_model, input_size=(1, 2))",
   "id": "b6467d01c01379de",
   "outputs": [
    {
     "name": "stdout",
     "output_type": "stream",
     "text": [
      "===============================================================================================\n",
      "Layer (type:depth-idx)                        Output Shape              Param #\n",
      "===============================================================================================\n",
      "FinerModel                                    [1, 2]                    --\n",
      "├─SphericalFourierFeatureTransform: 1-1       [1, 440]                  --\n",
      "├─Sequential: 1-2                             [1, 2]                    --\n",
      "│    └─FinerLayer: 2-1                        [1, 128]                  --\n",
      "│    │    └─Linear: 3-1                       [1, 128]                  56,448\n",
      "│    │    └─siren_activation: 3-2             [1, 128]                  --\n",
      "│    └─FinerResidualLayer: 2-2                [1, 128]                  --\n",
      "│    │    └─Linear: 3-3                       [1, 128]                  16,512\n",
      "│    │    └─siren_activation: 3-4             [1, 128]                  --\n",
      "│    │    └─Linear: 3-5                       [1, 128]                  16,512\n",
      "│    │    └─siren_activation: 3-6             [1, 128]                  --\n",
      "│    └─FinerResidualLayer: 2-3                [1, 128]                  --\n",
      "│    │    └─Linear: 3-7                       [1, 128]                  16,512\n",
      "│    │    └─siren_activation: 3-8             [1, 128]                  --\n",
      "│    │    └─Linear: 3-9                       [1, 128]                  16,512\n",
      "│    │    └─siren_activation: 3-10            [1, 128]                  --\n",
      "│    └─FinerResidualLayer: 2-4                [1, 128]                  --\n",
      "│    │    └─Linear: 3-11                      [1, 128]                  16,512\n",
      "│    │    └─siren_activation: 3-12            [1, 128]                  --\n",
      "│    │    └─Linear: 3-13                      [1, 128]                  16,512\n",
      "│    │    └─siren_activation: 3-14            [1, 128]                  --\n",
      "│    └─FinerResidualLayer: 2-5                [1, 128]                  --\n",
      "│    │    └─Linear: 3-15                      [1, 128]                  16,512\n",
      "│    │    └─siren_activation: 3-16            [1, 128]                  --\n",
      "│    │    └─Linear: 3-17                      [1, 128]                  16,512\n",
      "│    │    └─siren_activation: 3-18            [1, 128]                  --\n",
      "│    └─FinerResidualLayer: 2-6                [1, 128]                  --\n",
      "│    │    └─Linear: 3-19                      [1, 128]                  16,512\n",
      "│    │    └─siren_activation: 3-20            [1, 128]                  --\n",
      "│    │    └─Linear: 3-21                      [1, 128]                  16,512\n",
      "│    │    └─siren_activation: 3-22            [1, 128]                  --\n",
      "│    └─Linear: 2-7                            [1, 2]                    256\n",
      "===============================================================================================\n",
      "Total params: 221,824\n",
      "Trainable params: 221,824\n",
      "Non-trainable params: 0\n",
      "Total mult-adds (Units.MEGABYTES): 0.22\n",
      "===============================================================================================\n",
      "Input size (MB): 0.00\n",
      "Forward/backward pass size (MB): 0.01\n",
      "Params size (MB): 0.89\n",
      "Estimated Total Size (MB): 0.90\n",
      "===============================================================================================\n"
     ]
    }
   ],
   "execution_count": 19
  },
  {
   "metadata": {},
   "cell_type": "markdown",
   "source": "## Gaussian Model and Finer Gaussian",
   "id": "14d8e2a41e4fbc36"
  },
  {
   "metadata": {
    "ExecuteTime": {
     "end_time": "2025-07-09T18:21:35.761526Z",
     "start_time": "2025-07-09T18:21:35.755016Z"
    }
   },
   "cell_type": "code",
   "source": "from models.implicit_neural_representations.inr_models.gaussian_model import GaussianModel, GaussianFinerModel",
   "id": "5d0cc6ed7f5663fa",
   "outputs": [],
   "execution_count": 20
  },
  {
   "metadata": {
    "ExecuteTime": {
     "end_time": "2025-07-09T18:21:35.802876Z",
     "start_time": "2025-07-09T18:21:35.784203Z"
    }
   },
   "cell_type": "code",
   "source": [
    "# initialize gaussian model without residual layers\n",
    "gaussian_model = GaussianModel(\n",
    "    in_features=2,\n",
    "    out_features=2,\n",
    "    hidden_layers=5,\n",
    "    hidden_features=512,\n",
    "    scale_gaussian=30.0,\n",
    "    weight_init=2.0,\n",
    "    bias_init=2.0,\n",
    "    residual_net=False,\n",
    "    encoding='dfs',\n",
    "    r_min=0.001,\n",
    "    r_max=1.0,\n",
    "    scale=[10, 10]\n",
    ")"
   ],
   "id": "9419766ccc6c99a3",
   "outputs": [],
   "execution_count": 21
  },
  {
   "metadata": {
    "ExecuteTime": {
     "end_time": "2025-07-09T18:21:35.822331Z",
     "start_time": "2025-07-09T18:21:35.811919Z"
    }
   },
   "cell_type": "code",
   "source": "output = gaussian_model(x_dummy)",
   "id": "6f452b3e0af142e5",
   "outputs": [],
   "execution_count": 22
  },
  {
   "metadata": {
    "ExecuteTime": {
     "end_time": "2025-07-09T18:21:35.840499Z",
     "start_time": "2025-07-09T18:21:35.834117Z"
    }
   },
   "cell_type": "code",
   "source": [
    "# Print input and output\n",
    "print(\"Input:\")\n",
    "print(x_dummy)\n",
    "print(\"Output:\")\n",
    "print(output)"
   ],
   "id": "731c6834df07b74",
   "outputs": [
    {
     "name": "stdout",
     "output_type": "stream",
     "text": [
      "Input:\n",
      "tensor([[ 90., 180.],\n",
      "        [-90., 180.],\n",
      "        [ 90., 180.],\n",
      "        [  0., 180.]])\n",
      "Output:\n",
      "tensor([[ 1.0721,  0.7641],\n",
      "        [ 0.5402, -1.9256],\n",
      "        [ 1.0721,  0.7641],\n",
      "        [ 0.5134,  2.0440]], grad_fn=<MmBackward0>)\n"
     ]
    }
   ],
   "execution_count": 23
  },
  {
   "metadata": {
    "ExecuteTime": {
     "end_time": "2025-07-09T18:21:35.881913Z",
     "start_time": "2025-07-09T18:21:35.867507Z"
    }
   },
   "cell_type": "code",
   "source": "model_summary(gaussian_model, input_size=(1, 2))",
   "id": "f43f9c0c2cec68df",
   "outputs": [
    {
     "name": "stdout",
     "output_type": "stream",
     "text": [
      "===============================================================================================\n",
      "Layer (type:depth-idx)                        Output Shape              Param #\n",
      "===============================================================================================\n",
      "GaussianModel                                 [1, 2]                    --\n",
      "├─SphericalFourierFeatureTransform: 1-1       [1, 440]                  --\n",
      "├─Sequential: 1-2                             [1, 2]                    --\n",
      "│    └─GaussianLayer: 2-1                     [1, 512]                  --\n",
      "│    │    └─Linear: 3-1                       [1, 512]                  225,792\n",
      "│    │    └─gaussian_activation: 3-2          [1, 512]                  --\n",
      "│    └─GaussianLayer: 2-2                     [1, 512]                  --\n",
      "│    │    └─Linear: 3-3                       [1, 512]                  262,656\n",
      "│    │    └─gaussian_activation: 3-4          [1, 512]                  --\n",
      "│    └─GaussianLayer: 2-3                     [1, 512]                  --\n",
      "│    │    └─Linear: 3-5                       [1, 512]                  262,656\n",
      "│    │    └─gaussian_activation: 3-6          [1, 512]                  --\n",
      "│    └─GaussianLayer: 2-4                     [1, 512]                  --\n",
      "│    │    └─Linear: 3-7                       [1, 512]                  262,656\n",
      "│    │    └─gaussian_activation: 3-8          [1, 512]                  --\n",
      "│    └─GaussianLayer: 2-5                     [1, 512]                  --\n",
      "│    │    └─Linear: 3-9                       [1, 512]                  262,656\n",
      "│    │    └─gaussian_activation: 3-10         [1, 512]                  --\n",
      "│    └─GaussianLayer: 2-6                     [1, 512]                  --\n",
      "│    │    └─Linear: 3-11                      [1, 512]                  262,656\n",
      "│    │    └─gaussian_activation: 3-12         [1, 512]                  --\n",
      "│    └─Linear: 2-7                            [1, 2]                    1,024\n",
      "===============================================================================================\n",
      "Total params: 1,540,096\n",
      "Trainable params: 1,540,096\n",
      "Non-trainable params: 0\n",
      "Total mult-adds (Units.MEGABYTES): 1.54\n",
      "===============================================================================================\n",
      "Input size (MB): 0.00\n",
      "Forward/backward pass size (MB): 0.02\n",
      "Params size (MB): 6.16\n",
      "Estimated Total Size (MB): 6.19\n",
      "===============================================================================================\n"
     ]
    }
   ],
   "execution_count": 24
  },
  {
   "metadata": {
    "ExecuteTime": {
     "end_time": "2025-07-09T18:21:35.943100Z",
     "start_time": "2025-07-09T18:21:35.918829Z"
    }
   },
   "cell_type": "code",
   "source": [
    "gaussian_residual_model = GaussianModel(\n",
    "    in_features=2,\n",
    "    out_features=2,\n",
    "    hidden_layers=5,\n",
    "    hidden_features=512,\n",
    "    scale_gaussian=30.0,\n",
    "    weight_init=0.1,\n",
    "    residual_net=True,\n",
    "    encoding='dfs',\n",
    "    r_min=0.001,\n",
    "    r_max=1.0,\n",
    "    scale=[10, 10]\n",
    ")"
   ],
   "id": "77574003ab24e637",
   "outputs": [],
   "execution_count": 25
  },
  {
   "metadata": {
    "ExecuteTime": {
     "end_time": "2025-07-09T18:21:35.963298Z",
     "start_time": "2025-07-09T18:21:35.950973Z"
    }
   },
   "cell_type": "code",
   "source": "output = gaussian_residual_model(x_dummy)",
   "id": "d6dedce5e6c4c2b8",
   "outputs": [],
   "execution_count": 26
  },
  {
   "metadata": {
    "ExecuteTime": {
     "end_time": "2025-07-09T18:21:35.979194Z",
     "start_time": "2025-07-09T18:21:35.975060Z"
    }
   },
   "cell_type": "code",
   "source": [
    "print(\"Input:\")\n",
    "print(x_dummy)\n",
    "print(\"Output:\")\n",
    "print(output)"
   ],
   "id": "96fad802bea59adc",
   "outputs": [
    {
     "name": "stdout",
     "output_type": "stream",
     "text": [
      "Input:\n",
      "tensor([[ 90., 180.],\n",
      "        [-90., 180.],\n",
      "        [ 90., 180.],\n",
      "        [  0., 180.]])\n",
      "Output:\n",
      "tensor([[-0.3675,  0.4428],\n",
      "        [ 0.1849,  0.2407],\n",
      "        [-0.3675,  0.4428],\n",
      "        [ 0.0943,  0.0681]], grad_fn=<MmBackward0>)\n"
     ]
    }
   ],
   "execution_count": 27
  },
  {
   "metadata": {
    "ExecuteTime": {
     "end_time": "2025-07-09T18:21:36.024722Z",
     "start_time": "2025-07-09T18:21:36.007101Z"
    }
   },
   "cell_type": "code",
   "source": "model_summary(gaussian_residual_model, input_size=(1, 2))",
   "id": "2dfdbee952212e29",
   "outputs": [
    {
     "name": "stdout",
     "output_type": "stream",
     "text": [
      "===============================================================================================\n",
      "Layer (type:depth-idx)                        Output Shape              Param #\n",
      "===============================================================================================\n",
      "GaussianModel                                 [1, 2]                    --\n",
      "├─SphericalFourierFeatureTransform: 1-1       [1, 440]                  --\n",
      "├─Sequential: 1-2                             [1, 2]                    --\n",
      "│    └─GaussianLayer: 2-1                     [1, 512]                  --\n",
      "│    │    └─Linear: 3-1                       [1, 512]                  225,792\n",
      "│    │    └─gaussian_activation: 3-2          [1, 512]                  --\n",
      "│    └─GaussianResidualLayer: 2-2             [1, 512]                  --\n",
      "│    │    └─Linear: 3-3                       [1, 512]                  262,656\n",
      "│    │    └─gaussian_activation: 3-4          [1, 512]                  --\n",
      "│    │    └─Linear: 3-5                       [1, 512]                  262,656\n",
      "│    │    └─gaussian_activation: 3-6          [1, 512]                  --\n",
      "│    └─GaussianResidualLayer: 2-3             [1, 512]                  --\n",
      "│    │    └─Linear: 3-7                       [1, 512]                  262,656\n",
      "│    │    └─gaussian_activation: 3-8          [1, 512]                  --\n",
      "│    │    └─Linear: 3-9                       [1, 512]                  262,656\n",
      "│    │    └─gaussian_activation: 3-10         [1, 512]                  --\n",
      "│    └─GaussianResidualLayer: 2-4             [1, 512]                  --\n",
      "│    │    └─Linear: 3-11                      [1, 512]                  262,656\n",
      "│    │    └─gaussian_activation: 3-12         [1, 512]                  --\n",
      "│    │    └─Linear: 3-13                      [1, 512]                  262,656\n",
      "│    │    └─gaussian_activation: 3-14         [1, 512]                  --\n",
      "│    └─GaussianResidualLayer: 2-5             [1, 512]                  --\n",
      "│    │    └─Linear: 3-15                      [1, 512]                  262,656\n",
      "│    │    └─gaussian_activation: 3-16         [1, 512]                  --\n",
      "│    │    └─Linear: 3-17                      [1, 512]                  262,656\n",
      "│    │    └─gaussian_activation: 3-18         [1, 512]                  --\n",
      "│    └─GaussianResidualLayer: 2-6             [1, 512]                  --\n",
      "│    │    └─Linear: 3-19                      [1, 512]                  262,656\n",
      "│    │    └─gaussian_activation: 3-20         [1, 512]                  --\n",
      "│    │    └─Linear: 3-21                      [1, 512]                  262,656\n",
      "│    │    └─gaussian_activation: 3-22         [1, 512]                  --\n",
      "│    └─Linear: 2-7                            [1, 2]                    1,024\n",
      "===============================================================================================\n",
      "Total params: 2,853,376\n",
      "Trainable params: 2,853,376\n",
      "Non-trainable params: 0\n",
      "Total mult-adds (Units.MEGABYTES): 2.85\n",
      "===============================================================================================\n",
      "Input size (MB): 0.00\n",
      "Forward/backward pass size (MB): 0.05\n",
      "Params size (MB): 11.41\n",
      "Estimated Total Size (MB): 11.46\n",
      "===============================================================================================\n"
     ]
    }
   ],
   "execution_count": 28
  },
  {
   "metadata": {
    "ExecuteTime": {
     "end_time": "2025-07-09T18:21:36.059955Z",
     "start_time": "2025-07-09T18:21:36.051650Z"
    }
   },
   "cell_type": "code",
   "source": [
    "gaussian_finer_model = GaussianFinerModel(\n",
    "    in_features=2,\n",
    "    out_features=2,\n",
    "    scale_gaussian=20.0,\n",
    "    omega_f=1,\n",
    "    first_k=30,\n",
    "    hidden_k=30,\n",
    "    residual_net=False,\n",
    "    encoding='dfs',\n",
    "    r_min=0.001,\n",
    "    r_max=1.0,\n",
    "    scale=[10, 10]\n",
    ")"
   ],
   "id": "15f75d9285f88d56",
   "outputs": [],
   "execution_count": 29
  },
  {
   "metadata": {
    "ExecuteTime": {
     "end_time": "2025-07-09T18:21:36.086235Z",
     "start_time": "2025-07-09T18:21:36.078657Z"
    }
   },
   "cell_type": "code",
   "source": "output = gaussian_finer_model(x_dummy)",
   "id": "fef55696294111fc",
   "outputs": [],
   "execution_count": 30
  },
  {
   "metadata": {
    "ExecuteTime": {
     "end_time": "2025-07-09T18:21:36.108231Z",
     "start_time": "2025-07-09T18:21:36.101496Z"
    }
   },
   "cell_type": "code",
   "source": [
    "print(\"Input:\")\n",
    "print(x_dummy)\n",
    "print(\"Output:\")\n",
    "print(output)"
   ],
   "id": "2f8dba4030255a98",
   "outputs": [
    {
     "name": "stdout",
     "output_type": "stream",
     "text": [
      "Input:\n",
      "tensor([[ 90., 180.],\n",
      "        [-90., 180.],\n",
      "        [ 90., 180.],\n",
      "        [  0., 180.]])\n",
      "Output:\n",
      "tensor([[ 0.0366, -0.1536],\n",
      "        [ 0.0709, -0.0311],\n",
      "        [ 0.0366, -0.1536],\n",
      "        [-0.0878, -0.1235]], grad_fn=<MmBackward0>)\n"
     ]
    }
   ],
   "execution_count": 31
  },
  {
   "metadata": {
    "ExecuteTime": {
     "end_time": "2025-07-09T18:21:36.160917Z",
     "start_time": "2025-07-09T18:21:36.147203Z"
    }
   },
   "cell_type": "code",
   "source": "model_summary(gaussian_finer_model, input_size=(1, 2))",
   "id": "93a19d70f8c96ae0",
   "outputs": [
    {
     "name": "stdout",
     "output_type": "stream",
     "text": [
      "===============================================================================================\n",
      "Layer (type:depth-idx)                        Output Shape              Param #\n",
      "===============================================================================================\n",
      "GaussianFinerModel                            [1, 2]                    --\n",
      "├─SphericalFourierFeatureTransform: 1-1       [1, 440]                  --\n",
      "├─Sequential: 1-2                             [1, 2]                    --\n",
      "│    └─GaussianFinerLayer: 2-1                [1, 128]                  --\n",
      "│    │    └─Linear: 3-1                       [1, 128]                  56,448\n",
      "│    │    └─gaussian_activation: 3-2          [1, 128]                  --\n",
      "│    └─GaussianFinerLayer: 2-2                [1, 128]                  --\n",
      "│    │    └─Linear: 3-3                       [1, 128]                  16,512\n",
      "│    │    └─gaussian_activation: 3-4          [1, 128]                  --\n",
      "│    └─GaussianFinerLayer: 2-3                [1, 128]                  --\n",
      "│    │    └─Linear: 3-5                       [1, 128]                  16,512\n",
      "│    │    └─gaussian_activation: 3-6          [1, 128]                  --\n",
      "│    └─GaussianFinerLayer: 2-4                [1, 128]                  --\n",
      "│    │    └─Linear: 3-7                       [1, 128]                  16,512\n",
      "│    │    └─gaussian_activation: 3-8          [1, 128]                  --\n",
      "│    └─GaussianFinerLayer: 2-5                [1, 128]                  --\n",
      "│    │    └─Linear: 3-9                       [1, 128]                  16,512\n",
      "│    │    └─gaussian_activation: 3-10         [1, 128]                  --\n",
      "│    └─GaussianFinerLayer: 2-6                [1, 128]                  --\n",
      "│    │    └─Linear: 3-11                      [1, 128]                  16,512\n",
      "│    │    └─gaussian_activation: 3-12         [1, 128]                  --\n",
      "│    └─Linear: 2-7                            [1, 2]                    256\n",
      "===============================================================================================\n",
      "Total params: 139,264\n",
      "Trainable params: 139,264\n",
      "Non-trainable params: 0\n",
      "Total mult-adds (Units.MEGABYTES): 0.14\n",
      "===============================================================================================\n",
      "Input size (MB): 0.00\n",
      "Forward/backward pass size (MB): 0.01\n",
      "Params size (MB): 0.56\n",
      "Estimated Total Size (MB): 0.56\n",
      "===============================================================================================\n"
     ]
    }
   ],
   "execution_count": 32
  },
  {
   "metadata": {
    "ExecuteTime": {
     "end_time": "2025-07-09T18:21:36.195823Z",
     "start_time": "2025-07-09T18:21:36.186762Z"
    }
   },
   "cell_type": "code",
   "source": [
    "gaussian_finer_residual_model = GaussianFinerModel(\n",
    "    in_features=2,\n",
    "    out_features=2,\n",
    "    scale_gaussian=30.0,\n",
    "    omega_f=2.5,\n",
    "    first_k=1,\n",
    "    hidden_k=1,\n",
    "    residual_net=True,\n",
    "    encoding='dfs',\n",
    "    r_min=0.001,\n",
    "    r_max=1.0,\n",
    "    scale=[10, 10]\n",
    ")"
   ],
   "id": "6dce263d2a0765b9",
   "outputs": [],
   "execution_count": 33
  },
  {
   "metadata": {
    "ExecuteTime": {
     "end_time": "2025-07-09T18:21:36.222909Z",
     "start_time": "2025-07-09T18:21:36.214979Z"
    }
   },
   "cell_type": "code",
   "source": "output = gaussian_finer_residual_model(x_dummy)",
   "id": "329de2f8c99c1a59",
   "outputs": [],
   "execution_count": 34
  },
  {
   "metadata": {
    "ExecuteTime": {
     "end_time": "2025-07-09T18:21:36.245545Z",
     "start_time": "2025-07-09T18:21:36.239767Z"
    }
   },
   "cell_type": "code",
   "source": [
    "print(\"Input:\")\n",
    "print(x_dummy)\n",
    "print(\"Output:\")\n",
    "print(output)"
   ],
   "id": "1e84596644ef36fc",
   "outputs": [
    {
     "name": "stdout",
     "output_type": "stream",
     "text": [
      "Input:\n",
      "tensor([[ 90., 180.],\n",
      "        [-90., 180.],\n",
      "        [ 90., 180.],\n",
      "        [  0., 180.]])\n",
      "Output:\n",
      "tensor([[ 0.1456, -0.0904],\n",
      "        [-0.0259,  0.1640],\n",
      "        [ 0.1456, -0.0904],\n",
      "        [ 0.0645, -0.0679]], grad_fn=<MmBackward0>)\n"
     ]
    }
   ],
   "execution_count": 35
  },
  {
   "metadata": {
    "ExecuteTime": {
     "end_time": "2025-07-09T18:21:36.288139Z",
     "start_time": "2025-07-09T18:21:36.272548Z"
    }
   },
   "cell_type": "code",
   "source": "model_summary(gaussian_finer_residual_model, input_size=(1, 2))",
   "id": "a4df428b7e58a756",
   "outputs": [
    {
     "name": "stdout",
     "output_type": "stream",
     "text": [
      "===============================================================================================\n",
      "Layer (type:depth-idx)                        Output Shape              Param #\n",
      "===============================================================================================\n",
      "GaussianFinerModel                            [1, 2]                    --\n",
      "├─SphericalFourierFeatureTransform: 1-1       [1, 440]                  --\n",
      "├─Sequential: 1-2                             [1, 2]                    --\n",
      "│    └─GaussianFinerLayer: 2-1                [1, 128]                  --\n",
      "│    │    └─Linear: 3-1                       [1, 128]                  56,448\n",
      "│    │    └─gaussian_activation: 3-2          [1, 128]                  --\n",
      "│    └─GaussianFinerResidualLayer: 2-2        [1, 128]                  --\n",
      "│    │    └─Linear: 3-3                       [1, 128]                  16,512\n",
      "│    │    └─gaussian_activation: 3-4          [1, 128]                  --\n",
      "│    │    └─Linear: 3-5                       [1, 128]                  16,512\n",
      "│    │    └─gaussian_activation: 3-6          [1, 128]                  --\n",
      "│    └─GaussianFinerResidualLayer: 2-3        [1, 128]                  --\n",
      "│    │    └─Linear: 3-7                       [1, 128]                  16,512\n",
      "│    │    └─gaussian_activation: 3-8          [1, 128]                  --\n",
      "│    │    └─Linear: 3-9                       [1, 128]                  16,512\n",
      "│    │    └─gaussian_activation: 3-10         [1, 128]                  --\n",
      "│    └─GaussianFinerResidualLayer: 2-4        [1, 128]                  --\n",
      "│    │    └─Linear: 3-11                      [1, 128]                  16,512\n",
      "│    │    └─gaussian_activation: 3-12         [1, 128]                  --\n",
      "│    │    └─Linear: 3-13                      [1, 128]                  16,512\n",
      "│    │    └─gaussian_activation: 3-14         [1, 128]                  --\n",
      "│    └─GaussianFinerResidualLayer: 2-5        [1, 128]                  --\n",
      "│    │    └─Linear: 3-15                      [1, 128]                  16,512\n",
      "│    │    └─gaussian_activation: 3-16         [1, 128]                  --\n",
      "│    │    └─Linear: 3-17                      [1, 128]                  16,512\n",
      "│    │    └─gaussian_activation: 3-18         [1, 128]                  --\n",
      "│    └─GaussianFinerResidualLayer: 2-6        [1, 128]                  --\n",
      "│    │    └─Linear: 3-19                      [1, 128]                  16,512\n",
      "│    │    └─gaussian_activation: 3-20         [1, 128]                  --\n",
      "│    │    └─Linear: 3-21                      [1, 128]                  16,512\n",
      "│    │    └─gaussian_activation: 3-22         [1, 128]                  --\n",
      "│    └─Linear: 2-7                            [1, 2]                    256\n",
      "===============================================================================================\n",
      "Total params: 221,824\n",
      "Trainable params: 221,824\n",
      "Non-trainable params: 0\n",
      "Total mult-adds (Units.MEGABYTES): 0.22\n",
      "===============================================================================================\n",
      "Input size (MB): 0.00\n",
      "Forward/backward pass size (MB): 0.01\n",
      "Params size (MB): 0.89\n",
      "Estimated Total Size (MB): 0.90\n",
      "===============================================================================================\n"
     ]
    }
   ],
   "execution_count": 36
  },
  {
   "metadata": {},
   "cell_type": "markdown",
   "source": "## MLP MODEL",
   "id": "5e16b99dddc3a2f1"
  },
  {
   "metadata": {
    "ExecuteTime": {
     "end_time": "2025-07-09T18:21:36.327896Z",
     "start_time": "2025-07-09T18:21:36.321962Z"
    }
   },
   "cell_type": "code",
   "source": "from models.implicit_neural_representations.inr_models.mlp_model import MLPModel",
   "id": "993af880de38c136",
   "outputs": [],
   "execution_count": 37
  },
  {
   "metadata": {
    "ExecuteTime": {
     "end_time": "2025-07-09T18:21:36.352224Z",
     "start_time": "2025-07-09T18:21:36.337982Z"
    }
   },
   "cell_type": "code",
   "source": [
    "mlp_model = MLPModel(\n",
    "    in_features=2,\n",
    "    out_features=1,\n",
    "    hidden_features=512,\n",
    "    hidden_layers = 5, \n",
    "    bias=True,\n",
    "    weight_init=0.1,\n",
    "    bias_init=None,\n",
    "    residual_net=False,\n",
    "    encoding='dfs',\n",
    "    r_min=0.001,\n",
    "    r_max = 1.0,\n",
    "    scale = [2, 2])"
   ],
   "id": "4e606d57db8d7561",
   "outputs": [],
   "execution_count": 38
  },
  {
   "metadata": {
    "ExecuteTime": {
     "end_time": "2025-07-09T18:21:36.368132Z",
     "start_time": "2025-07-09T18:21:36.359885Z"
    }
   },
   "cell_type": "code",
   "source": "output = mlp_model(x_dummy)",
   "id": "cc78849fb95d1ad3",
   "outputs": [],
   "execution_count": 39
  },
  {
   "metadata": {
    "ExecuteTime": {
     "end_time": "2025-07-09T18:21:36.384514Z",
     "start_time": "2025-07-09T18:21:36.379283Z"
    }
   },
   "cell_type": "code",
   "source": [
    "print(\"Input:\")\n",
    "print(x_dummy)\n",
    "print(\"Output:\")\n",
    "print(output)"
   ],
   "id": "6af33433ffac42ba",
   "outputs": [
    {
     "name": "stdout",
     "output_type": "stream",
     "text": [
      "Input:\n",
      "tensor([[ 90., 180.],\n",
      "        [-90., 180.],\n",
      "        [ 90., 180.],\n",
      "        [  0., 180.]])\n",
      "Output:\n",
      "tensor([[-0.0041],\n",
      "        [-0.0251],\n",
      "        [-0.0041],\n",
      "        [ 0.0465]], grad_fn=<AddmmBackward0>)\n"
     ]
    }
   ],
   "execution_count": 40
  },
  {
   "metadata": {
    "ExecuteTime": {
     "end_time": "2025-07-09T18:21:36.437966Z",
     "start_time": "2025-07-09T18:21:36.422849Z"
    }
   },
   "cell_type": "code",
   "source": "model_summary(mlp_model, input_size=(1, 2))",
   "id": "782a5322fa9d3ca6",
   "outputs": [
    {
     "name": "stdout",
     "output_type": "stream",
     "text": [
      "===============================================================================================\n",
      "Layer (type:depth-idx)                        Output Shape              Param #\n",
      "===============================================================================================\n",
      "MLPModel                                      [1, 1]                    --\n",
      "├─SphericalFourierFeatureTransform: 1-1       [1, 24]                   --\n",
      "├─Sequential: 1-2                             [1, 1]                    --\n",
      "│    └─MLPLayer: 2-1                          [1, 512]                  --\n",
      "│    │    └─Linear: 3-1                       [1, 512]                  12,800\n",
      "│    │    └─ReLU: 3-2                         [1, 512]                  --\n",
      "│    └─MLPLayer: 2-2                          [1, 512]                  --\n",
      "│    │    └─Linear: 3-3                       [1, 512]                  262,656\n",
      "│    │    └─ReLU: 3-4                         [1, 512]                  --\n",
      "│    └─MLPLayer: 2-3                          [1, 512]                  --\n",
      "│    │    └─Linear: 3-5                       [1, 512]                  262,656\n",
      "│    │    └─ReLU: 3-6                         [1, 512]                  --\n",
      "│    └─MLPLayer: 2-4                          [1, 512]                  --\n",
      "│    │    └─Linear: 3-7                       [1, 512]                  262,656\n",
      "│    │    └─ReLU: 3-8                         [1, 512]                  --\n",
      "│    └─MLPLayer: 2-5                          [1, 512]                  --\n",
      "│    │    └─Linear: 3-9                       [1, 512]                  262,656\n",
      "│    │    └─ReLU: 3-10                        [1, 512]                  --\n",
      "│    └─MLPLayer: 2-6                          [1, 512]                  --\n",
      "│    │    └─Linear: 3-11                      [1, 512]                  262,656\n",
      "│    │    └─ReLU: 3-12                        [1, 512]                  --\n",
      "│    └─Linear: 2-7                            [1, 1]                    513\n",
      "===============================================================================================\n",
      "Total params: 1,326,593\n",
      "Trainable params: 1,326,593\n",
      "Non-trainable params: 0\n",
      "Total mult-adds (Units.MEGABYTES): 1.33\n",
      "===============================================================================================\n",
      "Input size (MB): 0.00\n",
      "Forward/backward pass size (MB): 0.02\n",
      "Params size (MB): 5.31\n",
      "Estimated Total Size (MB): 5.33\n",
      "===============================================================================================\n"
     ]
    }
   ],
   "execution_count": 41
  },
  {
   "metadata": {
    "ExecuteTime": {
     "end_time": "2025-07-09T18:21:36.608759Z",
     "start_time": "2025-07-09T18:21:36.472146Z"
    }
   },
   "cell_type": "code",
   "source": [
    "mlp_residual_model = MLPModel(\n",
    "    in_features=2,\n",
    "    out_features=2,\n",
    "    hidden_features=128,\n",
    "    hidden_layers = 5, \n",
    "    bias=True,\n",
    "    weight_init=0.1,\n",
    "    bias_init=None,\n",
    "    residual_net=True,\n",
    "    encoding='dfs',\n",
    "    r_min=0.001,\n",
    "    r_max = 1.0,\n",
    "    scale = [10, 10]\n",
    ")"
   ],
   "id": "f2c8354cf066a683",
   "outputs": [],
   "execution_count": 42
  },
  {
   "metadata": {
    "ExecuteTime": {
     "end_time": "2025-07-09T18:21:36.651021Z",
     "start_time": "2025-07-09T18:21:36.639971Z"
    }
   },
   "cell_type": "code",
   "source": "output = mlp_residual_model(x_dummy)",
   "id": "938140693446ee64",
   "outputs": [],
   "execution_count": 43
  },
  {
   "metadata": {
    "ExecuteTime": {
     "end_time": "2025-07-09T18:21:36.678880Z",
     "start_time": "2025-07-09T18:21:36.671801Z"
    }
   },
   "cell_type": "code",
   "source": [
    "print(\"Input:\")\n",
    "print(x_dummy)\n",
    "print(\"Output:\")\n",
    "print(output)"
   ],
   "id": "e927b3fbde7cd4ce",
   "outputs": [
    {
     "name": "stdout",
     "output_type": "stream",
     "text": [
      "Input:\n",
      "tensor([[ 90., 180.],\n",
      "        [-90., 180.],\n",
      "        [ 90., 180.],\n",
      "        [  0., 180.]])\n",
      "Output:\n",
      "tensor([[-0.4899,  0.5140],\n",
      "        [-0.2387,  0.1216],\n",
      "        [-0.4899,  0.5140],\n",
      "        [-0.1947,  0.1944]], grad_fn=<AddmmBackward0>)\n"
     ]
    }
   ],
   "execution_count": 44
  },
  {
   "metadata": {
    "ExecuteTime": {
     "end_time": "2025-07-09T18:21:36.717077Z",
     "start_time": "2025-07-09T18:21:36.704085Z"
    }
   },
   "cell_type": "code",
   "source": "model_summary(mlp_residual_model, input_size=(1, 2))",
   "id": "94cd0e5d1fc386ae",
   "outputs": [
    {
     "name": "stdout",
     "output_type": "stream",
     "text": [
      "===============================================================================================\n",
      "Layer (type:depth-idx)                        Output Shape              Param #\n",
      "===============================================================================================\n",
      "MLPModel                                      [1, 2]                    --\n",
      "├─SphericalFourierFeatureTransform: 1-1       [1, 440]                  --\n",
      "├─Sequential: 1-2                             [1, 2]                    --\n",
      "│    └─MLPLayer: 2-1                          [1, 128]                  --\n",
      "│    │    └─Linear: 3-1                       [1, 128]                  56,448\n",
      "│    │    └─ReLU: 3-2                         [1, 128]                  --\n",
      "│    └─MLPResidualLayer: 2-2                  [1, 128]                  --\n",
      "│    │    └─Linear: 3-3                       [1, 128]                  16,512\n",
      "│    │    └─ReLU: 3-4                         [1, 128]                  --\n",
      "│    │    └─Linear: 3-5                       [1, 128]                  16,512\n",
      "│    │    └─ReLU: 3-6                         [1, 128]                  --\n",
      "│    └─MLPResidualLayer: 2-3                  [1, 128]                  --\n",
      "│    │    └─Linear: 3-7                       [1, 128]                  16,512\n",
      "│    │    └─ReLU: 3-8                         [1, 128]                  --\n",
      "│    │    └─Linear: 3-9                       [1, 128]                  16,512\n",
      "│    │    └─ReLU: 3-10                        [1, 128]                  --\n",
      "│    └─MLPResidualLayer: 2-4                  [1, 128]                  --\n",
      "│    │    └─Linear: 3-11                      [1, 128]                  16,512\n",
      "│    │    └─ReLU: 3-12                        [1, 128]                  --\n",
      "│    │    └─Linear: 3-13                      [1, 128]                  16,512\n",
      "│    │    └─ReLU: 3-14                        [1, 128]                  --\n",
      "│    └─MLPResidualLayer: 2-5                  [1, 128]                  --\n",
      "│    │    └─Linear: 3-15                      [1, 128]                  16,512\n",
      "│    │    └─ReLU: 3-16                        [1, 128]                  --\n",
      "│    │    └─Linear: 3-17                      [1, 128]                  16,512\n",
      "│    │    └─ReLU: 3-18                        [1, 128]                  --\n",
      "│    └─MLPResidualLayer: 2-6                  [1, 128]                  --\n",
      "│    │    └─Linear: 3-19                      [1, 128]                  16,512\n",
      "│    │    └─ReLU: 3-20                        [1, 128]                  --\n",
      "│    │    └─Linear: 3-21                      [1, 128]                  16,512\n",
      "│    │    └─ReLU: 3-22                        [1, 128]                  --\n",
      "│    └─Linear: 2-7                            [1, 2]                    258\n",
      "===============================================================================================\n",
      "Total params: 221,826\n",
      "Trainable params: 221,826\n",
      "Non-trainable params: 0\n",
      "Total mult-adds (Units.MEGABYTES): 0.22\n",
      "===============================================================================================\n",
      "Input size (MB): 0.00\n",
      "Forward/backward pass size (MB): 0.01\n",
      "Params size (MB): 0.89\n",
      "Estimated Total Size (MB): 0.90\n",
      "===============================================================================================\n"
     ]
    }
   ],
   "execution_count": 45
  },
  {
   "metadata": {},
   "cell_type": "markdown",
   "source": "## Wire Models",
   "id": "47e1d87682c8d728"
  },
  {
   "metadata": {
    "ExecuteTime": {
     "end_time": "2025-07-09T18:21:36.750989Z",
     "start_time": "2025-07-09T18:21:36.743735Z"
    }
   },
   "cell_type": "code",
   "source": "from models.implicit_neural_representations.inr_models.wire_model import WireModel, WireFinerModel",
   "id": "39ee9f42b1c5a8db",
   "outputs": [],
   "execution_count": 46
  },
  {
   "metadata": {
    "ExecuteTime": {
     "end_time": "2025-07-09T18:21:36.776304Z",
     "start_time": "2025-07-09T18:21:36.767640Z"
    }
   },
   "cell_type": "code",
   "source": [
    "wire_model = WireModel(\n",
    "    in_features=2,\n",
    "    out_features=2,\n",
    "    hidden_features=128,\n",
    "    hidden_layers = 5, \n",
    "    scale_wire=10.0,\n",
    "    omega=20.0,\n",
    "    bias=True,\n",
    "    weight_init=0.1,\n",
    "    bias_init=None,\n",
    "    residual_net=False,\n",
    "    encoding='dfs',\n",
    "    r_min=0.001,\n",
    "    r_max=1.0,\n",
    "    scale=[10, 10]\n",
    ")"
   ],
   "id": "5e03591393002e14",
   "outputs": [],
   "execution_count": 47
  },
  {
   "metadata": {
    "ExecuteTime": {
     "end_time": "2025-07-09T18:21:36.795542Z",
     "start_time": "2025-07-09T18:21:36.785682Z"
    }
   },
   "cell_type": "code",
   "source": "output = wire_model(x_dummy)",
   "id": "6dd42e6aab416d73",
   "outputs": [],
   "execution_count": 48
  },
  {
   "metadata": {
    "ExecuteTime": {
     "end_time": "2025-07-09T18:21:36.812084Z",
     "start_time": "2025-07-09T18:21:36.806988Z"
    }
   },
   "cell_type": "code",
   "source": [
    "print(\"Input:\")\n",
    "print(x_dummy)\n",
    "print(\"Output:\")\n",
    "print(output)"
   ],
   "id": "9f9976f23d86771f",
   "outputs": [
    {
     "name": "stdout",
     "output_type": "stream",
     "text": [
      "Input:\n",
      "tensor([[ 90., 180.],\n",
      "        [-90., 180.],\n",
      "        [ 90., 180.],\n",
      "        [  0., 180.]])\n",
      "Output:\n",
      "tensor([[ 0.1947+0.0195j, -0.2029+0.1827j],\n",
      "        [ 0.2545-0.0731j, -0.1139-0.5072j],\n",
      "        [ 0.1947+0.0195j, -0.2029+0.1827j],\n",
      "        [ 0.1161+0.3340j,  0.0980+0.2947j]], grad_fn=<MmBackward0>)\n"
     ]
    }
   ],
   "execution_count": 49
  },
  {
   "metadata": {
    "ExecuteTime": {
     "end_time": "2025-07-09T18:21:36.851363Z",
     "start_time": "2025-07-09T18:21:36.839394Z"
    }
   },
   "cell_type": "code",
   "source": "model_summary(wire_model, input_size=(1, 2))",
   "id": "58f35daf68be4efe",
   "outputs": [
    {
     "name": "stdout",
     "output_type": "stream",
     "text": [
      "===============================================================================================\n",
      "Layer (type:depth-idx)                        Output Shape              Param #\n",
      "===============================================================================================\n",
      "WireModel                                     [1, 2]                    --\n",
      "├─SphericalFourierFeatureTransform: 1-1       [1, 440]                  --\n",
      "├─Sequential: 1-2                             [1, 2]                    --\n",
      "│    └─WireLayer: 2-1                         [1, 128]                  --\n",
      "│    │    └─Linear: 3-1                       [1, 128]                  56,448\n",
      "│    │    └─wire_activation: 3-2              [1, 128]                  --\n",
      "│    └─WireLayer: 2-2                         [1, 128]                  --\n",
      "│    │    └─Linear: 3-3                       [1, 128]                  16,512\n",
      "│    │    └─wire_activation: 3-4              [1, 128]                  --\n",
      "│    └─WireLayer: 2-3                         [1, 128]                  --\n",
      "│    │    └─Linear: 3-5                       [1, 128]                  16,512\n",
      "│    │    └─wire_activation: 3-6              [1, 128]                  --\n",
      "│    └─WireLayer: 2-4                         [1, 128]                  --\n",
      "│    │    └─Linear: 3-7                       [1, 128]                  16,512\n",
      "│    │    └─wire_activation: 3-8              [1, 128]                  --\n",
      "│    └─WireLayer: 2-5                         [1, 128]                  --\n",
      "│    │    └─Linear: 3-9                       [1, 128]                  16,512\n",
      "│    │    └─wire_activation: 3-10             [1, 128]                  --\n",
      "│    └─WireLayer: 2-6                         [1, 128]                  --\n",
      "│    │    └─Linear: 3-11                      [1, 128]                  16,512\n",
      "│    │    └─wire_activation: 3-12             [1, 128]                  --\n",
      "│    └─Linear: 2-7                            [1, 2]                    256\n",
      "===============================================================================================\n",
      "Total params: 139,264\n",
      "Trainable params: 139,264\n",
      "Non-trainable params: 0\n",
      "Total mult-adds (Units.MEGABYTES): 0.14\n",
      "===============================================================================================\n",
      "Input size (MB): 0.00\n",
      "Forward/backward pass size (MB): 0.01\n",
      "Params size (MB): 0.89\n",
      "Estimated Total Size (MB): 0.90\n",
      "===============================================================================================\n"
     ]
    }
   ],
   "execution_count": 50
  },
  {
   "metadata": {
    "ExecuteTime": {
     "end_time": "2025-07-09T18:21:36.879437Z",
     "start_time": "2025-07-09T18:21:36.868828Z"
    }
   },
   "cell_type": "code",
   "source": [
    "wire_residual_model = WireModel(\n",
    "    in_features=2,\n",
    "    out_features=2,\n",
    "    hidden_features=128,\n",
    "    hidden_layers = 5,\n",
    "    scale_wire=10.0,\n",
    "    omega=20.0,\n",
    "    bias=True,\n",
    "    weight_init=0.1,\n",
    "    bias_init=None,\n",
    "    residual_net=True,\n",
    "    encoding='dfs',\n",
    "    r_min=0.001,\n",
    "    r_max=1.0,\n",
    "    scale=[10, 10]\n",
    ")"
   ],
   "id": "e8318f7c0d0f433a",
   "outputs": [],
   "execution_count": 51
  },
  {
   "metadata": {
    "ExecuteTime": {
     "end_time": "2025-07-09T18:21:36.902388Z",
     "start_time": "2025-07-09T18:21:36.889838Z"
    }
   },
   "cell_type": "code",
   "source": "output = wire_residual_model(x_dummy)",
   "id": "1ba0d93fe9cb7d4c",
   "outputs": [],
   "execution_count": 52
  },
  {
   "metadata": {
    "ExecuteTime": {
     "end_time": "2025-07-09T18:21:36.918554Z",
     "start_time": "2025-07-09T18:21:36.912353Z"
    }
   },
   "cell_type": "code",
   "source": [
    "print(\"Input:\")\n",
    "print(x_dummy)\n",
    "print(\"Output:\")\n",
    "print(output)"
   ],
   "id": "b6ad5b0b627b83d5",
   "outputs": [
    {
     "name": "stdout",
     "output_type": "stream",
     "text": [
      "Input:\n",
      "tensor([[ 90., 180.],\n",
      "        [-90., 180.],\n",
      "        [ 90., 180.],\n",
      "        [  0., 180.]])\n",
      "Output:\n",
      "tensor([[ 0.0714+0.0291j, -0.1542+0.5271j],\n",
      "        [-0.0944+0.0199j,  0.0677-0.1978j],\n",
      "        [ 0.0714+0.0291j, -0.1542+0.5271j],\n",
      "        [ 0.1168-0.0809j,  0.0745-0.2087j]], grad_fn=<MmBackward0>)\n"
     ]
    }
   ],
   "execution_count": 53
  },
  {
   "metadata": {
    "ExecuteTime": {
     "end_time": "2025-07-09T18:21:36.977736Z",
     "start_time": "2025-07-09T18:21:36.958638Z"
    }
   },
   "cell_type": "code",
   "source": "model_summary(wire_residual_model, input_size=(1, 2))",
   "id": "3467f78b90c4a146",
   "outputs": [
    {
     "name": "stdout",
     "output_type": "stream",
     "text": [
      "===============================================================================================\n",
      "Layer (type:depth-idx)                        Output Shape              Param #\n",
      "===============================================================================================\n",
      "WireModel                                     [1, 2]                    --\n",
      "├─SphericalFourierFeatureTransform: 1-1       [1, 440]                  --\n",
      "├─Sequential: 1-2                             [1, 2]                    --\n",
      "│    └─WireLayer: 2-1                         [1, 128]                  --\n",
      "│    │    └─Linear: 3-1                       [1, 128]                  56,448\n",
      "│    │    └─wire_activation: 3-2              [1, 128]                  --\n",
      "│    └─WireResidualLayer: 2-2                 [1, 128]                  --\n",
      "│    │    └─Linear: 3-3                       [1, 128]                  16,512\n",
      "│    │    └─wire_activation: 3-4              [1, 128]                  --\n",
      "│    │    └─Linear: 3-5                       [1, 128]                  16,512\n",
      "│    │    └─wire_activation: 3-6              [1, 128]                  --\n",
      "│    └─WireResidualLayer: 2-3                 [1, 128]                  --\n",
      "│    │    └─Linear: 3-7                       [1, 128]                  16,512\n",
      "│    │    └─wire_activation: 3-8              [1, 128]                  --\n",
      "│    │    └─Linear: 3-9                       [1, 128]                  16,512\n",
      "│    │    └─wire_activation: 3-10             [1, 128]                  --\n",
      "│    └─WireResidualLayer: 2-4                 [1, 128]                  --\n",
      "│    │    └─Linear: 3-11                      [1, 128]                  16,512\n",
      "│    │    └─wire_activation: 3-12             [1, 128]                  --\n",
      "│    │    └─Linear: 3-13                      [1, 128]                  16,512\n",
      "│    │    └─wire_activation: 3-14             [1, 128]                  --\n",
      "│    └─WireResidualLayer: 2-5                 [1, 128]                  --\n",
      "│    │    └─Linear: 3-15                      [1, 128]                  16,512\n",
      "│    │    └─wire_activation: 3-16             [1, 128]                  --\n",
      "│    │    └─Linear: 3-17                      [1, 128]                  16,512\n",
      "│    │    └─wire_activation: 3-18             [1, 128]                  --\n",
      "│    └─WireResidualLayer: 2-6                 [1, 128]                  --\n",
      "│    │    └─Linear: 3-19                      [1, 128]                  16,512\n",
      "│    │    └─wire_activation: 3-20             [1, 128]                  --\n",
      "│    │    └─Linear: 3-21                      [1, 128]                  16,512\n",
      "│    │    └─wire_activation: 3-22             [1, 128]                  --\n",
      "│    └─Linear: 2-7                            [1, 2]                    256\n",
      "===============================================================================================\n",
      "Total params: 221,824\n",
      "Trainable params: 221,824\n",
      "Non-trainable params: 0\n",
      "Total mult-adds (Units.MEGABYTES): 0.22\n",
      "===============================================================================================\n",
      "Input size (MB): 0.00\n",
      "Forward/backward pass size (MB): 0.02\n",
      "Params size (MB): 1.55\n",
      "Estimated Total Size (MB): 1.57\n",
      "===============================================================================================\n"
     ]
    }
   ],
   "execution_count": 54
  },
  {
   "metadata": {
    "ExecuteTime": {
     "end_time": "2025-07-09T18:21:37.015166Z",
     "start_time": "2025-07-09T18:21:37.005886Z"
    }
   },
   "cell_type": "code",
   "source": "torch.abs(x_dummy - output)",
   "id": "c0eaec1ce0dee73a",
   "outputs": [
    {
     "data": {
      "text/plain": [
       "tensor([[8.9929e+01, 1.8015e+02],\n",
       "        [8.9906e+01, 1.7993e+02],\n",
       "        [8.9929e+01, 1.8015e+02],\n",
       "        [1.4207e-01, 1.7993e+02]], grad_fn=<AbsBackward0>)"
      ]
     },
     "execution_count": 55,
     "metadata": {},
     "output_type": "execute_result"
    }
   ],
   "execution_count": 55
  },
  {
   "metadata": {
    "ExecuteTime": {
     "end_time": "2025-07-09T18:21:37.993929Z",
     "start_time": "2025-07-09T18:21:37.987261Z"
    }
   },
   "cell_type": "code",
   "source": "x_dummy - output",
   "id": "a02f89fae1331d93",
   "outputs": [
    {
     "data": {
      "text/plain": [
       "tensor([[ 8.9929e+01-0.0291j,  1.8015e+02-0.5271j],\n",
       "        [-8.9906e+01-0.0199j,  1.7993e+02+0.1978j],\n",
       "        [ 8.9929e+01-0.0291j,  1.8015e+02-0.5271j],\n",
       "        [-1.1680e-01+0.0809j,  1.7993e+02+0.2087j]], grad_fn=<SubBackward0>)"
      ]
     },
     "execution_count": 56,
     "metadata": {},
     "output_type": "execute_result"
    }
   ],
   "execution_count": 56
  },
  {
   "metadata": {
    "ExecuteTime": {
     "end_time": "2025-07-09T18:21:38.160031Z",
     "start_time": "2025-07-09T18:21:38.152156Z"
    }
   },
   "cell_type": "code",
   "source": "torch.abs(output) ",
   "id": "aa8ae554db37a562",
   "outputs": [
    {
     "data": {
      "text/plain": [
       "tensor([[0.0771, 0.5492],\n",
       "        [0.0965, 0.2090],\n",
       "        [0.0771, 0.5492],\n",
       "        [0.1421, 0.2216]], grad_fn=<AbsBackward0>)"
      ]
     },
     "execution_count": 57,
     "metadata": {},
     "output_type": "execute_result"
    }
   ],
   "execution_count": 57
  },
  {
   "metadata": {
    "ExecuteTime": {
     "end_time": "2025-07-09T18:21:38.430736Z",
     "start_time": "2025-07-09T18:21:38.339555Z"
    }
   },
   "cell_type": "code",
   "source": [
    "wire_finer_model = WireFinerModel(\n",
    "    in_features=2,\n",
    "    out_features=2,\n",
    "    hidden_features=512,\n",
    "    hidden_layers = 5, \n",
    "    scale_wire=10.0,\n",
    "    omega=20.0,\n",
    "    omega_f=1.0,\n",
    "    bias=True,\n",
    "    first_k=5,\n",
    "    hidden_k=5,\n",
    "    residual_net=False,\n",
    "    encoding='dfs',\n",
    "    r_min=0.001,\n",
    "    r_max=1.0,\n",
    "    scale=[10, 10]\n",
    ")"
   ],
   "id": "c53d34806b1394f7",
   "outputs": [],
   "execution_count": 58
  },
  {
   "metadata": {
    "ExecuteTime": {
     "end_time": "2025-07-09T18:21:38.475460Z",
     "start_time": "2025-07-09T18:21:38.458393Z"
    }
   },
   "cell_type": "code",
   "source": "output = wire_finer_model(x_dummy)",
   "id": "25e9c7815a57135e",
   "outputs": [],
   "execution_count": 59
  },
  {
   "metadata": {
    "ExecuteTime": {
     "end_time": "2025-07-09T18:21:38.492593Z",
     "start_time": "2025-07-09T18:21:38.487005Z"
    }
   },
   "cell_type": "code",
   "source": [
    "print(\"Input:\")\n",
    "print(x_dummy)\n",
    "print(\"Output:\")\n",
    "print(output)"
   ],
   "id": "f0de6b30b350f444",
   "outputs": [
    {
     "name": "stdout",
     "output_type": "stream",
     "text": [
      "Input:\n",
      "tensor([[ 90., 180.],\n",
      "        [-90., 180.],\n",
      "        [ 90., 180.],\n",
      "        [  0., 180.]])\n",
      "Output:\n",
      "tensor([[-4.5587e-07-2.9958e-06j, -9.4984e-07-7.5627e-06j],\n",
      "        [ 8.3030e-08+5.3224e-07j, -5.1123e-06-1.6288e-06j],\n",
      "        [-4.5587e-07-2.9958e-06j, -9.4984e-07-7.5627e-06j],\n",
      "        [-7.7997e-04+4.1095e-04j, -1.0881e-03+2.1391e-03j]],\n",
      "       grad_fn=<MmBackward0>)\n"
     ]
    }
   ],
   "execution_count": 60
  },
  {
   "metadata": {
    "ExecuteTime": {
     "end_time": "2025-07-09T18:21:38.632379Z",
     "start_time": "2025-07-09T18:21:38.611232Z"
    }
   },
   "cell_type": "code",
   "source": "model_summary(wire_finer_model, input_size=(1, 2))",
   "id": "c7f02c0e0ebeb7f2",
   "outputs": [
    {
     "name": "stdout",
     "output_type": "stream",
     "text": [
      "===============================================================================================\n",
      "Layer (type:depth-idx)                        Output Shape              Param #\n",
      "===============================================================================================\n",
      "WireFinerModel                                [1, 2]                    --\n",
      "├─SphericalFourierFeatureTransform: 1-1       [1, 440]                  --\n",
      "├─Sequential: 1-2                             [1, 2]                    --\n",
      "│    └─WireFinerLayer: 2-1                    [1, 512]                  --\n",
      "│    │    └─Linear: 3-1                       [1, 512]                  225,792\n",
      "│    │    └─wire_activation: 3-2              [1, 512]                  --\n",
      "│    └─WireFinerLayer: 2-2                    [1, 512]                  --\n",
      "│    │    └─Linear: 3-3                       [1, 512]                  262,656\n",
      "│    │    └─wire_activation: 3-4              [1, 512]                  --\n",
      "│    └─WireFinerLayer: 2-3                    [1, 512]                  --\n",
      "│    │    └─Linear: 3-5                       [1, 512]                  262,656\n",
      "│    │    └─wire_activation: 3-6              [1, 512]                  --\n",
      "│    └─WireFinerLayer: 2-4                    [1, 512]                  --\n",
      "│    │    └─Linear: 3-7                       [1, 512]                  262,656\n",
      "│    │    └─wire_activation: 3-8              [1, 512]                  --\n",
      "│    └─WireFinerLayer: 2-5                    [1, 512]                  --\n",
      "│    │    └─Linear: 3-9                       [1, 512]                  262,656\n",
      "│    │    └─wire_activation: 3-10             [1, 512]                  --\n",
      "│    └─WireFinerLayer: 2-6                    [1, 512]                  --\n",
      "│    │    └─Linear: 3-11                      [1, 512]                  262,656\n",
      "│    │    └─wire_activation: 3-12             [1, 512]                  --\n",
      "│    └─Linear: 2-7                            [1, 2]                    1,024\n",
      "===============================================================================================\n",
      "Total params: 1,540,096\n",
      "Trainable params: 1,540,096\n",
      "Non-trainable params: 0\n",
      "Total mult-adds (Units.MEGABYTES): 1.54\n",
      "===============================================================================================\n",
      "Input size (MB): 0.00\n",
      "Forward/backward pass size (MB): 0.05\n",
      "Params size (MB): 11.42\n",
      "Estimated Total Size (MB): 11.46\n",
      "===============================================================================================\n"
     ]
    }
   ],
   "execution_count": 61
  },
  {
   "metadata": {
    "ExecuteTime": {
     "end_time": "2025-07-09T18:24:05.050807Z",
     "start_time": "2025-07-09T18:24:04.992376Z"
    }
   },
   "cell_type": "code",
   "source": [
    "wire_finer_residual_model = WireFinerModel(\n",
    "    in_features=2,\n",
    "    out_features=2,\n",
    "    hidden_features=1024,\n",
    "    hidden_layers = 1, \n",
    "    scale_wire=100.0,\n",
    "    omega=100.0,\n",
    "    omega_f=2.5,\n",
    "    bias=True,\n",
    "    first_k=2,\n",
    "    hidden_k=2,\n",
    "    residual_net=True,\n",
    "    encoding='dfs',\n",
    "    r_min=0.001,\n",
    "    r_max=1.0,\n",
    "    scale=[10, 10]\n",
    ")"
   ],
   "id": "6759101ec5832d50",
   "outputs": [],
   "execution_count": 69
  },
  {
   "metadata": {
    "ExecuteTime": {
     "end_time": "2025-07-09T18:24:06.604683Z",
     "start_time": "2025-07-09T18:24:06.585709Z"
    }
   },
   "cell_type": "code",
   "source": "output = wire_finer_residual_model(x_dummy)",
   "id": "47b3f3458c18813b",
   "outputs": [],
   "execution_count": 70
  },
  {
   "metadata": {
    "ExecuteTime": {
     "end_time": "2025-07-09T18:24:08.005743Z",
     "start_time": "2025-07-09T18:24:07.997136Z"
    }
   },
   "cell_type": "code",
   "source": [
    "print(\"Input:\")\n",
    "print(x_dummy)\n",
    "print(\"Output:\")\n",
    "print(output)"
   ],
   "id": "c357c2d0cf6b12a5",
   "outputs": [
    {
     "name": "stdout",
     "output_type": "stream",
     "text": [
      "Input:\n",
      "tensor([[ 90., 180.],\n",
      "        [-90., 180.],\n",
      "        [ 90., 180.],\n",
      "        [  0., 180.]])\n",
      "Output:\n",
      "tensor([[1.7277e-07-1.6342e-07j, 1.9448e-07-9.8188e-08j],\n",
      "        [3.0787e-07-2.5269e-07j, 3.3647e-07-1.4116e-07j],\n",
      "        [1.7277e-07-1.6342e-07j, 1.9448e-07-9.8188e-08j],\n",
      "        [1.7282e-07-1.6346e-07j, 1.9454e-07-9.8209e-08j]],\n",
      "       grad_fn=<MmBackward0>)\n"
     ]
    }
   ],
   "execution_count": 71
  },
  {
   "metadata": {
    "ExecuteTime": {
     "end_time": "2025-07-09T18:21:39.031611Z",
     "start_time": "2025-07-09T18:21:39.018600Z"
    }
   },
   "cell_type": "code",
   "source": "model_summary(wire_finer_residual_model, input_size=(1, 2))",
   "id": "eb7ef88227469576",
   "outputs": [
    {
     "name": "stdout",
     "output_type": "stream",
     "text": [
      "===============================================================================================\n",
      "Layer (type:depth-idx)                        Output Shape              Param #\n",
      "===============================================================================================\n",
      "WireFinerModel                                [1, 2]                    --\n",
      "├─SphericalFourierFeatureTransform: 1-1       [1, 440]                  --\n",
      "├─Sequential: 1-2                             [1, 2]                    --\n",
      "│    └─WireFinerLayer: 2-1                    [1, 128]                  --\n",
      "│    │    └─Linear: 3-1                       [1, 128]                  56,448\n",
      "│    │    └─wire_activation: 3-2              [1, 128]                  --\n",
      "│    └─WireFinerResidualLayer: 2-2            [1, 128]                  --\n",
      "│    │    └─Linear: 3-3                       [1, 128]                  16,512\n",
      "│    │    └─wire_activation: 3-4              [1, 128]                  --\n",
      "│    │    └─Linear: 3-5                       [1, 128]                  16,512\n",
      "│    │    └─wire_activation: 3-6              [1, 128]                  --\n",
      "│    └─Linear: 2-3                            [1, 2]                    256\n",
      "===============================================================================================\n",
      "Total params: 89,728\n",
      "Trainable params: 89,728\n",
      "Non-trainable params: 0\n",
      "Total mult-adds (Units.MEGABYTES): 0.09\n",
      "===============================================================================================\n",
      "Input size (MB): 0.00\n",
      "Forward/backward pass size (MB): 0.01\n",
      "Params size (MB): 0.49\n",
      "Estimated Total Size (MB): 0.50\n",
      "===============================================================================================\n"
     ]
    }
   ],
   "execution_count": 65
  },
  {
   "metadata": {
    "ExecuteTime": {
     "end_time": "2025-07-09T18:21:39.053253Z",
     "start_time": "2025-07-09T18:21:39.050051Z"
    }
   },
   "cell_type": "code",
   "source": "",
   "id": "ecc2ab29e41daefe",
   "outputs": [],
   "execution_count": null
  },
  {
   "metadata": {
    "ExecuteTime": {
     "end_time": "2025-07-09T18:21:39.072336Z",
     "start_time": "2025-07-09T18:21:39.069437Z"
    }
   },
   "cell_type": "code",
   "source": "",
   "id": "c55709a1f00f4a0c",
   "outputs": [],
   "execution_count": null
  },
  {
   "metadata": {
    "ExecuteTime": {
     "end_time": "2025-07-09T18:21:39.093128Z",
     "start_time": "2025-07-09T18:21:39.089889Z"
    }
   },
   "cell_type": "code",
   "source": "",
   "id": "413e8f2b1e7dce96",
   "outputs": [],
   "execution_count": null
  },
  {
   "metadata": {
    "ExecuteTime": {
     "end_time": "2025-07-09T18:21:39.111157Z",
     "start_time": "2025-07-09T18:21:39.107310Z"
    }
   },
   "cell_type": "code",
   "source": "",
   "id": "bb2f27ab49d412d",
   "outputs": [],
   "execution_count": null
  },
  {
   "metadata": {
    "ExecuteTime": {
     "end_time": "2025-07-09T18:21:39.130966Z",
     "start_time": "2025-07-09T18:21:39.127377Z"
    }
   },
   "cell_type": "code",
   "source": "",
   "id": "fff5b0ff440e3a2d",
   "outputs": [],
   "execution_count": null
  },
  {
   "metadata": {
    "ExecuteTime": {
     "end_time": "2025-07-09T18:21:39.150408Z",
     "start_time": "2025-07-09T18:21:39.147494Z"
    }
   },
   "cell_type": "code",
   "source": "",
   "id": "7dbfad97f8f89743",
   "outputs": [],
   "execution_count": null
  }
 ],
 "metadata": {
  "kernelspec": {
   "display_name": "Python (worldclim)",
   "language": "python",
   "name": "worldclim"
  },
  "language_info": {
   "codemirror_mode": {
    "name": "ipython",
    "version": 2
   },
   "file_extension": ".py",
   "mimetype": "text/x-python",
   "name": "python",
   "nbconvert_exporter": "python",
   "pygments_lexer": "ipython2",
   "version": "2.7.6"
  }
 },
 "nbformat": 4,
 "nbformat_minor": 5
}
