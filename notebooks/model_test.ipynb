{
 "cells": [
  {
   "metadata": {
    "ExecuteTime": {
     "end_time": "2025-07-10T18:35:25.012575Z",
     "start_time": "2025-07-10T18:35:23.005348Z"
    }
   },
   "cell_type": "code",
   "source": [
    "import torch\n",
    "from helpers import model_summary\n",
    "x_dummy = torch.tensor([[90.0, 180.0],\n",
    "                        [-90.0,180.0],\n",
    "                        [90.0,180.0],\n",
    "                        [0.0, 180.0]])"
   ],
   "id": "8f91803098cae9cd",
   "outputs": [],
   "execution_count": 1
  },
  {
   "metadata": {
    "ExecuteTime": {
     "end_time": "2025-07-10T18:35:25.028425Z",
     "start_time": "2025-07-10T18:35:25.022099Z"
    }
   },
   "cell_type": "code",
   "source": "print(x_dummy)",
   "id": "9263cde0899d221f",
   "outputs": [
    {
     "name": "stdout",
     "output_type": "stream",
     "text": [
      "tensor([[ 90., 180.],\n",
      "        [-90., 180.],\n",
      "        [ 90., 180.],\n",
      "        [  0., 180.]])\n"
     ]
    }
   ],
   "execution_count": 2
  },
  {
   "metadata": {},
   "cell_type": "markdown",
   "source": "## SIREN and FINER MODEL",
   "id": "5e0fcc9793abb39f"
  },
  {
   "metadata": {
    "collapsed": true,
    "ExecuteTime": {
     "end_time": "2025-07-10T18:35:25.197359Z",
     "start_time": "2025-07-10T18:35:25.124187Z"
    }
   },
   "cell_type": "code",
   "source": "from models.implicit_neural_representations.inr_models.siren_model import SirenModel, FinerModel",
   "id": "initial_id",
   "outputs": [],
   "execution_count": 3
  },
  {
   "metadata": {
    "ExecuteTime": {
     "end_time": "2025-07-10T18:35:25.217896Z",
     "start_time": "2025-07-10T18:35:25.202766Z"
    }
   },
   "cell_type": "code",
   "source": [
    "# initialize siren model without residual layers\n",
    "siren_model = SirenModel(\n",
    "    in_features=2,\n",
    "    out_features=2,\n",
    "    hidden_layers=5,\n",
    "    hidden_features=512,\n",
    "    first_omega_0=30.0,\n",
    "    hidden_omega_0=30.0,\n",
    "    dropout=0.1,\n",
    "    residual_net=False,\n",
    "    encoding='dfs',\n",
    "    r_min=0.001,\n",
    "    r_max=1.0,\n",
    "    scale=[10, 10]\n",
    ")"
   ],
   "id": "1351d587cbfe65fd",
   "outputs": [],
   "execution_count": 4
  },
  {
   "metadata": {
    "ExecuteTime": {
     "end_time": "2025-07-10T18:35:25.231572Z",
     "start_time": "2025-07-10T18:35:25.223422Z"
    }
   },
   "cell_type": "code",
   "source": "output = siren_model(x_dummy)",
   "id": "b8b6be995c71318e",
   "outputs": [],
   "execution_count": 5
  },
  {
   "metadata": {
    "ExecuteTime": {
     "end_time": "2025-07-10T18:35:25.242294Z",
     "start_time": "2025-07-10T18:35:25.239248Z"
    }
   },
   "cell_type": "code",
   "source": [
    "# Print input and output\n",
    "print(\"Input:\")\n",
    "print(x_dummy)\n",
    "print(\"Output:\")\n",
    "print(output)"
   ],
   "id": "5e5969588e434a48",
   "outputs": [
    {
     "name": "stdout",
     "output_type": "stream",
     "text": [
      "Input:\n",
      "tensor([[ 90., 180.],\n",
      "        [-90., 180.],\n",
      "        [ 90., 180.],\n",
      "        [  0., 180.]])\n",
      "Output:\n",
      "tensor([[ 0.0152,  0.0612],\n",
      "        [-0.0380, -0.0200],\n",
      "        [ 0.0101, -0.0042],\n",
      "        [-0.0653,  0.1012]], grad_fn=<MmBackward0>)\n"
     ]
    }
   ],
   "execution_count": 6
  },
  {
   "metadata": {
    "ExecuteTime": {
     "end_time": "2025-07-10T18:35:25.276094Z",
     "start_time": "2025-07-10T18:35:25.267286Z"
    }
   },
   "cell_type": "code",
   "source": "model_summary(siren_model, input_size=(1, 2))",
   "id": "f6320330e3fb33d",
   "outputs": [
    {
     "name": "stdout",
     "output_type": "stream",
     "text": [
      "===============================================================================================\n",
      "Layer (type:depth-idx)                        Output Shape              Param #\n",
      "===============================================================================================\n",
      "SirenModel                                    [1, 2]                    --\n",
      "├─SphericalFourierFeatureTransform: 1-1       [1, 440]                  --\n",
      "├─Sequential: 1-2                             [1, 2]                    --\n",
      "│    └─SirenLayer: 2-1                        [1, 512]                  --\n",
      "│    │    └─Linear: 3-1                       [1, 512]                  225,792\n",
      "│    │    └─siren_activation: 3-2             [1, 512]                  --\n",
      "│    │    └─Identity: 3-3                     [1, 512]                  --\n",
      "│    └─SirenLayer: 2-2                        [1, 512]                  --\n",
      "│    │    └─Linear: 3-4                       [1, 512]                  262,656\n",
      "│    │    └─siren_activation: 3-5             [1, 512]                  --\n",
      "│    │    └─Dropout: 3-6                      [1, 512]                  --\n",
      "│    └─SirenLayer: 2-3                        [1, 512]                  --\n",
      "│    │    └─Linear: 3-7                       [1, 512]                  262,656\n",
      "│    │    └─siren_activation: 3-8             [1, 512]                  --\n",
      "│    │    └─Dropout: 3-9                      [1, 512]                  --\n",
      "│    └─SirenLayer: 2-4                        [1, 512]                  --\n",
      "│    │    └─Linear: 3-10                      [1, 512]                  262,656\n",
      "│    │    └─siren_activation: 3-11            [1, 512]                  --\n",
      "│    │    └─Dropout: 3-12                     [1, 512]                  --\n",
      "│    └─SirenLayer: 2-5                        [1, 512]                  --\n",
      "│    │    └─Linear: 3-13                      [1, 512]                  262,656\n",
      "│    │    └─siren_activation: 3-14            [1, 512]                  --\n",
      "│    │    └─Dropout: 3-15                     [1, 512]                  --\n",
      "│    └─SirenLayer: 2-6                        [1, 512]                  --\n",
      "│    │    └─Linear: 3-16                      [1, 512]                  262,656\n",
      "│    │    └─siren_activation: 3-17            [1, 512]                  --\n",
      "│    │    └─Dropout: 3-18                     [1, 512]                  --\n",
      "│    └─Linear: 2-7                            [1, 2]                    1,024\n",
      "===============================================================================================\n",
      "Total params: 1,540,096\n",
      "Trainable params: 1,540,096\n",
      "Non-trainable params: 0\n",
      "Total mult-adds (Units.MEGABYTES): 1.54\n",
      "===============================================================================================\n",
      "Input size (MB): 0.00\n",
      "Forward/backward pass size (MB): 0.02\n",
      "Params size (MB): 6.16\n",
      "Estimated Total Size (MB): 6.19\n",
      "===============================================================================================\n"
     ]
    }
   ],
   "execution_count": 7
  },
  {
   "metadata": {
    "ExecuteTime": {
     "end_time": "2025-07-10T18:35:25.312858Z",
     "start_time": "2025-07-10T18:35:25.306843Z"
    }
   },
   "cell_type": "code",
   "source": [
    "finer_model = FinerModel(\n",
    "    in_features=2,\n",
    "    out_features=2,\n",
    "    bias=True,\n",
    "    hidden_layers=5,\n",
    "    hidden_features=128,\n",
    "    first_omega_0=30.,\n",
    "    hidden_omega_0=30.,\n",
    "    first_k=10,\n",
    "    hidden_k=10,\n",
    "    dropout=0.1,\n",
    "    residual_net=False,\n",
    "    encoding='dfs',\n",
    "    r_min=0.001,\n",
    "    r_max=1.0,\n",
    "    scale=[10, 10]\n",
    ")"
   ],
   "id": "d10b5ab135cb770b",
   "outputs": [],
   "execution_count": 8
  },
  {
   "metadata": {
    "ExecuteTime": {
     "end_time": "2025-07-10T18:35:25.320312Z",
     "start_time": "2025-07-10T18:35:25.315864Z"
    }
   },
   "cell_type": "code",
   "source": "output = finer_model(x_dummy)",
   "id": "3cda3b4e3fd8068e",
   "outputs": [],
   "execution_count": 9
  },
  {
   "metadata": {
    "ExecuteTime": {
     "end_time": "2025-07-10T18:35:25.330877Z",
     "start_time": "2025-07-10T18:35:25.327408Z"
    }
   },
   "cell_type": "code",
   "source": [
    "# Print input and output\n",
    "print(\"Input:\")\n",
    "print(x_dummy)\n",
    "print(\"Output:\")\n",
    "print(output)"
   ],
   "id": "d5ab8845c39a0e08",
   "outputs": [
    {
     "name": "stdout",
     "output_type": "stream",
     "text": [
      "Input:\n",
      "tensor([[ 90., 180.],\n",
      "        [-90., 180.],\n",
      "        [ 90., 180.],\n",
      "        [  0., 180.]])\n",
      "Output:\n",
      "tensor([[ 0.0051,  0.0128],\n",
      "        [-0.0384, -0.0114],\n",
      "        [-0.0415,  0.0118],\n",
      "        [ 0.0034,  0.0263]], grad_fn=<MmBackward0>)\n"
     ]
    }
   ],
   "execution_count": 10
  },
  {
   "metadata": {
    "ExecuteTime": {
     "end_time": "2025-07-10T18:35:25.359583Z",
     "start_time": "2025-07-10T18:35:25.351580Z"
    }
   },
   "cell_type": "code",
   "source": "model_summary(finer_model, input_size=(1, 2))",
   "id": "ed0dfd6ffc9a7f8b",
   "outputs": [
    {
     "name": "stdout",
     "output_type": "stream",
     "text": [
      "===============================================================================================\n",
      "Layer (type:depth-idx)                        Output Shape              Param #\n",
      "===============================================================================================\n",
      "FinerModel                                    [1, 2]                    --\n",
      "├─SphericalFourierFeatureTransform: 1-1       [1, 440]                  --\n",
      "├─Sequential: 1-2                             [1, 2]                    --\n",
      "│    └─FinerLayer: 2-1                        [1, 128]                  --\n",
      "│    │    └─Linear: 3-1                       [1, 128]                  56,448\n",
      "│    │    └─siren_activation: 3-2             [1, 128]                  --\n",
      "│    │    └─Identity: 3-3                     [1, 128]                  --\n",
      "│    └─FinerLayer: 2-2                        [1, 128]                  --\n",
      "│    │    └─Linear: 3-4                       [1, 128]                  16,512\n",
      "│    │    └─siren_activation: 3-5             [1, 128]                  --\n",
      "│    │    └─Dropout: 3-6                      [1, 128]                  --\n",
      "│    └─FinerLayer: 2-3                        [1, 128]                  --\n",
      "│    │    └─Linear: 3-7                       [1, 128]                  16,512\n",
      "│    │    └─siren_activation: 3-8             [1, 128]                  --\n",
      "│    │    └─Dropout: 3-9                      [1, 128]                  --\n",
      "│    └─FinerLayer: 2-4                        [1, 128]                  --\n",
      "│    │    └─Linear: 3-10                      [1, 128]                  16,512\n",
      "│    │    └─siren_activation: 3-11            [1, 128]                  --\n",
      "│    │    └─Dropout: 3-12                     [1, 128]                  --\n",
      "│    └─FinerLayer: 2-5                        [1, 128]                  --\n",
      "│    │    └─Linear: 3-13                      [1, 128]                  16,512\n",
      "│    │    └─siren_activation: 3-14            [1, 128]                  --\n",
      "│    │    └─Dropout: 3-15                     [1, 128]                  --\n",
      "│    └─FinerLayer: 2-6                        [1, 128]                  --\n",
      "│    │    └─Linear: 3-16                      [1, 128]                  16,512\n",
      "│    │    └─siren_activation: 3-17            [1, 128]                  --\n",
      "│    │    └─Dropout: 3-18                     [1, 128]                  --\n",
      "│    └─Linear: 2-7                            [1, 2]                    256\n",
      "===============================================================================================\n",
      "Total params: 139,264\n",
      "Trainable params: 139,264\n",
      "Non-trainable params: 0\n",
      "Total mult-adds (Units.MEGABYTES): 0.14\n",
      "===============================================================================================\n",
      "Input size (MB): 0.00\n",
      "Forward/backward pass size (MB): 0.01\n",
      "Params size (MB): 0.56\n",
      "Estimated Total Size (MB): 0.56\n",
      "===============================================================================================\n"
     ]
    }
   ],
   "execution_count": 11
  },
  {
   "metadata": {
    "ExecuteTime": {
     "end_time": "2025-07-10T18:35:25.397154Z",
     "start_time": "2025-07-10T18:35:25.378096Z"
    }
   },
   "cell_type": "code",
   "source": [
    "siren_residual_model = SirenModel(\n",
    "    in_features=2,\n",
    "    out_features=2,\n",
    "    hidden_layers=5,\n",
    "    hidden_features=512,\n",
    "    first_omega_0=30.0,\n",
    "    hidden_omega_0=30.0,\n",
    "    dropout=0.1,\n",
    "    residual_net=True,\n",
    "    encoding='dfs',\n",
    "    r_min=0.001,\n",
    "    r_max=1.0,\n",
    "    scale=[10, 10]\n",
    ")"
   ],
   "id": "ce4ad6f79b9f0daf",
   "outputs": [],
   "execution_count": 12
  },
  {
   "metadata": {
    "ExecuteTime": {
     "end_time": "2025-07-10T18:35:25.412485Z",
     "start_time": "2025-07-10T18:35:25.403182Z"
    }
   },
   "cell_type": "code",
   "source": "output = siren_residual_model(x_dummy)",
   "id": "ffcc799028eefe3c",
   "outputs": [],
   "execution_count": 13
  },
  {
   "metadata": {
    "ExecuteTime": {
     "end_time": "2025-07-10T18:35:25.423490Z",
     "start_time": "2025-07-10T18:35:25.419392Z"
    }
   },
   "cell_type": "code",
   "source": [
    "# Print input and output\n",
    "print(\"Input:\")\n",
    "print(x_dummy)\n",
    "print(\"Output:\")\n",
    "print(output)"
   ],
   "id": "ef89bf21830f6054",
   "outputs": [
    {
     "name": "stdout",
     "output_type": "stream",
     "text": [
      "Input:\n",
      "tensor([[ 90., 180.],\n",
      "        [-90., 180.],\n",
      "        [ 90., 180.],\n",
      "        [  0., 180.]])\n",
      "Output:\n",
      "tensor([[ 0.0172, -0.0098],\n",
      "        [-0.0774, -0.0706],\n",
      "        [ 0.0803,  0.0312],\n",
      "        [-0.0602,  0.0245]], grad_fn=<MmBackward0>)\n"
     ]
    }
   ],
   "execution_count": 14
  },
  {
   "metadata": {
    "ExecuteTime": {
     "end_time": "2025-07-10T18:35:25.459849Z",
     "start_time": "2025-07-10T18:35:25.448455Z"
    }
   },
   "cell_type": "code",
   "source": "model_summary(siren_residual_model, input_size=(1, 2))",
   "id": "f1aa40bae8bfa0cb",
   "outputs": [
    {
     "name": "stdout",
     "output_type": "stream",
     "text": [
      "===============================================================================================\n",
      "Layer (type:depth-idx)                        Output Shape              Param #\n",
      "===============================================================================================\n",
      "SirenModel                                    [1, 2]                    --\n",
      "├─SphericalFourierFeatureTransform: 1-1       [1, 440]                  --\n",
      "├─Sequential: 1-2                             [1, 2]                    --\n",
      "│    └─SirenLayer: 2-1                        [1, 512]                  --\n",
      "│    │    └─Linear: 3-1                       [1, 512]                  225,792\n",
      "│    │    └─siren_activation: 3-2             [1, 512]                  --\n",
      "│    │    └─Identity: 3-3                     [1, 512]                  --\n",
      "│    └─SirenResidualLayer: 2-2                [1, 512]                  --\n",
      "│    │    └─Linear: 3-4                       [1, 512]                  262,656\n",
      "│    │    └─siren_activation: 3-5             [1, 512]                  --\n",
      "│    │    └─Linear: 3-6                       [1, 512]                  262,656\n",
      "│    │    └─siren_activation: 3-7             [1, 512]                  --\n",
      "│    │    └─Dropout: 3-8                      [1, 512]                  --\n",
      "│    └─SirenResidualLayer: 2-3                [1, 512]                  --\n",
      "│    │    └─Linear: 3-9                       [1, 512]                  262,656\n",
      "│    │    └─siren_activation: 3-10            [1, 512]                  --\n",
      "│    │    └─Linear: 3-11                      [1, 512]                  262,656\n",
      "│    │    └─siren_activation: 3-12            [1, 512]                  --\n",
      "│    │    └─Dropout: 3-13                     [1, 512]                  --\n",
      "│    └─SirenResidualLayer: 2-4                [1, 512]                  --\n",
      "│    │    └─Linear: 3-14                      [1, 512]                  262,656\n",
      "│    │    └─siren_activation: 3-15            [1, 512]                  --\n",
      "│    │    └─Linear: 3-16                      [1, 512]                  262,656\n",
      "│    │    └─siren_activation: 3-17            [1, 512]                  --\n",
      "│    │    └─Dropout: 3-18                     [1, 512]                  --\n",
      "│    └─SirenResidualLayer: 2-5                [1, 512]                  --\n",
      "│    │    └─Linear: 3-19                      [1, 512]                  262,656\n",
      "│    │    └─siren_activation: 3-20            [1, 512]                  --\n",
      "│    │    └─Linear: 3-21                      [1, 512]                  262,656\n",
      "│    │    └─siren_activation: 3-22            [1, 512]                  --\n",
      "│    │    └─Dropout: 3-23                     [1, 512]                  --\n",
      "│    └─SirenResidualLayer: 2-6                [1, 512]                  --\n",
      "│    │    └─Linear: 3-24                      [1, 512]                  262,656\n",
      "│    │    └─siren_activation: 3-25            [1, 512]                  --\n",
      "│    │    └─Linear: 3-26                      [1, 512]                  262,656\n",
      "│    │    └─siren_activation: 3-27            [1, 512]                  --\n",
      "│    │    └─Dropout: 3-28                     [1, 512]                  --\n",
      "│    └─Linear: 2-7                            [1, 2]                    1,024\n",
      "===============================================================================================\n",
      "Total params: 2,853,376\n",
      "Trainable params: 2,853,376\n",
      "Non-trainable params: 0\n",
      "Total mult-adds (Units.MEGABYTES): 2.85\n",
      "===============================================================================================\n",
      "Input size (MB): 0.00\n",
      "Forward/backward pass size (MB): 0.05\n",
      "Params size (MB): 11.41\n",
      "Estimated Total Size (MB): 11.46\n",
      "===============================================================================================\n"
     ]
    }
   ],
   "execution_count": 15
  },
  {
   "metadata": {
    "ExecuteTime": {
     "end_time": "2025-07-10T18:35:25.481746Z",
     "start_time": "2025-07-10T18:35:25.475257Z"
    }
   },
   "cell_type": "code",
   "source": [
    "finer_residual_model = FinerModel( \n",
    "    in_features=2,\n",
    "    out_features=2,\n",
    "    bias=True,\n",
    "    hidden_layers=5,\n",
    "    hidden_features=128,\n",
    "    first_omega_0=30.,\n",
    "    hidden_omega_0=30.,\n",
    "    first_k=10,\n",
    "    hidden_k=10,\n",
    "    dropout=0.1,\n",
    "    residual_net=True,\n",
    "    encoding='dfs',\n",
    "    r_min=0.001,\n",
    "    r_max=1.0,\n",
    "    scale=[10, 10]\n",
    ")"
   ],
   "id": "1b815d502c6cbd92",
   "outputs": [],
   "execution_count": 16
  },
  {
   "metadata": {
    "ExecuteTime": {
     "end_time": "2025-07-10T18:35:25.493957Z",
     "start_time": "2025-07-10T18:35:25.488780Z"
    }
   },
   "cell_type": "code",
   "source": "output = finer_residual_model(x_dummy)",
   "id": "2052922e4f26d50b",
   "outputs": [],
   "execution_count": 17
  },
  {
   "metadata": {
    "ExecuteTime": {
     "end_time": "2025-07-10T18:35:25.505404Z",
     "start_time": "2025-07-10T18:35:25.501474Z"
    }
   },
   "cell_type": "code",
   "source": [
    "# Print input and output\n",
    "print(\"Input:\")\n",
    "print(x_dummy)\n",
    "print(\"Output:\")\n",
    "print(output)"
   ],
   "id": "1ade6f5941e980f7",
   "outputs": [
    {
     "name": "stdout",
     "output_type": "stream",
     "text": [
      "Input:\n",
      "tensor([[ 90., 180.],\n",
      "        [-90., 180.],\n",
      "        [ 90., 180.],\n",
      "        [  0., 180.]])\n",
      "Output:\n",
      "tensor([[ 0.0013, -0.0907],\n",
      "        [ 0.0318,  0.0336],\n",
      "        [-0.0539, -0.0096],\n",
      "        [ 0.0213,  0.0025]], grad_fn=<MmBackward0>)\n"
     ]
    }
   ],
   "execution_count": 18
  },
  {
   "metadata": {
    "ExecuteTime": {
     "end_time": "2025-07-10T18:35:25.534820Z",
     "start_time": "2025-07-10T18:35:25.524040Z"
    }
   },
   "cell_type": "code",
   "source": "model_summary(finer_residual_model, input_size=(1, 2))",
   "id": "b6467d01c01379de",
   "outputs": [
    {
     "name": "stdout",
     "output_type": "stream",
     "text": [
      "===============================================================================================\n",
      "Layer (type:depth-idx)                        Output Shape              Param #\n",
      "===============================================================================================\n",
      "FinerModel                                    [1, 2]                    --\n",
      "├─SphericalFourierFeatureTransform: 1-1       [1, 440]                  --\n",
      "├─Sequential: 1-2                             [1, 2]                    --\n",
      "│    └─FinerLayer: 2-1                        [1, 128]                  --\n",
      "│    │    └─Linear: 3-1                       [1, 128]                  56,448\n",
      "│    │    └─siren_activation: 3-2             [1, 128]                  --\n",
      "│    │    └─Identity: 3-3                     [1, 128]                  --\n",
      "│    └─FinerResidualLayer: 2-2                [1, 128]                  --\n",
      "│    │    └─Linear: 3-4                       [1, 128]                  16,512\n",
      "│    │    └─siren_activation: 3-5             [1, 128]                  --\n",
      "│    │    └─Linear: 3-6                       [1, 128]                  16,512\n",
      "│    │    └─siren_activation: 3-7             [1, 128]                  --\n",
      "│    │    └─Dropout: 3-8                      [1, 128]                  --\n",
      "│    └─FinerResidualLayer: 2-3                [1, 128]                  --\n",
      "│    │    └─Linear: 3-9                       [1, 128]                  16,512\n",
      "│    │    └─siren_activation: 3-10            [1, 128]                  --\n",
      "│    │    └─Linear: 3-11                      [1, 128]                  16,512\n",
      "│    │    └─siren_activation: 3-12            [1, 128]                  --\n",
      "│    │    └─Dropout: 3-13                     [1, 128]                  --\n",
      "│    └─FinerResidualLayer: 2-4                [1, 128]                  --\n",
      "│    │    └─Linear: 3-14                      [1, 128]                  16,512\n",
      "│    │    └─siren_activation: 3-15            [1, 128]                  --\n",
      "│    │    └─Linear: 3-16                      [1, 128]                  16,512\n",
      "│    │    └─siren_activation: 3-17            [1, 128]                  --\n",
      "│    │    └─Dropout: 3-18                     [1, 128]                  --\n",
      "│    └─FinerResidualLayer: 2-5                [1, 128]                  --\n",
      "│    │    └─Linear: 3-19                      [1, 128]                  16,512\n",
      "│    │    └─siren_activation: 3-20            [1, 128]                  --\n",
      "│    │    └─Linear: 3-21                      [1, 128]                  16,512\n",
      "│    │    └─siren_activation: 3-22            [1, 128]                  --\n",
      "│    │    └─Dropout: 3-23                     [1, 128]                  --\n",
      "│    └─FinerResidualLayer: 2-6                [1, 128]                  --\n",
      "│    │    └─Linear: 3-24                      [1, 128]                  16,512\n",
      "│    │    └─siren_activation: 3-25            [1, 128]                  --\n",
      "│    │    └─Linear: 3-26                      [1, 128]                  16,512\n",
      "│    │    └─siren_activation: 3-27            [1, 128]                  --\n",
      "│    │    └─Dropout: 3-28                     [1, 128]                  --\n",
      "│    └─Linear: 2-7                            [1, 2]                    256\n",
      "===============================================================================================\n",
      "Total params: 221,824\n",
      "Trainable params: 221,824\n",
      "Non-trainable params: 0\n",
      "Total mult-adds (Units.MEGABYTES): 0.22\n",
      "===============================================================================================\n",
      "Input size (MB): 0.00\n",
      "Forward/backward pass size (MB): 0.01\n",
      "Params size (MB): 0.89\n",
      "Estimated Total Size (MB): 0.90\n",
      "===============================================================================================\n"
     ]
    }
   ],
   "execution_count": 19
  },
  {
   "metadata": {},
   "cell_type": "markdown",
   "source": "## Gaussian Model and Finer Gaussian",
   "id": "14d8e2a41e4fbc36"
  },
  {
   "metadata": {
    "ExecuteTime": {
     "end_time": "2025-07-10T18:35:25.554240Z",
     "start_time": "2025-07-10T18:35:25.549237Z"
    }
   },
   "cell_type": "code",
   "source": "from models.implicit_neural_representations.inr_models.gaussian_model import GaussianModel, GaussianFinerModel",
   "id": "5d0cc6ed7f5663fa",
   "outputs": [],
   "execution_count": 20
  },
  {
   "metadata": {
    "ExecuteTime": {
     "end_time": "2025-07-10T18:35:25.571497Z",
     "start_time": "2025-07-10T18:35:25.559125Z"
    }
   },
   "cell_type": "code",
   "source": [
    "# initialize gaussian model without residual layers\n",
    "gaussian_model = GaussianModel(\n",
    "    in_features=2,\n",
    "    out_features=2,\n",
    "    hidden_layers=5,\n",
    "    hidden_features=512,\n",
    "    scale_gaussian=30.0,\n",
    "    weight_init=2.0,\n",
    "    bias_init=2.0,\n",
    "    dropout=0.1,\n",
    "    residual_net=False,\n",
    "    encoding='dfs',\n",
    "    r_min=0.001,\n",
    "    r_max=1.0,\n",
    "    scale=[10, 10]\n",
    ")"
   ],
   "id": "9419766ccc6c99a3",
   "outputs": [],
   "execution_count": 21
  },
  {
   "metadata": {
    "ExecuteTime": {
     "end_time": "2025-07-10T18:35:25.583493Z",
     "start_time": "2025-07-10T18:35:25.576666Z"
    }
   },
   "cell_type": "code",
   "source": "output = gaussian_model(x_dummy)",
   "id": "6f452b3e0af142e5",
   "outputs": [],
   "execution_count": 22
  },
  {
   "metadata": {
    "ExecuteTime": {
     "end_time": "2025-07-10T18:35:25.593535Z",
     "start_time": "2025-07-10T18:35:25.589065Z"
    }
   },
   "cell_type": "code",
   "source": [
    "# Print input and output\n",
    "print(\"Input:\")\n",
    "print(x_dummy)\n",
    "print(\"Output:\")\n",
    "print(output)"
   ],
   "id": "731c6834df07b74",
   "outputs": [
    {
     "name": "stdout",
     "output_type": "stream",
     "text": [
      "Input:\n",
      "tensor([[ 90., 180.],\n",
      "        [-90., 180.],\n",
      "        [ 90., 180.],\n",
      "        [  0., 180.]])\n",
      "Output:\n",
      "tensor([[-2.4421, -0.7985],\n",
      "        [ 1.3590,  0.6936],\n",
      "        [ 0.6545,  2.1849],\n",
      "        [-1.9516, -2.0635]], grad_fn=<MmBackward0>)\n"
     ]
    }
   ],
   "execution_count": 23
  },
  {
   "metadata": {
    "ExecuteTime": {
     "end_time": "2025-07-10T18:35:25.625450Z",
     "start_time": "2025-07-10T18:35:25.615909Z"
    }
   },
   "cell_type": "code",
   "source": "model_summary(gaussian_model, input_size=(1, 2))",
   "id": "f43f9c0c2cec68df",
   "outputs": [
    {
     "name": "stdout",
     "output_type": "stream",
     "text": [
      "===============================================================================================\n",
      "Layer (type:depth-idx)                        Output Shape              Param #\n",
      "===============================================================================================\n",
      "GaussianModel                                 [1, 2]                    --\n",
      "├─SphericalFourierFeatureTransform: 1-1       [1, 440]                  --\n",
      "├─Sequential: 1-2                             [1, 2]                    --\n",
      "│    └─GaussianLayer: 2-1                     [1, 512]                  --\n",
      "│    │    └─Linear: 3-1                       [1, 512]                  225,792\n",
      "│    │    └─gaussian_activation: 3-2          [1, 512]                  --\n",
      "│    │    └─Identity: 3-3                     [1, 512]                  --\n",
      "│    └─GaussianLayer: 2-2                     [1, 512]                  --\n",
      "│    │    └─Linear: 3-4                       [1, 512]                  262,656\n",
      "│    │    └─gaussian_activation: 3-5          [1, 512]                  --\n",
      "│    │    └─Dropout: 3-6                      [1, 512]                  --\n",
      "│    └─GaussianLayer: 2-3                     [1, 512]                  --\n",
      "│    │    └─Linear: 3-7                       [1, 512]                  262,656\n",
      "│    │    └─gaussian_activation: 3-8          [1, 512]                  --\n",
      "│    │    └─Dropout: 3-9                      [1, 512]                  --\n",
      "│    └─GaussianLayer: 2-4                     [1, 512]                  --\n",
      "│    │    └─Linear: 3-10                      [1, 512]                  262,656\n",
      "│    │    └─gaussian_activation: 3-11         [1, 512]                  --\n",
      "│    │    └─Dropout: 3-12                     [1, 512]                  --\n",
      "│    └─GaussianLayer: 2-5                     [1, 512]                  --\n",
      "│    │    └─Linear: 3-13                      [1, 512]                  262,656\n",
      "│    │    └─gaussian_activation: 3-14         [1, 512]                  --\n",
      "│    │    └─Dropout: 3-15                     [1, 512]                  --\n",
      "│    └─GaussianLayer: 2-6                     [1, 512]                  --\n",
      "│    │    └─Linear: 3-16                      [1, 512]                  262,656\n",
      "│    │    └─gaussian_activation: 3-17         [1, 512]                  --\n",
      "│    │    └─Dropout: 3-18                     [1, 512]                  --\n",
      "│    └─Linear: 2-7                            [1, 2]                    1,024\n",
      "===============================================================================================\n",
      "Total params: 1,540,096\n",
      "Trainable params: 1,540,096\n",
      "Non-trainable params: 0\n",
      "Total mult-adds (Units.MEGABYTES): 1.54\n",
      "===============================================================================================\n",
      "Input size (MB): 0.00\n",
      "Forward/backward pass size (MB): 0.02\n",
      "Params size (MB): 6.16\n",
      "Estimated Total Size (MB): 6.19\n",
      "===============================================================================================\n"
     ]
    }
   ],
   "execution_count": 24
  },
  {
   "metadata": {
    "ExecuteTime": {
     "end_time": "2025-07-10T18:35:25.663733Z",
     "start_time": "2025-07-10T18:35:25.644684Z"
    }
   },
   "cell_type": "code",
   "source": [
    "gaussian_residual_model = GaussianModel(\n",
    "    in_features=2,\n",
    "    out_features=2,\n",
    "    hidden_layers=5,\n",
    "    hidden_features=512,\n",
    "    scale_gaussian=30.0,\n",
    "    weight_init=0.1,\n",
    "    dropout=0.1,\n",
    "    residual_net=True,\n",
    "    encoding='dfs',\n",
    "    r_min=0.001,\n",
    "    r_max=1.0,\n",
    "    scale=[10, 10]\n",
    ")"
   ],
   "id": "77574003ab24e637",
   "outputs": [],
   "execution_count": 25
  },
  {
   "metadata": {
    "ExecuteTime": {
     "end_time": "2025-07-10T18:35:25.678722Z",
     "start_time": "2025-07-10T18:35:25.669705Z"
    }
   },
   "cell_type": "code",
   "source": "output = gaussian_residual_model(x_dummy)",
   "id": "d6dedce5e6c4c2b8",
   "outputs": [],
   "execution_count": 26
  },
  {
   "metadata": {
    "ExecuteTime": {
     "end_time": "2025-07-10T18:35:25.691696Z",
     "start_time": "2025-07-10T18:35:25.688132Z"
    }
   },
   "cell_type": "code",
   "source": [
    "print(\"Input:\")\n",
    "print(x_dummy)\n",
    "print(\"Output:\")\n",
    "print(output)"
   ],
   "id": "96fad802bea59adc",
   "outputs": [
    {
     "name": "stdout",
     "output_type": "stream",
     "text": [
      "Input:\n",
      "tensor([[ 90., 180.],\n",
      "        [-90., 180.],\n",
      "        [ 90., 180.],\n",
      "        [  0., 180.]])\n",
      "Output:\n",
      "tensor([[ 0.0290, -0.5388],\n",
      "        [ 0.0094, -0.0884],\n",
      "        [ 0.0419,  0.0247],\n",
      "        [ 0.1025, -0.1655]], grad_fn=<MmBackward0>)\n"
     ]
    }
   ],
   "execution_count": 27
  },
  {
   "metadata": {
    "ExecuteTime": {
     "end_time": "2025-07-10T18:35:25.727507Z",
     "start_time": "2025-07-10T18:35:25.715012Z"
    }
   },
   "cell_type": "code",
   "source": "model_summary(gaussian_residual_model, input_size=(1, 2))",
   "id": "2dfdbee952212e29",
   "outputs": [
    {
     "name": "stdout",
     "output_type": "stream",
     "text": [
      "===============================================================================================\n",
      "Layer (type:depth-idx)                        Output Shape              Param #\n",
      "===============================================================================================\n",
      "GaussianModel                                 [1, 2]                    --\n",
      "├─SphericalFourierFeatureTransform: 1-1       [1, 440]                  --\n",
      "├─Sequential: 1-2                             [1, 2]                    --\n",
      "│    └─GaussianLayer: 2-1                     [1, 512]                  --\n",
      "│    │    └─Linear: 3-1                       [1, 512]                  225,792\n",
      "│    │    └─gaussian_activation: 3-2          [1, 512]                  --\n",
      "│    │    └─Identity: 3-3                     [1, 512]                  --\n",
      "│    └─GaussianResidualLayer: 2-2             [1, 512]                  --\n",
      "│    │    └─Linear: 3-4                       [1, 512]                  262,656\n",
      "│    │    └─gaussian_activation: 3-5          [1, 512]                  --\n",
      "│    │    └─Linear: 3-6                       [1, 512]                  262,656\n",
      "│    │    └─gaussian_activation: 3-7          [1, 512]                  --\n",
      "│    │    └─Dropout: 3-8                      [1, 512]                  --\n",
      "│    └─GaussianResidualLayer: 2-3             [1, 512]                  --\n",
      "│    │    └─Linear: 3-9                       [1, 512]                  262,656\n",
      "│    │    └─gaussian_activation: 3-10         [1, 512]                  --\n",
      "│    │    └─Linear: 3-11                      [1, 512]                  262,656\n",
      "│    │    └─gaussian_activation: 3-12         [1, 512]                  --\n",
      "│    │    └─Dropout: 3-13                     [1, 512]                  --\n",
      "│    └─GaussianResidualLayer: 2-4             [1, 512]                  --\n",
      "│    │    └─Linear: 3-14                      [1, 512]                  262,656\n",
      "│    │    └─gaussian_activation: 3-15         [1, 512]                  --\n",
      "│    │    └─Linear: 3-16                      [1, 512]                  262,656\n",
      "│    │    └─gaussian_activation: 3-17         [1, 512]                  --\n",
      "│    │    └─Dropout: 3-18                     [1, 512]                  --\n",
      "│    └─GaussianResidualLayer: 2-5             [1, 512]                  --\n",
      "│    │    └─Linear: 3-19                      [1, 512]                  262,656\n",
      "│    │    └─gaussian_activation: 3-20         [1, 512]                  --\n",
      "│    │    └─Linear: 3-21                      [1, 512]                  262,656\n",
      "│    │    └─gaussian_activation: 3-22         [1, 512]                  --\n",
      "│    │    └─Dropout: 3-23                     [1, 512]                  --\n",
      "│    └─GaussianResidualLayer: 2-6             [1, 512]                  --\n",
      "│    │    └─Linear: 3-24                      [1, 512]                  262,656\n",
      "│    │    └─gaussian_activation: 3-25         [1, 512]                  --\n",
      "│    │    └─Linear: 3-26                      [1, 512]                  262,656\n",
      "│    │    └─gaussian_activation: 3-27         [1, 512]                  --\n",
      "│    │    └─Dropout: 3-28                     [1, 512]                  --\n",
      "│    └─Linear: 2-7                            [1, 2]                    1,024\n",
      "===============================================================================================\n",
      "Total params: 2,853,376\n",
      "Trainable params: 2,853,376\n",
      "Non-trainable params: 0\n",
      "Total mult-adds (Units.MEGABYTES): 2.85\n",
      "===============================================================================================\n",
      "Input size (MB): 0.00\n",
      "Forward/backward pass size (MB): 0.05\n",
      "Params size (MB): 11.41\n",
      "Estimated Total Size (MB): 11.46\n",
      "===============================================================================================\n"
     ]
    }
   ],
   "execution_count": 28
  },
  {
   "metadata": {
    "ExecuteTime": {
     "end_time": "2025-07-10T18:35:25.755146Z",
     "start_time": "2025-07-10T18:35:25.749138Z"
    }
   },
   "cell_type": "code",
   "source": [
    "gaussian_finer_model = GaussianFinerModel(\n",
    "    in_features=2,\n",
    "    out_features=2,\n",
    "    scale_gaussian=20.0,\n",
    "    omega_f=1,\n",
    "    first_k=30,\n",
    "    hidden_k=30,\n",
    "    dropout=0.1,\n",
    "    residual_net=False,\n",
    "    encoding='dfs',\n",
    "    r_min=0.001,\n",
    "    r_max=1.0,\n",
    "    scale=[10, 10]\n",
    ")"
   ],
   "id": "15f75d9285f88d56",
   "outputs": [],
   "execution_count": 29
  },
  {
   "metadata": {
    "ExecuteTime": {
     "end_time": "2025-07-10T18:35:25.766627Z",
     "start_time": "2025-07-10T18:35:25.761164Z"
    }
   },
   "cell_type": "code",
   "source": "output = gaussian_finer_model(x_dummy)",
   "id": "fef55696294111fc",
   "outputs": [],
   "execution_count": 30
  },
  {
   "metadata": {
    "ExecuteTime": {
     "end_time": "2025-07-10T18:35:25.777608Z",
     "start_time": "2025-07-10T18:35:25.774246Z"
    }
   },
   "cell_type": "code",
   "source": [
    "print(\"Input:\")\n",
    "print(x_dummy)\n",
    "print(\"Output:\")\n",
    "print(output)"
   ],
   "id": "2f8dba4030255a98",
   "outputs": [
    {
     "name": "stdout",
     "output_type": "stream",
     "text": [
      "Input:\n",
      "tensor([[ 90., 180.],\n",
      "        [-90., 180.],\n",
      "        [ 90., 180.],\n",
      "        [  0., 180.]])\n",
      "Output:\n",
      "tensor([[ 0.2929, -0.0189],\n",
      "        [ 0.1909,  0.0904],\n",
      "        [-0.0579,  0.4307],\n",
      "        [ 0.0356,  0.1008]], grad_fn=<MmBackward0>)\n"
     ]
    }
   ],
   "execution_count": 31
  },
  {
   "metadata": {
    "ExecuteTime": {
     "end_time": "2025-07-10T18:35:25.808094Z",
     "start_time": "2025-07-10T18:35:25.799712Z"
    }
   },
   "cell_type": "code",
   "source": "model_summary(gaussian_finer_model, input_size=(1, 2))",
   "id": "93a19d70f8c96ae0",
   "outputs": [
    {
     "name": "stdout",
     "output_type": "stream",
     "text": [
      "===============================================================================================\n",
      "Layer (type:depth-idx)                        Output Shape              Param #\n",
      "===============================================================================================\n",
      "GaussianFinerModel                            [1, 2]                    --\n",
      "├─SphericalFourierFeatureTransform: 1-1       [1, 440]                  --\n",
      "├─Sequential: 1-2                             [1, 2]                    --\n",
      "│    └─GaussianFinerLayer: 2-1                [1, 128]                  --\n",
      "│    │    └─Linear: 3-1                       [1, 128]                  56,448\n",
      "│    │    └─gaussian_activation: 3-2          [1, 128]                  --\n",
      "│    │    └─Identity: 3-3                     [1, 128]                  --\n",
      "│    └─GaussianFinerLayer: 2-2                [1, 128]                  --\n",
      "│    │    └─Linear: 3-4                       [1, 128]                  16,512\n",
      "│    │    └─gaussian_activation: 3-5          [1, 128]                  --\n",
      "│    │    └─Dropout: 3-6                      [1, 128]                  --\n",
      "│    └─GaussianFinerLayer: 2-3                [1, 128]                  --\n",
      "│    │    └─Linear: 3-7                       [1, 128]                  16,512\n",
      "│    │    └─gaussian_activation: 3-8          [1, 128]                  --\n",
      "│    │    └─Dropout: 3-9                      [1, 128]                  --\n",
      "│    └─GaussianFinerLayer: 2-4                [1, 128]                  --\n",
      "│    │    └─Linear: 3-10                      [1, 128]                  16,512\n",
      "│    │    └─gaussian_activation: 3-11         [1, 128]                  --\n",
      "│    │    └─Dropout: 3-12                     [1, 128]                  --\n",
      "│    └─GaussianFinerLayer: 2-5                [1, 128]                  --\n",
      "│    │    └─Linear: 3-13                      [1, 128]                  16,512\n",
      "│    │    └─gaussian_activation: 3-14         [1, 128]                  --\n",
      "│    │    └─Dropout: 3-15                     [1, 128]                  --\n",
      "│    └─GaussianFinerLayer: 2-6                [1, 128]                  --\n",
      "│    │    └─Linear: 3-16                      [1, 128]                  16,512\n",
      "│    │    └─gaussian_activation: 3-17         [1, 128]                  --\n",
      "│    │    └─Dropout: 3-18                     [1, 128]                  --\n",
      "│    └─Linear: 2-7                            [1, 2]                    256\n",
      "===============================================================================================\n",
      "Total params: 139,264\n",
      "Trainable params: 139,264\n",
      "Non-trainable params: 0\n",
      "Total mult-adds (Units.MEGABYTES): 0.14\n",
      "===============================================================================================\n",
      "Input size (MB): 0.00\n",
      "Forward/backward pass size (MB): 0.01\n",
      "Params size (MB): 0.56\n",
      "Estimated Total Size (MB): 0.56\n",
      "===============================================================================================\n"
     ]
    }
   ],
   "execution_count": 32
  },
  {
   "metadata": {
    "ExecuteTime": {
     "end_time": "2025-07-10T18:35:25.823601Z",
     "start_time": "2025-07-10T18:35:25.817489Z"
    }
   },
   "cell_type": "code",
   "source": [
    "gaussian_finer_residual_model = GaussianFinerModel(\n",
    "    in_features=2,\n",
    "    out_features=2,\n",
    "    scale_gaussian=30.0,\n",
    "    omega_f=2.5,\n",
    "    first_k=1,\n",
    "    hidden_k=1,\n",
    "    dropout=0.1,\n",
    "    residual_net=True,\n",
    "    encoding='dfs',\n",
    "    r_min=0.001,\n",
    "    r_max=1.0,\n",
    "    scale=[10, 10]\n",
    ")"
   ],
   "id": "6dce263d2a0765b9",
   "outputs": [],
   "execution_count": 33
  },
  {
   "metadata": {
    "ExecuteTime": {
     "end_time": "2025-07-10T18:35:25.836897Z",
     "start_time": "2025-07-10T18:35:25.830802Z"
    }
   },
   "cell_type": "code",
   "source": "output = gaussian_finer_residual_model(x_dummy)",
   "id": "329de2f8c99c1a59",
   "outputs": [],
   "execution_count": 34
  },
  {
   "metadata": {
    "ExecuteTime": {
     "end_time": "2025-07-10T18:35:25.847117Z",
     "start_time": "2025-07-10T18:35:25.843794Z"
    }
   },
   "cell_type": "code",
   "source": [
    "print(\"Input:\")\n",
    "print(x_dummy)\n",
    "print(\"Output:\")\n",
    "print(output)"
   ],
   "id": "1e84596644ef36fc",
   "outputs": [
    {
     "name": "stdout",
     "output_type": "stream",
     "text": [
      "Input:\n",
      "tensor([[ 90., 180.],\n",
      "        [-90., 180.],\n",
      "        [ 90., 180.],\n",
      "        [  0., 180.]])\n",
      "Output:\n",
      "tensor([[-0.0482,  0.0326],\n",
      "        [ 0.0446,  0.1635],\n",
      "        [ 0.0327,  0.0728],\n",
      "        [-0.1105,  0.0579]], grad_fn=<MmBackward0>)\n"
     ]
    }
   ],
   "execution_count": 35
  },
  {
   "metadata": {
    "ExecuteTime": {
     "end_time": "2025-07-10T18:35:25.881135Z",
     "start_time": "2025-07-10T18:35:25.871004Z"
    }
   },
   "cell_type": "code",
   "source": "model_summary(gaussian_finer_residual_model, input_size=(1, 2))",
   "id": "a4df428b7e58a756",
   "outputs": [
    {
     "name": "stdout",
     "output_type": "stream",
     "text": [
      "===============================================================================================\n",
      "Layer (type:depth-idx)                        Output Shape              Param #\n",
      "===============================================================================================\n",
      "GaussianFinerModel                            [1, 2]                    --\n",
      "├─SphericalFourierFeatureTransform: 1-1       [1, 440]                  --\n",
      "├─Sequential: 1-2                             [1, 2]                    --\n",
      "│    └─GaussianFinerLayer: 2-1                [1, 128]                  --\n",
      "│    │    └─Linear: 3-1                       [1, 128]                  56,448\n",
      "│    │    └─gaussian_activation: 3-2          [1, 128]                  --\n",
      "│    │    └─Identity: 3-3                     [1, 128]                  --\n",
      "│    └─GaussianFinerResidualLayer: 2-2        [1, 128]                  --\n",
      "│    │    └─Linear: 3-4                       [1, 128]                  16,512\n",
      "│    │    └─gaussian_activation: 3-5          [1, 128]                  --\n",
      "│    │    └─Linear: 3-6                       [1, 128]                  16,512\n",
      "│    │    └─gaussian_activation: 3-7          [1, 128]                  --\n",
      "│    │    └─Dropout: 3-8                      [1, 128]                  --\n",
      "│    └─GaussianFinerResidualLayer: 2-3        [1, 128]                  --\n",
      "│    │    └─Linear: 3-9                       [1, 128]                  16,512\n",
      "│    │    └─gaussian_activation: 3-10         [1, 128]                  --\n",
      "│    │    └─Linear: 3-11                      [1, 128]                  16,512\n",
      "│    │    └─gaussian_activation: 3-12         [1, 128]                  --\n",
      "│    │    └─Dropout: 3-13                     [1, 128]                  --\n",
      "│    └─GaussianFinerResidualLayer: 2-4        [1, 128]                  --\n",
      "│    │    └─Linear: 3-14                      [1, 128]                  16,512\n",
      "│    │    └─gaussian_activation: 3-15         [1, 128]                  --\n",
      "│    │    └─Linear: 3-16                      [1, 128]                  16,512\n",
      "│    │    └─gaussian_activation: 3-17         [1, 128]                  --\n",
      "│    │    └─Dropout: 3-18                     [1, 128]                  --\n",
      "│    └─GaussianFinerResidualLayer: 2-5        [1, 128]                  --\n",
      "│    │    └─Linear: 3-19                      [1, 128]                  16,512\n",
      "│    │    └─gaussian_activation: 3-20         [1, 128]                  --\n",
      "│    │    └─Linear: 3-21                      [1, 128]                  16,512\n",
      "│    │    └─gaussian_activation: 3-22         [1, 128]                  --\n",
      "│    │    └─Dropout: 3-23                     [1, 128]                  --\n",
      "│    └─GaussianFinerResidualLayer: 2-6        [1, 128]                  --\n",
      "│    │    └─Linear: 3-24                      [1, 128]                  16,512\n",
      "│    │    └─gaussian_activation: 3-25         [1, 128]                  --\n",
      "│    │    └─Linear: 3-26                      [1, 128]                  16,512\n",
      "│    │    └─gaussian_activation: 3-27         [1, 128]                  --\n",
      "│    │    └─Dropout: 3-28                     [1, 128]                  --\n",
      "│    └─Linear: 2-7                            [1, 2]                    256\n",
      "===============================================================================================\n",
      "Total params: 221,824\n",
      "Trainable params: 221,824\n",
      "Non-trainable params: 0\n",
      "Total mult-adds (Units.MEGABYTES): 0.22\n",
      "===============================================================================================\n",
      "Input size (MB): 0.00\n",
      "Forward/backward pass size (MB): 0.01\n",
      "Params size (MB): 0.89\n",
      "Estimated Total Size (MB): 0.90\n",
      "===============================================================================================\n"
     ]
    }
   ],
   "execution_count": 36
  },
  {
   "metadata": {},
   "cell_type": "markdown",
   "source": "## MLP MODEL",
   "id": "5e16b99dddc3a2f1"
  },
  {
   "metadata": {
    "ExecuteTime": {
     "end_time": "2025-07-10T18:35:25.903764Z",
     "start_time": "2025-07-10T18:35:25.898796Z"
    }
   },
   "cell_type": "code",
   "source": "from models.implicit_neural_representations.inr_models.mlp_model import MLPModel",
   "id": "993af880de38c136",
   "outputs": [],
   "execution_count": 37
  },
  {
   "metadata": {
    "ExecuteTime": {
     "end_time": "2025-07-10T18:35:25.923655Z",
     "start_time": "2025-07-10T18:35:25.909781Z"
    }
   },
   "cell_type": "code",
   "source": [
    "mlp_model = MLPModel(\n",
    "    in_features=2,\n",
    "    out_features=1,\n",
    "    hidden_features=512,\n",
    "    hidden_layers = 5, \n",
    "    bias=True,\n",
    "    weight_init=0.1,\n",
    "    bias_init=None,\n",
    "    dropout=0.1,\n",
    "    residual_net=False,\n",
    "    encoding='dfs',\n",
    "    r_min=0.001,\n",
    "    r_max = 1.0,\n",
    "    scale = [2, 2])"
   ],
   "id": "4e606d57db8d7561",
   "outputs": [],
   "execution_count": 38
  },
  {
   "metadata": {
    "ExecuteTime": {
     "end_time": "2025-07-10T18:35:25.935149Z",
     "start_time": "2025-07-10T18:35:25.929092Z"
    }
   },
   "cell_type": "code",
   "source": "output = mlp_model(x_dummy)",
   "id": "cc78849fb95d1ad3",
   "outputs": [],
   "execution_count": 39
  },
  {
   "metadata": {
    "ExecuteTime": {
     "end_time": "2025-07-10T18:35:25.945756Z",
     "start_time": "2025-07-10T18:35:25.941738Z"
    }
   },
   "cell_type": "code",
   "source": [
    "print(\"Input:\")\n",
    "print(x_dummy)\n",
    "print(\"Output:\")\n",
    "print(output)"
   ],
   "id": "6af33433ffac42ba",
   "outputs": [
    {
     "name": "stdout",
     "output_type": "stream",
     "text": [
      "Input:\n",
      "tensor([[ 90., 180.],\n",
      "        [-90., 180.],\n",
      "        [ 90., 180.],\n",
      "        [  0., 180.]])\n",
      "Output:\n",
      "tensor([[-0.1027],\n",
      "        [ 0.0922],\n",
      "        [-0.2706],\n",
      "        [ 0.0737]], grad_fn=<AddmmBackward0>)\n"
     ]
    }
   ],
   "execution_count": 40
  },
  {
   "metadata": {
    "ExecuteTime": {
     "end_time": "2025-07-10T18:35:25.968148Z",
     "start_time": "2025-07-10T18:35:25.960646Z"
    }
   },
   "cell_type": "code",
   "source": "model_summary(mlp_model, input_size=(1, 2))",
   "id": "782a5322fa9d3ca6",
   "outputs": [
    {
     "name": "stdout",
     "output_type": "stream",
     "text": [
      "===============================================================================================\n",
      "Layer (type:depth-idx)                        Output Shape              Param #\n",
      "===============================================================================================\n",
      "MLPModel                                      [1, 1]                    --\n",
      "├─SphericalFourierFeatureTransform: 1-1       [1, 24]                   --\n",
      "├─Sequential: 1-2                             [1, 1]                    --\n",
      "│    └─MLPLayer: 2-1                          [1, 512]                  --\n",
      "│    │    └─Linear: 3-1                       [1, 512]                  12,800\n",
      "│    │    └─Identity: 3-2                     [1, 512]                  --\n",
      "│    │    └─ReLU: 3-3                         [1, 512]                  --\n",
      "│    └─MLPLayer: 2-2                          [1, 512]                  --\n",
      "│    │    └─Linear: 3-4                       [1, 512]                  262,656\n",
      "│    │    └─Dropout: 3-5                      [1, 512]                  --\n",
      "│    │    └─ReLU: 3-6                         [1, 512]                  --\n",
      "│    └─MLPLayer: 2-3                          [1, 512]                  --\n",
      "│    │    └─Linear: 3-7                       [1, 512]                  262,656\n",
      "│    │    └─Dropout: 3-8                      [1, 512]                  --\n",
      "│    │    └─ReLU: 3-9                         [1, 512]                  --\n",
      "│    └─MLPLayer: 2-4                          [1, 512]                  --\n",
      "│    │    └─Linear: 3-10                      [1, 512]                  262,656\n",
      "│    │    └─Dropout: 3-11                     [1, 512]                  --\n",
      "│    │    └─ReLU: 3-12                        [1, 512]                  --\n",
      "│    └─MLPLayer: 2-5                          [1, 512]                  --\n",
      "│    │    └─Linear: 3-13                      [1, 512]                  262,656\n",
      "│    │    └─Dropout: 3-14                     [1, 512]                  --\n",
      "│    │    └─ReLU: 3-15                        [1, 512]                  --\n",
      "│    └─MLPLayer: 2-6                          [1, 512]                  --\n",
      "│    │    └─Linear: 3-16                      [1, 512]                  262,656\n",
      "│    │    └─Dropout: 3-17                     [1, 512]                  --\n",
      "│    │    └─ReLU: 3-18                        [1, 512]                  --\n",
      "│    └─Linear: 2-7                            [1, 1]                    513\n",
      "===============================================================================================\n",
      "Total params: 1,326,593\n",
      "Trainable params: 1,326,593\n",
      "Non-trainable params: 0\n",
      "Total mult-adds (Units.MEGABYTES): 1.33\n",
      "===============================================================================================\n",
      "Input size (MB): 0.00\n",
      "Forward/backward pass size (MB): 0.02\n",
      "Params size (MB): 5.31\n",
      "Estimated Total Size (MB): 5.33\n",
      "===============================================================================================\n"
     ]
    }
   ],
   "execution_count": 41
  },
  {
   "metadata": {
    "ExecuteTime": {
     "end_time": "2025-07-10T18:35:25.982532Z",
     "start_time": "2025-07-10T18:35:25.977112Z"
    }
   },
   "cell_type": "code",
   "source": [
    "mlp_residual_model = MLPModel(\n",
    "    in_features=2,\n",
    "    out_features=2,\n",
    "    hidden_features=128,\n",
    "    hidden_layers = 5, \n",
    "    bias=True,\n",
    "    weight_init=0.1,\n",
    "    bias_init=None,\n",
    "    dropout=0.1,\n",
    "    residual_net=True,\n",
    "    encoding='dfs',\n",
    "    r_min=0.001,\n",
    "    r_max = 1.0,\n",
    "    scale = [10, 10]\n",
    ")"
   ],
   "id": "f2c8354cf066a683",
   "outputs": [],
   "execution_count": 42
  },
  {
   "metadata": {
    "ExecuteTime": {
     "end_time": "2025-07-10T18:35:26.023778Z",
     "start_time": "2025-07-10T18:35:25.991364Z"
    }
   },
   "cell_type": "code",
   "source": "output = mlp_residual_model(x_dummy)",
   "id": "938140693446ee64",
   "outputs": [],
   "execution_count": 43
  },
  {
   "metadata": {
    "ExecuteTime": {
     "end_time": "2025-07-10T18:35:26.045524Z",
     "start_time": "2025-07-10T18:35:26.034848Z"
    }
   },
   "cell_type": "code",
   "source": [
    "print(\"Input:\")\n",
    "print(x_dummy)\n",
    "print(\"Output:\")\n",
    "print(output)"
   ],
   "id": "e927b3fbde7cd4ce",
   "outputs": [
    {
     "name": "stdout",
     "output_type": "stream",
     "text": [
      "Input:\n",
      "tensor([[ 90., 180.],\n",
      "        [-90., 180.],\n",
      "        [ 90., 180.],\n",
      "        [  0., 180.]])\n",
      "Output:\n",
      "tensor([[-0.6904, -0.0634],\n",
      "        [-0.3480,  0.3361],\n",
      "        [-0.7009,  0.1384],\n",
      "        [-0.2837,  0.2321]], grad_fn=<AddmmBackward0>)\n"
     ]
    }
   ],
   "execution_count": 44
  },
  {
   "metadata": {
    "ExecuteTime": {
     "end_time": "2025-07-10T18:35:26.077869Z",
     "start_time": "2025-07-10T18:35:26.070775Z"
    }
   },
   "cell_type": "code",
   "source": "model_summary(mlp_residual_model, input_size=(1, 2))",
   "id": "94cd0e5d1fc386ae",
   "outputs": [
    {
     "name": "stdout",
     "output_type": "stream",
     "text": [
      "===============================================================================================\n",
      "Layer (type:depth-idx)                        Output Shape              Param #\n",
      "===============================================================================================\n",
      "MLPModel                                      [1, 2]                    --\n",
      "├─SphericalFourierFeatureTransform: 1-1       [1, 440]                  --\n",
      "├─Sequential: 1-2                             [1, 2]                    --\n",
      "│    └─MLPLayer: 2-1                          [1, 128]                  --\n",
      "│    │    └─Linear: 3-1                       [1, 128]                  56,448\n",
      "│    │    └─Identity: 3-2                     [1, 128]                  --\n",
      "│    │    └─ReLU: 3-3                         [1, 128]                  --\n",
      "│    └─MLPResidualLayer: 2-2                  [1, 128]                  --\n",
      "│    │    └─Linear: 3-4                       [1, 128]                  16,512\n",
      "│    │    └─ReLU: 3-5                         [1, 128]                  --\n",
      "│    │    └─Linear: 3-6                       [1, 128]                  16,512\n",
      "│    │    └─Dropout: 3-7                      [1, 128]                  --\n",
      "│    │    └─ReLU: 3-8                         [1, 128]                  --\n",
      "│    └─MLPResidualLayer: 2-3                  [1, 128]                  --\n",
      "│    │    └─Linear: 3-9                       [1, 128]                  16,512\n",
      "│    │    └─ReLU: 3-10                        [1, 128]                  --\n",
      "│    │    └─Linear: 3-11                      [1, 128]                  16,512\n",
      "│    │    └─Dropout: 3-12                     [1, 128]                  --\n",
      "│    │    └─ReLU: 3-13                        [1, 128]                  --\n",
      "│    └─MLPResidualLayer: 2-4                  [1, 128]                  --\n",
      "│    │    └─Linear: 3-14                      [1, 128]                  16,512\n",
      "│    │    └─ReLU: 3-15                        [1, 128]                  --\n",
      "│    │    └─Linear: 3-16                      [1, 128]                  16,512\n",
      "│    │    └─Dropout: 3-17                     [1, 128]                  --\n",
      "│    │    └─ReLU: 3-18                        [1, 128]                  --\n",
      "│    └─MLPResidualLayer: 2-5                  [1, 128]                  --\n",
      "│    │    └─Linear: 3-19                      [1, 128]                  16,512\n",
      "│    │    └─ReLU: 3-20                        [1, 128]                  --\n",
      "│    │    └─Linear: 3-21                      [1, 128]                  16,512\n",
      "│    │    └─Dropout: 3-22                     [1, 128]                  --\n",
      "│    │    └─ReLU: 3-23                        [1, 128]                  --\n",
      "│    └─MLPResidualLayer: 2-6                  [1, 128]                  --\n",
      "│    │    └─Linear: 3-24                      [1, 128]                  16,512\n",
      "│    │    └─ReLU: 3-25                        [1, 128]                  --\n",
      "│    │    └─Linear: 3-26                      [1, 128]                  16,512\n",
      "│    │    └─Dropout: 3-27                     [1, 128]                  --\n",
      "│    │    └─ReLU: 3-28                        [1, 128]                  --\n",
      "│    └─Linear: 2-7                            [1, 2]                    258\n",
      "===============================================================================================\n",
      "Total params: 221,826\n",
      "Trainable params: 221,826\n",
      "Non-trainable params: 0\n",
      "Total mult-adds (Units.MEGABYTES): 0.22\n",
      "===============================================================================================\n",
      "Input size (MB): 0.00\n",
      "Forward/backward pass size (MB): 0.01\n",
      "Params size (MB): 0.89\n",
      "Estimated Total Size (MB): 0.90\n",
      "===============================================================================================\n"
     ]
    }
   ],
   "execution_count": 45
  },
  {
   "metadata": {},
   "cell_type": "markdown",
   "source": "## Wire Models",
   "id": "47e1d87682c8d728"
  },
  {
   "metadata": {
    "ExecuteTime": {
     "end_time": "2025-07-10T18:35:26.098101Z",
     "start_time": "2025-07-10T18:35:26.093714Z"
    }
   },
   "cell_type": "code",
   "source": "from models.implicit_neural_representations.inr_models.wire_model import WireModel, WireFinerModel",
   "id": "39ee9f42b1c5a8db",
   "outputs": [],
   "execution_count": 46
  },
  {
   "metadata": {
    "ExecuteTime": {
     "end_time": "2025-07-10T18:35:26.112177Z",
     "start_time": "2025-07-10T18:35:26.103210Z"
    }
   },
   "cell_type": "code",
   "source": [
    "wire_model = WireModel(\n",
    "    in_features=2,\n",
    "    out_features=2,\n",
    "    hidden_features=128,\n",
    "    hidden_layers = 5, \n",
    "    scale_wire=10.0,\n",
    "    omega=20.0,\n",
    "    bias=True,\n",
    "    weight_init=0.1,\n",
    "    bias_init=None,\n",
    "    dropout=0.0,\n",
    "    residual_net=False,\n",
    "    encoding='dfs',\n",
    "    r_min=0.001,\n",
    "    r_max=1.0,\n",
    "    scale=[10, 10]\n",
    ")"
   ],
   "id": "5e03591393002e14",
   "outputs": [],
   "execution_count": 47
  },
  {
   "metadata": {
    "ExecuteTime": {
     "end_time": "2025-07-10T18:35:26.125159Z",
     "start_time": "2025-07-10T18:35:26.119744Z"
    }
   },
   "cell_type": "code",
   "source": "output = wire_model(x_dummy)",
   "id": "6dd42e6aab416d73",
   "outputs": [],
   "execution_count": 48
  },
  {
   "metadata": {
    "ExecuteTime": {
     "end_time": "2025-07-10T18:35:26.137367Z",
     "start_time": "2025-07-10T18:35:26.133832Z"
    }
   },
   "cell_type": "code",
   "source": [
    "print(\"Input:\")\n",
    "print(x_dummy)\n",
    "print(\"Output:\")\n",
    "print(output)"
   ],
   "id": "9f9976f23d86771f",
   "outputs": [
    {
     "name": "stdout",
     "output_type": "stream",
     "text": [
      "Input:\n",
      "tensor([[ 90., 180.],\n",
      "        [-90., 180.],\n",
      "        [ 90., 180.],\n",
      "        [  0., 180.]])\n",
      "Output:\n",
      "tensor([[-0.2503+0.2237j,  0.2870-0.1202j],\n",
      "        [ 0.4933-0.0632j, -0.3285-0.2422j],\n",
      "        [-0.2503+0.2237j,  0.2870-0.1202j],\n",
      "        [-0.8148-0.1963j, -0.7929+0.4870j]], grad_fn=<MmBackward0>)\n"
     ]
    }
   ],
   "execution_count": 49
  },
  {
   "metadata": {
    "ExecuteTime": {
     "end_time": "2025-07-10T18:35:26.170434Z",
     "start_time": "2025-07-10T18:35:26.162704Z"
    }
   },
   "cell_type": "code",
   "source": "model_summary(wire_model, input_size=(1, 2))",
   "id": "58f35daf68be4efe",
   "outputs": [
    {
     "name": "stdout",
     "output_type": "stream",
     "text": [
      "===============================================================================================\n",
      "Layer (type:depth-idx)                        Output Shape              Param #\n",
      "===============================================================================================\n",
      "WireModel                                     [1, 2]                    --\n",
      "├─SphericalFourierFeatureTransform: 1-1       [1, 440]                  --\n",
      "├─Sequential: 1-2                             [1, 2]                    --\n",
      "│    └─WireLayer: 2-1                         [1, 128]                  --\n",
      "│    │    └─Linear: 3-1                       [1, 128]                  56,448\n",
      "│    │    └─wire_activation: 3-2              [1, 128]                  --\n",
      "│    │    └─Identity: 3-3                     [1, 128]                  --\n",
      "│    └─WireLayer: 2-2                         [1, 128]                  --\n",
      "│    │    └─Linear: 3-4                       [1, 128]                  16,512\n",
      "│    │    └─wire_activation: 3-5              [1, 128]                  --\n",
      "│    │    └─Identity: 3-6                     [1, 128]                  --\n",
      "│    └─WireLayer: 2-3                         [1, 128]                  --\n",
      "│    │    └─Linear: 3-7                       [1, 128]                  16,512\n",
      "│    │    └─wire_activation: 3-8              [1, 128]                  --\n",
      "│    │    └─Identity: 3-9                     [1, 128]                  --\n",
      "│    └─WireLayer: 2-4                         [1, 128]                  --\n",
      "│    │    └─Linear: 3-10                      [1, 128]                  16,512\n",
      "│    │    └─wire_activation: 3-11             [1, 128]                  --\n",
      "│    │    └─Identity: 3-12                    [1, 128]                  --\n",
      "│    └─WireLayer: 2-5                         [1, 128]                  --\n",
      "│    │    └─Linear: 3-13                      [1, 128]                  16,512\n",
      "│    │    └─wire_activation: 3-14             [1, 128]                  --\n",
      "│    │    └─Identity: 3-15                    [1, 128]                  --\n",
      "│    └─WireLayer: 2-6                         [1, 128]                  --\n",
      "│    │    └─Linear: 3-16                      [1, 128]                  16,512\n",
      "│    │    └─wire_activation: 3-17             [1, 128]                  --\n",
      "│    │    └─Identity: 3-18                    [1, 128]                  --\n",
      "│    └─Linear: 2-7                            [1, 2]                    256\n",
      "===============================================================================================\n",
      "Total params: 139,264\n",
      "Trainable params: 139,264\n",
      "Non-trainable params: 0\n",
      "Total mult-adds (Units.MEGABYTES): 0.14\n",
      "===============================================================================================\n",
      "Input size (MB): 0.00\n",
      "Forward/backward pass size (MB): 0.01\n",
      "Params size (MB): 0.89\n",
      "Estimated Total Size (MB): 0.90\n",
      "===============================================================================================\n"
     ]
    }
   ],
   "execution_count": 50
  },
  {
   "metadata": {
    "ExecuteTime": {
     "end_time": "2025-07-10T18:35:26.193468Z",
     "start_time": "2025-07-10T18:35:26.186384Z"
    }
   },
   "cell_type": "code",
   "source": [
    "wire_residual_model = WireModel(\n",
    "    in_features=2,\n",
    "    out_features=2,\n",
    "    hidden_features=128,\n",
    "    hidden_layers = 5,\n",
    "    scale_wire=10.0,\n",
    "    omega=20.0,\n",
    "    bias=True,\n",
    "    weight_init=0.1,\n",
    "    bias_init=None,\n",
    "    dropout=0.0,\n",
    "    residual_net=True,\n",
    "    encoding='dfs',\n",
    "    r_min=0.001,\n",
    "    r_max=1.0,\n",
    "    scale=[10, 10]\n",
    ")"
   ],
   "id": "e8318f7c0d0f433a",
   "outputs": [],
   "execution_count": 51
  },
  {
   "metadata": {
    "ExecuteTime": {
     "end_time": "2025-07-10T18:35:26.207851Z",
     "start_time": "2025-07-10T18:35:26.199570Z"
    }
   },
   "cell_type": "code",
   "source": "output = wire_residual_model(x_dummy)",
   "id": "1ba0d93fe9cb7d4c",
   "outputs": [],
   "execution_count": 52
  },
  {
   "metadata": {
    "ExecuteTime": {
     "end_time": "2025-07-10T18:35:26.218977Z",
     "start_time": "2025-07-10T18:35:26.215517Z"
    }
   },
   "cell_type": "code",
   "source": [
    "print(\"Input:\")\n",
    "print(x_dummy)\n",
    "print(\"Output:\")\n",
    "print(output)"
   ],
   "id": "b6ad5b0b627b83d5",
   "outputs": [
    {
     "name": "stdout",
     "output_type": "stream",
     "text": [
      "Input:\n",
      "tensor([[ 90., 180.],\n",
      "        [-90., 180.],\n",
      "        [ 90., 180.],\n",
      "        [  0., 180.]])\n",
      "Output:\n",
      "tensor([[0.0035+0.2175j, 0.0181+0.0312j],\n",
      "        [0.0280+0.0518j, 0.0886+0.3949j],\n",
      "        [0.0035+0.2175j, 0.0181+0.0312j],\n",
      "        [0.4289-0.6422j, 0.9863+0.1847j]], grad_fn=<MmBackward0>)\n"
     ]
    }
   ],
   "execution_count": 53
  },
  {
   "metadata": {
    "ExecuteTime": {
     "end_time": "2025-07-10T18:35:26.243058Z",
     "start_time": "2025-07-10T18:35:26.232634Z"
    }
   },
   "cell_type": "code",
   "source": "model_summary(wire_residual_model, input_size=(1, 2))",
   "id": "3467f78b90c4a146",
   "outputs": [
    {
     "name": "stdout",
     "output_type": "stream",
     "text": [
      "===============================================================================================\n",
      "Layer (type:depth-idx)                        Output Shape              Param #\n",
      "===============================================================================================\n",
      "WireModel                                     [1, 2]                    --\n",
      "├─SphericalFourierFeatureTransform: 1-1       [1, 440]                  --\n",
      "├─Sequential: 1-2                             [1, 2]                    --\n",
      "│    └─WireLayer: 2-1                         [1, 128]                  --\n",
      "│    │    └─Linear: 3-1                       [1, 128]                  56,448\n",
      "│    │    └─wire_activation: 3-2              [1, 128]                  --\n",
      "│    │    └─Identity: 3-3                     [1, 128]                  --\n",
      "│    └─WireResidualLayer: 2-2                 [1, 128]                  --\n",
      "│    │    └─Linear: 3-4                       [1, 128]                  16,512\n",
      "│    │    └─wire_activation: 3-5              [1, 128]                  --\n",
      "│    │    └─Linear: 3-6                       [1, 128]                  16,512\n",
      "│    │    └─wire_activation: 3-7              [1, 128]                  --\n",
      "│    │    └─Identity: 3-8                     [1, 128]                  --\n",
      "│    └─WireResidualLayer: 2-3                 [1, 128]                  --\n",
      "│    │    └─Linear: 3-9                       [1, 128]                  16,512\n",
      "│    │    └─wire_activation: 3-10             [1, 128]                  --\n",
      "│    │    └─Linear: 3-11                      [1, 128]                  16,512\n",
      "│    │    └─wire_activation: 3-12             [1, 128]                  --\n",
      "│    │    └─Identity: 3-13                    [1, 128]                  --\n",
      "│    └─WireResidualLayer: 2-4                 [1, 128]                  --\n",
      "│    │    └─Linear: 3-14                      [1, 128]                  16,512\n",
      "│    │    └─wire_activation: 3-15             [1, 128]                  --\n",
      "│    │    └─Linear: 3-16                      [1, 128]                  16,512\n",
      "│    │    └─wire_activation: 3-17             [1, 128]                  --\n",
      "│    │    └─Identity: 3-18                    [1, 128]                  --\n",
      "│    └─WireResidualLayer: 2-5                 [1, 128]                  --\n",
      "│    │    └─Linear: 3-19                      [1, 128]                  16,512\n",
      "│    │    └─wire_activation: 3-20             [1, 128]                  --\n",
      "│    │    └─Linear: 3-21                      [1, 128]                  16,512\n",
      "│    │    └─wire_activation: 3-22             [1, 128]                  --\n",
      "│    │    └─Identity: 3-23                    [1, 128]                  --\n",
      "│    └─WireResidualLayer: 2-6                 [1, 128]                  --\n",
      "│    │    └─Linear: 3-24                      [1, 128]                  16,512\n",
      "│    │    └─wire_activation: 3-25             [1, 128]                  --\n",
      "│    │    └─Linear: 3-26                      [1, 128]                  16,512\n",
      "│    │    └─wire_activation: 3-27             [1, 128]                  --\n",
      "│    │    └─Identity: 3-28                    [1, 128]                  --\n",
      "│    └─Linear: 2-7                            [1, 2]                    256\n",
      "===============================================================================================\n",
      "Total params: 221,824\n",
      "Trainable params: 221,824\n",
      "Non-trainable params: 0\n",
      "Total mult-adds (Units.MEGABYTES): 0.22\n",
      "===============================================================================================\n",
      "Input size (MB): 0.00\n",
      "Forward/backward pass size (MB): 0.02\n",
      "Params size (MB): 1.55\n",
      "Estimated Total Size (MB): 1.57\n",
      "===============================================================================================\n"
     ]
    }
   ],
   "execution_count": 54
  },
  {
   "metadata": {
    "ExecuteTime": {
     "end_time": "2025-07-10T18:35:26.270632Z",
     "start_time": "2025-07-10T18:35:26.265120Z"
    }
   },
   "cell_type": "code",
   "source": "torch.abs(x_dummy - output)",
   "id": "c0eaec1ce0dee73a",
   "outputs": [
    {
     "data": {
      "text/plain": [
       "tensor([[ 89.9967, 179.9819],\n",
       "        [ 90.0281, 179.9118],\n",
       "        [ 89.9967, 179.9819],\n",
       "        [  0.7723, 179.0138]], grad_fn=<AbsBackward0>)"
      ]
     },
     "execution_count": 55,
     "metadata": {},
     "output_type": "execute_result"
    }
   ],
   "execution_count": 55
  },
  {
   "metadata": {
    "ExecuteTime": {
     "end_time": "2025-07-10T18:35:26.955213Z",
     "start_time": "2025-07-10T18:35:26.950197Z"
    }
   },
   "cell_type": "code",
   "source": "x_dummy - output",
   "id": "a02f89fae1331d93",
   "outputs": [
    {
     "data": {
      "text/plain": [
       "tensor([[ 89.9965-0.2175j, 179.9819-0.0312j],\n",
       "        [-90.0280-0.0518j, 179.9114-0.3949j],\n",
       "        [ 89.9965-0.2175j, 179.9819-0.0312j],\n",
       "        [ -0.4289+0.6422j, 179.0137-0.1847j]], grad_fn=<SubBackward0>)"
      ]
     },
     "execution_count": 56,
     "metadata": {},
     "output_type": "execute_result"
    }
   ],
   "execution_count": 56
  },
  {
   "metadata": {
    "ExecuteTime": {
     "end_time": "2025-07-10T18:35:27.060236Z",
     "start_time": "2025-07-10T18:35:27.054280Z"
    }
   },
   "cell_type": "code",
   "source": "torch.abs(output) ",
   "id": "aa8ae554db37a562",
   "outputs": [
    {
     "data": {
      "text/plain": [
       "tensor([[0.2175, 0.0360],\n",
       "        [0.0589, 0.4047],\n",
       "        [0.2175, 0.0360],\n",
       "        [0.7723, 1.0034]], grad_fn=<AbsBackward0>)"
      ]
     },
     "execution_count": 57,
     "metadata": {},
     "output_type": "execute_result"
    }
   ],
   "execution_count": 57
  },
  {
   "metadata": {
    "ExecuteTime": {
     "end_time": "2025-07-10T18:35:27.183357Z",
     "start_time": "2025-07-10T18:35:27.161926Z"
    }
   },
   "cell_type": "code",
   "source": [
    "wire_finer_model = WireFinerModel(\n",
    "    in_features=2,\n",
    "    out_features=2,\n",
    "    hidden_features=512,\n",
    "    hidden_layers = 5, \n",
    "    scale_wire=10.0,\n",
    "    omega=20.0,\n",
    "    omega_f=1.0,\n",
    "    bias=True,\n",
    "    first_k=5,\n",
    "    hidden_k=5,\n",
    "    dropout=0.0,\n",
    "    residual_net=False,\n",
    "    encoding='dfs',\n",
    "    r_min=0.001,\n",
    "    r_max=1.0,\n",
    "    scale=[10, 10]\n",
    ")"
   ],
   "id": "c53d34806b1394f7",
   "outputs": [],
   "execution_count": 58
  },
  {
   "metadata": {
    "ExecuteTime": {
     "end_time": "2025-07-10T18:35:27.195626Z",
     "start_time": "2025-07-10T18:35:27.186368Z"
    }
   },
   "cell_type": "code",
   "source": "output = wire_finer_model(x_dummy)",
   "id": "25e9c7815a57135e",
   "outputs": [],
   "execution_count": 59
  },
  {
   "metadata": {
    "ExecuteTime": {
     "end_time": "2025-07-10T18:35:27.217867Z",
     "start_time": "2025-07-10T18:35:27.213801Z"
    }
   },
   "cell_type": "code",
   "source": [
    "print(\"Input:\")\n",
    "print(x_dummy)\n",
    "print(\"Output:\")\n",
    "print(output)"
   ],
   "id": "f0de6b30b350f444",
   "outputs": [
    {
     "name": "stdout",
     "output_type": "stream",
     "text": [
      "Input:\n",
      "tensor([[ 90., 180.],\n",
      "        [-90., 180.],\n",
      "        [ 90., 180.],\n",
      "        [  0., 180.]])\n",
      "Output:\n",
      "tensor([[ 0.0107-0.2083j,  0.1867-0.0736j],\n",
      "        [ 0.0529-0.1732j,  0.1812+0.1032j],\n",
      "        [ 0.0107-0.2083j,  0.1867-0.0736j],\n",
      "        [-0.0201-0.2010j,  0.1699-0.1079j]], grad_fn=<MmBackward0>)\n"
     ]
    }
   ],
   "execution_count": 60
  },
  {
   "metadata": {
    "ExecuteTime": {
     "end_time": "2025-07-10T18:35:27.358791Z",
     "start_time": "2025-07-10T18:35:27.347683Z"
    }
   },
   "cell_type": "code",
   "source": "model_summary(wire_finer_model, input_size=(1, 2))",
   "id": "c7f02c0e0ebeb7f2",
   "outputs": [
    {
     "name": "stdout",
     "output_type": "stream",
     "text": [
      "===============================================================================================\n",
      "Layer (type:depth-idx)                        Output Shape              Param #\n",
      "===============================================================================================\n",
      "WireFinerModel                                [1, 2]                    --\n",
      "├─SphericalFourierFeatureTransform: 1-1       [1, 440]                  --\n",
      "├─Sequential: 1-2                             [1, 2]                    --\n",
      "│    └─WireFinerLayer: 2-1                    [1, 512]                  --\n",
      "│    │    └─Linear: 3-1                       [1, 512]                  225,792\n",
      "│    │    └─wire_activation: 3-2              [1, 512]                  --\n",
      "│    │    └─Identity: 3-3                     [1, 512]                  --\n",
      "│    └─WireFinerLayer: 2-2                    [1, 512]                  --\n",
      "│    │    └─Linear: 3-4                       [1, 512]                  262,656\n",
      "│    │    └─wire_activation: 3-5              [1, 512]                  --\n",
      "│    │    └─Identity: 3-6                     [1, 512]                  --\n",
      "│    └─WireFinerLayer: 2-3                    [1, 512]                  --\n",
      "│    │    └─Linear: 3-7                       [1, 512]                  262,656\n",
      "│    │    └─wire_activation: 3-8              [1, 512]                  --\n",
      "│    │    └─Identity: 3-9                     [1, 512]                  --\n",
      "│    └─WireFinerLayer: 2-4                    [1, 512]                  --\n",
      "│    │    └─Linear: 3-10                      [1, 512]                  262,656\n",
      "│    │    └─wire_activation: 3-11             [1, 512]                  --\n",
      "│    │    └─Identity: 3-12                    [1, 512]                  --\n",
      "│    └─WireFinerLayer: 2-5                    [1, 512]                  --\n",
      "│    │    └─Linear: 3-13                      [1, 512]                  262,656\n",
      "│    │    └─wire_activation: 3-14             [1, 512]                  --\n",
      "│    │    └─Identity: 3-15                    [1, 512]                  --\n",
      "│    └─WireFinerLayer: 2-6                    [1, 512]                  --\n",
      "│    │    └─Linear: 3-16                      [1, 512]                  262,656\n",
      "│    │    └─wire_activation: 3-17             [1, 512]                  --\n",
      "│    │    └─Identity: 3-18                    [1, 512]                  --\n",
      "│    └─Linear: 2-7                            [1, 2]                    1,024\n",
      "===============================================================================================\n",
      "Total params: 1,540,096\n",
      "Trainable params: 1,540,096\n",
      "Non-trainable params: 0\n",
      "Total mult-adds (Units.MEGABYTES): 1.54\n",
      "===============================================================================================\n",
      "Input size (MB): 0.00\n",
      "Forward/backward pass size (MB): 0.05\n",
      "Params size (MB): 11.42\n",
      "Estimated Total Size (MB): 11.46\n",
      "===============================================================================================\n"
     ]
    }
   ],
   "execution_count": 61
  },
  {
   "metadata": {
    "ExecuteTime": {
     "end_time": "2025-07-10T18:35:27.492749Z",
     "start_time": "2025-07-10T18:35:27.464932Z"
    }
   },
   "cell_type": "code",
   "source": [
    "wire_finer_residual_model = WireFinerModel(\n",
    "    in_features=2,\n",
    "    out_features=2,\n",
    "    hidden_features=1024,\n",
    "    hidden_layers = 1, \n",
    "    scale_wire=10.0,\n",
    "    omega=20.0,\n",
    "    omega_f=2.5,\n",
    "    bias=True,\n",
    "    first_k=2,\n",
    "    hidden_k=2,\n",
    "    dropout=0.0,\n",
    "    residual_net=True,\n",
    "    encoding='sphere2vec',\n",
    "    r_min=0.001,\n",
    "    r_max=1.0,\n",
    "    scale=10,\n",
    "    mode='SphereC'\n",
    ")"
   ],
   "id": "6759101ec5832d50",
   "outputs": [],
   "execution_count": 62
  },
  {
   "metadata": {
    "ExecuteTime": {
     "end_time": "2025-07-10T18:35:27.509625Z",
     "start_time": "2025-07-10T18:35:27.501386Z"
    }
   },
   "cell_type": "code",
   "source": "output = wire_finer_residual_model(x_dummy)",
   "id": "47b3f3458c18813b",
   "outputs": [],
   "execution_count": 63
  },
  {
   "metadata": {
    "ExecuteTime": {
     "end_time": "2025-07-10T18:35:27.519155Z",
     "start_time": "2025-07-10T18:35:27.515931Z"
    }
   },
   "cell_type": "code",
   "source": [
    "print(\"Input:\")\n",
    "print(x_dummy)\n",
    "print(\"Output:\")\n",
    "print(output)"
   ],
   "id": "c357c2d0cf6b12a5",
   "outputs": [
    {
     "name": "stdout",
     "output_type": "stream",
     "text": [
      "Input:\n",
      "tensor([[ 90., 180.],\n",
      "        [-90., 180.],\n",
      "        [ 90., 180.],\n",
      "        [  0., 180.]])\n",
      "Output:\n",
      "tensor([[ 0.0063+0.0749j, -0.0970+0.0597j],\n",
      "        [-0.0145-0.0696j,  0.0441-0.0514j],\n",
      "        [ 0.0063+0.0749j, -0.0970+0.0597j],\n",
      "        [ 0.0455-0.1178j, -0.1240+0.0394j]], grad_fn=<MmBackward0>)\n"
     ]
    }
   ],
   "execution_count": 64
  },
  {
   "metadata": {
    "ExecuteTime": {
     "end_time": "2025-07-10T18:35:27.537847Z",
     "start_time": "2025-07-10T18:35:27.530790Z"
    }
   },
   "cell_type": "code",
   "source": "model_summary(wire_finer_residual_model, input_size=(1, 2))",
   "id": "eb7ef88227469576",
   "outputs": [
    {
     "name": "stdout",
     "output_type": "stream",
     "text": [
      "==========================================================================================\n",
      "Layer (type:depth-idx)                   Output Shape              Param #\n",
      "==========================================================================================\n",
      "WireFinerModel                           [1, 2]                    --\n",
      "├─Sphere2Vec: 1-1                        [1, 30]                   --\n",
      "├─Sequential: 1-2                        [1, 2]                    --\n",
      "│    └─WireFinerLayer: 2-1               [1, 1024]                 --\n",
      "│    │    └─Linear: 3-1                  [1, 1024]                 31,744\n",
      "│    │    └─wire_activation: 3-2         [1, 1024]                 --\n",
      "│    │    └─Identity: 3-3                [1, 1024]                 --\n",
      "│    └─WireFinerResidualLayer: 2-2       [1, 1024]                 --\n",
      "│    │    └─Linear: 3-4                  [1, 1024]                 1,049,600\n",
      "│    │    └─wire_activation: 3-5         [1, 1024]                 --\n",
      "│    │    └─Linear: 3-6                  [1, 1024]                 1,049,600\n",
      "│    │    └─wire_activation: 3-7         [1, 1024]                 --\n",
      "│    │    └─Identity: 3-8                [1, 1024]                 --\n",
      "│    └─Linear: 2-3                       [1, 2]                    2,048\n",
      "==========================================================================================\n",
      "Total params: 2,132,992\n",
      "Trainable params: 2,132,992\n",
      "Non-trainable params: 0\n",
      "Total mult-adds (Units.MEGABYTES): 2.13\n",
      "==========================================================================================\n",
      "Input size (MB): 0.00\n",
      "Forward/backward pass size (MB): 0.04\n",
      "Params size (MB): 16.94\n",
      "Estimated Total Size (MB): 16.98\n",
      "==========================================================================================\n"
     ]
    }
   ],
   "execution_count": 65
  },
  {
   "metadata": {
    "ExecuteTime": {
     "end_time": "2025-07-10T18:35:27.568659Z",
     "start_time": "2025-07-10T18:35:27.566150Z"
    }
   },
   "cell_type": "code",
   "source": "",
   "id": "38bab68debbf7a19",
   "outputs": [],
   "execution_count": null
  }
 ],
 "metadata": {
  "kernelspec": {
   "display_name": "Python (worldclim)",
   "language": "python",
   "name": "worldclim"
  },
  "language_info": {
   "codemirror_mode": {
    "name": "ipython",
    "version": 2
   },
   "file_extension": ".py",
   "mimetype": "text/x-python",
   "name": "python",
   "nbconvert_exporter": "python",
   "pygments_lexer": "ipython2",
   "version": "2.7.6"
  }
 },
 "nbformat": 4,
 "nbformat_minor": 5
}
