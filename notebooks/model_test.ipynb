{
 "cells": [
  {
   "metadata": {
    "ExecuteTime": {
     "end_time": "2025-07-03T18:43:49.525116Z",
     "start_time": "2025-07-03T18:43:47.283469Z"
    }
   },
   "cell_type": "code",
   "source": [
    "import torch\n",
    "from helpers import model_summary\n",
    "x_dummy = torch.randn(5, 2)"
   ],
   "id": "8f91803098cae9cd",
   "outputs": [],
   "execution_count": 1
  },
  {
   "metadata": {},
   "cell_type": "markdown",
   "source": "## SIREN and FINER MODEL",
   "id": "5e0fcc9793abb39f"
  },
  {
   "metadata": {
    "collapsed": true,
    "ExecuteTime": {
     "end_time": "2025-07-03T18:43:49.534404Z",
     "start_time": "2025-07-03T18:43:49.528275Z"
    }
   },
   "cell_type": "code",
   "source": "from models.implicit_neural_representations.inr_models.siren_model import SirenModel, FinerModel",
   "id": "initial_id",
   "outputs": [],
   "execution_count": 2
  },
  {
   "metadata": {
    "ExecuteTime": {
     "end_time": "2025-07-03T18:43:49.648762Z",
     "start_time": "2025-07-03T18:43:49.637114Z"
    }
   },
   "cell_type": "code",
   "source": [
    "# initialize siren model without residual layers\n",
    "siren_model = SirenModel(\n",
    "    in_features=2,\n",
    "    out_features=2,\n",
    "    hidden_layers=5,\n",
    "    hidden_features=512,\n",
    "    first_omega_0=30.0,\n",
    "    hidden_omega_0=30.0,\n",
    "    residual_net=False\n",
    ")"
   ],
   "id": "1351d587cbfe65fd",
   "outputs": [],
   "execution_count": 3
  },
  {
   "metadata": {
    "ExecuteTime": {
     "end_time": "2025-07-03T18:43:49.665556Z",
     "start_time": "2025-07-03T18:43:49.653455Z"
    }
   },
   "cell_type": "code",
   "source": "output = siren_model(x_dummy)",
   "id": "b8b6be995c71318e",
   "outputs": [],
   "execution_count": 4
  },
  {
   "metadata": {
    "ExecuteTime": {
     "end_time": "2025-07-03T18:43:49.679530Z",
     "start_time": "2025-07-03T18:43:49.675254Z"
    }
   },
   "cell_type": "code",
   "source": [
    "# Print input and output\n",
    "print(\"Input:\")\n",
    "print(x_dummy)\n",
    "print(\"Output:\")\n",
    "print(output)"
   ],
   "id": "5e5969588e434a48",
   "outputs": [
    {
     "name": "stdout",
     "output_type": "stream",
     "text": [
      "Input:\n",
      "tensor([[ 0.2643,  0.4806],\n",
      "        [-0.3880, -0.1166],\n",
      "        [ 0.5267,  0.3416],\n",
      "        [ 1.0770, -0.5350],\n",
      "        [-0.4397,  0.7759]])\n",
      "Output:\n",
      "tensor([[-0.0388, -0.0204],\n",
      "        [-0.0522, -0.0457],\n",
      "        [-0.0048, -0.0228],\n",
      "        [-0.0464, -0.0217],\n",
      "        [-0.0655, -0.0056]], grad_fn=<MmBackward0>)\n"
     ]
    }
   ],
   "execution_count": 5
  },
  {
   "metadata": {
    "ExecuteTime": {
     "end_time": "2025-07-03T18:43:49.710295Z",
     "start_time": "2025-07-03T18:43:49.702495Z"
    }
   },
   "cell_type": "code",
   "source": "model_summary(siren_model, input_size=(1, 2))",
   "id": "f6320330e3fb33d",
   "outputs": [
    {
     "name": "stdout",
     "output_type": "stream",
     "text": [
      "==========================================================================================\n",
      "Layer (type:depth-idx)                   Output Shape              Param #\n",
      "==========================================================================================\n",
      "SirenModel                               [1, 2]                    --\n",
      "├─Sequential: 1-1                        [1, 2]                    --\n",
      "│    └─SirenLayer: 2-1                   [1, 512]                  --\n",
      "│    │    └─Linear: 3-1                  [1, 512]                  1,536\n",
      "│    │    └─siren_activation: 3-2        [1, 512]                  --\n",
      "│    └─SirenLayer: 2-2                   [1, 512]                  --\n",
      "│    │    └─Linear: 3-3                  [1, 512]                  262,656\n",
      "│    │    └─siren_activation: 3-4        [1, 512]                  --\n",
      "│    └─SirenLayer: 2-3                   [1, 512]                  --\n",
      "│    │    └─Linear: 3-5                  [1, 512]                  262,656\n",
      "│    │    └─siren_activation: 3-6        [1, 512]                  --\n",
      "│    └─SirenLayer: 2-4                   [1, 512]                  --\n",
      "│    │    └─Linear: 3-7                  [1, 512]                  262,656\n",
      "│    │    └─siren_activation: 3-8        [1, 512]                  --\n",
      "│    └─SirenLayer: 2-5                   [1, 512]                  --\n",
      "│    │    └─Linear: 3-9                  [1, 512]                  262,656\n",
      "│    │    └─siren_activation: 3-10       [1, 512]                  --\n",
      "│    └─SirenLayer: 2-6                   [1, 512]                  --\n",
      "│    │    └─Linear: 3-11                 [1, 512]                  262,656\n",
      "│    │    └─siren_activation: 3-12       [1, 512]                  --\n",
      "│    └─Linear: 2-7                       [1, 2]                    1,024\n",
      "==========================================================================================\n",
      "Total params: 1,315,840\n",
      "Trainable params: 1,315,840\n",
      "Non-trainable params: 0\n",
      "Total mult-adds (Units.MEGABYTES): 1.32\n",
      "==========================================================================================\n",
      "Input size (MB): 0.00\n",
      "Forward/backward pass size (MB): 0.02\n",
      "Params size (MB): 5.26\n",
      "Estimated Total Size (MB): 5.29\n",
      "==========================================================================================\n",
      "==========================================================================================\n",
      "Layer (type:depth-idx)                   Output Shape              Param #\n",
      "==========================================================================================\n",
      "SirenModel                               [1, 2]                    --\n",
      "├─Sequential: 1-1                        [1, 2]                    --\n",
      "│    └─SirenLayer: 2-1                   [1, 512]                  --\n",
      "│    │    └─Linear: 3-1                  [1, 512]                  1,536\n",
      "│    │    └─siren_activation: 3-2        [1, 512]                  --\n",
      "│    └─SirenLayer: 2-2                   [1, 512]                  --\n",
      "│    │    └─Linear: 3-3                  [1, 512]                  262,656\n",
      "│    │    └─siren_activation: 3-4        [1, 512]                  --\n",
      "│    └─SirenLayer: 2-3                   [1, 512]                  --\n",
      "│    │    └─Linear: 3-5                  [1, 512]                  262,656\n",
      "│    │    └─siren_activation: 3-6        [1, 512]                  --\n",
      "│    └─SirenLayer: 2-4                   [1, 512]                  --\n",
      "│    │    └─Linear: 3-7                  [1, 512]                  262,656\n",
      "│    │    └─siren_activation: 3-8        [1, 512]                  --\n",
      "│    └─SirenLayer: 2-5                   [1, 512]                  --\n",
      "│    │    └─Linear: 3-9                  [1, 512]                  262,656\n",
      "│    │    └─siren_activation: 3-10       [1, 512]                  --\n",
      "│    └─SirenLayer: 2-6                   [1, 512]                  --\n",
      "│    │    └─Linear: 3-11                 [1, 512]                  262,656\n",
      "│    │    └─siren_activation: 3-12       [1, 512]                  --\n",
      "│    └─Linear: 2-7                       [1, 2]                    1,024\n",
      "==========================================================================================\n",
      "Total params: 1,315,840\n",
      "Trainable params: 1,315,840\n",
      "Non-trainable params: 0\n",
      "Total mult-adds (Units.MEGABYTES): 1.32\n",
      "==========================================================================================\n",
      "Input size (MB): 0.00\n",
      "Forward/backward pass size (MB): 0.02\n",
      "Params size (MB): 5.26\n",
      "Estimated Total Size (MB): 5.29\n",
      "==========================================================================================\n"
     ]
    }
   ],
   "execution_count": 6
  },
  {
   "metadata": {
    "ExecuteTime": {
     "end_time": "2025-07-03T18:43:49.748997Z",
     "start_time": "2025-07-03T18:43:49.744136Z"
    }
   },
   "cell_type": "code",
   "source": [
    "finer_model = FinerModel(\n",
    "    in_features=2,\n",
    "    out_features=2,\n",
    "    bias=True,\n",
    "    hidden_layers=5,\n",
    "    hidden_features=128,\n",
    "    first_omega_0=30.,\n",
    "    hidden_omega_0=30.,\n",
    "    first_k=10,\n",
    "    hidden_k=10,\n",
    "    residual_net=False\n",
    ")"
   ],
   "id": "d10b5ab135cb770b",
   "outputs": [],
   "execution_count": 7
  },
  {
   "metadata": {
    "ExecuteTime": {
     "end_time": "2025-07-03T18:43:49.758704Z",
     "start_time": "2025-07-03T18:43:49.754141Z"
    }
   },
   "cell_type": "code",
   "source": "output = finer_model(x_dummy)",
   "id": "3cda3b4e3fd8068e",
   "outputs": [],
   "execution_count": 8
  },
  {
   "metadata": {
    "ExecuteTime": {
     "end_time": "2025-07-03T18:43:49.771626Z",
     "start_time": "2025-07-03T18:43:49.767628Z"
    }
   },
   "cell_type": "code",
   "source": [
    "# Print input and output\n",
    "print(\"Input:\")\n",
    "print(x_dummy)\n",
    "print(\"Output:\")\n",
    "print(output)"
   ],
   "id": "d5ab8845c39a0e08",
   "outputs": [
    {
     "name": "stdout",
     "output_type": "stream",
     "text": [
      "Input:\n",
      "tensor([[ 0.2643,  0.4806],\n",
      "        [-0.3880, -0.1166],\n",
      "        [ 0.5267,  0.3416],\n",
      "        [ 1.0770, -0.5350],\n",
      "        [-0.4397,  0.7759]])\n",
      "Output:\n",
      "tensor([[ 0.0229,  0.0031],\n",
      "        [-0.0652,  0.0059],\n",
      "        [-0.0152, -0.0195],\n",
      "        [-0.0025, -0.0124],\n",
      "        [-0.0222,  0.0101]], grad_fn=<MmBackward0>)\n"
     ]
    }
   ],
   "execution_count": 9
  },
  {
   "metadata": {
    "ExecuteTime": {
     "end_time": "2025-07-03T18:43:49.803399Z",
     "start_time": "2025-07-03T18:43:49.796405Z"
    }
   },
   "cell_type": "code",
   "source": "model_summary(finer_model, input_size=(1, 2))",
   "id": "ed0dfd6ffc9a7f8b",
   "outputs": [
    {
     "name": "stdout",
     "output_type": "stream",
     "text": [
      "==========================================================================================\n",
      "Layer (type:depth-idx)                   Output Shape              Param #\n",
      "==========================================================================================\n",
      "FinerModel                               [1, 2]                    --\n",
      "├─Sequential: 1-1                        [1, 2]                    --\n",
      "│    └─FinerLayer: 2-1                   [1, 128]                  --\n",
      "│    │    └─Linear: 3-1                  [1, 128]                  384\n",
      "│    │    └─siren_activation: 3-2        [1, 128]                  --\n",
      "│    └─FinerLayer: 2-2                   [1, 128]                  --\n",
      "│    │    └─Linear: 3-3                  [1, 128]                  16,512\n",
      "│    │    └─siren_activation: 3-4        [1, 128]                  --\n",
      "│    └─FinerLayer: 2-3                   [1, 128]                  --\n",
      "│    │    └─Linear: 3-5                  [1, 128]                  16,512\n",
      "│    │    └─siren_activation: 3-6        [1, 128]                  --\n",
      "│    └─FinerLayer: 2-4                   [1, 128]                  --\n",
      "│    │    └─Linear: 3-7                  [1, 128]                  16,512\n",
      "│    │    └─siren_activation: 3-8        [1, 128]                  --\n",
      "│    └─FinerLayer: 2-5                   [1, 128]                  --\n",
      "│    │    └─Linear: 3-9                  [1, 128]                  16,512\n",
      "│    │    └─siren_activation: 3-10       [1, 128]                  --\n",
      "│    └─FinerLayer: 2-6                   [1, 128]                  --\n",
      "│    │    └─Linear: 3-11                 [1, 128]                  16,512\n",
      "│    │    └─siren_activation: 3-12       [1, 128]                  --\n",
      "│    └─Linear: 2-7                       [1, 2]                    256\n",
      "==========================================================================================\n",
      "Total params: 83,200\n",
      "Trainable params: 83,200\n",
      "Non-trainable params: 0\n",
      "Total mult-adds (Units.MEGABYTES): 0.08\n",
      "==========================================================================================\n",
      "Input size (MB): 0.00\n",
      "Forward/backward pass size (MB): 0.01\n",
      "Params size (MB): 0.33\n",
      "Estimated Total Size (MB): 0.34\n",
      "==========================================================================================\n",
      "==========================================================================================\n",
      "Layer (type:depth-idx)                   Output Shape              Param #\n",
      "==========================================================================================\n",
      "FinerModel                               [1, 2]                    --\n",
      "├─Sequential: 1-1                        [1, 2]                    --\n",
      "│    └─FinerLayer: 2-1                   [1, 128]                  --\n",
      "│    │    └─Linear: 3-1                  [1, 128]                  384\n",
      "│    │    └─siren_activation: 3-2        [1, 128]                  --\n",
      "│    └─FinerLayer: 2-2                   [1, 128]                  --\n",
      "│    │    └─Linear: 3-3                  [1, 128]                  16,512\n",
      "│    │    └─siren_activation: 3-4        [1, 128]                  --\n",
      "│    └─FinerLayer: 2-3                   [1, 128]                  --\n",
      "│    │    └─Linear: 3-5                  [1, 128]                  16,512\n",
      "│    │    └─siren_activation: 3-6        [1, 128]                  --\n",
      "│    └─FinerLayer: 2-4                   [1, 128]                  --\n",
      "│    │    └─Linear: 3-7                  [1, 128]                  16,512\n",
      "│    │    └─siren_activation: 3-8        [1, 128]                  --\n",
      "│    └─FinerLayer: 2-5                   [1, 128]                  --\n",
      "│    │    └─Linear: 3-9                  [1, 128]                  16,512\n",
      "│    │    └─siren_activation: 3-10       [1, 128]                  --\n",
      "│    └─FinerLayer: 2-6                   [1, 128]                  --\n",
      "│    │    └─Linear: 3-11                 [1, 128]                  16,512\n",
      "│    │    └─siren_activation: 3-12       [1, 128]                  --\n",
      "│    └─Linear: 2-7                       [1, 2]                    256\n",
      "==========================================================================================\n",
      "Total params: 83,200\n",
      "Trainable params: 83,200\n",
      "Non-trainable params: 0\n",
      "Total mult-adds (Units.MEGABYTES): 0.08\n",
      "==========================================================================================\n",
      "Input size (MB): 0.00\n",
      "Forward/backward pass size (MB): 0.01\n",
      "Params size (MB): 0.33\n",
      "Estimated Total Size (MB): 0.34\n",
      "==========================================================================================\n"
     ]
    }
   ],
   "execution_count": 10
  },
  {
   "metadata": {
    "ExecuteTime": {
     "end_time": "2025-07-03T18:43:49.867350Z",
     "start_time": "2025-07-03T18:43:49.847206Z"
    }
   },
   "cell_type": "code",
   "source": [
    "siren_residual_model = SirenModel(\n",
    "    in_features=2,\n",
    "    out_features=2,\n",
    "    hidden_layers=5,\n",
    "    hidden_features=512,\n",
    "    first_omega_0=30.0,\n",
    "    hidden_omega_0=30.0,\n",
    "    residual_net=True\n",
    ")"
   ],
   "id": "ce4ad6f79b9f0daf",
   "outputs": [],
   "execution_count": 11
  },
  {
   "metadata": {
    "ExecuteTime": {
     "end_time": "2025-07-03T18:43:49.882015Z",
     "start_time": "2025-07-03T18:43:49.871867Z"
    }
   },
   "cell_type": "code",
   "source": "output = siren_residual_model(x_dummy)",
   "id": "ffcc799028eefe3c",
   "outputs": [],
   "execution_count": 12
  },
  {
   "metadata": {
    "ExecuteTime": {
     "end_time": "2025-07-03T18:43:49.897387Z",
     "start_time": "2025-07-03T18:43:49.893382Z"
    }
   },
   "cell_type": "code",
   "source": [
    "# Print input and output\n",
    "print(\"Input:\")\n",
    "print(x_dummy)\n",
    "print(\"Output:\")\n",
    "print(output)"
   ],
   "id": "ef89bf21830f6054",
   "outputs": [
    {
     "name": "stdout",
     "output_type": "stream",
     "text": [
      "Input:\n",
      "tensor([[ 0.2643,  0.4806],\n",
      "        [-0.3880, -0.1166],\n",
      "        [ 0.5267,  0.3416],\n",
      "        [ 1.0770, -0.5350],\n",
      "        [-0.4397,  0.7759]])\n",
      "Output:\n",
      "tensor([[ 0.0277, -0.0366],\n",
      "        [ 0.0074, -0.0270],\n",
      "        [-0.0413,  0.0171],\n",
      "        [ 0.0061,  0.0266],\n",
      "        [ 0.0329, -0.0358]], grad_fn=<MmBackward0>)\n"
     ]
    }
   ],
   "execution_count": 13
  },
  {
   "metadata": {
    "ExecuteTime": {
     "end_time": "2025-07-03T18:43:49.930333Z",
     "start_time": "2025-07-03T18:43:49.921206Z"
    }
   },
   "cell_type": "code",
   "source": "model_summary(siren_residual_model, input_size=(1, 2))",
   "id": "f1aa40bae8bfa0cb",
   "outputs": [
    {
     "name": "stdout",
     "output_type": "stream",
     "text": [
      "==========================================================================================\n",
      "Layer (type:depth-idx)                   Output Shape              Param #\n",
      "==========================================================================================\n",
      "SirenModel                               [1, 2]                    --\n",
      "├─Sequential: 1-1                        [1, 2]                    --\n",
      "│    └─SirenLayer: 2-1                   [1, 512]                  --\n",
      "│    │    └─Linear: 3-1                  [1, 512]                  1,536\n",
      "│    │    └─siren_activation: 3-2        [1, 512]                  --\n",
      "│    └─SirenResidualLayer: 2-2           [1, 512]                  --\n",
      "│    │    └─Linear: 3-3                  [1, 512]                  262,656\n",
      "│    │    └─siren_activation: 3-4        [1, 512]                  --\n",
      "│    │    └─Linear: 3-5                  [1, 512]                  262,656\n",
      "│    │    └─siren_activation: 3-6        [1, 512]                  --\n",
      "│    └─SirenResidualLayer: 2-3           [1, 512]                  --\n",
      "│    │    └─Linear: 3-7                  [1, 512]                  262,656\n",
      "│    │    └─siren_activation: 3-8        [1, 512]                  --\n",
      "│    │    └─Linear: 3-9                  [1, 512]                  262,656\n",
      "│    │    └─siren_activation: 3-10       [1, 512]                  --\n",
      "│    └─SirenResidualLayer: 2-4           [1, 512]                  --\n",
      "│    │    └─Linear: 3-11                 [1, 512]                  262,656\n",
      "│    │    └─siren_activation: 3-12       [1, 512]                  --\n",
      "│    │    └─Linear: 3-13                 [1, 512]                  262,656\n",
      "│    │    └─siren_activation: 3-14       [1, 512]                  --\n",
      "│    └─SirenResidualLayer: 2-5           [1, 512]                  --\n",
      "│    │    └─Linear: 3-15                 [1, 512]                  262,656\n",
      "│    │    └─siren_activation: 3-16       [1, 512]                  --\n",
      "│    │    └─Linear: 3-17                 [1, 512]                  262,656\n",
      "│    │    └─siren_activation: 3-18       [1, 512]                  --\n",
      "│    └─SirenResidualLayer: 2-6           [1, 512]                  --\n",
      "│    │    └─Linear: 3-19                 [1, 512]                  262,656\n",
      "│    │    └─siren_activation: 3-20       [1, 512]                  --\n",
      "│    │    └─Linear: 3-21                 [1, 512]                  262,656\n",
      "│    │    └─siren_activation: 3-22       [1, 512]                  --\n",
      "│    └─Linear: 2-7                       [1, 2]                    1,024\n",
      "==========================================================================================\n",
      "Total params: 2,629,120\n",
      "Trainable params: 2,629,120\n",
      "Non-trainable params: 0\n",
      "Total mult-adds (Units.MEGABYTES): 2.63\n",
      "==========================================================================================\n",
      "Input size (MB): 0.00\n",
      "Forward/backward pass size (MB): 0.05\n",
      "Params size (MB): 10.52\n",
      "Estimated Total Size (MB): 10.56\n",
      "==========================================================================================\n",
      "==========================================================================================\n",
      "Layer (type:depth-idx)                   Output Shape              Param #\n",
      "==========================================================================================\n",
      "SirenModel                               [1, 2]                    --\n",
      "├─Sequential: 1-1                        [1, 2]                    --\n",
      "│    └─SirenLayer: 2-1                   [1, 512]                  --\n",
      "│    │    └─Linear: 3-1                  [1, 512]                  1,536\n",
      "│    │    └─siren_activation: 3-2        [1, 512]                  --\n",
      "│    └─SirenResidualLayer: 2-2           [1, 512]                  --\n",
      "│    │    └─Linear: 3-3                  [1, 512]                  262,656\n",
      "│    │    └─siren_activation: 3-4        [1, 512]                  --\n",
      "│    │    └─Linear: 3-5                  [1, 512]                  262,656\n",
      "│    │    └─siren_activation: 3-6        [1, 512]                  --\n",
      "│    └─SirenResidualLayer: 2-3           [1, 512]                  --\n",
      "│    │    └─Linear: 3-7                  [1, 512]                  262,656\n",
      "│    │    └─siren_activation: 3-8        [1, 512]                  --\n",
      "│    │    └─Linear: 3-9                  [1, 512]                  262,656\n",
      "│    │    └─siren_activation: 3-10       [1, 512]                  --\n",
      "│    └─SirenResidualLayer: 2-4           [1, 512]                  --\n",
      "│    │    └─Linear: 3-11                 [1, 512]                  262,656\n",
      "│    │    └─siren_activation: 3-12       [1, 512]                  --\n",
      "│    │    └─Linear: 3-13                 [1, 512]                  262,656\n",
      "│    │    └─siren_activation: 3-14       [1, 512]                  --\n",
      "│    └─SirenResidualLayer: 2-5           [1, 512]                  --\n",
      "│    │    └─Linear: 3-15                 [1, 512]                  262,656\n",
      "│    │    └─siren_activation: 3-16       [1, 512]                  --\n",
      "│    │    └─Linear: 3-17                 [1, 512]                  262,656\n",
      "│    │    └─siren_activation: 3-18       [1, 512]                  --\n",
      "│    └─SirenResidualLayer: 2-6           [1, 512]                  --\n",
      "│    │    └─Linear: 3-19                 [1, 512]                  262,656\n",
      "│    │    └─siren_activation: 3-20       [1, 512]                  --\n",
      "│    │    └─Linear: 3-21                 [1, 512]                  262,656\n",
      "│    │    └─siren_activation: 3-22       [1, 512]                  --\n",
      "│    └─Linear: 2-7                       [1, 2]                    1,024\n",
      "==========================================================================================\n",
      "Total params: 2,629,120\n",
      "Trainable params: 2,629,120\n",
      "Non-trainable params: 0\n",
      "Total mult-adds (Units.MEGABYTES): 2.63\n",
      "==========================================================================================\n",
      "Input size (MB): 0.00\n",
      "Forward/backward pass size (MB): 0.05\n",
      "Params size (MB): 10.52\n",
      "Estimated Total Size (MB): 10.56\n",
      "==========================================================================================\n"
     ]
    }
   ],
   "execution_count": 14
  },
  {
   "metadata": {
    "ExecuteTime": {
     "end_time": "2025-07-03T18:43:49.967495Z",
     "start_time": "2025-07-03T18:43:49.962063Z"
    }
   },
   "cell_type": "code",
   "source": [
    "finer_residual_model = FinerModel( \n",
    "    in_features=2,\n",
    "    out_features=2,\n",
    "    bias=True,\n",
    "    hidden_layers=5,\n",
    "    hidden_features=128,\n",
    "    first_omega_0=30.,\n",
    "    hidden_omega_0=30.,\n",
    "    first_k=10,\n",
    "    hidden_k=10,\n",
    "    residual_net=True\n",
    ")"
   ],
   "id": "1b815d502c6cbd92",
   "outputs": [],
   "execution_count": 15
  },
  {
   "metadata": {
    "ExecuteTime": {
     "end_time": "2025-07-03T18:43:49.977313Z",
     "start_time": "2025-07-03T18:43:49.973458Z"
    }
   },
   "cell_type": "code",
   "source": "output = finer_residual_model(x_dummy)",
   "id": "2052922e4f26d50b",
   "outputs": [],
   "execution_count": 16
  },
  {
   "metadata": {
    "ExecuteTime": {
     "end_time": "2025-07-03T18:43:49.989529Z",
     "start_time": "2025-07-03T18:43:49.985130Z"
    }
   },
   "cell_type": "code",
   "source": [
    "# Print input and output\n",
    "print(\"Input:\")\n",
    "print(x_dummy)\n",
    "print(\"Output:\")\n",
    "print(output)"
   ],
   "id": "1ade6f5941e980f7",
   "outputs": [
    {
     "name": "stdout",
     "output_type": "stream",
     "text": [
      "Input:\n",
      "tensor([[ 0.2643,  0.4806],\n",
      "        [-0.3880, -0.1166],\n",
      "        [ 0.5267,  0.3416],\n",
      "        [ 1.0770, -0.5350],\n",
      "        [-0.4397,  0.7759]])\n",
      "Output:\n",
      "tensor([[-0.0035,  0.0341],\n",
      "        [-0.0207,  0.0164],\n",
      "        [ 0.0116,  0.0411],\n",
      "        [-0.0249, -0.0210],\n",
      "        [-0.0307,  0.0480]], grad_fn=<MmBackward0>)\n"
     ]
    }
   ],
   "execution_count": 17
  },
  {
   "metadata": {
    "ExecuteTime": {
     "end_time": "2025-07-03T18:43:50.014121Z",
     "start_time": "2025-07-03T18:43:50.004613Z"
    }
   },
   "cell_type": "code",
   "source": "model_summary(finer_residual_model, input_size=(1, 2))",
   "id": "b6467d01c01379de",
   "outputs": [
    {
     "name": "stdout",
     "output_type": "stream",
     "text": [
      "==========================================================================================\n",
      "Layer (type:depth-idx)                   Output Shape              Param #\n",
      "==========================================================================================\n",
      "FinerModel                               [1, 2]                    --\n",
      "├─Sequential: 1-1                        [1, 2]                    --\n",
      "│    └─FinerLayer: 2-1                   [1, 128]                  --\n",
      "│    │    └─Linear: 3-1                  [1, 128]                  384\n",
      "│    │    └─siren_activation: 3-2        [1, 128]                  --\n",
      "│    └─FinerResidualLayer: 2-2           [1, 128]                  --\n",
      "│    │    └─Linear: 3-3                  [1, 128]                  16,512\n",
      "│    │    └─siren_activation: 3-4        [1, 128]                  --\n",
      "│    │    └─Linear: 3-5                  [1, 128]                  16,512\n",
      "│    │    └─siren_activation: 3-6        [1, 128]                  --\n",
      "│    └─FinerResidualLayer: 2-3           [1, 128]                  --\n",
      "│    │    └─Linear: 3-7                  [1, 128]                  16,512\n",
      "│    │    └─siren_activation: 3-8        [1, 128]                  --\n",
      "│    │    └─Linear: 3-9                  [1, 128]                  16,512\n",
      "│    │    └─siren_activation: 3-10       [1, 128]                  --\n",
      "│    └─FinerResidualLayer: 2-4           [1, 128]                  --\n",
      "│    │    └─Linear: 3-11                 [1, 128]                  16,512\n",
      "│    │    └─siren_activation: 3-12       [1, 128]                  --\n",
      "│    │    └─Linear: 3-13                 [1, 128]                  16,512\n",
      "│    │    └─siren_activation: 3-14       [1, 128]                  --\n",
      "│    └─FinerResidualLayer: 2-5           [1, 128]                  --\n",
      "│    │    └─Linear: 3-15                 [1, 128]                  16,512\n",
      "│    │    └─siren_activation: 3-16       [1, 128]                  --\n",
      "│    │    └─Linear: 3-17                 [1, 128]                  16,512\n",
      "│    │    └─siren_activation: 3-18       [1, 128]                  --\n",
      "│    └─FinerResidualLayer: 2-6           [1, 128]                  --\n",
      "│    │    └─Linear: 3-19                 [1, 128]                  16,512\n",
      "│    │    └─siren_activation: 3-20       [1, 128]                  --\n",
      "│    │    └─Linear: 3-21                 [1, 128]                  16,512\n",
      "│    │    └─siren_activation: 3-22       [1, 128]                  --\n",
      "│    └─Linear: 2-7                       [1, 2]                    256\n",
      "==========================================================================================\n",
      "Total params: 165,760\n",
      "Trainable params: 165,760\n",
      "Non-trainable params: 0\n",
      "Total mult-adds (Units.MEGABYTES): 0.17\n",
      "==========================================================================================\n",
      "Input size (MB): 0.00\n",
      "Forward/backward pass size (MB): 0.01\n",
      "Params size (MB): 0.66\n",
      "Estimated Total Size (MB): 0.67\n",
      "==========================================================================================\n",
      "==========================================================================================\n",
      "Layer (type:depth-idx)                   Output Shape              Param #\n",
      "==========================================================================================\n",
      "FinerModel                               [1, 2]                    --\n",
      "├─Sequential: 1-1                        [1, 2]                    --\n",
      "│    └─FinerLayer: 2-1                   [1, 128]                  --\n",
      "│    │    └─Linear: 3-1                  [1, 128]                  384\n",
      "│    │    └─siren_activation: 3-2        [1, 128]                  --\n",
      "│    └─FinerResidualLayer: 2-2           [1, 128]                  --\n",
      "│    │    └─Linear: 3-3                  [1, 128]                  16,512\n",
      "│    │    └─siren_activation: 3-4        [1, 128]                  --\n",
      "│    │    └─Linear: 3-5                  [1, 128]                  16,512\n",
      "│    │    └─siren_activation: 3-6        [1, 128]                  --\n",
      "│    └─FinerResidualLayer: 2-3           [1, 128]                  --\n",
      "│    │    └─Linear: 3-7                  [1, 128]                  16,512\n",
      "│    │    └─siren_activation: 3-8        [1, 128]                  --\n",
      "│    │    └─Linear: 3-9                  [1, 128]                  16,512\n",
      "│    │    └─siren_activation: 3-10       [1, 128]                  --\n",
      "│    └─FinerResidualLayer: 2-4           [1, 128]                  --\n",
      "│    │    └─Linear: 3-11                 [1, 128]                  16,512\n",
      "│    │    └─siren_activation: 3-12       [1, 128]                  --\n",
      "│    │    └─Linear: 3-13                 [1, 128]                  16,512\n",
      "│    │    └─siren_activation: 3-14       [1, 128]                  --\n",
      "│    └─FinerResidualLayer: 2-5           [1, 128]                  --\n",
      "│    │    └─Linear: 3-15                 [1, 128]                  16,512\n",
      "│    │    └─siren_activation: 3-16       [1, 128]                  --\n",
      "│    │    └─Linear: 3-17                 [1, 128]                  16,512\n",
      "│    │    └─siren_activation: 3-18       [1, 128]                  --\n",
      "│    └─FinerResidualLayer: 2-6           [1, 128]                  --\n",
      "│    │    └─Linear: 3-19                 [1, 128]                  16,512\n",
      "│    │    └─siren_activation: 3-20       [1, 128]                  --\n",
      "│    │    └─Linear: 3-21                 [1, 128]                  16,512\n",
      "│    │    └─siren_activation: 3-22       [1, 128]                  --\n",
      "│    └─Linear: 2-7                       [1, 2]                    256\n",
      "==========================================================================================\n",
      "Total params: 165,760\n",
      "Trainable params: 165,760\n",
      "Non-trainable params: 0\n",
      "Total mult-adds (Units.MEGABYTES): 0.17\n",
      "==========================================================================================\n",
      "Input size (MB): 0.00\n",
      "Forward/backward pass size (MB): 0.01\n",
      "Params size (MB): 0.66\n",
      "Estimated Total Size (MB): 0.67\n",
      "==========================================================================================\n"
     ]
    }
   ],
   "execution_count": 18
  },
  {
   "metadata": {},
   "cell_type": "markdown",
   "source": "## Gaussian Model and Finer Gaussian",
   "id": "14d8e2a41e4fbc36"
  },
  {
   "metadata": {
    "ExecuteTime": {
     "end_time": "2025-07-03T18:43:50.304671Z",
     "start_time": "2025-07-03T18:43:50.042857Z"
    }
   },
   "cell_type": "code",
   "source": "from models.implicit_neural_representations.inr_models.gaussian_model import GaussianModel, GaussianFinerModel",
   "id": "5d0cc6ed7f5663fa",
   "outputs": [],
   "execution_count": 19
  },
  {
   "metadata": {
    "ExecuteTime": {
     "end_time": "2025-07-03T18:43:50.319742Z",
     "start_time": "2025-07-03T18:43:50.307675Z"
    }
   },
   "cell_type": "code",
   "source": [
    "# initialize gaussian model without residual layers\n",
    "gaussian_model = GaussianModel(\n",
    "    in_features=2,\n",
    "    out_features=2,\n",
    "    hidden_layers=5,\n",
    "    hidden_features=512,\n",
    "    scale=30.0,\n",
    "    weight_init=2.0,\n",
    "    bias_init=2.0,\n",
    "    residual_net=False\n",
    ")"
   ],
   "id": "9419766ccc6c99a3",
   "outputs": [],
   "execution_count": 20
  },
  {
   "metadata": {
    "ExecuteTime": {
     "end_time": "2025-07-03T18:43:50.334604Z",
     "start_time": "2025-07-03T18:43:50.326122Z"
    }
   },
   "cell_type": "code",
   "source": "output = gaussian_model(x_dummy)",
   "id": "6f452b3e0af142e5",
   "outputs": [],
   "execution_count": 21
  },
  {
   "metadata": {
    "ExecuteTime": {
     "end_time": "2025-07-03T18:43:50.347738Z",
     "start_time": "2025-07-03T18:43:50.343069Z"
    }
   },
   "cell_type": "code",
   "source": [
    "# Print input and output\n",
    "print(\"Input:\")\n",
    "print(x_dummy)\n",
    "print(\"Output:\")\n",
    "print(output)"
   ],
   "id": "731c6834df07b74",
   "outputs": [
    {
     "name": "stdout",
     "output_type": "stream",
     "text": [
      "Input:\n",
      "tensor([[ 0.2643,  0.4806],\n",
      "        [-0.3880, -0.1166],\n",
      "        [ 0.5267,  0.3416],\n",
      "        [ 1.0770, -0.5350],\n",
      "        [-0.4397,  0.7759]])\n",
      "Output:\n",
      "tensor([[ 0.1539, -1.1772],\n",
      "        [-0.2657,  1.9102],\n",
      "        [ 0.0419,  1.5496],\n",
      "        [-2.4015, -1.7814],\n",
      "        [-2.3004, -0.3239]], grad_fn=<MmBackward0>)\n"
     ]
    }
   ],
   "execution_count": 22
  },
  {
   "metadata": {
    "ExecuteTime": {
     "end_time": "2025-07-03T18:43:50.382463Z",
     "start_time": "2025-07-03T18:43:50.373568Z"
    }
   },
   "cell_type": "code",
   "source": "model_summary(gaussian_model, input_size=(1, 2))",
   "id": "f43f9c0c2cec68df",
   "outputs": [
    {
     "name": "stdout",
     "output_type": "stream",
     "text": [
      "====================================================================================================\n",
      "Layer (type:depth-idx)                             Output Shape              Param #\n",
      "====================================================================================================\n",
      "GaussianModel                                      [1, 2]                    --\n",
      "├─Sequential: 1-1                                  [1, 2]                    --\n",
      "│    └─GaussianFourierFeatureTransform: 2-1        [1, 4]                    --\n",
      "│    └─GaussianLayer: 2-2                          [1, 512]                  --\n",
      "│    │    └─Linear: 3-1                            [1, 512]                  2,560\n",
      "│    │    └─gaussian_activation: 3-2               [1, 512]                  --\n",
      "│    └─GaussianLayer: 2-3                          [1, 512]                  --\n",
      "│    │    └─Linear: 3-3                            [1, 512]                  262,656\n",
      "│    │    └─gaussian_activation: 3-4               [1, 512]                  --\n",
      "│    └─GaussianLayer: 2-4                          [1, 512]                  --\n",
      "│    │    └─Linear: 3-5                            [1, 512]                  262,656\n",
      "│    │    └─gaussian_activation: 3-6               [1, 512]                  --\n",
      "│    └─GaussianLayer: 2-5                          [1, 512]                  --\n",
      "│    │    └─Linear: 3-7                            [1, 512]                  262,656\n",
      "│    │    └─gaussian_activation: 3-8               [1, 512]                  --\n",
      "│    └─GaussianLayer: 2-6                          [1, 512]                  --\n",
      "│    │    └─Linear: 3-9                            [1, 512]                  262,656\n",
      "│    │    └─gaussian_activation: 3-10              [1, 512]                  --\n",
      "│    └─GaussianLayer: 2-7                          [1, 512]                  --\n",
      "│    │    └─Linear: 3-11                           [1, 512]                  262,656\n",
      "│    │    └─gaussian_activation: 3-12              [1, 512]                  --\n",
      "│    └─Linear: 2-8                                 [1, 2]                    1,024\n",
      "====================================================================================================\n",
      "Total params: 1,316,864\n",
      "Trainable params: 1,316,864\n",
      "Non-trainable params: 0\n",
      "Total mult-adds (Units.MEGABYTES): 1.32\n",
      "====================================================================================================\n",
      "Input size (MB): 0.00\n",
      "Forward/backward pass size (MB): 0.02\n",
      "Params size (MB): 5.27\n",
      "Estimated Total Size (MB): 5.29\n",
      "====================================================================================================\n",
      "====================================================================================================\n",
      "Layer (type:depth-idx)                             Output Shape              Param #\n",
      "====================================================================================================\n",
      "GaussianModel                                      [1, 2]                    --\n",
      "├─Sequential: 1-1                                  [1, 2]                    --\n",
      "│    └─GaussianFourierFeatureTransform: 2-1        [1, 4]                    --\n",
      "│    └─GaussianLayer: 2-2                          [1, 512]                  --\n",
      "│    │    └─Linear: 3-1                            [1, 512]                  2,560\n",
      "│    │    └─gaussian_activation: 3-2               [1, 512]                  --\n",
      "│    └─GaussianLayer: 2-3                          [1, 512]                  --\n",
      "│    │    └─Linear: 3-3                            [1, 512]                  262,656\n",
      "│    │    └─gaussian_activation: 3-4               [1, 512]                  --\n",
      "│    └─GaussianLayer: 2-4                          [1, 512]                  --\n",
      "│    │    └─Linear: 3-5                            [1, 512]                  262,656\n",
      "│    │    └─gaussian_activation: 3-6               [1, 512]                  --\n",
      "│    └─GaussianLayer: 2-5                          [1, 512]                  --\n",
      "│    │    └─Linear: 3-7                            [1, 512]                  262,656\n",
      "│    │    └─gaussian_activation: 3-8               [1, 512]                  --\n",
      "│    └─GaussianLayer: 2-6                          [1, 512]                  --\n",
      "│    │    └─Linear: 3-9                            [1, 512]                  262,656\n",
      "│    │    └─gaussian_activation: 3-10              [1, 512]                  --\n",
      "│    └─GaussianLayer: 2-7                          [1, 512]                  --\n",
      "│    │    └─Linear: 3-11                           [1, 512]                  262,656\n",
      "│    │    └─gaussian_activation: 3-12              [1, 512]                  --\n",
      "│    └─Linear: 2-8                                 [1, 2]                    1,024\n",
      "====================================================================================================\n",
      "Total params: 1,316,864\n",
      "Trainable params: 1,316,864\n",
      "Non-trainable params: 0\n",
      "Total mult-adds (Units.MEGABYTES): 1.32\n",
      "====================================================================================================\n",
      "Input size (MB): 0.00\n",
      "Forward/backward pass size (MB): 0.02\n",
      "Params size (MB): 5.27\n",
      "Estimated Total Size (MB): 5.29\n",
      "====================================================================================================\n"
     ]
    }
   ],
   "execution_count": 23
  },
  {
   "metadata": {
    "ExecuteTime": {
     "end_time": "2025-07-03T18:43:50.432549Z",
     "start_time": "2025-07-03T18:43:50.413068Z"
    }
   },
   "cell_type": "code",
   "source": [
    "gaussian_residual_model = GaussianModel(\n",
    "    in_features=2,\n",
    "    out_features=2,\n",
    "    hidden_layers=5,\n",
    "    hidden_features=512,\n",
    "    scale=30.0,\n",
    "    weight_init=0.1,\n",
    "    residual_net=True\n",
    ")"
   ],
   "id": "77574003ab24e637",
   "outputs": [],
   "execution_count": 24
  },
  {
   "metadata": {
    "ExecuteTime": {
     "end_time": "2025-07-03T18:43:50.450104Z",
     "start_time": "2025-07-03T18:43:50.437919Z"
    }
   },
   "cell_type": "code",
   "source": "output = gaussian_residual_model(x_dummy)",
   "id": "d6dedce5e6c4c2b8",
   "outputs": [],
   "execution_count": 25
  },
  {
   "metadata": {
    "ExecuteTime": {
     "end_time": "2025-07-03T18:43:50.461967Z",
     "start_time": "2025-07-03T18:43:50.457992Z"
    }
   },
   "cell_type": "code",
   "source": [
    "print(\"Input:\")\n",
    "print(x_dummy)\n",
    "print(\"Output:\")\n",
    "print(output)"
   ],
   "id": "96fad802bea59adc",
   "outputs": [
    {
     "name": "stdout",
     "output_type": "stream",
     "text": [
      "Input:\n",
      "tensor([[ 0.2643,  0.4806],\n",
      "        [-0.3880, -0.1166],\n",
      "        [ 0.5267,  0.3416],\n",
      "        [ 1.0770, -0.5350],\n",
      "        [-0.4397,  0.7759]])\n",
      "Output:\n",
      "tensor([[ 0.3805, -0.0921],\n",
      "        [ 0.2416,  0.0781],\n",
      "        [ 0.3154,  0.2780],\n",
      "        [-0.1644, -0.3261],\n",
      "        [-0.1770, -0.3617]], grad_fn=<MmBackward0>)\n"
     ]
    }
   ],
   "execution_count": 26
  },
  {
   "metadata": {
    "ExecuteTime": {
     "end_time": "2025-07-03T18:43:50.496873Z",
     "start_time": "2025-07-03T18:43:50.483722Z"
    }
   },
   "cell_type": "code",
   "source": "model_summary(gaussian_residual_model, input_size=(1, 2))",
   "id": "2dfdbee952212e29",
   "outputs": [
    {
     "name": "stdout",
     "output_type": "stream",
     "text": [
      "====================================================================================================\n",
      "Layer (type:depth-idx)                             Output Shape              Param #\n",
      "====================================================================================================\n",
      "GaussianModel                                      [1, 2]                    --\n",
      "├─Sequential: 1-1                                  [1, 2]                    --\n",
      "│    └─GaussianFourierFeatureTransform: 2-1        [1, 4]                    --\n",
      "│    └─GaussianLayer: 2-2                          [1, 512]                  --\n",
      "│    │    └─Linear: 3-1                            [1, 512]                  2,560\n",
      "│    │    └─gaussian_activation: 3-2               [1, 512]                  --\n",
      "│    └─GaussianResidualLayer: 2-3                  [1, 512]                  --\n",
      "│    │    └─Linear: 3-3                            [1, 512]                  262,656\n",
      "│    │    └─gaussian_activation: 3-4               [1, 512]                  --\n",
      "│    │    └─Linear: 3-5                            [1, 512]                  262,656\n",
      "│    │    └─gaussian_activation: 3-6               [1, 512]                  --\n",
      "│    └─GaussianResidualLayer: 2-4                  [1, 512]                  --\n",
      "│    │    └─Linear: 3-7                            [1, 512]                  262,656\n",
      "│    │    └─gaussian_activation: 3-8               [1, 512]                  --\n",
      "│    │    └─Linear: 3-9                            [1, 512]                  262,656\n",
      "│    │    └─gaussian_activation: 3-10              [1, 512]                  --\n",
      "│    └─GaussianResidualLayer: 2-5                  [1, 512]                  --\n",
      "│    │    └─Linear: 3-11                           [1, 512]                  262,656\n",
      "│    │    └─gaussian_activation: 3-12              [1, 512]                  --\n",
      "│    │    └─Linear: 3-13                           [1, 512]                  262,656\n",
      "│    │    └─gaussian_activation: 3-14              [1, 512]                  --\n",
      "│    └─GaussianResidualLayer: 2-6                  [1, 512]                  --\n",
      "│    │    └─Linear: 3-15                           [1, 512]                  262,656\n",
      "│    │    └─gaussian_activation: 3-16              [1, 512]                  --\n",
      "│    │    └─Linear: 3-17                           [1, 512]                  262,656\n",
      "│    │    └─gaussian_activation: 3-18              [1, 512]                  --\n",
      "│    └─GaussianResidualLayer: 2-7                  [1, 512]                  --\n",
      "│    │    └─Linear: 3-19                           [1, 512]                  262,656\n",
      "│    │    └─gaussian_activation: 3-20              [1, 512]                  --\n",
      "│    │    └─Linear: 3-21                           [1, 512]                  262,656\n",
      "│    │    └─gaussian_activation: 3-22              [1, 512]                  --\n",
      "│    └─Linear: 2-8                                 [1, 2]                    1,024\n",
      "====================================================================================================\n",
      "Total params: 2,630,144\n",
      "Trainable params: 2,630,144\n",
      "Non-trainable params: 0\n",
      "Total mult-adds (Units.MEGABYTES): 2.63\n",
      "====================================================================================================\n",
      "Input size (MB): 0.00\n",
      "Forward/backward pass size (MB): 0.05\n",
      "Params size (MB): 10.52\n",
      "Estimated Total Size (MB): 10.57\n",
      "====================================================================================================\n",
      "====================================================================================================\n",
      "Layer (type:depth-idx)                             Output Shape              Param #\n",
      "====================================================================================================\n",
      "GaussianModel                                      [1, 2]                    --\n",
      "├─Sequential: 1-1                                  [1, 2]                    --\n",
      "│    └─GaussianFourierFeatureTransform: 2-1        [1, 4]                    --\n",
      "│    └─GaussianLayer: 2-2                          [1, 512]                  --\n",
      "│    │    └─Linear: 3-1                            [1, 512]                  2,560\n",
      "│    │    └─gaussian_activation: 3-2               [1, 512]                  --\n",
      "│    └─GaussianResidualLayer: 2-3                  [1, 512]                  --\n",
      "│    │    └─Linear: 3-3                            [1, 512]                  262,656\n",
      "│    │    └─gaussian_activation: 3-4               [1, 512]                  --\n",
      "│    │    └─Linear: 3-5                            [1, 512]                  262,656\n",
      "│    │    └─gaussian_activation: 3-6               [1, 512]                  --\n",
      "│    └─GaussianResidualLayer: 2-4                  [1, 512]                  --\n",
      "│    │    └─Linear: 3-7                            [1, 512]                  262,656\n",
      "│    │    └─gaussian_activation: 3-8               [1, 512]                  --\n",
      "│    │    └─Linear: 3-9                            [1, 512]                  262,656\n",
      "│    │    └─gaussian_activation: 3-10              [1, 512]                  --\n",
      "│    └─GaussianResidualLayer: 2-5                  [1, 512]                  --\n",
      "│    │    └─Linear: 3-11                           [1, 512]                  262,656\n",
      "│    │    └─gaussian_activation: 3-12              [1, 512]                  --\n",
      "│    │    └─Linear: 3-13                           [1, 512]                  262,656\n",
      "│    │    └─gaussian_activation: 3-14              [1, 512]                  --\n",
      "│    └─GaussianResidualLayer: 2-6                  [1, 512]                  --\n",
      "│    │    └─Linear: 3-15                           [1, 512]                  262,656\n",
      "│    │    └─gaussian_activation: 3-16              [1, 512]                  --\n",
      "│    │    └─Linear: 3-17                           [1, 512]                  262,656\n",
      "│    │    └─gaussian_activation: 3-18              [1, 512]                  --\n",
      "│    └─GaussianResidualLayer: 2-7                  [1, 512]                  --\n",
      "│    │    └─Linear: 3-19                           [1, 512]                  262,656\n",
      "│    │    └─gaussian_activation: 3-20              [1, 512]                  --\n",
      "│    │    └─Linear: 3-21                           [1, 512]                  262,656\n",
      "│    │    └─gaussian_activation: 3-22              [1, 512]                  --\n",
      "│    └─Linear: 2-8                                 [1, 2]                    1,024\n",
      "====================================================================================================\n",
      "Total params: 2,630,144\n",
      "Trainable params: 2,630,144\n",
      "Non-trainable params: 0\n",
      "Total mult-adds (Units.MEGABYTES): 2.63\n",
      "====================================================================================================\n",
      "Input size (MB): 0.00\n",
      "Forward/backward pass size (MB): 0.05\n",
      "Params size (MB): 10.52\n",
      "Estimated Total Size (MB): 10.57\n",
      "====================================================================================================\n"
     ]
    }
   ],
   "execution_count": 27
  },
  {
   "metadata": {
    "ExecuteTime": {
     "end_time": "2025-07-03T18:43:50.529780Z",
     "start_time": "2025-07-03T18:43:50.525413Z"
    }
   },
   "cell_type": "code",
   "source": [
    "gaussian_finer_model = GaussianFinerModel(\n",
    "    in_features=2,\n",
    "    out_features=2,\n",
    "    scale=30.0,\n",
    "    omega_f=2.5,\n",
    "    bias_init=5.0,\n",
    "    weight_init=1.5,\n",
    "    residual_net=False\n",
    ")"
   ],
   "id": "15f75d9285f88d56",
   "outputs": [],
   "execution_count": 28
  },
  {
   "metadata": {
    "ExecuteTime": {
     "end_time": "2025-07-03T18:43:50.543299Z",
     "start_time": "2025-07-03T18:43:50.532785Z"
    }
   },
   "cell_type": "code",
   "source": "output = gaussian_finer_model(x_dummy)",
   "id": "fef55696294111fc",
   "outputs": [],
   "execution_count": 29
  },
  {
   "metadata": {
    "ExecuteTime": {
     "end_time": "2025-07-03T18:43:50.555163Z",
     "start_time": "2025-07-03T18:43:50.551160Z"
    }
   },
   "cell_type": "code",
   "source": [
    "print(\"Input:\")\n",
    "print(x_dummy)\n",
    "print(\"Output:\")\n",
    "print(output)"
   ],
   "id": "2f8dba4030255a98",
   "outputs": [
    {
     "name": "stdout",
     "output_type": "stream",
     "text": [
      "Input:\n",
      "tensor([[ 0.2643,  0.4806],\n",
      "        [-0.3880, -0.1166],\n",
      "        [ 0.5267,  0.3416],\n",
      "        [ 1.0770, -0.5350],\n",
      "        [-0.4397,  0.7759]])\n",
      "Output:\n",
      "tensor([[ 2.4971,  0.7265],\n",
      "        [-0.3502, -2.3282],\n",
      "        [ 2.9542,  0.1464],\n",
      "        [-1.2269,  1.2049],\n",
      "        [-0.1961,  0.7540]], grad_fn=<MmBackward0>)\n"
     ]
    }
   ],
   "execution_count": 30
  },
  {
   "metadata": {
    "ExecuteTime": {
     "end_time": "2025-07-03T18:43:50.576638Z",
     "start_time": "2025-07-03T18:43:50.570131Z"
    }
   },
   "cell_type": "code",
   "source": "model_summary(gaussian_finer_model, input_size=(1, 2))",
   "id": "93a19d70f8c96ae0",
   "outputs": [
    {
     "name": "stdout",
     "output_type": "stream",
     "text": [
      "====================================================================================================\n",
      "Layer (type:depth-idx)                             Output Shape              Param #\n",
      "====================================================================================================\n",
      "GaussianFinerModel                                 [1, 2]                    --\n",
      "├─Sequential: 1-1                                  [1, 2]                    --\n",
      "│    └─GaussianFourierFeatureTransform: 2-1        [1, 4]                    --\n",
      "│    └─GaussianFinerLayer: 2-2                     [1, 128]                  --\n",
      "│    │    └─Linear: 3-1                            [1, 128]                  640\n",
      "│    │    └─gaussian_activation: 3-2               [1, 128]                  --\n",
      "│    └─GaussianFinerLayer: 2-3                     [1, 128]                  --\n",
      "│    │    └─Linear: 3-3                            [1, 128]                  16,512\n",
      "│    │    └─gaussian_activation: 3-4               [1, 128]                  --\n",
      "│    └─GaussianFinerLayer: 2-4                     [1, 128]                  --\n",
      "│    │    └─Linear: 3-5                            [1, 128]                  16,512\n",
      "│    │    └─gaussian_activation: 3-6               [1, 128]                  --\n",
      "│    └─GaussianFinerLayer: 2-5                     [1, 128]                  --\n",
      "│    │    └─Linear: 3-7                            [1, 128]                  16,512\n",
      "│    │    └─gaussian_activation: 3-8               [1, 128]                  --\n",
      "│    └─GaussianFinerLayer: 2-6                     [1, 128]                  --\n",
      "│    │    └─Linear: 3-9                            [1, 128]                  16,512\n",
      "│    │    └─gaussian_activation: 3-10              [1, 128]                  --\n",
      "│    └─GaussianFinerLayer: 2-7                     [1, 128]                  --\n",
      "│    │    └─Linear: 3-11                           [1, 128]                  16,512\n",
      "│    │    └─gaussian_activation: 3-12              [1, 128]                  --\n",
      "│    └─Linear: 2-8                                 [1, 2]                    256\n",
      "====================================================================================================\n",
      "Total params: 83,456\n",
      "Trainable params: 83,456\n",
      "Non-trainable params: 0\n",
      "Total mult-adds (Units.MEGABYTES): 0.08\n",
      "====================================================================================================\n",
      "Input size (MB): 0.00\n",
      "Forward/backward pass size (MB): 0.01\n",
      "Params size (MB): 0.33\n",
      "Estimated Total Size (MB): 0.34\n",
      "====================================================================================================\n",
      "====================================================================================================\n",
      "Layer (type:depth-idx)                             Output Shape              Param #\n",
      "====================================================================================================\n",
      "GaussianFinerModel                                 [1, 2]                    --\n",
      "├─Sequential: 1-1                                  [1, 2]                    --\n",
      "│    └─GaussianFourierFeatureTransform: 2-1        [1, 4]                    --\n",
      "│    └─GaussianFinerLayer: 2-2                     [1, 128]                  --\n",
      "│    │    └─Linear: 3-1                            [1, 128]                  640\n",
      "│    │    └─gaussian_activation: 3-2               [1, 128]                  --\n",
      "│    └─GaussianFinerLayer: 2-3                     [1, 128]                  --\n",
      "│    │    └─Linear: 3-3                            [1, 128]                  16,512\n",
      "│    │    └─gaussian_activation: 3-4               [1, 128]                  --\n",
      "│    └─GaussianFinerLayer: 2-4                     [1, 128]                  --\n",
      "│    │    └─Linear: 3-5                            [1, 128]                  16,512\n",
      "│    │    └─gaussian_activation: 3-6               [1, 128]                  --\n",
      "│    └─GaussianFinerLayer: 2-5                     [1, 128]                  --\n",
      "│    │    └─Linear: 3-7                            [1, 128]                  16,512\n",
      "│    │    └─gaussian_activation: 3-8               [1, 128]                  --\n",
      "│    └─GaussianFinerLayer: 2-6                     [1, 128]                  --\n",
      "│    │    └─Linear: 3-9                            [1, 128]                  16,512\n",
      "│    │    └─gaussian_activation: 3-10              [1, 128]                  --\n",
      "│    └─GaussianFinerLayer: 2-7                     [1, 128]                  --\n",
      "│    │    └─Linear: 3-11                           [1, 128]                  16,512\n",
      "│    │    └─gaussian_activation: 3-12              [1, 128]                  --\n",
      "│    └─Linear: 2-8                                 [1, 2]                    256\n",
      "====================================================================================================\n",
      "Total params: 83,456\n",
      "Trainable params: 83,456\n",
      "Non-trainable params: 0\n",
      "Total mult-adds (Units.MEGABYTES): 0.08\n",
      "====================================================================================================\n",
      "Input size (MB): 0.00\n",
      "Forward/backward pass size (MB): 0.01\n",
      "Params size (MB): 0.33\n",
      "Estimated Total Size (MB): 0.34\n",
      "====================================================================================================\n"
     ]
    }
   ],
   "execution_count": 31
  },
  {
   "metadata": {
    "ExecuteTime": {
     "end_time": "2025-07-03T18:43:50.608973Z",
     "start_time": "2025-07-03T18:43:50.604622Z"
    }
   },
   "cell_type": "code",
   "source": [
    "gaussian_finer_residual_model = GaussianFinerModel(\n",
    "    in_features=2,\n",
    "    out_features=2,\n",
    "    scale=30.0,\n",
    "    omega_f=2.5,\n",
    "    bias_init=5.0,\n",
    "    weight_init=0.1,\n",
    "    residual_net=True\n",
    ")"
   ],
   "id": "6dce263d2a0765b9",
   "outputs": [],
   "execution_count": 32
  },
  {
   "metadata": {
    "ExecuteTime": {
     "end_time": "2025-07-03T18:43:50.620120Z",
     "start_time": "2025-07-03T18:43:50.614107Z"
    }
   },
   "cell_type": "code",
   "source": "output = gaussian_finer_residual_model(x_dummy)",
   "id": "329de2f8c99c1a59",
   "outputs": [],
   "execution_count": 33
  },
  {
   "metadata": {
    "ExecuteTime": {
     "end_time": "2025-07-03T18:43:50.630746Z",
     "start_time": "2025-07-03T18:43:50.626821Z"
    }
   },
   "cell_type": "code",
   "source": [
    "print(\"Input:\")\n",
    "print(x_dummy)\n",
    "print(\"Output:\")\n",
    "print(output)"
   ],
   "id": "1e84596644ef36fc",
   "outputs": [
    {
     "name": "stdout",
     "output_type": "stream",
     "text": [
      "Input:\n",
      "tensor([[ 0.2643,  0.4806],\n",
      "        [-0.3880, -0.1166],\n",
      "        [ 0.5267,  0.3416],\n",
      "        [ 1.0770, -0.5350],\n",
      "        [-0.4397,  0.7759]])\n",
      "Output:\n",
      "tensor([[-0.1565,  0.1635],\n",
      "        [-0.0376,  0.0895],\n",
      "        [ 0.0418,  0.0296],\n",
      "        [-0.0700,  0.0542],\n",
      "        [ 0.0520, -0.1641]], grad_fn=<MmBackward0>)\n"
     ]
    }
   ],
   "execution_count": 34
  },
  {
   "metadata": {
    "ExecuteTime": {
     "end_time": "2025-07-03T18:43:50.660729Z",
     "start_time": "2025-07-03T18:43:50.652226Z"
    }
   },
   "cell_type": "code",
   "source": "model_summary(gaussian_finer_residual_model, input_size=(1, 2))",
   "id": "a4df428b7e58a756",
   "outputs": [
    {
     "name": "stdout",
     "output_type": "stream",
     "text": [
      "====================================================================================================\n",
      "Layer (type:depth-idx)                             Output Shape              Param #\n",
      "====================================================================================================\n",
      "GaussianFinerModel                                 [1, 2]                    --\n",
      "├─Sequential: 1-1                                  [1, 2]                    --\n",
      "│    └─GaussianFourierFeatureTransform: 2-1        [1, 4]                    --\n",
      "│    └─GaussianFinerLayer: 2-2                     [1, 128]                  --\n",
      "│    │    └─Linear: 3-1                            [1, 128]                  640\n",
      "│    │    └─gaussian_activation: 3-2               [1, 128]                  --\n",
      "│    └─GaussianFinerResidualLayer: 2-3             [1, 128]                  --\n",
      "│    │    └─Linear: 3-3                            [1, 128]                  16,512\n",
      "│    │    └─gaussian_activation: 3-4               [1, 128]                  --\n",
      "│    │    └─Linear: 3-5                            [1, 128]                  16,512\n",
      "│    │    └─gaussian_activation: 3-6               [1, 128]                  --\n",
      "│    └─GaussianFinerResidualLayer: 2-4             [1, 128]                  --\n",
      "│    │    └─Linear: 3-7                            [1, 128]                  16,512\n",
      "│    │    └─gaussian_activation: 3-8               [1, 128]                  --\n",
      "│    │    └─Linear: 3-9                            [1, 128]                  16,512\n",
      "│    │    └─gaussian_activation: 3-10              [1, 128]                  --\n",
      "│    └─GaussianFinerResidualLayer: 2-5             [1, 128]                  --\n",
      "│    │    └─Linear: 3-11                           [1, 128]                  16,512\n",
      "│    │    └─gaussian_activation: 3-12              [1, 128]                  --\n",
      "│    │    └─Linear: 3-13                           [1, 128]                  16,512\n",
      "│    │    └─gaussian_activation: 3-14              [1, 128]                  --\n",
      "│    └─GaussianFinerResidualLayer: 2-6             [1, 128]                  --\n",
      "│    │    └─Linear: 3-15                           [1, 128]                  16,512\n",
      "│    │    └─gaussian_activation: 3-16              [1, 128]                  --\n",
      "│    │    └─Linear: 3-17                           [1, 128]                  16,512\n",
      "│    │    └─gaussian_activation: 3-18              [1, 128]                  --\n",
      "│    └─GaussianFinerResidualLayer: 2-7             [1, 128]                  --\n",
      "│    │    └─Linear: 3-19                           [1, 128]                  16,512\n",
      "│    │    └─gaussian_activation: 3-20              [1, 128]                  --\n",
      "│    │    └─Linear: 3-21                           [1, 128]                  16,512\n",
      "│    │    └─gaussian_activation: 3-22              [1, 128]                  --\n",
      "│    └─Linear: 2-8                                 [1, 2]                    256\n",
      "====================================================================================================\n",
      "Total params: 166,016\n",
      "Trainable params: 166,016\n",
      "Non-trainable params: 0\n",
      "Total mult-adds (Units.MEGABYTES): 0.17\n",
      "====================================================================================================\n",
      "Input size (MB): 0.00\n",
      "Forward/backward pass size (MB): 0.01\n",
      "Params size (MB): 0.66\n",
      "Estimated Total Size (MB): 0.68\n",
      "====================================================================================================\n",
      "====================================================================================================\n",
      "Layer (type:depth-idx)                             Output Shape              Param #\n",
      "====================================================================================================\n",
      "GaussianFinerModel                                 [1, 2]                    --\n",
      "├─Sequential: 1-1                                  [1, 2]                    --\n",
      "│    └─GaussianFourierFeatureTransform: 2-1        [1, 4]                    --\n",
      "│    └─GaussianFinerLayer: 2-2                     [1, 128]                  --\n",
      "│    │    └─Linear: 3-1                            [1, 128]                  640\n",
      "│    │    └─gaussian_activation: 3-2               [1, 128]                  --\n",
      "│    └─GaussianFinerResidualLayer: 2-3             [1, 128]                  --\n",
      "│    │    └─Linear: 3-3                            [1, 128]                  16,512\n",
      "│    │    └─gaussian_activation: 3-4               [1, 128]                  --\n",
      "│    │    └─Linear: 3-5                            [1, 128]                  16,512\n",
      "│    │    └─gaussian_activation: 3-6               [1, 128]                  --\n",
      "│    └─GaussianFinerResidualLayer: 2-4             [1, 128]                  --\n",
      "│    │    └─Linear: 3-7                            [1, 128]                  16,512\n",
      "│    │    └─gaussian_activation: 3-8               [1, 128]                  --\n",
      "│    │    └─Linear: 3-9                            [1, 128]                  16,512\n",
      "│    │    └─gaussian_activation: 3-10              [1, 128]                  --\n",
      "│    └─GaussianFinerResidualLayer: 2-5             [1, 128]                  --\n",
      "│    │    └─Linear: 3-11                           [1, 128]                  16,512\n",
      "│    │    └─gaussian_activation: 3-12              [1, 128]                  --\n",
      "│    │    └─Linear: 3-13                           [1, 128]                  16,512\n",
      "│    │    └─gaussian_activation: 3-14              [1, 128]                  --\n",
      "│    └─GaussianFinerResidualLayer: 2-6             [1, 128]                  --\n",
      "│    │    └─Linear: 3-15                           [1, 128]                  16,512\n",
      "│    │    └─gaussian_activation: 3-16              [1, 128]                  --\n",
      "│    │    └─Linear: 3-17                           [1, 128]                  16,512\n",
      "│    │    └─gaussian_activation: 3-18              [1, 128]                  --\n",
      "│    └─GaussianFinerResidualLayer: 2-7             [1, 128]                  --\n",
      "│    │    └─Linear: 3-19                           [1, 128]                  16,512\n",
      "│    │    └─gaussian_activation: 3-20              [1, 128]                  --\n",
      "│    │    └─Linear: 3-21                           [1, 128]                  16,512\n",
      "│    │    └─gaussian_activation: 3-22              [1, 128]                  --\n",
      "│    └─Linear: 2-8                                 [1, 2]                    256\n",
      "====================================================================================================\n",
      "Total params: 166,016\n",
      "Trainable params: 166,016\n",
      "Non-trainable params: 0\n",
      "Total mult-adds (Units.MEGABYTES): 0.17\n",
      "====================================================================================================\n",
      "Input size (MB): 0.00\n",
      "Forward/backward pass size (MB): 0.01\n",
      "Params size (MB): 0.66\n",
      "Estimated Total Size (MB): 0.68\n",
      "====================================================================================================\n"
     ]
    }
   ],
   "execution_count": 35
  },
  {
   "metadata": {},
   "cell_type": "markdown",
   "source": "## MLP MODEL",
   "id": "5e16b99dddc3a2f1"
  },
  {
   "metadata": {
    "ExecuteTime": {
     "end_time": "2025-07-03T18:43:50.697428Z",
     "start_time": "2025-07-03T18:43:50.693470Z"
    }
   },
   "cell_type": "code",
   "source": "from models.implicit_neural_representations.inr_models.mlp_model import MLPModel",
   "id": "993af880de38c136",
   "outputs": [],
   "execution_count": 36
  },
  {
   "metadata": {
    "ExecuteTime": {
     "end_time": "2025-07-03T18:43:50.718652Z",
     "start_time": "2025-07-03T18:43:50.713473Z"
    }
   },
   "cell_type": "code",
   "source": [
    "mlp_model = MLPModel(\n",
    "    in_features=2,\n",
    "    out_features=2,\n",
    "    mapping_type=\"gauss\",\n",
    "    mapping_dim=4,\n",
    "    mapping_scale=10,\n",
    "    hidden_features=128,\n",
    "    hidden_layers = 5, \n",
    "    bias=True,\n",
    "    weight_init=0.1,\n",
    "    bias_init=None,\n",
    "    residual_net=False)"
   ],
   "id": "4e606d57db8d7561",
   "outputs": [],
   "execution_count": 37
  },
  {
   "metadata": {
    "ExecuteTime": {
     "end_time": "2025-07-03T18:43:50.727603Z",
     "start_time": "2025-07-03T18:43:50.724766Z"
    }
   },
   "cell_type": "code",
   "source": "output = mlp_model(x_dummy)",
   "id": "cc78849fb95d1ad3",
   "outputs": [],
   "execution_count": 38
  },
  {
   "metadata": {
    "ExecuteTime": {
     "end_time": "2025-07-03T18:43:50.740642Z",
     "start_time": "2025-07-03T18:43:50.736134Z"
    }
   },
   "cell_type": "code",
   "source": [
    "print(\"Input:\")\n",
    "print(x_dummy)\n",
    "print(\"Output:\")\n",
    "print(output)"
   ],
   "id": "6af33433ffac42ba",
   "outputs": [
    {
     "name": "stdout",
     "output_type": "stream",
     "text": [
      "Input:\n",
      "tensor([[ 0.2643,  0.4806],\n",
      "        [-0.3880, -0.1166],\n",
      "        [ 0.5267,  0.3416],\n",
      "        [ 1.0770, -0.5350],\n",
      "        [-0.4397,  0.7759]])\n",
      "Output:\n",
      "tensor([[-0.0742,  0.0089],\n",
      "        [-0.0759,  0.0091],\n",
      "        [-0.0738,  0.0098],\n",
      "        [-0.0734,  0.0099],\n",
      "        [-0.0729,  0.0092]], grad_fn=<AddmmBackward0>)\n"
     ]
    }
   ],
   "execution_count": 39
  },
  {
   "metadata": {
    "ExecuteTime": {
     "end_time": "2025-07-03T18:43:50.767669Z",
     "start_time": "2025-07-03T18:43:50.760741Z"
    }
   },
   "cell_type": "code",
   "source": "model_summary(mlp_model, input_size=(1, 2))",
   "id": "782a5322fa9d3ca6",
   "outputs": [
    {
     "name": "stdout",
     "output_type": "stream",
     "text": [
      "====================================================================================================\n",
      "Layer (type:depth-idx)                             Output Shape              Param #\n",
      "====================================================================================================\n",
      "MLPModel                                           [1, 2]                    --\n",
      "├─Sequential: 1-1                                  [1, 2]                    --\n",
      "│    └─GaussianFourierFeatureTransform: 2-1        [1, 4]                    --\n",
      "│    └─MLPLayer: 2-2                               [1, 128]                  --\n",
      "│    │    └─Linear: 3-1                            [1, 128]                  640\n",
      "│    │    └─ReLU: 3-2                              [1, 128]                  --\n",
      "│    └─MLPLayer: 2-3                               [1, 128]                  --\n",
      "│    │    └─Linear: 3-3                            [1, 128]                  16,512\n",
      "│    │    └─ReLU: 3-4                              [1, 128]                  --\n",
      "│    └─MLPLayer: 2-4                               [1, 128]                  --\n",
      "│    │    └─Linear: 3-5                            [1, 128]                  16,512\n",
      "│    │    └─ReLU: 3-6                              [1, 128]                  --\n",
      "│    └─MLPLayer: 2-5                               [1, 128]                  --\n",
      "│    │    └─Linear: 3-7                            [1, 128]                  16,512\n",
      "│    │    └─ReLU: 3-8                              [1, 128]                  --\n",
      "│    └─MLPLayer: 2-6                               [1, 128]                  --\n",
      "│    │    └─Linear: 3-9                            [1, 128]                  16,512\n",
      "│    │    └─ReLU: 3-10                             [1, 128]                  --\n",
      "│    └─MLPLayer: 2-7                               [1, 128]                  --\n",
      "│    │    └─Linear: 3-11                           [1, 128]                  16,512\n",
      "│    │    └─ReLU: 3-12                             [1, 128]                  --\n",
      "│    └─Linear: 2-8                                 [1, 2]                    258\n",
      "====================================================================================================\n",
      "Total params: 83,458\n",
      "Trainable params: 83,458\n",
      "Non-trainable params: 0\n",
      "Total mult-adds (Units.MEGABYTES): 0.08\n",
      "====================================================================================================\n",
      "Input size (MB): 0.00\n",
      "Forward/backward pass size (MB): 0.01\n",
      "Params size (MB): 0.33\n",
      "Estimated Total Size (MB): 0.34\n",
      "====================================================================================================\n",
      "====================================================================================================\n",
      "Layer (type:depth-idx)                             Output Shape              Param #\n",
      "====================================================================================================\n",
      "MLPModel                                           [1, 2]                    --\n",
      "├─Sequential: 1-1                                  [1, 2]                    --\n",
      "│    └─GaussianFourierFeatureTransform: 2-1        [1, 4]                    --\n",
      "│    └─MLPLayer: 2-2                               [1, 128]                  --\n",
      "│    │    └─Linear: 3-1                            [1, 128]                  640\n",
      "│    │    └─ReLU: 3-2                              [1, 128]                  --\n",
      "│    └─MLPLayer: 2-3                               [1, 128]                  --\n",
      "│    │    └─Linear: 3-3                            [1, 128]                  16,512\n",
      "│    │    └─ReLU: 3-4                              [1, 128]                  --\n",
      "│    └─MLPLayer: 2-4                               [1, 128]                  --\n",
      "│    │    └─Linear: 3-5                            [1, 128]                  16,512\n",
      "│    │    └─ReLU: 3-6                              [1, 128]                  --\n",
      "│    └─MLPLayer: 2-5                               [1, 128]                  --\n",
      "│    │    └─Linear: 3-7                            [1, 128]                  16,512\n",
      "│    │    └─ReLU: 3-8                              [1, 128]                  --\n",
      "│    └─MLPLayer: 2-6                               [1, 128]                  --\n",
      "│    │    └─Linear: 3-9                            [1, 128]                  16,512\n",
      "│    │    └─ReLU: 3-10                             [1, 128]                  --\n",
      "│    └─MLPLayer: 2-7                               [1, 128]                  --\n",
      "│    │    └─Linear: 3-11                           [1, 128]                  16,512\n",
      "│    │    └─ReLU: 3-12                             [1, 128]                  --\n",
      "│    └─Linear: 2-8                                 [1, 2]                    258\n",
      "====================================================================================================\n",
      "Total params: 83,458\n",
      "Trainable params: 83,458\n",
      "Non-trainable params: 0\n",
      "Total mult-adds (Units.MEGABYTES): 0.08\n",
      "====================================================================================================\n",
      "Input size (MB): 0.00\n",
      "Forward/backward pass size (MB): 0.01\n",
      "Params size (MB): 0.33\n",
      "Estimated Total Size (MB): 0.34\n",
      "====================================================================================================\n"
     ]
    }
   ],
   "execution_count": 40
  },
  {
   "metadata": {
    "ExecuteTime": {
     "end_time": "2025-07-03T18:43:50.786134Z",
     "start_time": "2025-07-03T18:43:50.780234Z"
    }
   },
   "cell_type": "code",
   "source": [
    "mlp_residual_model = MLPModel(\n",
    "    in_features=2,\n",
    "    out_features=2,\n",
    "    mapping_type=\"gauss\",\n",
    "    mapping_dim=4,\n",
    "    mapping_scale=10,\n",
    "    hidden_features=128,\n",
    "    hidden_layers = 5, \n",
    "    bias=True,\n",
    "    weight_init=0.1,\n",
    "    bias_init=None,\n",
    "    residual_net=True)"
   ],
   "id": "f2c8354cf066a683",
   "outputs": [],
   "execution_count": 41
  },
  {
   "metadata": {
    "ExecuteTime": {
     "end_time": "2025-07-03T18:43:50.796847Z",
     "start_time": "2025-07-03T18:43:50.793351Z"
    }
   },
   "cell_type": "code",
   "source": "output = mlp_residual_model(x_dummy)",
   "id": "938140693446ee64",
   "outputs": [],
   "execution_count": 42
  },
  {
   "metadata": {
    "ExecuteTime": {
     "end_time": "2025-07-03T18:43:50.807649Z",
     "start_time": "2025-07-03T18:43:50.804380Z"
    }
   },
   "cell_type": "code",
   "source": [
    "print(\"Input:\")\n",
    "print(x_dummy)\n",
    "print(\"Output:\")\n",
    "print(output)"
   ],
   "id": "e927b3fbde7cd4ce",
   "outputs": [
    {
     "name": "stdout",
     "output_type": "stream",
     "text": [
      "Input:\n",
      "tensor([[ 0.2643,  0.4806],\n",
      "        [-0.3880, -0.1166],\n",
      "        [ 0.5267,  0.3416],\n",
      "        [ 1.0770, -0.5350],\n",
      "        [-0.4397,  0.7759]])\n",
      "Output:\n",
      "tensor([[-0.1386,  0.1169],\n",
      "        [-0.0278,  0.0643],\n",
      "        [-0.0096,  0.1351],\n",
      "        [-0.0762,  0.1155],\n",
      "        [-0.0114,  0.0719]], grad_fn=<AddmmBackward0>)\n"
     ]
    }
   ],
   "execution_count": 43
  },
  {
   "metadata": {
    "ExecuteTime": {
     "end_time": "2025-07-03T18:43:50.837478Z",
     "start_time": "2025-07-03T18:43:50.829276Z"
    }
   },
   "cell_type": "code",
   "source": "model_summary(mlp_residual_model, input_size=(1, 2))",
   "id": "94cd0e5d1fc386ae",
   "outputs": [
    {
     "name": "stdout",
     "output_type": "stream",
     "text": [
      "====================================================================================================\n",
      "Layer (type:depth-idx)                             Output Shape              Param #\n",
      "====================================================================================================\n",
      "MLPModel                                           [1, 2]                    --\n",
      "├─Sequential: 1-1                                  [1, 2]                    --\n",
      "│    └─GaussianFourierFeatureTransform: 2-1        [1, 4]                    --\n",
      "│    └─MLPLayer: 2-2                               [1, 128]                  --\n",
      "│    │    └─Linear: 3-1                            [1, 128]                  640\n",
      "│    │    └─ReLU: 3-2                              [1, 128]                  --\n",
      "│    └─MLPResidualLayer: 2-3                       [1, 128]                  --\n",
      "│    │    └─Linear: 3-3                            [1, 128]                  16,512\n",
      "│    │    └─ReLU: 3-4                              [1, 128]                  --\n",
      "│    │    └─Linear: 3-5                            [1, 128]                  16,512\n",
      "│    │    └─ReLU: 3-6                              [1, 128]                  --\n",
      "│    └─MLPResidualLayer: 2-4                       [1, 128]                  --\n",
      "│    │    └─Linear: 3-7                            [1, 128]                  16,512\n",
      "│    │    └─ReLU: 3-8                              [1, 128]                  --\n",
      "│    │    └─Linear: 3-9                            [1, 128]                  16,512\n",
      "│    │    └─ReLU: 3-10                             [1, 128]                  --\n",
      "│    └─MLPResidualLayer: 2-5                       [1, 128]                  --\n",
      "│    │    └─Linear: 3-11                           [1, 128]                  16,512\n",
      "│    │    └─ReLU: 3-12                             [1, 128]                  --\n",
      "│    │    └─Linear: 3-13                           [1, 128]                  16,512\n",
      "│    │    └─ReLU: 3-14                             [1, 128]                  --\n",
      "│    └─MLPResidualLayer: 2-6                       [1, 128]                  --\n",
      "│    │    └─Linear: 3-15                           [1, 128]                  16,512\n",
      "│    │    └─ReLU: 3-16                             [1, 128]                  --\n",
      "│    │    └─Linear: 3-17                           [1, 128]                  16,512\n",
      "│    │    └─ReLU: 3-18                             [1, 128]                  --\n",
      "│    └─MLPResidualLayer: 2-7                       [1, 128]                  --\n",
      "│    │    └─Linear: 3-19                           [1, 128]                  16,512\n",
      "│    │    └─ReLU: 3-20                             [1, 128]                  --\n",
      "│    │    └─Linear: 3-21                           [1, 128]                  16,512\n",
      "│    │    └─ReLU: 3-22                             [1, 128]                  --\n",
      "│    └─Linear: 2-8                                 [1, 2]                    258\n",
      "====================================================================================================\n",
      "Total params: 166,018\n",
      "Trainable params: 166,018\n",
      "Non-trainable params: 0\n",
      "Total mult-adds (Units.MEGABYTES): 0.17\n",
      "====================================================================================================\n",
      "Input size (MB): 0.00\n",
      "Forward/backward pass size (MB): 0.01\n",
      "Params size (MB): 0.66\n",
      "Estimated Total Size (MB): 0.68\n",
      "====================================================================================================\n",
      "====================================================================================================\n",
      "Layer (type:depth-idx)                             Output Shape              Param #\n",
      "====================================================================================================\n",
      "MLPModel                                           [1, 2]                    --\n",
      "├─Sequential: 1-1                                  [1, 2]                    --\n",
      "│    └─GaussianFourierFeatureTransform: 2-1        [1, 4]                    --\n",
      "│    └─MLPLayer: 2-2                               [1, 128]                  --\n",
      "│    │    └─Linear: 3-1                            [1, 128]                  640\n",
      "│    │    └─ReLU: 3-2                              [1, 128]                  --\n",
      "│    └─MLPResidualLayer: 2-3                       [1, 128]                  --\n",
      "│    │    └─Linear: 3-3                            [1, 128]                  16,512\n",
      "│    │    └─ReLU: 3-4                              [1, 128]                  --\n",
      "│    │    └─Linear: 3-5                            [1, 128]                  16,512\n",
      "│    │    └─ReLU: 3-6                              [1, 128]                  --\n",
      "│    └─MLPResidualLayer: 2-4                       [1, 128]                  --\n",
      "│    │    └─Linear: 3-7                            [1, 128]                  16,512\n",
      "│    │    └─ReLU: 3-8                              [1, 128]                  --\n",
      "│    │    └─Linear: 3-9                            [1, 128]                  16,512\n",
      "│    │    └─ReLU: 3-10                             [1, 128]                  --\n",
      "│    └─MLPResidualLayer: 2-5                       [1, 128]                  --\n",
      "│    │    └─Linear: 3-11                           [1, 128]                  16,512\n",
      "│    │    └─ReLU: 3-12                             [1, 128]                  --\n",
      "│    │    └─Linear: 3-13                           [1, 128]                  16,512\n",
      "│    │    └─ReLU: 3-14                             [1, 128]                  --\n",
      "│    └─MLPResidualLayer: 2-6                       [1, 128]                  --\n",
      "│    │    └─Linear: 3-15                           [1, 128]                  16,512\n",
      "│    │    └─ReLU: 3-16                             [1, 128]                  --\n",
      "│    │    └─Linear: 3-17                           [1, 128]                  16,512\n",
      "│    │    └─ReLU: 3-18                             [1, 128]                  --\n",
      "│    └─MLPResidualLayer: 2-7                       [1, 128]                  --\n",
      "│    │    └─Linear: 3-19                           [1, 128]                  16,512\n",
      "│    │    └─ReLU: 3-20                             [1, 128]                  --\n",
      "│    │    └─Linear: 3-21                           [1, 128]                  16,512\n",
      "│    │    └─ReLU: 3-22                             [1, 128]                  --\n",
      "│    └─Linear: 2-8                                 [1, 2]                    258\n",
      "====================================================================================================\n",
      "Total params: 166,018\n",
      "Trainable params: 166,018\n",
      "Non-trainable params: 0\n",
      "Total mult-adds (Units.MEGABYTES): 0.17\n",
      "====================================================================================================\n",
      "Input size (MB): 0.00\n",
      "Forward/backward pass size (MB): 0.01\n",
      "Params size (MB): 0.66\n",
      "Estimated Total Size (MB): 0.68\n",
      "====================================================================================================\n"
     ]
    }
   ],
   "execution_count": 44
  },
  {
   "metadata": {},
   "cell_type": "markdown",
   "source": "## Wire Models",
   "id": "47e1d87682c8d728"
  },
  {
   "metadata": {
    "ExecuteTime": {
     "end_time": "2025-07-03T18:43:50.856275Z",
     "start_time": "2025-07-03T18:43:50.852275Z"
    }
   },
   "cell_type": "code",
   "source": "from models.implicit_neural_representations.inr_models.wire_model import WireModel",
   "id": "39ee9f42b1c5a8db",
   "outputs": [],
   "execution_count": 45
  },
  {
   "metadata": {
    "ExecuteTime": {
     "end_time": "2025-07-03T18:43:50.869103Z",
     "start_time": "2025-07-03T18:43:50.863034Z"
    }
   },
   "cell_type": "code",
   "source": [
    "wire_model = WireModel(\n",
    "    in_features=2,\n",
    "    out_features=2,\n",
    "    mapping_type=\"no\",\n",
    "    mapping_dim=4,\n",
    "    mapping_scale=10,\n",
    "    hidden_features=128,\n",
    "    hidden_layers = 5, \n",
    "    scale=10.0,\n",
    "    omega=20.0,\n",
    "    bias=True,\n",
    "    weight_init=0.1,\n",
    "    bias_init=None,\n",
    "    residual_net=False\n",
    ")"
   ],
   "id": "5e03591393002e14",
   "outputs": [],
   "execution_count": 46
  },
  {
   "metadata": {
    "ExecuteTime": {
     "end_time": "2025-07-03T18:43:50.879849Z",
     "start_time": "2025-07-03T18:43:50.874392Z"
    }
   },
   "cell_type": "code",
   "source": "output = wire_model(x_dummy)",
   "id": "6dd42e6aab416d73",
   "outputs": [],
   "execution_count": 47
  },
  {
   "metadata": {
    "ExecuteTime": {
     "end_time": "2025-07-03T18:43:50.890041Z",
     "start_time": "2025-07-03T18:43:50.886537Z"
    }
   },
   "cell_type": "code",
   "source": [
    "print(\"Input:\")\n",
    "print(x_dummy)\n",
    "print(\"Output:\")\n",
    "print(output)"
   ],
   "id": "9f9976f23d86771f",
   "outputs": [
    {
     "name": "stdout",
     "output_type": "stream",
     "text": [
      "Input:\n",
      "tensor([[ 0.2643,  0.4806],\n",
      "        [-0.3880, -0.1166],\n",
      "        [ 0.5267,  0.3416],\n",
      "        [ 1.0770, -0.5350],\n",
      "        [-0.4397,  0.7759]])\n",
      "Output:\n",
      "tensor([[ 0.1339+0.3574j,  0.1494+0.7799j],\n",
      "        [ 0.1624-0.0618j,  0.1188-0.2991j],\n",
      "        [-0.4735-0.1045j, -0.0401-0.1325j],\n",
      "        [-0.0520+0.1844j, -0.4341+0.1051j],\n",
      "        [-0.2633+0.0319j,  0.2726+0.6431j]], grad_fn=<MmBackward0>)\n"
     ]
    }
   ],
   "execution_count": 48
  },
  {
   "metadata": {
    "ExecuteTime": {
     "end_time": "2025-07-03T18:43:50.915656Z",
     "start_time": "2025-07-03T18:43:50.907149Z"
    }
   },
   "cell_type": "code",
   "source": "model_summary(wire_model, input_size=(1, 2))",
   "id": "58f35daf68be4efe",
   "outputs": [
    {
     "name": "stdout",
     "output_type": "stream",
     "text": [
      "==========================================================================================\n",
      "Layer (type:depth-idx)                   Output Shape              Param #\n",
      "==========================================================================================\n",
      "WireModel                                [1, 2]                    --\n",
      "├─Sequential: 1-1                        [1, 2]                    --\n",
      "│    └─WireLayer: 2-1                    [1, 128]                  --\n",
      "│    │    └─Linear: 3-1                  [1, 128]                  384\n",
      "│    │    └─wire_activation: 3-2         [1, 128]                  --\n",
      "│    └─WireLayer: 2-2                    [1, 128]                  --\n",
      "│    │    └─Linear: 3-3                  [1, 128]                  16,512\n",
      "│    │    └─wire_activation: 3-4         [1, 128]                  --\n",
      "│    └─WireLayer: 2-3                    [1, 128]                  --\n",
      "│    │    └─Linear: 3-5                  [1, 128]                  16,512\n",
      "│    │    └─wire_activation: 3-6         [1, 128]                  --\n",
      "│    └─WireLayer: 2-4                    [1, 128]                  --\n",
      "│    │    └─Linear: 3-7                  [1, 128]                  16,512\n",
      "│    │    └─wire_activation: 3-8         [1, 128]                  --\n",
      "│    └─WireLayer: 2-5                    [1, 128]                  --\n",
      "│    │    └─Linear: 3-9                  [1, 128]                  16,512\n",
      "│    │    └─wire_activation: 3-10        [1, 128]                  --\n",
      "│    └─WireLayer: 2-6                    [1, 128]                  --\n",
      "│    │    └─Linear: 3-11                 [1, 128]                  16,512\n",
      "│    │    └─wire_activation: 3-12        [1, 128]                  --\n",
      "│    └─Linear: 2-7                       [1, 2]                    256\n",
      "==========================================================================================\n",
      "Total params: 83,200\n",
      "Trainable params: 83,200\n",
      "Non-trainable params: 0\n",
      "Total mult-adds (Units.MEGABYTES): 0.08\n",
      "==========================================================================================\n",
      "Input size (MB): 0.00\n",
      "Forward/backward pass size (MB): 0.01\n",
      "Params size (MB): 0.66\n",
      "Estimated Total Size (MB): 0.68\n",
      "==========================================================================================\n",
      "==========================================================================================\n",
      "Layer (type:depth-idx)                   Output Shape              Param #\n",
      "==========================================================================================\n",
      "WireModel                                [1, 2]                    --\n",
      "├─Sequential: 1-1                        [1, 2]                    --\n",
      "│    └─WireLayer: 2-1                    [1, 128]                  --\n",
      "│    │    └─Linear: 3-1                  [1, 128]                  384\n",
      "│    │    └─wire_activation: 3-2         [1, 128]                  --\n",
      "│    └─WireLayer: 2-2                    [1, 128]                  --\n",
      "│    │    └─Linear: 3-3                  [1, 128]                  16,512\n",
      "│    │    └─wire_activation: 3-4         [1, 128]                  --\n",
      "│    └─WireLayer: 2-3                    [1, 128]                  --\n",
      "│    │    └─Linear: 3-5                  [1, 128]                  16,512\n",
      "│    │    └─wire_activation: 3-6         [1, 128]                  --\n",
      "│    └─WireLayer: 2-4                    [1, 128]                  --\n",
      "│    │    └─Linear: 3-7                  [1, 128]                  16,512\n",
      "│    │    └─wire_activation: 3-8         [1, 128]                  --\n",
      "│    └─WireLayer: 2-5                    [1, 128]                  --\n",
      "│    │    └─Linear: 3-9                  [1, 128]                  16,512\n",
      "│    │    └─wire_activation: 3-10        [1, 128]                  --\n",
      "│    └─WireLayer: 2-6                    [1, 128]                  --\n",
      "│    │    └─Linear: 3-11                 [1, 128]                  16,512\n",
      "│    │    └─wire_activation: 3-12        [1, 128]                  --\n",
      "│    └─Linear: 2-7                       [1, 2]                    256\n",
      "==========================================================================================\n",
      "Total params: 83,200\n",
      "Trainable params: 83,200\n",
      "Non-trainable params: 0\n",
      "Total mult-adds (Units.MEGABYTES): 0.08\n",
      "==========================================================================================\n",
      "Input size (MB): 0.00\n",
      "Forward/backward pass size (MB): 0.01\n",
      "Params size (MB): 0.66\n",
      "Estimated Total Size (MB): 0.68\n",
      "==========================================================================================\n"
     ]
    }
   ],
   "execution_count": 49
  },
  {
   "metadata": {
    "ExecuteTime": {
     "end_time": "2025-07-03T18:43:50.933853Z",
     "start_time": "2025-07-03T18:43:50.926848Z"
    }
   },
   "cell_type": "code",
   "source": [
    "wire_residual_model = WireModel(\n",
    "    in_features=2,\n",
    "    out_features=2,\n",
    "    mapping_type=\"gauss\",\n",
    "    mapping_dim=4,\n",
    "    mapping_scale=10,\n",
    "    hidden_features=128,\n",
    "    hidden_layers = 5,\n",
    "    scale=10.0,\n",
    "    omega=20.0,\n",
    "    bias=True,\n",
    "    weight_init=0.1,\n",
    "    bias_init=None,\n",
    "    residual_net=True\n",
    ")"
   ],
   "id": "e8318f7c0d0f433a",
   "outputs": [],
   "execution_count": 50
  },
  {
   "metadata": {
    "ExecuteTime": {
     "end_time": "2025-07-03T18:43:50.951182Z",
     "start_time": "2025-07-03T18:43:50.940968Z"
    }
   },
   "cell_type": "code",
   "source": "output = wire_residual_model(x_dummy)",
   "id": "1ba0d93fe9cb7d4c",
   "outputs": [],
   "execution_count": 51
  },
  {
   "metadata": {
    "ExecuteTime": {
     "end_time": "2025-07-03T18:43:50.962677Z",
     "start_time": "2025-07-03T18:43:50.959169Z"
    }
   },
   "cell_type": "code",
   "source": [
    "print(\"Input:\")\n",
    "print(x_dummy)\n",
    "print(\"Output:\")\n",
    "print(output)"
   ],
   "id": "b6ad5b0b627b83d5",
   "outputs": [
    {
     "name": "stdout",
     "output_type": "stream",
     "text": [
      "Input:\n",
      "tensor([[ 0.2643,  0.4806],\n",
      "        [-0.3880, -0.1166],\n",
      "        [ 0.5267,  0.3416],\n",
      "        [ 1.0770, -0.5350],\n",
      "        [-0.4397,  0.7759]])\n",
      "Output:\n",
      "tensor([[-0.1886-0.2890j,  0.1579-0.2389j],\n",
      "        [-0.1342-0.0030j,  0.1129-0.0539j],\n",
      "        [ 0.9763-0.5448j, -0.6174-0.1249j],\n",
      "        [-0.4644+0.0806j,  0.2385-0.2164j],\n",
      "        [ 0.1691-0.1164j,  0.3318-0.2280j]], grad_fn=<MmBackward0>)\n"
     ]
    }
   ],
   "execution_count": 52
  },
  {
   "metadata": {
    "ExecuteTime": {
     "end_time": "2025-07-03T18:43:51.059310Z",
     "start_time": "2025-07-03T18:43:51.049020Z"
    }
   },
   "cell_type": "code",
   "source": "print(model_summary(wire_residual_model, input_size=(1, 2)))",
   "id": "3467f78b90c4a146",
   "outputs": [
    {
     "name": "stdout",
     "output_type": "stream",
     "text": [
      "====================================================================================================\n",
      "Layer (type:depth-idx)                             Output Shape              Param #\n",
      "====================================================================================================\n",
      "WireModel                                          [1, 2]                    --\n",
      "├─Sequential: 1-1                                  [1, 2]                    --\n",
      "│    └─GaussianFourierFeatureTransform: 2-1        [1, 4]                    --\n",
      "│    └─WireLayer: 2-2                              [1, 128]                  --\n",
      "│    │    └─Linear: 3-1                            [1, 128]                  640\n",
      "│    │    └─wire_activation: 3-2                   [1, 128]                  --\n",
      "│    └─WireResidualLayer: 2-3                      [1, 128]                  --\n",
      "│    │    └─Linear: 3-3                            [1, 128]                  16,512\n",
      "│    │    └─wire_activation: 3-4                   [1, 128]                  --\n",
      "│    │    └─Linear: 3-5                            [1, 128]                  16,512\n",
      "│    │    └─wire_activation: 3-6                   [1, 128]                  --\n",
      "│    └─WireResidualLayer: 2-4                      [1, 128]                  --\n",
      "│    │    └─Linear: 3-7                            [1, 128]                  16,512\n",
      "│    │    └─wire_activation: 3-8                   [1, 128]                  --\n",
      "│    │    └─Linear: 3-9                            [1, 128]                  16,512\n",
      "│    │    └─wire_activation: 3-10                  [1, 128]                  --\n",
      "│    └─WireResidualLayer: 2-5                      [1, 128]                  --\n",
      "│    │    └─Linear: 3-11                           [1, 128]                  16,512\n",
      "│    │    └─wire_activation: 3-12                  [1, 128]                  --\n",
      "│    │    └─Linear: 3-13                           [1, 128]                  16,512\n",
      "│    │    └─wire_activation: 3-14                  [1, 128]                  --\n",
      "│    └─WireResidualLayer: 2-6                      [1, 128]                  --\n",
      "│    │    └─Linear: 3-15                           [1, 128]                  16,512\n",
      "│    │    └─wire_activation: 3-16                  [1, 128]                  --\n",
      "│    │    └─Linear: 3-17                           [1, 128]                  16,512\n",
      "│    │    └─wire_activation: 3-18                  [1, 128]                  --\n",
      "│    └─WireResidualLayer: 2-7                      [1, 128]                  --\n",
      "│    │    └─Linear: 3-19                           [1, 128]                  16,512\n",
      "│    │    └─wire_activation: 3-20                  [1, 128]                  --\n",
      "│    │    └─Linear: 3-21                           [1, 128]                  16,512\n",
      "│    │    └─wire_activation: 3-22                  [1, 128]                  --\n",
      "│    └─Linear: 2-8                                 [1, 2]                    256\n",
      "====================================================================================================\n",
      "Total params: 166,016\n",
      "Trainable params: 166,016\n",
      "Non-trainable params: 0\n",
      "Total mult-adds (Units.MEGABYTES): 0.17\n",
      "====================================================================================================\n",
      "Input size (MB): 0.00\n",
      "Forward/backward pass size (MB): 0.02\n",
      "Params size (MB): 1.33\n",
      "Estimated Total Size (MB): 1.35\n",
      "====================================================================================================\n",
      "====================================================================================================\n",
      "Layer (type:depth-idx)                             Output Shape              Param #\n",
      "====================================================================================================\n",
      "WireModel                                          [1, 2]                    --\n",
      "├─Sequential: 1-1                                  [1, 2]                    --\n",
      "│    └─GaussianFourierFeatureTransform: 2-1        [1, 4]                    --\n",
      "│    └─WireLayer: 2-2                              [1, 128]                  --\n",
      "│    │    └─Linear: 3-1                            [1, 128]                  640\n",
      "│    │    └─wire_activation: 3-2                   [1, 128]                  --\n",
      "│    └─WireResidualLayer: 2-3                      [1, 128]                  --\n",
      "│    │    └─Linear: 3-3                            [1, 128]                  16,512\n",
      "│    │    └─wire_activation: 3-4                   [1, 128]                  --\n",
      "│    │    └─Linear: 3-5                            [1, 128]                  16,512\n",
      "│    │    └─wire_activation: 3-6                   [1, 128]                  --\n",
      "│    └─WireResidualLayer: 2-4                      [1, 128]                  --\n",
      "│    │    └─Linear: 3-7                            [1, 128]                  16,512\n",
      "│    │    └─wire_activation: 3-8                   [1, 128]                  --\n",
      "│    │    └─Linear: 3-9                            [1, 128]                  16,512\n",
      "│    │    └─wire_activation: 3-10                  [1, 128]                  --\n",
      "│    └─WireResidualLayer: 2-5                      [1, 128]                  --\n",
      "│    │    └─Linear: 3-11                           [1, 128]                  16,512\n",
      "│    │    └─wire_activation: 3-12                  [1, 128]                  --\n",
      "│    │    └─Linear: 3-13                           [1, 128]                  16,512\n",
      "│    │    └─wire_activation: 3-14                  [1, 128]                  --\n",
      "│    └─WireResidualLayer: 2-6                      [1, 128]                  --\n",
      "│    │    └─Linear: 3-15                           [1, 128]                  16,512\n",
      "│    │    └─wire_activation: 3-16                  [1, 128]                  --\n",
      "│    │    └─Linear: 3-17                           [1, 128]                  16,512\n",
      "│    │    └─wire_activation: 3-18                  [1, 128]                  --\n",
      "│    └─WireResidualLayer: 2-7                      [1, 128]                  --\n",
      "│    │    └─Linear: 3-19                           [1, 128]                  16,512\n",
      "│    │    └─wire_activation: 3-20                  [1, 128]                  --\n",
      "│    │    └─Linear: 3-21                           [1, 128]                  16,512\n",
      "│    │    └─wire_activation: 3-22                  [1, 128]                  --\n",
      "│    └─Linear: 2-8                                 [1, 2]                    256\n",
      "====================================================================================================\n",
      "Total params: 166,016\n",
      "Trainable params: 166,016\n",
      "Non-trainable params: 0\n",
      "Total mult-adds (Units.MEGABYTES): 0.17\n",
      "====================================================================================================\n",
      "Input size (MB): 0.00\n",
      "Forward/backward pass size (MB): 0.02\n",
      "Params size (MB): 1.33\n",
      "Estimated Total Size (MB): 1.35\n",
      "====================================================================================================\n",
      "None\n"
     ]
    }
   ],
   "execution_count": 53
  },
  {
   "metadata": {
    "ExecuteTime": {
     "end_time": "2025-07-03T18:43:51.139902Z",
     "start_time": "2025-07-03T18:43:51.137881Z"
    }
   },
   "cell_type": "code",
   "source": "",
   "id": "c0eaec1ce0dee73a",
   "outputs": [],
   "execution_count": null
  },
  {
   "metadata": {
    "ExecuteTime": {
     "end_time": "2025-07-03T18:43:51.163955Z",
     "start_time": "2025-07-03T18:43:51.160640Z"
    }
   },
   "cell_type": "code",
   "source": "",
   "id": "a02f89fae1331d93",
   "outputs": [],
   "execution_count": null
  },
  {
   "metadata": {
    "ExecuteTime": {
     "end_time": "2025-07-03T18:43:51.180360Z",
     "start_time": "2025-07-03T18:43:51.178171Z"
    }
   },
   "cell_type": "code",
   "source": "",
   "id": "aa8ae554db37a562",
   "outputs": [],
   "execution_count": null
  },
  {
   "metadata": {
    "ExecuteTime": {
     "end_time": "2025-07-03T18:43:51.193661Z",
     "start_time": "2025-07-03T18:43:51.191609Z"
    }
   },
   "cell_type": "code",
   "source": "",
   "id": "c53d34806b1394f7",
   "outputs": [],
   "execution_count": null
  },
  {
   "metadata": {
    "ExecuteTime": {
     "end_time": "2025-07-03T18:43:51.210979Z",
     "start_time": "2025-07-03T18:43:51.208472Z"
    }
   },
   "cell_type": "code",
   "source": "",
   "id": "25e9c7815a57135e",
   "outputs": [],
   "execution_count": null
  },
  {
   "metadata": {
    "ExecuteTime": {
     "end_time": "2025-07-03T18:43:51.230858Z",
     "start_time": "2025-07-03T18:43:51.228977Z"
    }
   },
   "cell_type": "code",
   "source": "",
   "id": "f0de6b30b350f444",
   "outputs": [],
   "execution_count": null
  },
  {
   "metadata": {
    "ExecuteTime": {
     "end_time": "2025-07-03T18:43:51.239885Z",
     "start_time": "2025-07-03T18:43:51.237378Z"
    }
   },
   "cell_type": "code",
   "source": "",
   "id": "ecc2ab29e41daefe",
   "outputs": [],
   "execution_count": null
  },
  {
   "metadata": {
    "ExecuteTime": {
     "end_time": "2025-07-03T18:43:51.251729Z",
     "start_time": "2025-07-03T18:43:51.249278Z"
    }
   },
   "cell_type": "code",
   "source": "",
   "id": "c55709a1f00f4a0c",
   "outputs": [],
   "execution_count": null
  },
  {
   "metadata": {
    "ExecuteTime": {
     "end_time": "2025-07-03T18:43:51.263049Z",
     "start_time": "2025-07-03T18:43:51.260824Z"
    }
   },
   "cell_type": "code",
   "source": "",
   "id": "413e8f2b1e7dce96",
   "outputs": [],
   "execution_count": null
  },
  {
   "metadata": {
    "ExecuteTime": {
     "end_time": "2025-07-03T18:43:51.277800Z",
     "start_time": "2025-07-03T18:43:51.275552Z"
    }
   },
   "cell_type": "code",
   "source": "",
   "id": "bb2f27ab49d412d",
   "outputs": [],
   "execution_count": null
  },
  {
   "metadata": {
    "ExecuteTime": {
     "end_time": "2025-07-03T18:43:51.289890Z",
     "start_time": "2025-07-03T18:43:51.287384Z"
    }
   },
   "cell_type": "code",
   "source": "",
   "id": "fff5b0ff440e3a2d",
   "outputs": [],
   "execution_count": null
  },
  {
   "metadata": {
    "ExecuteTime": {
     "end_time": "2025-07-03T18:43:51.303434Z",
     "start_time": "2025-07-03T18:43:51.301345Z"
    }
   },
   "cell_type": "code",
   "source": "",
   "id": "7dbfad97f8f89743",
   "outputs": [],
   "execution_count": null
  }
 ],
 "metadata": {
  "kernelspec": {
   "display_name": "Python (worldclim)",
   "language": "python",
   "name": "worldclim"
  },
  "language_info": {
   "codemirror_mode": {
    "name": "ipython",
    "version": 2
   },
   "file_extension": ".py",
   "mimetype": "text/x-python",
   "name": "python",
   "nbconvert_exporter": "python",
   "pygments_lexer": "ipython2",
   "version": "2.7.6"
  }
 },
 "nbformat": 4,
 "nbformat_minor": 5
}
