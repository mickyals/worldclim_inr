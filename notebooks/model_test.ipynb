{
 "cells": [
  {
   "metadata": {
    "ExecuteTime": {
     "end_time": "2025-06-30T19:36:22.552028Z",
     "start_time": "2025-06-30T19:36:20.219863Z"
    }
   },
   "cell_type": "code",
   "source": [
    "import torch\n",
    "x_dummy = torch.randn(5, 2)"
   ],
   "id": "8f91803098cae9cd",
   "outputs": [],
   "execution_count": 1
  },
  {
   "metadata": {},
   "cell_type": "markdown",
   "source": "## SIREN and FINER MODEL",
   "id": "5e0fcc9793abb39f"
  },
  {
   "metadata": {
    "collapsed": true,
    "ExecuteTime": {
     "end_time": "2025-06-30T19:36:23.505485Z",
     "start_time": "2025-06-30T19:36:22.556548Z"
    }
   },
   "cell_type": "code",
   "source": "from models.implicit_neural_representations.inr_models.siren_model import SirenModel, FinerModel",
   "id": "initial_id",
   "outputs": [],
   "execution_count": 2
  },
  {
   "metadata": {
    "ExecuteTime": {
     "end_time": "2025-06-30T19:36:24.200881Z",
     "start_time": "2025-06-30T19:36:24.188806Z"
    }
   },
   "cell_type": "code",
   "source": [
    "# initialize siren model without residual layers\n",
    "siren_model = SirenModel(\n",
    "    in_features=2,\n",
    "    out_features=2,\n",
    "    hidden_layers=5,\n",
    "    hidden_features=512,\n",
    "    first_omega_0=30.0,\n",
    "    hidden_omega_0=30.0,\n",
    "    residual_net=False\n",
    ")"
   ],
   "id": "1351d587cbfe65fd",
   "outputs": [],
   "execution_count": 3
  },
  {
   "metadata": {
    "ExecuteTime": {
     "end_time": "2025-06-30T19:36:24.218831Z",
     "start_time": "2025-06-30T19:36:24.206317Z"
    }
   },
   "cell_type": "code",
   "source": "output = siren_model(x_dummy)",
   "id": "b8b6be995c71318e",
   "outputs": [],
   "execution_count": 4
  },
  {
   "metadata": {
    "ExecuteTime": {
     "end_time": "2025-06-30T19:36:24.227168Z",
     "start_time": "2025-06-30T19:36:24.223327Z"
    }
   },
   "cell_type": "code",
   "source": [
    "# Print input and output\n",
    "print(\"Input:\")\n",
    "print(x_dummy)\n",
    "print(\"Output:\")\n",
    "print(output)"
   ],
   "id": "5e5969588e434a48",
   "outputs": [
    {
     "name": "stdout",
     "output_type": "stream",
     "text": [
      "Input:\n",
      "tensor([[-1.2238,  1.1677],\n",
      "        [-0.3147,  0.9046],\n",
      "        [-0.2586, -0.3755],\n",
      "        [ 0.3574,  0.7538],\n",
      "        [ 0.8575, -0.3224]])\n",
      "Output:\n",
      "tensor([[-0.0022,  0.0074],\n",
      "        [ 0.0101, -0.0041],\n",
      "        [ 0.0097,  0.0455],\n",
      "        [ 0.0082, -0.0170],\n",
      "        [ 0.0322,  0.0173]], grad_fn=<MmBackward0>)\n"
     ]
    }
   ],
   "execution_count": 5
  },
  {
   "metadata": {
    "ExecuteTime": {
     "end_time": "2025-06-30T19:36:24.315572Z",
     "start_time": "2025-06-30T19:36:24.309549Z"
    }
   },
   "cell_type": "code",
   "source": [
    "finer_model = FinerModel(\n",
    "    in_features=2,\n",
    "    out_features=2,\n",
    "    bias=True,\n",
    "    hidden_layers=5,\n",
    "    hidden_features=128,\n",
    "    first_omega_0=30.,\n",
    "    hidden_omega_0=30.,\n",
    "    first_bias=10,\n",
    "    hidden_bias=10,\n",
    "    residual_net=False\n",
    ")"
   ],
   "id": "d10b5ab135cb770b",
   "outputs": [],
   "execution_count": 6
  },
  {
   "metadata": {
    "ExecuteTime": {
     "end_time": "2025-06-30T19:36:24.347387Z",
     "start_time": "2025-06-30T19:36:24.341368Z"
    }
   },
   "cell_type": "code",
   "source": "output = finer_model(x_dummy)",
   "id": "3cda3b4e3fd8068e",
   "outputs": [],
   "execution_count": 7
  },
  {
   "metadata": {
    "ExecuteTime": {
     "end_time": "2025-06-30T19:36:24.369230Z",
     "start_time": "2025-06-30T19:36:24.363992Z"
    }
   },
   "cell_type": "code",
   "source": [
    "# Print input and output\n",
    "print(\"Input:\")\n",
    "print(x_dummy)\n",
    "print(\"Output:\")\n",
    "print(output)"
   ],
   "id": "d5ab8845c39a0e08",
   "outputs": [
    {
     "name": "stdout",
     "output_type": "stream",
     "text": [
      "Input:\n",
      "tensor([[-1.2238,  1.1677],\n",
      "        [-0.3147,  0.9046],\n",
      "        [-0.2586, -0.3755],\n",
      "        [ 0.3574,  0.7538],\n",
      "        [ 0.8575, -0.3224]])\n",
      "Output:\n",
      "tensor([[ 0.0022, -0.0383],\n",
      "        [ 0.0020, -0.0389],\n",
      "        [ 0.0021, -0.0379],\n",
      "        [ 0.0024, -0.0384],\n",
      "        [ 0.0022, -0.0386]], grad_fn=<MmBackward0>)\n"
     ]
    }
   ],
   "execution_count": 8
  },
  {
   "metadata": {
    "ExecuteTime": {
     "end_time": "2025-06-30T19:36:24.393036Z",
     "start_time": "2025-06-30T19:36:24.382364Z"
    }
   },
   "cell_type": "code",
   "source": [
    "siren_residual_model = SirenModel(\n",
    "    in_features=2,\n",
    "    out_features=2,\n",
    "    hidden_layers=5,\n",
    "    hidden_features=512,\n",
    "    first_omega_0=30.0,\n",
    "    hidden_omega_0=30.0,\n",
    "    residual_net=True\n",
    ")"
   ],
   "id": "ce4ad6f79b9f0daf",
   "outputs": [],
   "execution_count": 9
  },
  {
   "metadata": {
    "ExecuteTime": {
     "end_time": "2025-06-30T19:36:24.405465Z",
     "start_time": "2025-06-30T19:36:24.399346Z"
    }
   },
   "cell_type": "code",
   "source": "output = siren_residual_model(x_dummy)",
   "id": "ffcc799028eefe3c",
   "outputs": [],
   "execution_count": 10
  },
  {
   "metadata": {
    "ExecuteTime": {
     "end_time": "2025-06-30T19:36:24.421969Z",
     "start_time": "2025-06-30T19:36:24.417943Z"
    }
   },
   "cell_type": "code",
   "source": [
    "# Print input and output\n",
    "print(\"Input:\")\n",
    "print(x_dummy)\n",
    "print(\"Output:\")\n",
    "print(output)"
   ],
   "id": "ef89bf21830f6054",
   "outputs": [
    {
     "name": "stdout",
     "output_type": "stream",
     "text": [
      "Input:\n",
      "tensor([[-1.2238,  1.1677],\n",
      "        [-0.3147,  0.9046],\n",
      "        [-0.2586, -0.3755],\n",
      "        [ 0.3574,  0.7538],\n",
      "        [ 0.8575, -0.3224]])\n",
      "Output:\n",
      "tensor([[ 0.0292,  0.1227],\n",
      "        [ 0.1023,  0.1233],\n",
      "        [ 0.0185,  0.1181],\n",
      "        [-0.0660, -0.0753],\n",
      "        [ 0.0515,  0.0200]], grad_fn=<MmBackward0>)\n"
     ]
    }
   ],
   "execution_count": 11
  },
  {
   "metadata": {
    "ExecuteTime": {
     "end_time": "2025-06-30T19:36:24.443774Z",
     "start_time": "2025-06-30T19:36:24.438366Z"
    }
   },
   "cell_type": "code",
   "source": [
    "finer_residual_model = FinerModel( \n",
    "    in_features=2,\n",
    "    out_features=2,\n",
    "    bias=True,\n",
    "    hidden_layers=5,\n",
    "    hidden_features=128,\n",
    "    first_omega_0=30.,\n",
    "    hidden_omega_0=30.,\n",
    "    first_bias=10,\n",
    "    hidden_bias=10,\n",
    "    residual_net=True\n",
    ")"
   ],
   "id": "1b815d502c6cbd92",
   "outputs": [],
   "execution_count": 12
  },
  {
   "metadata": {
    "ExecuteTime": {
     "end_time": "2025-06-30T19:36:24.461991Z",
     "start_time": "2025-06-30T19:36:24.457936Z"
    }
   },
   "cell_type": "code",
   "source": "output = finer_residual_model(x_dummy)",
   "id": "2052922e4f26d50b",
   "outputs": [],
   "execution_count": 13
  },
  {
   "metadata": {
    "ExecuteTime": {
     "end_time": "2025-06-30T19:36:24.477660Z",
     "start_time": "2025-06-30T19:36:24.473136Z"
    }
   },
   "cell_type": "code",
   "source": [
    "# Print input and output\n",
    "print(\"Input:\")\n",
    "print(x_dummy)\n",
    "print(\"Output:\")\n",
    "print(output)"
   ],
   "id": "1ade6f5941e980f7",
   "outputs": [
    {
     "name": "stdout",
     "output_type": "stream",
     "text": [
      "Input:\n",
      "tensor([[-1.2238,  1.1677],\n",
      "        [-0.3147,  0.9046],\n",
      "        [-0.2586, -0.3755],\n",
      "        [ 0.3574,  0.7538],\n",
      "        [ 0.8575, -0.3224]])\n",
      "Output:\n",
      "tensor([[ 0.0607, -0.0556],\n",
      "        [ 0.1394, -0.0182],\n",
      "        [-0.0167,  0.0206],\n",
      "        [ 0.0109, -0.0044],\n",
      "        [-0.0342, -0.0734]], grad_fn=<MmBackward0>)\n"
     ]
    }
   ],
   "execution_count": 14
  },
  {
   "metadata": {},
   "cell_type": "markdown",
   "source": "## Gaussian Model and Finer Gaussian",
   "id": "14d8e2a41e4fbc36"
  },
  {
   "metadata": {
    "ExecuteTime": {
     "end_time": "2025-06-30T19:36:24.500133Z",
     "start_time": "2025-06-30T19:36:24.495440Z"
    }
   },
   "cell_type": "code",
   "source": "from models.implicit_neural_representations.inr_models.gaussian_model import GaussianModel, GaussianFinerModel",
   "id": "5d0cc6ed7f5663fa",
   "outputs": [],
   "execution_count": 15
  },
  {
   "metadata": {
    "ExecuteTime": {
     "end_time": "2025-06-30T19:36:24.519917Z",
     "start_time": "2025-06-30T19:36:24.509893Z"
    }
   },
   "cell_type": "code",
   "source": [
    "# initialize gaussian model without residual layers\n",
    "gaussian_model = GaussianModel(\n",
    "    in_features=2,\n",
    "    out_features=2,\n",
    "    hidden_layers=5,\n",
    "    hidden_features=512,\n",
    "    scale=30.0,\n",
    "    weight_init=0.1,\n",
    "    residual_net=False\n",
    ")"
   ],
   "id": "9419766ccc6c99a3",
   "outputs": [],
   "execution_count": 16
  },
  {
   "metadata": {
    "ExecuteTime": {
     "end_time": "2025-06-30T19:36:24.535443Z",
     "start_time": "2025-06-30T19:36:24.527263Z"
    }
   },
   "cell_type": "code",
   "source": "output = gaussian_model(x_dummy)",
   "id": "6f452b3e0af142e5",
   "outputs": [],
   "execution_count": 17
  },
  {
   "metadata": {
    "ExecuteTime": {
     "end_time": "2025-06-30T19:36:24.544305Z",
     "start_time": "2025-06-30T19:36:24.541208Z"
    }
   },
   "cell_type": "code",
   "source": [
    "# Print input and output\n",
    "print(\"Input:\")\n",
    "print(x_dummy)\n",
    "print(\"Output:\")\n",
    "print(output)"
   ],
   "id": "731c6834df07b74",
   "outputs": [
    {
     "name": "stdout",
     "output_type": "stream",
     "text": [
      "Input:\n",
      "tensor([[-1.2238,  1.1677],\n",
      "        [-0.3147,  0.9046],\n",
      "        [-0.2586, -0.3755],\n",
      "        [ 0.3574,  0.7538],\n",
      "        [ 0.8575, -0.3224]])\n",
      "Output:\n",
      "tensor([[ 0.4340, -0.0834],\n",
      "        [ 0.4501,  0.0324],\n",
      "        [ 0.2990,  0.5150],\n",
      "        [ 0.1682, -0.3585],\n",
      "        [ 0.1744, -0.4943]], grad_fn=<MmBackward0>)\n"
     ]
    }
   ],
   "execution_count": 18
  },
  {
   "metadata": {
    "ExecuteTime": {
     "end_time": "2025-06-30T19:36:24.566366Z",
     "start_time": "2025-06-30T19:36:24.554837Z"
    }
   },
   "cell_type": "code",
   "source": [
    "gaussian_residual_model = GaussianModel(\n",
    "    in_features=2,\n",
    "    out_features=2,\n",
    "    hidden_layers=5,\n",
    "    hidden_features=512,\n",
    "    scale=30.0,\n",
    "    weight_init=0.1,\n",
    "    residual_net=True\n",
    ")"
   ],
   "id": "77574003ab24e637",
   "outputs": [],
   "execution_count": 19
  },
  {
   "metadata": {
    "ExecuteTime": {
     "end_time": "2025-06-30T19:36:24.581062Z",
     "start_time": "2025-06-30T19:36:24.573944Z"
    }
   },
   "cell_type": "code",
   "source": "output = gaussian_residual_model(x_dummy)",
   "id": "d6dedce5e6c4c2b8",
   "outputs": [],
   "execution_count": 20
  },
  {
   "metadata": {
    "ExecuteTime": {
     "end_time": "2025-06-30T19:36:24.590141Z",
     "start_time": "2025-06-30T19:36:24.586617Z"
    }
   },
   "cell_type": "code",
   "source": [
    "print(\"Input:\")\n",
    "print(x_dummy)\n",
    "print(\"Output:\")\n",
    "print(output)"
   ],
   "id": "96fad802bea59adc",
   "outputs": [
    {
     "name": "stdout",
     "output_type": "stream",
     "text": [
      "Input:\n",
      "tensor([[-1.2238,  1.1677],\n",
      "        [-0.3147,  0.9046],\n",
      "        [-0.2586, -0.3755],\n",
      "        [ 0.3574,  0.7538],\n",
      "        [ 0.8575, -0.3224]])\n",
      "Output:\n",
      "tensor([[ 0.7280,  0.7350],\n",
      "        [ 0.0312,  0.9094],\n",
      "        [ 0.8563,  1.4003],\n",
      "        [ 0.8930,  0.4530],\n",
      "        [-0.2096,  0.5700]], grad_fn=<MmBackward0>)\n"
     ]
    }
   ],
   "execution_count": 21
  },
  {
   "metadata": {
    "ExecuteTime": {
     "end_time": "2025-06-30T19:36:55.209411Z",
     "start_time": "2025-06-30T19:36:55.202058Z"
    }
   },
   "cell_type": "code",
   "source": [
    "gaussian_finer_model = GaussianFinerModel(\n",
    "    in_features=2,\n",
    "    out_features=2,\n",
    "    scale=30.0,\n",
    "    omega_f=2.5,\n",
    "    bias_init=5.0,\n",
    "    weight_init=0.1,\n",
    "    residual_net=False\n",
    ")"
   ],
   "id": "15f75d9285f88d56",
   "outputs": [],
   "execution_count": 23
  },
  {
   "metadata": {
    "ExecuteTime": {
     "end_time": "2025-06-30T19:36:58.161266Z",
     "start_time": "2025-06-30T19:36:58.153958Z"
    }
   },
   "cell_type": "code",
   "source": "output = gaussian_finer_model(x_dummy)",
   "id": "fef55696294111fc",
   "outputs": [],
   "execution_count": 24
  },
  {
   "metadata": {
    "ExecuteTime": {
     "end_time": "2025-06-30T19:36:59.841747Z",
     "start_time": "2025-06-30T19:36:59.835725Z"
    }
   },
   "cell_type": "code",
   "source": [
    "print(\"Input:\")\n",
    "print(x_dummy)\n",
    "print(\"Output:\")\n",
    "print(output)"
   ],
   "id": "2f8dba4030255a98",
   "outputs": [
    {
     "name": "stdout",
     "output_type": "stream",
     "text": [
      "Input:\n",
      "tensor([[-1.2238,  1.1677],\n",
      "        [-0.3147,  0.9046],\n",
      "        [-0.2586, -0.3755],\n",
      "        [ 0.3574,  0.7538],\n",
      "        [ 0.8575, -0.3224]])\n",
      "Output:\n",
      "tensor([[ 0.1229, -0.2867],\n",
      "        [ 0.1201, -0.1480],\n",
      "        [ 0.2647, -0.1398],\n",
      "        [-0.0608, -0.0166],\n",
      "        [ 0.0929, -0.1008]], grad_fn=<MmBackward0>)\n"
     ]
    }
   ],
   "execution_count": 25
  },
  {
   "metadata": {
    "ExecuteTime": {
     "end_time": "2025-06-30T19:37:20.079085Z",
     "start_time": "2025-06-30T19:37:20.071366Z"
    }
   },
   "cell_type": "code",
   "source": [
    "gaussian_finer_residual_model = GaussianFinerModel(\n",
    "    in_features=2,\n",
    "    out_features=2,\n",
    "    scale=30.0,\n",
    "    omega_f=2.5,\n",
    "    bias_init=5.0,\n",
    "    weight_init=0.1,\n",
    "    residual_net=True\n",
    ")"
   ],
   "id": "6dce263d2a0765b9",
   "outputs": [],
   "execution_count": 26
  },
  {
   "metadata": {
    "ExecuteTime": {
     "end_time": "2025-06-30T19:37:31.194627Z",
     "start_time": "2025-06-30T19:37:31.188211Z"
    }
   },
   "cell_type": "code",
   "source": "output = gaussian_finer_residual_model(x_dummy)",
   "id": "329de2f8c99c1a59",
   "outputs": [],
   "execution_count": 27
  },
  {
   "metadata": {
    "ExecuteTime": {
     "end_time": "2025-06-30T19:37:41.277189Z",
     "start_time": "2025-06-30T19:37:41.270258Z"
    }
   },
   "cell_type": "code",
   "source": [
    "print(\"Input:\")\n",
    "print(x_dummy)\n",
    "print(\"Output:\")\n",
    "print(output)"
   ],
   "id": "1e84596644ef36fc",
   "outputs": [
    {
     "name": "stdout",
     "output_type": "stream",
     "text": [
      "Input:\n",
      "tensor([[-1.2238,  1.1677],\n",
      "        [-0.3147,  0.9046],\n",
      "        [-0.2586, -0.3755],\n",
      "        [ 0.3574,  0.7538],\n",
      "        [ 0.8575, -0.3224]])\n",
      "Output:\n",
      "tensor([[ 0.0819,  0.2632],\n",
      "        [ 0.1635, -0.2622],\n",
      "        [ 0.2216,  0.1712],\n",
      "        [-0.2419, -0.0927],\n",
      "        [-0.3844, -0.0591]], grad_fn=<MmBackward0>)\n"
     ]
    }
   ],
   "execution_count": 28
  },
  {
   "metadata": {},
   "cell_type": "code",
   "outputs": [],
   "execution_count": null,
   "source": "",
   "id": "6d80cf84f754998a"
  },
  {
   "metadata": {},
   "cell_type": "code",
   "outputs": [],
   "execution_count": null,
   "source": "",
   "id": "58fd04399dfd734f"
  },
  {
   "metadata": {},
   "cell_type": "code",
   "outputs": [],
   "execution_count": null,
   "source": "",
   "id": "47b138970e6da0b"
  },
  {
   "metadata": {},
   "cell_type": "code",
   "outputs": [],
   "execution_count": null,
   "source": "",
   "id": "6e99eed7423323a6"
  },
  {
   "metadata": {},
   "cell_type": "code",
   "outputs": [],
   "execution_count": null,
   "source": "",
   "id": "993af880de38c136"
  },
  {
   "metadata": {},
   "cell_type": "code",
   "outputs": [],
   "execution_count": null,
   "source": "",
   "id": "946e7d2ecc786129"
  },
  {
   "metadata": {},
   "cell_type": "code",
   "outputs": [],
   "execution_count": null,
   "source": "",
   "id": "4e606d57db8d7561"
  },
  {
   "metadata": {},
   "cell_type": "code",
   "outputs": [],
   "execution_count": null,
   "source": "",
   "id": "cc78849fb95d1ad3"
  },
  {
   "metadata": {},
   "cell_type": "code",
   "outputs": [],
   "execution_count": null,
   "source": "",
   "id": "f2c8354cf066a683"
  },
  {
   "metadata": {},
   "cell_type": "code",
   "outputs": [],
   "execution_count": null,
   "source": "",
   "id": "938140693446ee64"
  },
  {
   "metadata": {},
   "cell_type": "code",
   "outputs": [],
   "execution_count": null,
   "source": "",
   "id": "e927b3fbde7cd4ce"
  },
  {
   "metadata": {},
   "cell_type": "code",
   "outputs": [],
   "execution_count": null,
   "source": "",
   "id": "cdacd2570c3a2b5"
  },
  {
   "metadata": {},
   "cell_type": "code",
   "outputs": [],
   "execution_count": null,
   "source": "",
   "id": "39ee9f42b1c5a8db"
  },
  {
   "metadata": {},
   "cell_type": "code",
   "outputs": [],
   "execution_count": null,
   "source": "",
   "id": "7ea788c03a4ed5f7"
  },
  {
   "metadata": {},
   "cell_type": "code",
   "outputs": [],
   "execution_count": null,
   "source": "",
   "id": "1ba0d93fe9cb7d4c"
  },
  {
   "metadata": {},
   "cell_type": "code",
   "outputs": [],
   "execution_count": null,
   "source": "",
   "id": "c0eaec1ce0dee73a"
  },
  {
   "metadata": {},
   "cell_type": "code",
   "outputs": [],
   "execution_count": null,
   "source": "",
   "id": "a02f89fae1331d93"
  },
  {
   "metadata": {},
   "cell_type": "code",
   "outputs": [],
   "execution_count": null,
   "source": "",
   "id": "aa8ae554db37a562"
  },
  {
   "metadata": {},
   "cell_type": "code",
   "outputs": [],
   "execution_count": null,
   "source": "",
   "id": "c53d34806b1394f7"
  },
  {
   "metadata": {},
   "cell_type": "code",
   "outputs": [],
   "execution_count": null,
   "source": "",
   "id": "25e9c7815a57135e"
  },
  {
   "metadata": {},
   "cell_type": "code",
   "outputs": [],
   "execution_count": null,
   "source": "",
   "id": "f0de6b30b350f444"
  },
  {
   "metadata": {},
   "cell_type": "code",
   "outputs": [],
   "execution_count": null,
   "source": "",
   "id": "ecc2ab29e41daefe"
  },
  {
   "metadata": {},
   "cell_type": "code",
   "outputs": [],
   "execution_count": null,
   "source": "",
   "id": "c55709a1f00f4a0c"
  },
  {
   "metadata": {},
   "cell_type": "code",
   "outputs": [],
   "execution_count": null,
   "source": "",
   "id": "413e8f2b1e7dce96"
  },
  {
   "metadata": {},
   "cell_type": "code",
   "outputs": [],
   "execution_count": null,
   "source": "",
   "id": "bb2f27ab49d412d"
  },
  {
   "metadata": {},
   "cell_type": "code",
   "outputs": [],
   "execution_count": null,
   "source": "",
   "id": "fff5b0ff440e3a2d"
  },
  {
   "metadata": {
    "ExecuteTime": {
     "end_time": "2025-06-30T19:36:24.698818500Z",
     "start_time": "2025-06-26T21:14:10.421696Z"
    }
   },
   "cell_type": "code",
   "source": "",
   "id": "7dbfad97f8f89743",
   "outputs": [],
   "execution_count": null
  }
 ],
 "metadata": {
  "kernelspec": {
   "display_name": "Python (worldclim)",
   "language": "python",
   "name": "worldclim"
  },
  "language_info": {
   "codemirror_mode": {
    "name": "ipython",
    "version": 2
   },
   "file_extension": ".py",
   "mimetype": "text/x-python",
   "name": "python",
   "nbconvert_exporter": "python",
   "pygments_lexer": "ipython2",
   "version": "2.7.6"
  }
 },
 "nbformat": 4,
 "nbformat_minor": 5
}
