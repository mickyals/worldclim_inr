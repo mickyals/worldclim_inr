{
 "cells": [
  {
   "metadata": {
    "ExecuteTime": {
     "end_time": "2025-07-08T21:09:49.610453Z",
     "start_time": "2025-07-08T21:09:47.462829Z"
    }
   },
   "cell_type": "code",
   "source": [
    "import torch\n",
    "from helpers import model_summary\n",
    "x_dummy = 2 * torch.rand(5, 2) - 1"
   ],
   "id": "8f91803098cae9cd",
   "outputs": [],
   "execution_count": 1
  },
  {
   "metadata": {
    "ExecuteTime": {
     "end_time": "2025-07-08T21:09:49.622255Z",
     "start_time": "2025-07-08T21:09:49.616785Z"
    }
   },
   "cell_type": "code",
   "source": "print(x_dummy)",
   "id": "9263cde0899d221f",
   "outputs": [
    {
     "name": "stdout",
     "output_type": "stream",
     "text": [
      "tensor([[-0.0859, -0.5638],\n",
      "        [-0.9495, -0.5535],\n",
      "        [-0.4666,  0.9139],\n",
      "        [ 0.3270,  0.1868],\n",
      "        [ 0.0832, -0.2958]])\n"
     ]
    }
   ],
   "execution_count": 2
  },
  {
   "metadata": {
    "ExecuteTime": {
     "end_time": "2025-07-08T21:09:50.664037Z",
     "start_time": "2025-07-08T21:09:50.657044Z"
    }
   },
   "cell_type": "code",
   "source": "from utils.positional_encodings import SphericalFourierFeatureTransform",
   "id": "d583b9aba569ba8a",
   "outputs": [],
   "execution_count": 3
  },
  {
   "metadata": {
    "ExecuteTime": {
     "end_time": "2025-07-08T21:10:22.232726Z",
     "start_time": "2025-07-08T21:10:22.227874Z"
    }
   },
   "cell_type": "code",
   "source": "model = SphericalFourierFeatureTransform(omegas=[30.0, 30.0], scale=[2, 2])",
   "id": "6f3e8215107d7d3c",
   "outputs": [],
   "execution_count": 8
  },
  {
   "metadata": {
    "ExecuteTime": {
     "end_time": "2025-07-08T21:10:24.955370Z",
     "start_time": "2025-07-08T21:10:24.947435Z"
    }
   },
   "cell_type": "code",
   "source": [
    "t_dummy = torch.tensor([[45.0, 60.0], [-90.0,-180.0]])\n",
    "model(t_dummy)"
   ],
   "id": "b20d0bbf7218c24b",
   "outputs": [
    {
     "data": {
      "text/plain": [
       "tensor([[-0.9754, -0.3795,  0.2206, -0.9252,  0.2922,  0.5040,  0.9563, -0.8637,\n",
       "         -0.2850, -0.4916, -0.9328,  0.8424, -0.1109, -0.1913, -0.3629,  0.3278,\n",
       "          0.0645,  0.1112,  0.2110, -0.1905, -0.2704, -0.4663, -0.8848,  0.7991],\n",
       "        [ 0.4303, -0.7022, -0.9027,  0.7120, -0.7769, -0.9999,  0.6297,  0.0139,\n",
       "         -0.3343, -0.4303,  0.2710,  0.0060,  0.5455,  0.7021, -0.4421, -0.0097,\n",
       "          0.7013,  0.9026, -0.5684, -0.0125, -0.5531, -0.7119,  0.4483,  0.0099]])"
      ]
     },
     "execution_count": 9,
     "metadata": {},
     "output_type": "execute_result"
    }
   ],
   "execution_count": 9
  },
  {
   "metadata": {},
   "cell_type": "markdown",
   "source": "## SIREN and FINER MODEL",
   "id": "5e0fcc9793abb39f"
  },
  {
   "metadata": {
    "collapsed": true,
    "ExecuteTime": {
     "end_time": "2025-07-03T22:47:24.575974Z",
     "start_time": "2025-07-03T22:47:24.568947Z"
    }
   },
   "cell_type": "code",
   "source": "from models.implicit_neural_representations.inr_models.siren_model import SirenModel, FinerModel",
   "id": "initial_id",
   "outputs": [],
   "execution_count": 3
  },
  {
   "metadata": {
    "ExecuteTime": {
     "end_time": "2025-07-03T22:47:24.600009Z",
     "start_time": "2025-07-03T22:47:24.588026Z"
    }
   },
   "cell_type": "code",
   "source": [
    "# initialize siren model without residual layers\n",
    "siren_model = SirenModel(\n",
    "    in_features=2,\n",
    "    out_features=2,\n",
    "    hidden_layers=5,\n",
    "    hidden_features=512,\n",
    "    first_omega_0=30.0,\n",
    "    hidden_omega_0=30.0,\n",
    "    residual_net=False\n",
    ")"
   ],
   "id": "1351d587cbfe65fd",
   "outputs": [],
   "execution_count": 4
  },
  {
   "metadata": {
    "ExecuteTime": {
     "end_time": "2025-07-03T22:47:24.617319Z",
     "start_time": "2025-07-03T22:47:24.607154Z"
    }
   },
   "cell_type": "code",
   "source": "output = siren_model(x_dummy)",
   "id": "b8b6be995c71318e",
   "outputs": [],
   "execution_count": 5
  },
  {
   "metadata": {
    "ExecuteTime": {
     "end_time": "2025-07-03T22:47:24.633067Z",
     "start_time": "2025-07-03T22:47:24.628680Z"
    }
   },
   "cell_type": "code",
   "source": [
    "# Print input and output\n",
    "print(\"Input:\")\n",
    "print(x_dummy)\n",
    "print(\"Output:\")\n",
    "print(output)"
   ],
   "id": "5e5969588e434a48",
   "outputs": [
    {
     "name": "stdout",
     "output_type": "stream",
     "text": [
      "Input:\n",
      "tensor([[ 0.7798,  0.4665],\n",
      "        [-0.5352,  0.9371],\n",
      "        [ 0.6600, -0.1392],\n",
      "        [ 0.7714, -0.2785],\n",
      "        [-0.4264,  0.6957]])\n",
      "Output:\n",
      "tensor([[-0.0682, -0.0505],\n",
      "        [-0.0359,  0.0042],\n",
      "        [ 0.0503,  0.0490],\n",
      "        [ 0.0455, -0.0738],\n",
      "        [-0.0148, -0.0271]], grad_fn=<MmBackward0>)\n"
     ]
    }
   ],
   "execution_count": 6
  },
  {
   "metadata": {
    "ExecuteTime": {
     "end_time": "2025-07-03T22:47:24.680405Z",
     "start_time": "2025-07-03T22:47:24.672916Z"
    }
   },
   "cell_type": "code",
   "source": "model_summary(siren_model, input_size=(1, 2))",
   "id": "f6320330e3fb33d",
   "outputs": [
    {
     "name": "stdout",
     "output_type": "stream",
     "text": [
      "==========================================================================================\n",
      "Layer (type:depth-idx)                   Output Shape              Param #\n",
      "==========================================================================================\n",
      "SirenModel                               [1, 2]                    --\n",
      "├─Sequential: 1-1                        [1, 2]                    --\n",
      "│    └─SirenLayer: 2-1                   [1, 512]                  --\n",
      "│    │    └─Linear: 3-1                  [1, 512]                  1,536\n",
      "│    │    └─siren_activation: 3-2        [1, 512]                  --\n",
      "│    └─SirenLayer: 2-2                   [1, 512]                  --\n",
      "│    │    └─Linear: 3-3                  [1, 512]                  262,656\n",
      "│    │    └─siren_activation: 3-4        [1, 512]                  --\n",
      "│    └─SirenLayer: 2-3                   [1, 512]                  --\n",
      "│    │    └─Linear: 3-5                  [1, 512]                  262,656\n",
      "│    │    └─siren_activation: 3-6        [1, 512]                  --\n",
      "│    └─SirenLayer: 2-4                   [1, 512]                  --\n",
      "│    │    └─Linear: 3-7                  [1, 512]                  262,656\n",
      "│    │    └─siren_activation: 3-8        [1, 512]                  --\n",
      "│    └─SirenLayer: 2-5                   [1, 512]                  --\n",
      "│    │    └─Linear: 3-9                  [1, 512]                  262,656\n",
      "│    │    └─siren_activation: 3-10       [1, 512]                  --\n",
      "│    └─SirenLayer: 2-6                   [1, 512]                  --\n",
      "│    │    └─Linear: 3-11                 [1, 512]                  262,656\n",
      "│    │    └─siren_activation: 3-12       [1, 512]                  --\n",
      "│    └─Linear: 2-7                       [1, 2]                    1,024\n",
      "==========================================================================================\n",
      "Total params: 1,315,840\n",
      "Trainable params: 1,315,840\n",
      "Non-trainable params: 0\n",
      "Total mult-adds (Units.MEGABYTES): 1.32\n",
      "==========================================================================================\n",
      "Input size (MB): 0.00\n",
      "Forward/backward pass size (MB): 0.02\n",
      "Params size (MB): 5.26\n",
      "Estimated Total Size (MB): 5.29\n",
      "==========================================================================================\n"
     ]
    }
   ],
   "execution_count": 7
  },
  {
   "metadata": {
    "ExecuteTime": {
     "end_time": "2025-07-03T22:47:24.718958Z",
     "start_time": "2025-07-03T22:47:24.712633Z"
    }
   },
   "cell_type": "code",
   "source": [
    "finer_model = FinerModel(\n",
    "    in_features=2,\n",
    "    out_features=2,\n",
    "    bias=True,\n",
    "    hidden_layers=5,\n",
    "    hidden_features=128,\n",
    "    first_omega_0=30.,\n",
    "    hidden_omega_0=30.,\n",
    "    first_k=10,\n",
    "    hidden_k=10,\n",
    "    residual_net=False\n",
    ")"
   ],
   "id": "d10b5ab135cb770b",
   "outputs": [],
   "execution_count": 8
  },
  {
   "metadata": {
    "ExecuteTime": {
     "end_time": "2025-07-03T22:47:24.744954Z",
     "start_time": "2025-07-03T22:47:24.740798Z"
    }
   },
   "cell_type": "code",
   "source": "output = finer_model(x_dummy)",
   "id": "3cda3b4e3fd8068e",
   "outputs": [],
   "execution_count": 9
  },
  {
   "metadata": {
    "ExecuteTime": {
     "end_time": "2025-07-03T22:47:24.758410Z",
     "start_time": "2025-07-03T22:47:24.754087Z"
    }
   },
   "cell_type": "code",
   "source": [
    "# Print input and output\n",
    "print(\"Input:\")\n",
    "print(x_dummy)\n",
    "print(\"Output:\")\n",
    "print(output)"
   ],
   "id": "d5ab8845c39a0e08",
   "outputs": [
    {
     "name": "stdout",
     "output_type": "stream",
     "text": [
      "Input:\n",
      "tensor([[ 0.7798,  0.4665],\n",
      "        [-0.5352,  0.9371],\n",
      "        [ 0.6600, -0.1392],\n",
      "        [ 0.7714, -0.2785],\n",
      "        [-0.4264,  0.6957]])\n",
      "Output:\n",
      "tensor([[-0.0441, -0.0294],\n",
      "        [ 0.0495,  0.0042],\n",
      "        [ 0.0408,  0.0147],\n",
      "        [ 0.0278,  0.0891],\n",
      "        [-0.0059, -0.0038]], grad_fn=<MmBackward0>)\n"
     ]
    }
   ],
   "execution_count": 10
  },
  {
   "metadata": {
    "ExecuteTime": {
     "end_time": "2025-07-03T22:47:24.808782Z",
     "start_time": "2025-07-03T22:47:24.802584Z"
    }
   },
   "cell_type": "code",
   "source": "model_summary(finer_model, input_size=(1, 2))",
   "id": "ed0dfd6ffc9a7f8b",
   "outputs": [
    {
     "name": "stdout",
     "output_type": "stream",
     "text": [
      "==========================================================================================\n",
      "Layer (type:depth-idx)                   Output Shape              Param #\n",
      "==========================================================================================\n",
      "FinerModel                               [1, 2]                    --\n",
      "├─Sequential: 1-1                        [1, 2]                    --\n",
      "│    └─FinerLayer: 2-1                   [1, 128]                  --\n",
      "│    │    └─Linear: 3-1                  [1, 128]                  384\n",
      "│    │    └─siren_activation: 3-2        [1, 128]                  --\n",
      "│    └─FinerLayer: 2-2                   [1, 128]                  --\n",
      "│    │    └─Linear: 3-3                  [1, 128]                  16,512\n",
      "│    │    └─siren_activation: 3-4        [1, 128]                  --\n",
      "│    └─FinerLayer: 2-3                   [1, 128]                  --\n",
      "│    │    └─Linear: 3-5                  [1, 128]                  16,512\n",
      "│    │    └─siren_activation: 3-6        [1, 128]                  --\n",
      "│    └─FinerLayer: 2-4                   [1, 128]                  --\n",
      "│    │    └─Linear: 3-7                  [1, 128]                  16,512\n",
      "│    │    └─siren_activation: 3-8        [1, 128]                  --\n",
      "│    └─FinerLayer: 2-5                   [1, 128]                  --\n",
      "│    │    └─Linear: 3-9                  [1, 128]                  16,512\n",
      "│    │    └─siren_activation: 3-10       [1, 128]                  --\n",
      "│    └─FinerLayer: 2-6                   [1, 128]                  --\n",
      "│    │    └─Linear: 3-11                 [1, 128]                  16,512\n",
      "│    │    └─siren_activation: 3-12       [1, 128]                  --\n",
      "│    └─Linear: 2-7                       [1, 2]                    256\n",
      "==========================================================================================\n",
      "Total params: 83,200\n",
      "Trainable params: 83,200\n",
      "Non-trainable params: 0\n",
      "Total mult-adds (Units.MEGABYTES): 0.08\n",
      "==========================================================================================\n",
      "Input size (MB): 0.00\n",
      "Forward/backward pass size (MB): 0.01\n",
      "Params size (MB): 0.33\n",
      "Estimated Total Size (MB): 0.34\n",
      "==========================================================================================\n"
     ]
    }
   ],
   "execution_count": 11
  },
  {
   "metadata": {
    "ExecuteTime": {
     "end_time": "2025-07-03T22:47:24.851954Z",
     "start_time": "2025-07-03T22:47:24.833843Z"
    }
   },
   "cell_type": "code",
   "source": [
    "siren_residual_model = SirenModel(\n",
    "    in_features=2,\n",
    "    out_features=2,\n",
    "    hidden_layers=5,\n",
    "    hidden_features=512,\n",
    "    first_omega_0=30.0,\n",
    "    hidden_omega_0=30.0,\n",
    "    residual_net=True\n",
    ")"
   ],
   "id": "ce4ad6f79b9f0daf",
   "outputs": [],
   "execution_count": 12
  },
  {
   "metadata": {
    "ExecuteTime": {
     "end_time": "2025-07-03T22:47:24.865990Z",
     "start_time": "2025-07-03T22:47:24.859362Z"
    }
   },
   "cell_type": "code",
   "source": "output = siren_residual_model(x_dummy)",
   "id": "ffcc799028eefe3c",
   "outputs": [],
   "execution_count": 13
  },
  {
   "metadata": {
    "ExecuteTime": {
     "end_time": "2025-07-03T22:47:24.878830Z",
     "start_time": "2025-07-03T22:47:24.875234Z"
    }
   },
   "cell_type": "code",
   "source": [
    "# Print input and output\n",
    "print(\"Input:\")\n",
    "print(x_dummy)\n",
    "print(\"Output:\")\n",
    "print(output)"
   ],
   "id": "ef89bf21830f6054",
   "outputs": [
    {
     "name": "stdout",
     "output_type": "stream",
     "text": [
      "Input:\n",
      "tensor([[ 0.7798,  0.4665],\n",
      "        [-0.5352,  0.9371],\n",
      "        [ 0.6600, -0.1392],\n",
      "        [ 0.7714, -0.2785],\n",
      "        [-0.4264,  0.6957]])\n",
      "Output:\n",
      "tensor([[-0.0044, -0.0489],\n",
      "        [ 0.0034,  0.0613],\n",
      "        [-0.0276, -0.0291],\n",
      "        [-0.0632,  0.0422],\n",
      "        [-0.0406, -0.0189]], grad_fn=<MmBackward0>)\n"
     ]
    }
   ],
   "execution_count": 14
  },
  {
   "metadata": {
    "ExecuteTime": {
     "end_time": "2025-07-03T22:47:24.922440Z",
     "start_time": "2025-07-03T22:47:24.909345Z"
    }
   },
   "cell_type": "code",
   "source": "model_summary(siren_residual_model, input_size=(1, 2))",
   "id": "f1aa40bae8bfa0cb",
   "outputs": [
    {
     "name": "stdout",
     "output_type": "stream",
     "text": [
      "==========================================================================================\n",
      "Layer (type:depth-idx)                   Output Shape              Param #\n",
      "==========================================================================================\n",
      "SirenModel                               [1, 2]                    --\n",
      "├─Sequential: 1-1                        [1, 2]                    --\n",
      "│    └─SirenLayer: 2-1                   [1, 512]                  --\n",
      "│    │    └─Linear: 3-1                  [1, 512]                  1,536\n",
      "│    │    └─siren_activation: 3-2        [1, 512]                  --\n",
      "│    └─SirenResidualLayer: 2-2           [1, 512]                  --\n",
      "│    │    └─Linear: 3-3                  [1, 512]                  262,656\n",
      "│    │    └─siren_activation: 3-4        [1, 512]                  --\n",
      "│    │    └─Linear: 3-5                  [1, 512]                  262,656\n",
      "│    │    └─siren_activation: 3-6        [1, 512]                  --\n",
      "│    └─SirenResidualLayer: 2-3           [1, 512]                  --\n",
      "│    │    └─Linear: 3-7                  [1, 512]                  262,656\n",
      "│    │    └─siren_activation: 3-8        [1, 512]                  --\n",
      "│    │    └─Linear: 3-9                  [1, 512]                  262,656\n",
      "│    │    └─siren_activation: 3-10       [1, 512]                  --\n",
      "│    └─SirenResidualLayer: 2-4           [1, 512]                  --\n",
      "│    │    └─Linear: 3-11                 [1, 512]                  262,656\n",
      "│    │    └─siren_activation: 3-12       [1, 512]                  --\n",
      "│    │    └─Linear: 3-13                 [1, 512]                  262,656\n",
      "│    │    └─siren_activation: 3-14       [1, 512]                  --\n",
      "│    └─SirenResidualLayer: 2-5           [1, 512]                  --\n",
      "│    │    └─Linear: 3-15                 [1, 512]                  262,656\n",
      "│    │    └─siren_activation: 3-16       [1, 512]                  --\n",
      "│    │    └─Linear: 3-17                 [1, 512]                  262,656\n",
      "│    │    └─siren_activation: 3-18       [1, 512]                  --\n",
      "│    └─SirenResidualLayer: 2-6           [1, 512]                  --\n",
      "│    │    └─Linear: 3-19                 [1, 512]                  262,656\n",
      "│    │    └─siren_activation: 3-20       [1, 512]                  --\n",
      "│    │    └─Linear: 3-21                 [1, 512]                  262,656\n",
      "│    │    └─siren_activation: 3-22       [1, 512]                  --\n",
      "│    └─Linear: 2-7                       [1, 2]                    1,024\n",
      "==========================================================================================\n",
      "Total params: 2,629,120\n",
      "Trainable params: 2,629,120\n",
      "Non-trainable params: 0\n",
      "Total mult-adds (Units.MEGABYTES): 2.63\n",
      "==========================================================================================\n",
      "Input size (MB): 0.00\n",
      "Forward/backward pass size (MB): 0.05\n",
      "Params size (MB): 10.52\n",
      "Estimated Total Size (MB): 10.56\n",
      "==========================================================================================\n"
     ]
    }
   ],
   "execution_count": 15
  },
  {
   "metadata": {
    "ExecuteTime": {
     "end_time": "2025-07-03T22:47:24.949232Z",
     "start_time": "2025-07-03T22:47:24.942677Z"
    }
   },
   "cell_type": "code",
   "source": [
    "finer_residual_model = FinerModel( \n",
    "    in_features=2,\n",
    "    out_features=2,\n",
    "    bias=True,\n",
    "    hidden_layers=5,\n",
    "    hidden_features=128,\n",
    "    first_omega_0=30.,\n",
    "    hidden_omega_0=30.,\n",
    "    first_k=10,\n",
    "    hidden_k=10,\n",
    "    residual_net=True\n",
    ")"
   ],
   "id": "1b815d502c6cbd92",
   "outputs": [],
   "execution_count": 16
  },
  {
   "metadata": {
    "ExecuteTime": {
     "end_time": "2025-07-03T22:47:24.978484Z",
     "start_time": "2025-07-03T22:47:24.974077Z"
    }
   },
   "cell_type": "code",
   "source": "output = finer_residual_model(x_dummy)",
   "id": "2052922e4f26d50b",
   "outputs": [],
   "execution_count": 17
  },
  {
   "metadata": {
    "ExecuteTime": {
     "end_time": "2025-07-03T22:47:24.991109Z",
     "start_time": "2025-07-03T22:47:24.987643Z"
    }
   },
   "cell_type": "code",
   "source": [
    "# Print input and output\n",
    "print(\"Input:\")\n",
    "print(x_dummy)\n",
    "print(\"Output:\")\n",
    "print(output)"
   ],
   "id": "1ade6f5941e980f7",
   "outputs": [
    {
     "name": "stdout",
     "output_type": "stream",
     "text": [
      "Input:\n",
      "tensor([[ 0.7798,  0.4665],\n",
      "        [-0.5352,  0.9371],\n",
      "        [ 0.6600, -0.1392],\n",
      "        [ 0.7714, -0.2785],\n",
      "        [-0.4264,  0.6957]])\n",
      "Output:\n",
      "tensor([[ 0.0354,  0.0146],\n",
      "        [ 0.0188,  0.0157],\n",
      "        [-0.0600,  0.0134],\n",
      "        [-0.0120,  0.0125],\n",
      "        [ 0.0328,  0.0117]], grad_fn=<MmBackward0>)\n"
     ]
    }
   ],
   "execution_count": 18
  },
  {
   "metadata": {
    "ExecuteTime": {
     "end_time": "2025-07-03T22:47:25.026760Z",
     "start_time": "2025-07-03T22:47:25.016798Z"
    }
   },
   "cell_type": "code",
   "source": "model_summary(finer_residual_model, input_size=(1, 2))",
   "id": "b6467d01c01379de",
   "outputs": [
    {
     "name": "stdout",
     "output_type": "stream",
     "text": [
      "==========================================================================================\n",
      "Layer (type:depth-idx)                   Output Shape              Param #\n",
      "==========================================================================================\n",
      "FinerModel                               [1, 2]                    --\n",
      "├─Sequential: 1-1                        [1, 2]                    --\n",
      "│    └─FinerLayer: 2-1                   [1, 128]                  --\n",
      "│    │    └─Linear: 3-1                  [1, 128]                  384\n",
      "│    │    └─siren_activation: 3-2        [1, 128]                  --\n",
      "│    └─FinerResidualLayer: 2-2           [1, 128]                  --\n",
      "│    │    └─Linear: 3-3                  [1, 128]                  16,512\n",
      "│    │    └─siren_activation: 3-4        [1, 128]                  --\n",
      "│    │    └─Linear: 3-5                  [1, 128]                  16,512\n",
      "│    │    └─siren_activation: 3-6        [1, 128]                  --\n",
      "│    └─FinerResidualLayer: 2-3           [1, 128]                  --\n",
      "│    │    └─Linear: 3-7                  [1, 128]                  16,512\n",
      "│    │    └─siren_activation: 3-8        [1, 128]                  --\n",
      "│    │    └─Linear: 3-9                  [1, 128]                  16,512\n",
      "│    │    └─siren_activation: 3-10       [1, 128]                  --\n",
      "│    └─FinerResidualLayer: 2-4           [1, 128]                  --\n",
      "│    │    └─Linear: 3-11                 [1, 128]                  16,512\n",
      "│    │    └─siren_activation: 3-12       [1, 128]                  --\n",
      "│    │    └─Linear: 3-13                 [1, 128]                  16,512\n",
      "│    │    └─siren_activation: 3-14       [1, 128]                  --\n",
      "│    └─FinerResidualLayer: 2-5           [1, 128]                  --\n",
      "│    │    └─Linear: 3-15                 [1, 128]                  16,512\n",
      "│    │    └─siren_activation: 3-16       [1, 128]                  --\n",
      "│    │    └─Linear: 3-17                 [1, 128]                  16,512\n",
      "│    │    └─siren_activation: 3-18       [1, 128]                  --\n",
      "│    └─FinerResidualLayer: 2-6           [1, 128]                  --\n",
      "│    │    └─Linear: 3-19                 [1, 128]                  16,512\n",
      "│    │    └─siren_activation: 3-20       [1, 128]                  --\n",
      "│    │    └─Linear: 3-21                 [1, 128]                  16,512\n",
      "│    │    └─siren_activation: 3-22       [1, 128]                  --\n",
      "│    └─Linear: 2-7                       [1, 2]                    256\n",
      "==========================================================================================\n",
      "Total params: 165,760\n",
      "Trainable params: 165,760\n",
      "Non-trainable params: 0\n",
      "Total mult-adds (Units.MEGABYTES): 0.17\n",
      "==========================================================================================\n",
      "Input size (MB): 0.00\n",
      "Forward/backward pass size (MB): 0.01\n",
      "Params size (MB): 0.66\n",
      "Estimated Total Size (MB): 0.67\n",
      "==========================================================================================\n"
     ]
    }
   ],
   "execution_count": 19
  },
  {
   "metadata": {},
   "cell_type": "markdown",
   "source": "## Gaussian Model and Finer Gaussian",
   "id": "14d8e2a41e4fbc36"
  },
  {
   "metadata": {
    "ExecuteTime": {
     "end_time": "2025-07-03T22:47:25.056785Z",
     "start_time": "2025-07-03T22:47:25.050641Z"
    }
   },
   "cell_type": "code",
   "source": "from models.implicit_neural_representations.inr_models.gaussian_model import GaussianModel, GaussianFinerModel",
   "id": "5d0cc6ed7f5663fa",
   "outputs": [],
   "execution_count": 20
  },
  {
   "metadata": {
    "ExecuteTime": {
     "end_time": "2025-07-03T22:47:25.078225Z",
     "start_time": "2025-07-03T22:47:25.066353Z"
    }
   },
   "cell_type": "code",
   "source": [
    "# initialize gaussian model without residual layers\n",
    "gaussian_model = GaussianModel(\n",
    "    in_features=2,\n",
    "    out_features=2,\n",
    "    hidden_layers=5,\n",
    "    hidden_features=512,\n",
    "    scale=30.0,\n",
    "    weight_init=2.0,\n",
    "    bias_init=2.0,\n",
    "    residual_net=False\n",
    ")"
   ],
   "id": "9419766ccc6c99a3",
   "outputs": [],
   "execution_count": 21
  },
  {
   "metadata": {
    "ExecuteTime": {
     "end_time": "2025-07-03T22:47:25.090136Z",
     "start_time": "2025-07-03T22:47:25.084769Z"
    }
   },
   "cell_type": "code",
   "source": "output = gaussian_model(x_dummy)",
   "id": "6f452b3e0af142e5",
   "outputs": [],
   "execution_count": 22
  },
  {
   "metadata": {
    "ExecuteTime": {
     "end_time": "2025-07-03T22:47:25.100529Z",
     "start_time": "2025-07-03T22:47:25.096951Z"
    }
   },
   "cell_type": "code",
   "source": [
    "# Print input and output\n",
    "print(\"Input:\")\n",
    "print(x_dummy)\n",
    "print(\"Output:\")\n",
    "print(output)"
   ],
   "id": "731c6834df07b74",
   "outputs": [
    {
     "name": "stdout",
     "output_type": "stream",
     "text": [
      "Input:\n",
      "tensor([[ 0.7798,  0.4665],\n",
      "        [-0.5352,  0.9371],\n",
      "        [ 0.6600, -0.1392],\n",
      "        [ 0.7714, -0.2785],\n",
      "        [-0.4264,  0.6957]])\n",
      "Output:\n",
      "tensor([[ 1.2085,  0.1593],\n",
      "        [ 1.7541,  2.7034],\n",
      "        [-0.5871,  3.5373],\n",
      "        [ 1.4023, -0.7308],\n",
      "        [-2.2801, -2.7642]], grad_fn=<MmBackward0>)\n"
     ]
    }
   ],
   "execution_count": 23
  },
  {
   "metadata": {
    "ExecuteTime": {
     "end_time": "2025-07-03T22:47:25.138423Z",
     "start_time": "2025-07-03T22:47:25.130120Z"
    }
   },
   "cell_type": "code",
   "source": "model_summary(gaussian_model, input_size=(1, 2))",
   "id": "f43f9c0c2cec68df",
   "outputs": [
    {
     "name": "stdout",
     "output_type": "stream",
     "text": [
      "====================================================================================================\n",
      "Layer (type:depth-idx)                             Output Shape              Param #\n",
      "====================================================================================================\n",
      "GaussianModel                                      [1, 2]                    --\n",
      "├─Sequential: 1-1                                  [1, 2]                    --\n",
      "│    └─GaussianFourierFeatureTransform: 2-1        [1, 4]                    --\n",
      "│    └─GaussianLayer: 2-2                          [1, 512]                  --\n",
      "│    │    └─Linear: 3-1                            [1, 512]                  2,560\n",
      "│    │    └─gaussian_activation: 3-2               [1, 512]                  --\n",
      "│    └─GaussianLayer: 2-3                          [1, 512]                  --\n",
      "│    │    └─Linear: 3-3                            [1, 512]                  262,656\n",
      "│    │    └─gaussian_activation: 3-4               [1, 512]                  --\n",
      "│    └─GaussianLayer: 2-4                          [1, 512]                  --\n",
      "│    │    └─Linear: 3-5                            [1, 512]                  262,656\n",
      "│    │    └─gaussian_activation: 3-6               [1, 512]                  --\n",
      "│    └─GaussianLayer: 2-5                          [1, 512]                  --\n",
      "│    │    └─Linear: 3-7                            [1, 512]                  262,656\n",
      "│    │    └─gaussian_activation: 3-8               [1, 512]                  --\n",
      "│    └─GaussianLayer: 2-6                          [1, 512]                  --\n",
      "│    │    └─Linear: 3-9                            [1, 512]                  262,656\n",
      "│    │    └─gaussian_activation: 3-10              [1, 512]                  --\n",
      "│    └─GaussianLayer: 2-7                          [1, 512]                  --\n",
      "│    │    └─Linear: 3-11                           [1, 512]                  262,656\n",
      "│    │    └─gaussian_activation: 3-12              [1, 512]                  --\n",
      "│    └─Linear: 2-8                                 [1, 2]                    1,024\n",
      "====================================================================================================\n",
      "Total params: 1,316,864\n",
      "Trainable params: 1,316,864\n",
      "Non-trainable params: 0\n",
      "Total mult-adds (Units.MEGABYTES): 1.32\n",
      "====================================================================================================\n",
      "Input size (MB): 0.00\n",
      "Forward/backward pass size (MB): 0.02\n",
      "Params size (MB): 5.27\n",
      "Estimated Total Size (MB): 5.29\n",
      "====================================================================================================\n"
     ]
    }
   ],
   "execution_count": 24
  },
  {
   "metadata": {
    "ExecuteTime": {
     "end_time": "2025-07-03T22:47:25.179642Z",
     "start_time": "2025-07-03T22:47:25.161739Z"
    }
   },
   "cell_type": "code",
   "source": [
    "gaussian_residual_model = GaussianModel(\n",
    "    in_features=2,\n",
    "    out_features=2,\n",
    "    hidden_layers=5,\n",
    "    hidden_features=512,\n",
    "    scale=30.0,\n",
    "    weight_init=0.1,\n",
    "    residual_net=True\n",
    ")"
   ],
   "id": "77574003ab24e637",
   "outputs": [],
   "execution_count": 25
  },
  {
   "metadata": {
    "ExecuteTime": {
     "end_time": "2025-07-03T22:47:25.195933Z",
     "start_time": "2025-07-03T22:47:25.185992Z"
    }
   },
   "cell_type": "code",
   "source": "output = gaussian_residual_model(x_dummy)",
   "id": "d6dedce5e6c4c2b8",
   "outputs": [],
   "execution_count": 26
  },
  {
   "metadata": {
    "ExecuteTime": {
     "end_time": "2025-07-03T22:47:25.209091Z",
     "start_time": "2025-07-03T22:47:25.204079Z"
    }
   },
   "cell_type": "code",
   "source": [
    "print(\"Input:\")\n",
    "print(x_dummy)\n",
    "print(\"Output:\")\n",
    "print(output)"
   ],
   "id": "96fad802bea59adc",
   "outputs": [
    {
     "name": "stdout",
     "output_type": "stream",
     "text": [
      "Input:\n",
      "tensor([[ 0.7798,  0.4665],\n",
      "        [-0.5352,  0.9371],\n",
      "        [ 0.6600, -0.1392],\n",
      "        [ 0.7714, -0.2785],\n",
      "        [-0.4264,  0.6957]])\n",
      "Output:\n",
      "tensor([[ 0.1038,  0.1144],\n",
      "        [-0.1639,  0.2779],\n",
      "        [-0.1145,  0.4811],\n",
      "        [-0.0395,  0.0737],\n",
      "        [ 0.2236, -0.0715]], grad_fn=<MmBackward0>)\n"
     ]
    }
   ],
   "execution_count": 27
  },
  {
   "metadata": {
    "ExecuteTime": {
     "end_time": "2025-07-03T22:47:25.239649Z",
     "start_time": "2025-07-03T22:47:25.227135Z"
    }
   },
   "cell_type": "code",
   "source": "model_summary(gaussian_residual_model, input_size=(1, 2))",
   "id": "2dfdbee952212e29",
   "outputs": [
    {
     "name": "stdout",
     "output_type": "stream",
     "text": [
      "====================================================================================================\n",
      "Layer (type:depth-idx)                             Output Shape              Param #\n",
      "====================================================================================================\n",
      "GaussianModel                                      [1, 2]                    --\n",
      "├─Sequential: 1-1                                  [1, 2]                    --\n",
      "│    └─GaussianFourierFeatureTransform: 2-1        [1, 4]                    --\n",
      "│    └─GaussianLayer: 2-2                          [1, 512]                  --\n",
      "│    │    └─Linear: 3-1                            [1, 512]                  2,560\n",
      "│    │    └─gaussian_activation: 3-2               [1, 512]                  --\n",
      "│    └─GaussianResidualLayer: 2-3                  [1, 512]                  --\n",
      "│    │    └─Linear: 3-3                            [1, 512]                  262,656\n",
      "│    │    └─gaussian_activation: 3-4               [1, 512]                  --\n",
      "│    │    └─Linear: 3-5                            [1, 512]                  262,656\n",
      "│    │    └─gaussian_activation: 3-6               [1, 512]                  --\n",
      "│    └─GaussianResidualLayer: 2-4                  [1, 512]                  --\n",
      "│    │    └─Linear: 3-7                            [1, 512]                  262,656\n",
      "│    │    └─gaussian_activation: 3-8               [1, 512]                  --\n",
      "│    │    └─Linear: 3-9                            [1, 512]                  262,656\n",
      "│    │    └─gaussian_activation: 3-10              [1, 512]                  --\n",
      "│    └─GaussianResidualLayer: 2-5                  [1, 512]                  --\n",
      "│    │    └─Linear: 3-11                           [1, 512]                  262,656\n",
      "│    │    └─gaussian_activation: 3-12              [1, 512]                  --\n",
      "│    │    └─Linear: 3-13                           [1, 512]                  262,656\n",
      "│    │    └─gaussian_activation: 3-14              [1, 512]                  --\n",
      "│    └─GaussianResidualLayer: 2-6                  [1, 512]                  --\n",
      "│    │    └─Linear: 3-15                           [1, 512]                  262,656\n",
      "│    │    └─gaussian_activation: 3-16              [1, 512]                  --\n",
      "│    │    └─Linear: 3-17                           [1, 512]                  262,656\n",
      "│    │    └─gaussian_activation: 3-18              [1, 512]                  --\n",
      "│    └─GaussianResidualLayer: 2-7                  [1, 512]                  --\n",
      "│    │    └─Linear: 3-19                           [1, 512]                  262,656\n",
      "│    │    └─gaussian_activation: 3-20              [1, 512]                  --\n",
      "│    │    └─Linear: 3-21                           [1, 512]                  262,656\n",
      "│    │    └─gaussian_activation: 3-22              [1, 512]                  --\n",
      "│    └─Linear: 2-8                                 [1, 2]                    1,024\n",
      "====================================================================================================\n",
      "Total params: 2,630,144\n",
      "Trainable params: 2,630,144\n",
      "Non-trainable params: 0\n",
      "Total mult-adds (Units.MEGABYTES): 2.63\n",
      "====================================================================================================\n",
      "Input size (MB): 0.00\n",
      "Forward/backward pass size (MB): 0.05\n",
      "Params size (MB): 10.52\n",
      "Estimated Total Size (MB): 10.57\n",
      "====================================================================================================\n"
     ]
    }
   ],
   "execution_count": 28
  },
  {
   "metadata": {
    "ExecuteTime": {
     "end_time": "2025-07-03T22:54:58.191935Z",
     "start_time": "2025-07-03T22:54:58.186623Z"
    }
   },
   "cell_type": "code",
   "source": [
    "gaussian_finer_model = GaussianFinerModel(\n",
    "    in_features=2,\n",
    "    out_features=2,\n",
    "    scale=20.0,\n",
    "    omega_f=1,\n",
    "    first_k=30,\n",
    "    hidden_k=30,\n",
    "    residual_net=False\n",
    ")"
   ],
   "id": "15f75d9285f88d56",
   "outputs": [],
   "execution_count": 121
  },
  {
   "metadata": {
    "ExecuteTime": {
     "end_time": "2025-07-03T22:54:59.856112Z",
     "start_time": "2025-07-03T22:54:59.849218Z"
    }
   },
   "cell_type": "code",
   "source": "output = gaussian_finer_model(x_dummy)",
   "id": "fef55696294111fc",
   "outputs": [],
   "execution_count": 122
  },
  {
   "metadata": {
    "ExecuteTime": {
     "end_time": "2025-07-03T22:55:01.296339Z",
     "start_time": "2025-07-03T22:55:01.291082Z"
    }
   },
   "cell_type": "code",
   "source": [
    "print(\"Input:\")\n",
    "print(x_dummy)\n",
    "print(\"Output:\")\n",
    "print(output)"
   ],
   "id": "2f8dba4030255a98",
   "outputs": [
    {
     "name": "stdout",
     "output_type": "stream",
     "text": [
      "Input:\n",
      "tensor([[ 0.7798,  0.4665],\n",
      "        [-0.5352,  0.9371],\n",
      "        [ 0.6600, -0.1392],\n",
      "        [ 0.7714, -0.2785],\n",
      "        [-0.4264,  0.6957]])\n",
      "Output:\n",
      "tensor([[-0.1175, -0.1617],\n",
      "        [-0.1571,  0.2604],\n",
      "        [ 0.2615,  0.0056],\n",
      "        [ 0.1362,  0.0373],\n",
      "        [ 0.0481,  0.0955]], grad_fn=<MmBackward0>)\n"
     ]
    }
   ],
   "execution_count": 123
  },
  {
   "metadata": {
    "ExecuteTime": {
     "end_time": "2025-07-03T22:47:25.507118Z",
     "start_time": "2025-07-03T22:47:25.492681Z"
    }
   },
   "cell_type": "code",
   "source": "model_summary(gaussian_finer_model, input_size=(1, 2))",
   "id": "93a19d70f8c96ae0",
   "outputs": [
    {
     "name": "stdout",
     "output_type": "stream",
     "text": [
      "====================================================================================================\n",
      "Layer (type:depth-idx)                             Output Shape              Param #\n",
      "====================================================================================================\n",
      "GaussianFinerModel                                 [1, 2]                    --\n",
      "├─Sequential: 1-1                                  [1, 2]                    --\n",
      "│    └─GaussianFourierFeatureTransform: 2-1        [1, 4]                    --\n",
      "│    └─GaussianFinerLayer: 2-2                     [1, 128]                  --\n",
      "│    │    └─Linear: 3-1                            [1, 128]                  640\n",
      "│    │    └─gaussian_activation: 3-2               [1, 128]                  --\n",
      "│    └─GaussianFinerLayer: 2-3                     [1, 128]                  --\n",
      "│    │    └─Linear: 3-3                            [1, 128]                  16,512\n",
      "│    │    └─gaussian_activation: 3-4               [1, 128]                  --\n",
      "│    └─GaussianFinerLayer: 2-4                     [1, 128]                  --\n",
      "│    │    └─Linear: 3-5                            [1, 128]                  16,512\n",
      "│    │    └─gaussian_activation: 3-6               [1, 128]                  --\n",
      "│    └─GaussianFinerLayer: 2-5                     [1, 128]                  --\n",
      "│    │    └─Linear: 3-7                            [1, 128]                  16,512\n",
      "│    │    └─gaussian_activation: 3-8               [1, 128]                  --\n",
      "│    └─GaussianFinerLayer: 2-6                     [1, 128]                  --\n",
      "│    │    └─Linear: 3-9                            [1, 128]                  16,512\n",
      "│    │    └─gaussian_activation: 3-10              [1, 128]                  --\n",
      "│    └─GaussianFinerLayer: 2-7                     [1, 128]                  --\n",
      "│    │    └─Linear: 3-11                           [1, 128]                  16,512\n",
      "│    │    └─gaussian_activation: 3-12              [1, 128]                  --\n",
      "│    └─Linear: 2-8                                 [1, 2]                    256\n",
      "====================================================================================================\n",
      "Total params: 83,456\n",
      "Trainable params: 83,456\n",
      "Non-trainable params: 0\n",
      "Total mult-adds (Units.MEGABYTES): 0.08\n",
      "====================================================================================================\n",
      "Input size (MB): 0.00\n",
      "Forward/backward pass size (MB): 0.01\n",
      "Params size (MB): 0.33\n",
      "Estimated Total Size (MB): 0.34\n",
      "====================================================================================================\n"
     ]
    }
   ],
   "execution_count": 32
  },
  {
   "metadata": {
    "ExecuteTime": {
     "end_time": "2025-07-03T22:47:25.567670Z",
     "start_time": "2025-07-03T22:47:25.562312Z"
    }
   },
   "cell_type": "code",
   "source": [
    "gaussian_finer_residual_model = GaussianFinerModel(\n",
    "    in_features=2,\n",
    "    out_features=2,\n",
    "    scale=30.0,\n",
    "    omega_f=2.5,\n",
    "    first_k=1,\n",
    "    hidden_k=1,\n",
    "    residual_net=True\n",
    ")"
   ],
   "id": "6dce263d2a0765b9",
   "outputs": [],
   "execution_count": 33
  },
  {
   "metadata": {
    "ExecuteTime": {
     "end_time": "2025-07-03T22:47:25.579845Z",
     "start_time": "2025-07-03T22:47:25.574530Z"
    }
   },
   "cell_type": "code",
   "source": "output = gaussian_finer_residual_model(x_dummy)",
   "id": "329de2f8c99c1a59",
   "outputs": [],
   "execution_count": 34
  },
  {
   "metadata": {
    "ExecuteTime": {
     "end_time": "2025-07-03T22:47:25.589642Z",
     "start_time": "2025-07-03T22:47:25.586127Z"
    }
   },
   "cell_type": "code",
   "source": [
    "print(\"Input:\")\n",
    "print(x_dummy)\n",
    "print(\"Output:\")\n",
    "print(output)"
   ],
   "id": "1e84596644ef36fc",
   "outputs": [
    {
     "name": "stdout",
     "output_type": "stream",
     "text": [
      "Input:\n",
      "tensor([[ 0.7798,  0.4665],\n",
      "        [-0.5352,  0.9371],\n",
      "        [ 0.6600, -0.1392],\n",
      "        [ 0.7714, -0.2785],\n",
      "        [-0.4264,  0.6957]])\n",
      "Output:\n",
      "tensor([[ 0.0112, -0.0602],\n",
      "        [ 0.0028,  0.0391],\n",
      "        [-0.0271, -0.0469],\n",
      "        [-0.1279, -0.2578],\n",
      "        [ 0.0530, -0.0737]], grad_fn=<MmBackward0>)\n"
     ]
    }
   ],
   "execution_count": 35
  },
  {
   "metadata": {
    "ExecuteTime": {
     "end_time": "2025-07-03T22:47:25.619933Z",
     "start_time": "2025-07-03T22:47:25.610761Z"
    }
   },
   "cell_type": "code",
   "source": "model_summary(gaussian_finer_residual_model, input_size=(1, 2))",
   "id": "a4df428b7e58a756",
   "outputs": [
    {
     "name": "stdout",
     "output_type": "stream",
     "text": [
      "====================================================================================================\n",
      "Layer (type:depth-idx)                             Output Shape              Param #\n",
      "====================================================================================================\n",
      "GaussianFinerModel                                 [1, 2]                    --\n",
      "├─Sequential: 1-1                                  [1, 2]                    --\n",
      "│    └─GaussianFourierFeatureTransform: 2-1        [1, 4]                    --\n",
      "│    └─GaussianFinerLayer: 2-2                     [1, 128]                  --\n",
      "│    │    └─Linear: 3-1                            [1, 128]                  640\n",
      "│    │    └─gaussian_activation: 3-2               [1, 128]                  --\n",
      "│    └─GaussianFinerResidualLayer: 2-3             [1, 128]                  --\n",
      "│    │    └─Linear: 3-3                            [1, 128]                  16,512\n",
      "│    │    └─gaussian_activation: 3-4               [1, 128]                  --\n",
      "│    │    └─Linear: 3-5                            [1, 128]                  16,512\n",
      "│    │    └─gaussian_activation: 3-6               [1, 128]                  --\n",
      "│    └─GaussianFinerResidualLayer: 2-4             [1, 128]                  --\n",
      "│    │    └─Linear: 3-7                            [1, 128]                  16,512\n",
      "│    │    └─gaussian_activation: 3-8               [1, 128]                  --\n",
      "│    │    └─Linear: 3-9                            [1, 128]                  16,512\n",
      "│    │    └─gaussian_activation: 3-10              [1, 128]                  --\n",
      "│    └─GaussianFinerResidualLayer: 2-5             [1, 128]                  --\n",
      "│    │    └─Linear: 3-11                           [1, 128]                  16,512\n",
      "│    │    └─gaussian_activation: 3-12              [1, 128]                  --\n",
      "│    │    └─Linear: 3-13                           [1, 128]                  16,512\n",
      "│    │    └─gaussian_activation: 3-14              [1, 128]                  --\n",
      "│    └─GaussianFinerResidualLayer: 2-6             [1, 128]                  --\n",
      "│    │    └─Linear: 3-15                           [1, 128]                  16,512\n",
      "│    │    └─gaussian_activation: 3-16              [1, 128]                  --\n",
      "│    │    └─Linear: 3-17                           [1, 128]                  16,512\n",
      "│    │    └─gaussian_activation: 3-18              [1, 128]                  --\n",
      "│    └─GaussianFinerResidualLayer: 2-7             [1, 128]                  --\n",
      "│    │    └─Linear: 3-19                           [1, 128]                  16,512\n",
      "│    │    └─gaussian_activation: 3-20              [1, 128]                  --\n",
      "│    │    └─Linear: 3-21                           [1, 128]                  16,512\n",
      "│    │    └─gaussian_activation: 3-22              [1, 128]                  --\n",
      "│    └─Linear: 2-8                                 [1, 2]                    256\n",
      "====================================================================================================\n",
      "Total params: 166,016\n",
      "Trainable params: 166,016\n",
      "Non-trainable params: 0\n",
      "Total mult-adds (Units.MEGABYTES): 0.17\n",
      "====================================================================================================\n",
      "Input size (MB): 0.00\n",
      "Forward/backward pass size (MB): 0.01\n",
      "Params size (MB): 0.66\n",
      "Estimated Total Size (MB): 0.68\n",
      "====================================================================================================\n"
     ]
    }
   ],
   "execution_count": 36
  },
  {
   "metadata": {},
   "cell_type": "markdown",
   "source": "## MLP MODEL",
   "id": "5e16b99dddc3a2f1"
  },
  {
   "metadata": {
    "ExecuteTime": {
     "end_time": "2025-07-03T22:47:25.643701Z",
     "start_time": "2025-07-03T22:47:25.639410Z"
    }
   },
   "cell_type": "code",
   "source": "from models.implicit_neural_representations.inr_models.mlp_model import MLPModel",
   "id": "993af880de38c136",
   "outputs": [],
   "execution_count": 37
  },
  {
   "metadata": {
    "ExecuteTime": {
     "end_time": "2025-07-03T22:47:25.656128Z",
     "start_time": "2025-07-03T22:47:25.651466Z"
    }
   },
   "cell_type": "code",
   "source": [
    "mlp_model = MLPModel(\n",
    "    in_features=2,\n",
    "    out_features=2,\n",
    "    mapping_type=\"gauss\",\n",
    "    mapping_dim=4,\n",
    "    mapping_scale=10,\n",
    "    hidden_features=128,\n",
    "    hidden_layers = 5, \n",
    "    bias=True,\n",
    "    weight_init=0.1,\n",
    "    bias_init=None,\n",
    "    residual_net=False)"
   ],
   "id": "4e606d57db8d7561",
   "outputs": [],
   "execution_count": 38
  },
  {
   "metadata": {
    "ExecuteTime": {
     "end_time": "2025-07-03T22:47:25.664973Z",
     "start_time": "2025-07-03T22:47:25.661522Z"
    }
   },
   "cell_type": "code",
   "source": "output = mlp_model(x_dummy)",
   "id": "cc78849fb95d1ad3",
   "outputs": [],
   "execution_count": 39
  },
  {
   "metadata": {
    "ExecuteTime": {
     "end_time": "2025-07-03T22:47:25.674780Z",
     "start_time": "2025-07-03T22:47:25.671647Z"
    }
   },
   "cell_type": "code",
   "source": [
    "print(\"Input:\")\n",
    "print(x_dummy)\n",
    "print(\"Output:\")\n",
    "print(output)"
   ],
   "id": "6af33433ffac42ba",
   "outputs": [
    {
     "name": "stdout",
     "output_type": "stream",
     "text": [
      "Input:\n",
      "tensor([[ 0.7798,  0.4665],\n",
      "        [-0.5352,  0.9371],\n",
      "        [ 0.6600, -0.1392],\n",
      "        [ 0.7714, -0.2785],\n",
      "        [-0.4264,  0.6957]])\n",
      "Output:\n",
      "tensor([[ 0.0125, -0.0323],\n",
      "        [ 0.0107, -0.0327],\n",
      "        [ 0.0121, -0.0331],\n",
      "        [ 0.0107, -0.0320],\n",
      "        [ 0.0116, -0.0317]], grad_fn=<AddmmBackward0>)\n"
     ]
    }
   ],
   "execution_count": 40
  },
  {
   "metadata": {
    "ExecuteTime": {
     "end_time": "2025-07-03T22:47:25.705085Z",
     "start_time": "2025-07-03T22:47:25.697514Z"
    }
   },
   "cell_type": "code",
   "source": "model_summary(mlp_model, input_size=(1, 2))",
   "id": "782a5322fa9d3ca6",
   "outputs": [
    {
     "name": "stdout",
     "output_type": "stream",
     "text": [
      "====================================================================================================\n",
      "Layer (type:depth-idx)                             Output Shape              Param #\n",
      "====================================================================================================\n",
      "MLPModel                                           [1, 2]                    --\n",
      "├─Sequential: 1-1                                  [1, 2]                    --\n",
      "│    └─GaussianFourierFeatureTransform: 2-1        [1, 4]                    --\n",
      "│    └─MLPLayer: 2-2                               [1, 128]                  --\n",
      "│    │    └─Linear: 3-1                            [1, 128]                  640\n",
      "│    │    └─ReLU: 3-2                              [1, 128]                  --\n",
      "│    └─MLPLayer: 2-3                               [1, 128]                  --\n",
      "│    │    └─Linear: 3-3                            [1, 128]                  16,512\n",
      "│    │    └─ReLU: 3-4                              [1, 128]                  --\n",
      "│    └─MLPLayer: 2-4                               [1, 128]                  --\n",
      "│    │    └─Linear: 3-5                            [1, 128]                  16,512\n",
      "│    │    └─ReLU: 3-6                              [1, 128]                  --\n",
      "│    └─MLPLayer: 2-5                               [1, 128]                  --\n",
      "│    │    └─Linear: 3-7                            [1, 128]                  16,512\n",
      "│    │    └─ReLU: 3-8                              [1, 128]                  --\n",
      "│    └─MLPLayer: 2-6                               [1, 128]                  --\n",
      "│    │    └─Linear: 3-9                            [1, 128]                  16,512\n",
      "│    │    └─ReLU: 3-10                             [1, 128]                  --\n",
      "│    └─MLPLayer: 2-7                               [1, 128]                  --\n",
      "│    │    └─Linear: 3-11                           [1, 128]                  16,512\n",
      "│    │    └─ReLU: 3-12                             [1, 128]                  --\n",
      "│    └─Linear: 2-8                                 [1, 2]                    258\n",
      "====================================================================================================\n",
      "Total params: 83,458\n",
      "Trainable params: 83,458\n",
      "Non-trainable params: 0\n",
      "Total mult-adds (Units.MEGABYTES): 0.08\n",
      "====================================================================================================\n",
      "Input size (MB): 0.00\n",
      "Forward/backward pass size (MB): 0.01\n",
      "Params size (MB): 0.33\n",
      "Estimated Total Size (MB): 0.34\n",
      "====================================================================================================\n"
     ]
    }
   ],
   "execution_count": 41
  },
  {
   "metadata": {
    "ExecuteTime": {
     "end_time": "2025-07-03T22:47:25.730807Z",
     "start_time": "2025-07-03T22:47:25.725881Z"
    }
   },
   "cell_type": "code",
   "source": [
    "mlp_residual_model = MLPModel(\n",
    "    in_features=2,\n",
    "    out_features=2,\n",
    "    mapping_type=\"gauss\",\n",
    "    mapping_dim=4,\n",
    "    mapping_scale=10,\n",
    "    hidden_features=128,\n",
    "    hidden_layers = 5, \n",
    "    bias=True,\n",
    "    weight_init=0.1,\n",
    "    bias_init=None,\n",
    "    residual_net=True)"
   ],
   "id": "f2c8354cf066a683",
   "outputs": [],
   "execution_count": 42
  },
  {
   "metadata": {
    "ExecuteTime": {
     "end_time": "2025-07-03T22:47:25.758523Z",
     "start_time": "2025-07-03T22:47:25.754327Z"
    }
   },
   "cell_type": "code",
   "source": "output = mlp_residual_model(x_dummy)",
   "id": "938140693446ee64",
   "outputs": [],
   "execution_count": 43
  },
  {
   "metadata": {
    "ExecuteTime": {
     "end_time": "2025-07-03T22:47:25.768621Z",
     "start_time": "2025-07-03T22:47:25.765113Z"
    }
   },
   "cell_type": "code",
   "source": [
    "print(\"Input:\")\n",
    "print(x_dummy)\n",
    "print(\"Output:\")\n",
    "print(output)"
   ],
   "id": "e927b3fbde7cd4ce",
   "outputs": [
    {
     "name": "stdout",
     "output_type": "stream",
     "text": [
      "Input:\n",
      "tensor([[ 0.7798,  0.4665],\n",
      "        [-0.5352,  0.9371],\n",
      "        [ 0.6600, -0.1392],\n",
      "        [ 0.7714, -0.2785],\n",
      "        [-0.4264,  0.6957]])\n",
      "Output:\n",
      "tensor([[ 0.0967, -0.0440],\n",
      "        [ 0.0887, -0.0052],\n",
      "        [ 0.0478, -0.0944],\n",
      "        [ 0.0673, -0.0025],\n",
      "        [ 0.0507, -0.0650]], grad_fn=<AddmmBackward0>)\n"
     ]
    }
   ],
   "execution_count": 44
  },
  {
   "metadata": {
    "ExecuteTime": {
     "end_time": "2025-07-03T22:47:25.796426Z",
     "start_time": "2025-07-03T22:47:25.788758Z"
    }
   },
   "cell_type": "code",
   "source": "model_summary(mlp_residual_model, input_size=(1, 2))",
   "id": "94cd0e5d1fc386ae",
   "outputs": [
    {
     "name": "stdout",
     "output_type": "stream",
     "text": [
      "====================================================================================================\n",
      "Layer (type:depth-idx)                             Output Shape              Param #\n",
      "====================================================================================================\n",
      "MLPModel                                           [1, 2]                    --\n",
      "├─Sequential: 1-1                                  [1, 2]                    --\n",
      "│    └─GaussianFourierFeatureTransform: 2-1        [1, 4]                    --\n",
      "│    └─MLPLayer: 2-2                               [1, 128]                  --\n",
      "│    │    └─Linear: 3-1                            [1, 128]                  640\n",
      "│    │    └─ReLU: 3-2                              [1, 128]                  --\n",
      "│    └─MLPResidualLayer: 2-3                       [1, 128]                  --\n",
      "│    │    └─Linear: 3-3                            [1, 128]                  16,512\n",
      "│    │    └─ReLU: 3-4                              [1, 128]                  --\n",
      "│    │    └─Linear: 3-5                            [1, 128]                  16,512\n",
      "│    │    └─ReLU: 3-6                              [1, 128]                  --\n",
      "│    └─MLPResidualLayer: 2-4                       [1, 128]                  --\n",
      "│    │    └─Linear: 3-7                            [1, 128]                  16,512\n",
      "│    │    └─ReLU: 3-8                              [1, 128]                  --\n",
      "│    │    └─Linear: 3-9                            [1, 128]                  16,512\n",
      "│    │    └─ReLU: 3-10                             [1, 128]                  --\n",
      "│    └─MLPResidualLayer: 2-5                       [1, 128]                  --\n",
      "│    │    └─Linear: 3-11                           [1, 128]                  16,512\n",
      "│    │    └─ReLU: 3-12                             [1, 128]                  --\n",
      "│    │    └─Linear: 3-13                           [1, 128]                  16,512\n",
      "│    │    └─ReLU: 3-14                             [1, 128]                  --\n",
      "│    └─MLPResidualLayer: 2-6                       [1, 128]                  --\n",
      "│    │    └─Linear: 3-15                           [1, 128]                  16,512\n",
      "│    │    └─ReLU: 3-16                             [1, 128]                  --\n",
      "│    │    └─Linear: 3-17                           [1, 128]                  16,512\n",
      "│    │    └─ReLU: 3-18                             [1, 128]                  --\n",
      "│    └─MLPResidualLayer: 2-7                       [1, 128]                  --\n",
      "│    │    └─Linear: 3-19                           [1, 128]                  16,512\n",
      "│    │    └─ReLU: 3-20                             [1, 128]                  --\n",
      "│    │    └─Linear: 3-21                           [1, 128]                  16,512\n",
      "│    │    └─ReLU: 3-22                             [1, 128]                  --\n",
      "│    └─Linear: 2-8                                 [1, 2]                    258\n",
      "====================================================================================================\n",
      "Total params: 166,018\n",
      "Trainable params: 166,018\n",
      "Non-trainable params: 0\n",
      "Total mult-adds (Units.MEGABYTES): 0.17\n",
      "====================================================================================================\n",
      "Input size (MB): 0.00\n",
      "Forward/backward pass size (MB): 0.01\n",
      "Params size (MB): 0.66\n",
      "Estimated Total Size (MB): 0.68\n",
      "====================================================================================================\n"
     ]
    }
   ],
   "execution_count": 45
  },
  {
   "metadata": {},
   "cell_type": "markdown",
   "source": "## Wire Models",
   "id": "47e1d87682c8d728"
  },
  {
   "metadata": {
    "ExecuteTime": {
     "end_time": "2025-07-03T22:47:25.814684Z",
     "start_time": "2025-07-03T22:47:25.809775Z"
    }
   },
   "cell_type": "code",
   "source": "from models.implicit_neural_representations.inr_models.wire_model import WireModel, WireFinerModel",
   "id": "39ee9f42b1c5a8db",
   "outputs": [],
   "execution_count": 46
  },
  {
   "metadata": {
    "ExecuteTime": {
     "end_time": "2025-07-03T22:47:25.841642Z",
     "start_time": "2025-07-03T22:47:25.836510Z"
    }
   },
   "cell_type": "code",
   "source": [
    "wire_model = WireModel(\n",
    "    in_features=2,\n",
    "    out_features=2,\n",
    "    mapping_type=\"no\",\n",
    "    mapping_dim=4,\n",
    "    mapping_scale=10,\n",
    "    hidden_features=128,\n",
    "    hidden_layers = 5, \n",
    "    scale=10.0,\n",
    "    omega=20.0,\n",
    "    bias=True,\n",
    "    weight_init=0.1,\n",
    "    bias_init=None,\n",
    "    residual_net=False\n",
    ")"
   ],
   "id": "5e03591393002e14",
   "outputs": [],
   "execution_count": 47
  },
  {
   "metadata": {
    "ExecuteTime": {
     "end_time": "2025-07-03T22:47:25.849367Z",
     "start_time": "2025-07-03T22:47:25.843168Z"
    }
   },
   "cell_type": "code",
   "source": "output = wire_model(x_dummy)",
   "id": "6dd42e6aab416d73",
   "outputs": [],
   "execution_count": 48
  },
  {
   "metadata": {
    "ExecuteTime": {
     "end_time": "2025-07-03T22:47:25.861450Z",
     "start_time": "2025-07-03T22:47:25.856922Z"
    }
   },
   "cell_type": "code",
   "source": [
    "print(\"Input:\")\n",
    "print(x_dummy)\n",
    "print(\"Output:\")\n",
    "print(output)"
   ],
   "id": "9f9976f23d86771f",
   "outputs": [
    {
     "name": "stdout",
     "output_type": "stream",
     "text": [
      "Input:\n",
      "tensor([[ 0.7798,  0.4665],\n",
      "        [-0.5352,  0.9371],\n",
      "        [ 0.6600, -0.1392],\n",
      "        [ 0.7714, -0.2785],\n",
      "        [-0.4264,  0.6957]])\n",
      "Output:\n",
      "tensor([[-0.5086+0.0430j, -0.6965-0.0307j],\n",
      "        [-0.3955+0.1242j, -0.3077+0.3404j],\n",
      "        [-0.8281-1.2646j,  0.2292+0.1762j],\n",
      "        [ 0.0733+0.7533j,  0.1020+0.3192j],\n",
      "        [-0.8839+0.3014j,  0.8834-0.2571j]], grad_fn=<MmBackward0>)\n"
     ]
    }
   ],
   "execution_count": 49
  },
  {
   "metadata": {
    "ExecuteTime": {
     "end_time": "2025-07-03T22:47:25.883968Z",
     "start_time": "2025-07-03T22:47:25.876909Z"
    }
   },
   "cell_type": "code",
   "source": "model_summary(wire_model, input_size=(1, 2))",
   "id": "58f35daf68be4efe",
   "outputs": [
    {
     "name": "stdout",
     "output_type": "stream",
     "text": [
      "==========================================================================================\n",
      "Layer (type:depth-idx)                   Output Shape              Param #\n",
      "==========================================================================================\n",
      "WireModel                                [1, 2]                    --\n",
      "├─Sequential: 1-1                        [1, 2]                    --\n",
      "│    └─WireLayer: 2-1                    [1, 128]                  --\n",
      "│    │    └─Linear: 3-1                  [1, 128]                  384\n",
      "│    │    └─wire_activation: 3-2         [1, 128]                  --\n",
      "│    └─WireLayer: 2-2                    [1, 128]                  --\n",
      "│    │    └─Linear: 3-3                  [1, 128]                  16,512\n",
      "│    │    └─wire_activation: 3-4         [1, 128]                  --\n",
      "│    └─WireLayer: 2-3                    [1, 128]                  --\n",
      "│    │    └─Linear: 3-5                  [1, 128]                  16,512\n",
      "│    │    └─wire_activation: 3-6         [1, 128]                  --\n",
      "│    └─WireLayer: 2-4                    [1, 128]                  --\n",
      "│    │    └─Linear: 3-7                  [1, 128]                  16,512\n",
      "│    │    └─wire_activation: 3-8         [1, 128]                  --\n",
      "│    └─WireLayer: 2-5                    [1, 128]                  --\n",
      "│    │    └─Linear: 3-9                  [1, 128]                  16,512\n",
      "│    │    └─wire_activation: 3-10        [1, 128]                  --\n",
      "│    └─WireLayer: 2-6                    [1, 128]                  --\n",
      "│    │    └─Linear: 3-11                 [1, 128]                  16,512\n",
      "│    │    └─wire_activation: 3-12        [1, 128]                  --\n",
      "│    └─Linear: 2-7                       [1, 2]                    256\n",
      "==========================================================================================\n",
      "Total params: 83,200\n",
      "Trainable params: 83,200\n",
      "Non-trainable params: 0\n",
      "Total mult-adds (Units.MEGABYTES): 0.08\n",
      "==========================================================================================\n",
      "Input size (MB): 0.00\n",
      "Forward/backward pass size (MB): 0.01\n",
      "Params size (MB): 0.66\n",
      "Estimated Total Size (MB): 0.68\n",
      "==========================================================================================\n"
     ]
    }
   ],
   "execution_count": 50
  },
  {
   "metadata": {
    "ExecuteTime": {
     "end_time": "2025-07-03T22:47:25.908417Z",
     "start_time": "2025-07-03T22:47:25.901972Z"
    }
   },
   "cell_type": "code",
   "source": [
    "wire_residual_model = WireModel(\n",
    "    in_features=2,\n",
    "    out_features=2,\n",
    "    mapping_type=\"gauss\",\n",
    "    mapping_dim=100,\n",
    "    mapping_scale=10,\n",
    "    hidden_features=128,\n",
    "    hidden_layers = 5,\n",
    "    scale=10.0,\n",
    "    omega=20.0,\n",
    "    bias=True,\n",
    "    weight_init=0.1,\n",
    "    bias_init=None,\n",
    "    residual_net=True\n",
    ")"
   ],
   "id": "e8318f7c0d0f433a",
   "outputs": [],
   "execution_count": 51
  },
  {
   "metadata": {
    "ExecuteTime": {
     "end_time": "2025-07-03T22:47:26.282378Z",
     "start_time": "2025-07-03T22:47:25.913509Z"
    }
   },
   "cell_type": "code",
   "source": "output = wire_residual_model(x_dummy)",
   "id": "1ba0d93fe9cb7d4c",
   "outputs": [],
   "execution_count": 52
  },
  {
   "metadata": {
    "ExecuteTime": {
     "end_time": "2025-07-03T22:47:26.295996Z",
     "start_time": "2025-07-03T22:47:26.291882Z"
    }
   },
   "cell_type": "code",
   "source": [
    "print(\"Input:\")\n",
    "print(x_dummy)\n",
    "print(\"Output:\")\n",
    "print(output)"
   ],
   "id": "b6ad5b0b627b83d5",
   "outputs": [
    {
     "name": "stdout",
     "output_type": "stream",
     "text": [
      "Input:\n",
      "tensor([[ 0.7798,  0.4665],\n",
      "        [-0.5352,  0.9371],\n",
      "        [ 0.6600, -0.1392],\n",
      "        [ 0.7714, -0.2785],\n",
      "        [-0.4264,  0.6957]])\n",
      "Output:\n",
      "tensor([[ 0.0167-0.0351j, -0.0720+0.0874j],\n",
      "        [ 0.0712+0.0649j,  0.1438+0.7258j],\n",
      "        [ 0.4071+0.1639j, -0.0408-0.3936j],\n",
      "        [ 0.2102+0.0212j,  0.1073+0.4516j],\n",
      "        [-0.5808-0.2841j, -0.5139-0.5503j]], grad_fn=<MmBackward0>)\n"
     ]
    }
   ],
   "execution_count": 53
  },
  {
   "metadata": {
    "ExecuteTime": {
     "end_time": "2025-07-03T22:47:26.328038Z",
     "start_time": "2025-07-03T22:47:26.317471Z"
    }
   },
   "cell_type": "code",
   "source": "model_summary(wire_residual_model, input_size=(1, 2))",
   "id": "3467f78b90c4a146",
   "outputs": [
    {
     "name": "stdout",
     "output_type": "stream",
     "text": [
      "====================================================================================================\n",
      "Layer (type:depth-idx)                             Output Shape              Param #\n",
      "====================================================================================================\n",
      "WireModel                                          [1, 2]                    --\n",
      "├─Sequential: 1-1                                  [1, 2]                    --\n",
      "│    └─GaussianFourierFeatureTransform: 2-1        [1, 100]                  --\n",
      "│    └─WireLayer: 2-2                              [1, 128]                  --\n",
      "│    │    └─Linear: 3-1                            [1, 128]                  12,928\n",
      "│    │    └─wire_activation: 3-2                   [1, 128]                  --\n",
      "│    └─WireResidualLayer: 2-3                      [1, 128]                  --\n",
      "│    │    └─Linear: 3-3                            [1, 128]                  16,512\n",
      "│    │    └─wire_activation: 3-4                   [1, 128]                  --\n",
      "│    │    └─Linear: 3-5                            [1, 128]                  16,512\n",
      "│    │    └─wire_activation: 3-6                   [1, 128]                  --\n",
      "│    └─WireResidualLayer: 2-4                      [1, 128]                  --\n",
      "│    │    └─Linear: 3-7                            [1, 128]                  16,512\n",
      "│    │    └─wire_activation: 3-8                   [1, 128]                  --\n",
      "│    │    └─Linear: 3-9                            [1, 128]                  16,512\n",
      "│    │    └─wire_activation: 3-10                  [1, 128]                  --\n",
      "│    └─WireResidualLayer: 2-5                      [1, 128]                  --\n",
      "│    │    └─Linear: 3-11                           [1, 128]                  16,512\n",
      "│    │    └─wire_activation: 3-12                  [1, 128]                  --\n",
      "│    │    └─Linear: 3-13                           [1, 128]                  16,512\n",
      "│    │    └─wire_activation: 3-14                  [1, 128]                  --\n",
      "│    └─WireResidualLayer: 2-6                      [1, 128]                  --\n",
      "│    │    └─Linear: 3-15                           [1, 128]                  16,512\n",
      "│    │    └─wire_activation: 3-16                  [1, 128]                  --\n",
      "│    │    └─Linear: 3-17                           [1, 128]                  16,512\n",
      "│    │    └─wire_activation: 3-18                  [1, 128]                  --\n",
      "│    └─WireResidualLayer: 2-7                      [1, 128]                  --\n",
      "│    │    └─Linear: 3-19                           [1, 128]                  16,512\n",
      "│    │    └─wire_activation: 3-20                  [1, 128]                  --\n",
      "│    │    └─Linear: 3-21                           [1, 128]                  16,512\n",
      "│    │    └─wire_activation: 3-22                  [1, 128]                  --\n",
      "│    └─Linear: 2-8                                 [1, 2]                    256\n",
      "====================================================================================================\n",
      "Total params: 178,304\n",
      "Trainable params: 178,304\n",
      "Non-trainable params: 0\n",
      "Total mult-adds (Units.MEGABYTES): 0.18\n",
      "====================================================================================================\n",
      "Input size (MB): 0.00\n",
      "Forward/backward pass size (MB): 0.02\n",
      "Params size (MB): 1.37\n",
      "Estimated Total Size (MB): 1.40\n",
      "====================================================================================================\n"
     ]
    }
   ],
   "execution_count": 54
  },
  {
   "metadata": {
    "ExecuteTime": {
     "end_time": "2025-07-03T22:47:26.352765Z",
     "start_time": "2025-07-03T22:47:26.347171Z"
    }
   },
   "cell_type": "code",
   "source": "torch.abs(x_dummy - output)",
   "id": "c0eaec1ce0dee73a",
   "outputs": [
    {
     "data": {
      "text/plain": [
       "tensor([[0.7639, 0.5455],\n",
       "        [0.6099, 1.0753],\n",
       "        [0.3013, 0.4057],\n",
       "        [0.5616, 0.5940],\n",
       "        [0.3234, 1.3289]], grad_fn=<AbsBackward0>)"
      ]
     },
     "execution_count": 55,
     "metadata": {},
     "output_type": "execute_result"
    }
   ],
   "execution_count": 55
  },
  {
   "metadata": {
    "ExecuteTime": {
     "end_time": "2025-07-03T22:47:27.104950Z",
     "start_time": "2025-07-03T22:47:27.099950Z"
    }
   },
   "cell_type": "code",
   "source": "x_dummy - output",
   "id": "a02f89fae1331d93",
   "outputs": [
    {
     "data": {
      "text/plain": [
       "tensor([[ 0.7631+0.0351j,  0.5385-0.0874j],\n",
       "        [-0.6064-0.0649j,  0.7934-0.7258j],\n",
       "        [ 0.2528-0.1639j, -0.0984+0.3936j],\n",
       "        [ 0.5612-0.0212j, -0.3859-0.4516j],\n",
       "        [ 0.1544+0.2841j,  1.2096+0.5503j]], grad_fn=<SubBackward0>)"
      ]
     },
     "execution_count": 56,
     "metadata": {},
     "output_type": "execute_result"
    }
   ],
   "execution_count": 56
  },
  {
   "metadata": {
    "ExecuteTime": {
     "end_time": "2025-07-03T22:47:27.199398Z",
     "start_time": "2025-07-03T22:47:27.195430Z"
    }
   },
   "cell_type": "code",
   "source": "torch.abs(output) ",
   "id": "aa8ae554db37a562",
   "outputs": [
    {
     "data": {
      "text/plain": [
       "tensor([[0.0389, 0.1132],\n",
       "        [0.0964, 0.7399],\n",
       "        [0.4389, 0.3957],\n",
       "        [0.2113, 0.4642],\n",
       "        [0.6466, 0.7529]], grad_fn=<AbsBackward0>)"
      ]
     },
     "execution_count": 57,
     "metadata": {},
     "output_type": "execute_result"
    }
   ],
   "execution_count": 57
  },
  {
   "metadata": {
    "ExecuteTime": {
     "end_time": "2025-07-03T22:50:37.130349Z",
     "start_time": "2025-07-03T22:50:37.087069Z"
    }
   },
   "cell_type": "code",
   "source": [
    "wire_finer_model = WireFinerModel(\n",
    "    in_features=2,\n",
    "    out_features=2,\n",
    "    mapping_type=\"no\",\n",
    "    mapping_dim=4,\n",
    "    mapping_scale=10,\n",
    "    hidden_features=512,\n",
    "    hidden_layers = 5, \n",
    "    scale=10.0,\n",
    "    omega=20.0,\n",
    "    omega_f=1.0,\n",
    "    bias=True,\n",
    "    first_k=5,\n",
    "    hidden_k=5,\n",
    "    residual_net=False\n",
    ")"
   ],
   "id": "c53d34806b1394f7",
   "outputs": [],
   "execution_count": 72
  },
  {
   "metadata": {
    "ExecuteTime": {
     "end_time": "2025-07-03T22:50:38.845167Z",
     "start_time": "2025-07-03T22:50:38.826585Z"
    }
   },
   "cell_type": "code",
   "source": "output = wire_finer_model(x_dummy)",
   "id": "25e9c7815a57135e",
   "outputs": [],
   "execution_count": 73
  },
  {
   "metadata": {
    "ExecuteTime": {
     "end_time": "2025-07-03T22:50:40.255803Z",
     "start_time": "2025-07-03T22:50:40.247719Z"
    }
   },
   "cell_type": "code",
   "source": [
    "print(\"Input:\")\n",
    "print(x_dummy)\n",
    "print(\"Output:\")\n",
    "print(output)"
   ],
   "id": "f0de6b30b350f444",
   "outputs": [
    {
     "name": "stdout",
     "output_type": "stream",
     "text": [
      "Input:\n",
      "tensor([[ 0.7798,  0.4665],\n",
      "        [-0.5352,  0.9371],\n",
      "        [ 0.6600, -0.1392],\n",
      "        [ 0.7714, -0.2785],\n",
      "        [-0.4264,  0.6957]])\n",
      "Output:\n",
      "tensor([[-0.0024+0.0083j,  0.0069+0.0094j],\n",
      "        [ 0.0053+0.0035j,  0.0006+0.0035j],\n",
      "        [-0.0043+0.0029j,  0.0013+0.0100j],\n",
      "        [ 0.0074+0.0025j, -0.0022+0.0010j],\n",
      "        [ 0.0053+0.0035j,  0.0006+0.0035j]], grad_fn=<MmBackward0>)\n"
     ]
    }
   ],
   "execution_count": 74
  },
  {
   "metadata": {
    "ExecuteTime": {
     "end_time": "2025-07-03T22:47:27.381595Z",
     "start_time": "2025-07-03T22:47:27.373211Z"
    }
   },
   "cell_type": "code",
   "source": "model_summary(wire_finer_model, input_size=(1, 2))",
   "id": "c7f02c0e0ebeb7f2",
   "outputs": [
    {
     "name": "stdout",
     "output_type": "stream",
     "text": [
      "==========================================================================================\n",
      "Layer (type:depth-idx)                   Output Shape              Param #\n",
      "==========================================================================================\n",
      "WireFinerModel                           [1, 2]                    --\n",
      "├─Sequential: 1-1                        [1, 2]                    --\n",
      "│    └─WireFinerLayer: 2-1               [1, 512]                  --\n",
      "│    │    └─Linear: 3-1                  [1, 512]                  1,536\n",
      "│    │    └─wire_activation: 3-2         [1, 512]                  --\n",
      "│    └─WireFinerLayer: 2-2               [1, 512]                  --\n",
      "│    │    └─Linear: 3-3                  [1, 512]                  262,656\n",
      "│    │    └─wire_activation: 3-4         [1, 512]                  --\n",
      "│    └─WireFinerLayer: 2-3               [1, 512]                  --\n",
      "│    │    └─Linear: 3-5                  [1, 512]                  262,656\n",
      "│    │    └─wire_activation: 3-6         [1, 512]                  --\n",
      "│    └─WireFinerLayer: 2-4               [1, 512]                  --\n",
      "│    │    └─Linear: 3-7                  [1, 512]                  262,656\n",
      "│    │    └─wire_activation: 3-8         [1, 512]                  --\n",
      "│    └─WireFinerLayer: 2-5               [1, 512]                  --\n",
      "│    │    └─Linear: 3-9                  [1, 512]                  262,656\n",
      "│    │    └─wire_activation: 3-10        [1, 512]                  --\n",
      "│    └─WireFinerLayer: 2-6               [1, 512]                  --\n",
      "│    │    └─Linear: 3-11                 [1, 512]                  262,656\n",
      "│    │    └─wire_activation: 3-12        [1, 512]                  --\n",
      "│    └─Linear: 2-7                       [1, 2]                    1,024\n",
      "==========================================================================================\n",
      "Total params: 1,315,840\n",
      "Trainable params: 1,315,840\n",
      "Non-trainable params: 0\n",
      "Total mult-adds (Units.MEGABYTES): 1.32\n",
      "==========================================================================================\n",
      "Input size (MB): 0.00\n",
      "Forward/backward pass size (MB): 0.05\n",
      "Params size (MB): 10.52\n",
      "Estimated Total Size (MB): 10.57\n",
      "==========================================================================================\n"
     ]
    }
   ],
   "execution_count": 61
  },
  {
   "metadata": {
    "ExecuteTime": {
     "end_time": "2025-07-03T22:54:28.464644Z",
     "start_time": "2025-07-03T22:54:28.459269Z"
    }
   },
   "cell_type": "code",
   "source": [
    "wire_finer_residual_model = WireFinerModel(\n",
    "    in_features=2,\n",
    "    out_features=2,\n",
    "    mapping_type=\"no\",\n",
    "    mapping_dim=50,\n",
    "    mapping_scale=50,\n",
    "    hidden_features=128,\n",
    "    hidden_layers = 1, \n",
    "    scale=10,\n",
    "    omega=20,\n",
    "    omega_f=2.5,\n",
    "    bias=True,\n",
    "    first_k=2,\n",
    "    hidden_k=2,\n",
    "    residual_net=True\n",
    ")"
   ],
   "id": "6759101ec5832d50",
   "outputs": [],
   "execution_count": 114
  },
  {
   "metadata": {
    "ExecuteTime": {
     "end_time": "2025-07-03T22:54:30.176223Z",
     "start_time": "2025-07-03T22:54:30.170414Z"
    }
   },
   "cell_type": "code",
   "source": "output = wire_finer_residual_model(x_dummy)",
   "id": "47b3f3458c18813b",
   "outputs": [],
   "execution_count": 115
  },
  {
   "metadata": {
    "ExecuteTime": {
     "end_time": "2025-07-03T22:54:31.819427Z",
     "start_time": "2025-07-03T22:54:31.814995Z"
    }
   },
   "cell_type": "code",
   "source": [
    "print(\"Input:\")\n",
    "print(x_dummy)\n",
    "print(\"Output:\")\n",
    "print(output)"
   ],
   "id": "c357c2d0cf6b12a5",
   "outputs": [
    {
     "name": "stdout",
     "output_type": "stream",
     "text": [
      "Input:\n",
      "tensor([[ 0.7798,  0.4665],\n",
      "        [-0.5352,  0.9371],\n",
      "        [ 0.6600, -0.1392],\n",
      "        [ 0.7714, -0.2785],\n",
      "        [-0.4264,  0.6957]])\n",
      "Output:\n",
      "tensor([[ 0.0323-0.0994j, -0.0018-0.1072j],\n",
      "        [ 0.0287+0.0197j, -0.0770+0.0391j],\n",
      "        [-0.0952+0.0537j,  0.0421-0.2012j],\n",
      "        [-0.1195+0.2506j,  0.1246+0.1496j],\n",
      "        [ 0.0297-0.0150j,  0.0180-0.0170j]], grad_fn=<MmBackward0>)\n"
     ]
    }
   ],
   "execution_count": 116
  },
  {
   "metadata": {
    "ExecuteTime": {
     "end_time": "2025-07-03T22:47:27.431750Z",
     "start_time": "2025-07-03T22:47:27.426356Z"
    }
   },
   "cell_type": "code",
   "source": "model_summary(wire_finer_residual_model, input_size=(1, 2))",
   "id": "eb7ef88227469576",
   "outputs": [
    {
     "name": "stdout",
     "output_type": "stream",
     "text": [
      "==========================================================================================\n",
      "Layer (type:depth-idx)                   Output Shape              Param #\n",
      "==========================================================================================\n",
      "WireFinerModel                           [1, 2]                    --\n",
      "├─Sequential: 1-1                        [1, 2]                    --\n",
      "│    └─WireFinerLayer: 2-1               [1, 128]                  --\n",
      "│    │    └─Linear: 3-1                  [1, 128]                  384\n",
      "│    │    └─wire_activation: 3-2         [1, 128]                  --\n",
      "│    └─WireFinerResidualLayer: 2-2       [1, 128]                  --\n",
      "│    │    └─Linear: 3-3                  [1, 128]                  16,512\n",
      "│    │    └─wire_activation: 3-4         [1, 128]                  --\n",
      "│    │    └─Linear: 3-5                  [1, 128]                  16,512\n",
      "│    │    └─wire_activation: 3-6         [1, 128]                  --\n",
      "│    └─Linear: 2-3                       [1, 2]                    256\n",
      "==========================================================================================\n",
      "Total params: 33,664\n",
      "Trainable params: 33,664\n",
      "Non-trainable params: 0\n",
      "Total mult-adds (Units.MEGABYTES): 0.03\n",
      "==========================================================================================\n",
      "Input size (MB): 0.00\n",
      "Forward/backward pass size (MB): 0.01\n",
      "Params size (MB): 0.27\n",
      "Estimated Total Size (MB): 0.27\n",
      "==========================================================================================\n"
     ]
    }
   ],
   "execution_count": 65
  },
  {
   "metadata": {
    "ExecuteTime": {
     "end_time": "2025-07-03T22:47:27.448109Z",
     "start_time": "2025-07-03T22:47:27.445949Z"
    }
   },
   "cell_type": "code",
   "source": "",
   "id": "ecc2ab29e41daefe",
   "outputs": [],
   "execution_count": null
  },
  {
   "metadata": {
    "ExecuteTime": {
     "end_time": "2025-07-03T22:47:27.458228Z",
     "start_time": "2025-07-03T22:47:27.456229Z"
    }
   },
   "cell_type": "code",
   "source": "",
   "id": "c55709a1f00f4a0c",
   "outputs": [],
   "execution_count": null
  },
  {
   "metadata": {
    "ExecuteTime": {
     "end_time": "2025-07-03T22:47:27.466514Z",
     "start_time": "2025-07-03T22:47:27.464139Z"
    }
   },
   "cell_type": "code",
   "source": "",
   "id": "413e8f2b1e7dce96",
   "outputs": [],
   "execution_count": null
  },
  {
   "metadata": {
    "ExecuteTime": {
     "end_time": "2025-07-03T22:47:27.475313Z",
     "start_time": "2025-07-03T22:47:27.473067Z"
    }
   },
   "cell_type": "code",
   "source": "",
   "id": "bb2f27ab49d412d",
   "outputs": [],
   "execution_count": null
  },
  {
   "metadata": {
    "ExecuteTime": {
     "end_time": "2025-07-03T22:47:27.482368Z",
     "start_time": "2025-07-03T22:47:27.480297Z"
    }
   },
   "cell_type": "code",
   "source": "",
   "id": "fff5b0ff440e3a2d",
   "outputs": [],
   "execution_count": null
  },
  {
   "metadata": {
    "ExecuteTime": {
     "end_time": "2025-07-03T22:47:27.499733Z",
     "start_time": "2025-07-03T22:47:27.497781Z"
    }
   },
   "cell_type": "code",
   "source": "",
   "id": "7dbfad97f8f89743",
   "outputs": [],
   "execution_count": null
  }
 ],
 "metadata": {
  "kernelspec": {
   "display_name": "Python (worldclim)",
   "language": "python",
   "name": "worldclim"
  },
  "language_info": {
   "codemirror_mode": {
    "name": "ipython",
    "version": 2
   },
   "file_extension": ".py",
   "mimetype": "text/x-python",
   "name": "python",
   "nbconvert_exporter": "python",
   "pygments_lexer": "ipython2",
   "version": "2.7.6"
  }
 },
 "nbformat": 4,
 "nbformat_minor": 5
}
