{
 "cells": [
  {
   "metadata": {
    "ExecuteTime": {
     "end_time": "2025-07-03T16:19:59.119818Z",
     "start_time": "2025-07-03T16:19:56.902135Z"
    }
   },
   "cell_type": "code",
   "source": [
    "import torch\n",
    "from helpers import model_summary\n",
    "x_dummy = torch.randn(5, 2)"
   ],
   "id": "8f91803098cae9cd",
   "outputs": [],
   "execution_count": 1
  },
  {
   "metadata": {},
   "cell_type": "markdown",
   "source": "## SIREN and FINER MODEL",
   "id": "5e0fcc9793abb39f"
  },
  {
   "metadata": {
    "collapsed": true,
    "ExecuteTime": {
     "end_time": "2025-07-03T16:19:59.129673Z",
     "start_time": "2025-07-03T16:19:59.122071Z"
    }
   },
   "cell_type": "code",
   "source": "from models.implicit_neural_representations.inr_models.siren_model import SirenModel, FinerModel",
   "id": "initial_id",
   "outputs": [],
   "execution_count": 2
  },
  {
   "metadata": {
    "ExecuteTime": {
     "end_time": "2025-07-03T16:19:59.240678Z",
     "start_time": "2025-07-03T16:19:59.228550Z"
    }
   },
   "cell_type": "code",
   "source": [
    "# initialize siren model without residual layers\n",
    "siren_model = SirenModel(\n",
    "    in_features=2,\n",
    "    out_features=2,\n",
    "    hidden_layers=5,\n",
    "    hidden_features=512,\n",
    "    first_omega_0=30.0,\n",
    "    hidden_omega_0=30.0,\n",
    "    residual_net=False\n",
    ")"
   ],
   "id": "1351d587cbfe65fd",
   "outputs": [],
   "execution_count": 3
  },
  {
   "metadata": {
    "ExecuteTime": {
     "end_time": "2025-07-03T16:19:59.260562Z",
     "start_time": "2025-07-03T16:19:59.246265Z"
    }
   },
   "cell_type": "code",
   "source": "output = siren_model(x_dummy)",
   "id": "b8b6be995c71318e",
   "outputs": [],
   "execution_count": 4
  },
  {
   "metadata": {
    "ExecuteTime": {
     "end_time": "2025-07-03T16:19:59.275177Z",
     "start_time": "2025-07-03T16:19:59.270735Z"
    }
   },
   "cell_type": "code",
   "source": [
    "# Print input and output\n",
    "print(\"Input:\")\n",
    "print(x_dummy)\n",
    "print(\"Output:\")\n",
    "print(output)"
   ],
   "id": "5e5969588e434a48",
   "outputs": [
    {
     "name": "stdout",
     "output_type": "stream",
     "text": [
      "Input:\n",
      "tensor([[-0.8798,  0.3790],\n",
      "        [-0.0098, -0.8997],\n",
      "        [ 2.0947, -0.1007],\n",
      "        [ 0.0061, -0.4889],\n",
      "        [-1.0419, -0.2032]])\n",
      "Output:\n",
      "tensor([[0.0140, 0.0267],\n",
      "        [0.0375, 0.0390],\n",
      "        [0.0389, 0.0505],\n",
      "        [0.0122, 0.0062],\n",
      "        [0.0059, 0.0591]], grad_fn=<MmBackward0>)\n"
     ]
    }
   ],
   "execution_count": 5
  },
  {
   "metadata": {
    "ExecuteTime": {
     "end_time": "2025-07-03T16:20:52.711723Z",
     "start_time": "2025-07-03T16:20:52.701115Z"
    }
   },
   "cell_type": "code",
   "source": "model_summary(siren_model, input_size=(1, 2))",
   "id": "f6320330e3fb33d",
   "outputs": [
    {
     "name": "stdout",
     "output_type": "stream",
     "text": [
      "==========================================================================================\n",
      "Layer (type:depth-idx)                   Output Shape              Param #\n",
      "==========================================================================================\n",
      "SirenModel                               [1, 2]                    --\n",
      "├─Sequential: 1-1                        [1, 2]                    --\n",
      "│    └─SirenLayer: 2-1                   [1, 512]                  --\n",
      "│    │    └─Linear: 3-1                  [1, 512]                  1,536\n",
      "│    │    └─siren_activation: 3-2        [1, 512]                  --\n",
      "│    └─SirenLayer: 2-2                   [1, 512]                  --\n",
      "│    │    └─Linear: 3-3                  [1, 512]                  262,656\n",
      "│    │    └─siren_activation: 3-4        [1, 512]                  --\n",
      "│    └─SirenLayer: 2-3                   [1, 512]                  --\n",
      "│    │    └─Linear: 3-5                  [1, 512]                  262,656\n",
      "│    │    └─siren_activation: 3-6        [1, 512]                  --\n",
      "│    └─SirenLayer: 2-4                   [1, 512]                  --\n",
      "│    │    └─Linear: 3-7                  [1, 512]                  262,656\n",
      "│    │    └─siren_activation: 3-8        [1, 512]                  --\n",
      "│    └─SirenLayer: 2-5                   [1, 512]                  --\n",
      "│    │    └─Linear: 3-9                  [1, 512]                  262,656\n",
      "│    │    └─siren_activation: 3-10       [1, 512]                  --\n",
      "│    └─SirenLayer: 2-6                   [1, 512]                  --\n",
      "│    │    └─Linear: 3-11                 [1, 512]                  262,656\n",
      "│    │    └─siren_activation: 3-12       [1, 512]                  --\n",
      "│    └─Linear: 2-7                       [1, 2]                    1,024\n",
      "==========================================================================================\n",
      "Total params: 1,315,840\n",
      "Trainable params: 1,315,840\n",
      "Non-trainable params: 0\n",
      "Total mult-adds (Units.MEGABYTES): 1.32\n",
      "==========================================================================================\n",
      "Input size (MB): 0.00\n",
      "Forward/backward pass size (MB): 0.02\n",
      "Params size (MB): 5.26\n",
      "Estimated Total Size (MB): 5.29\n",
      "==========================================================================================\n"
     ]
    },
    {
     "data": {
      "text/plain": [
       "==========================================================================================\n",
       "Layer (type:depth-idx)                   Output Shape              Param #\n",
       "==========================================================================================\n",
       "SirenModel                               [1, 2]                    --\n",
       "├─Sequential: 1-1                        [1, 2]                    --\n",
       "│    └─SirenLayer: 2-1                   [1, 512]                  --\n",
       "│    │    └─Linear: 3-1                  [1, 512]                  1,536\n",
       "│    │    └─siren_activation: 3-2        [1, 512]                  --\n",
       "│    └─SirenLayer: 2-2                   [1, 512]                  --\n",
       "│    │    └─Linear: 3-3                  [1, 512]                  262,656\n",
       "│    │    └─siren_activation: 3-4        [1, 512]                  --\n",
       "│    └─SirenLayer: 2-3                   [1, 512]                  --\n",
       "│    │    └─Linear: 3-5                  [1, 512]                  262,656\n",
       "│    │    └─siren_activation: 3-6        [1, 512]                  --\n",
       "│    └─SirenLayer: 2-4                   [1, 512]                  --\n",
       "│    │    └─Linear: 3-7                  [1, 512]                  262,656\n",
       "│    │    └─siren_activation: 3-8        [1, 512]                  --\n",
       "│    └─SirenLayer: 2-5                   [1, 512]                  --\n",
       "│    │    └─Linear: 3-9                  [1, 512]                  262,656\n",
       "│    │    └─siren_activation: 3-10       [1, 512]                  --\n",
       "│    └─SirenLayer: 2-6                   [1, 512]                  --\n",
       "│    │    └─Linear: 3-11                 [1, 512]                  262,656\n",
       "│    │    └─siren_activation: 3-12       [1, 512]                  --\n",
       "│    └─Linear: 2-7                       [1, 2]                    1,024\n",
       "==========================================================================================\n",
       "Total params: 1,315,840\n",
       "Trainable params: 1,315,840\n",
       "Non-trainable params: 0\n",
       "Total mult-adds (Units.MEGABYTES): 1.32\n",
       "==========================================================================================\n",
       "Input size (MB): 0.00\n",
       "Forward/backward pass size (MB): 0.02\n",
       "Params size (MB): 5.26\n",
       "Estimated Total Size (MB): 5.29\n",
       "=========================================================================================="
      ]
     },
     "execution_count": 45,
     "metadata": {},
     "output_type": "execute_result"
    }
   ],
   "execution_count": 45
  },
  {
   "metadata": {
    "ExecuteTime": {
     "end_time": "2025-07-03T16:19:59.379957Z",
     "start_time": "2025-07-03T16:19:59.374835Z"
    }
   },
   "cell_type": "code",
   "source": [
    "finer_model = FinerModel(\n",
    "    in_features=2,\n",
    "    out_features=2,\n",
    "    bias=True,\n",
    "    hidden_layers=5,\n",
    "    hidden_features=128,\n",
    "    first_omega_0=30.,\n",
    "    hidden_omega_0=30.,\n",
    "    first_k=10,\n",
    "    hidden_k=10,\n",
    "    residual_net=False\n",
    ")"
   ],
   "id": "d10b5ab135cb770b",
   "outputs": [],
   "execution_count": 7
  },
  {
   "metadata": {
    "ExecuteTime": {
     "end_time": "2025-07-03T16:19:59.389757Z",
     "start_time": "2025-07-03T16:19:59.386252Z"
    }
   },
   "cell_type": "code",
   "source": "output = finer_model(x_dummy)",
   "id": "3cda3b4e3fd8068e",
   "outputs": [],
   "execution_count": 8
  },
  {
   "metadata": {
    "ExecuteTime": {
     "end_time": "2025-07-03T16:19:59.400511Z",
     "start_time": "2025-07-03T16:19:59.397270Z"
    }
   },
   "cell_type": "code",
   "source": [
    "# Print input and output\n",
    "print(\"Input:\")\n",
    "print(x_dummy)\n",
    "print(\"Output:\")\n",
    "print(output)"
   ],
   "id": "d5ab8845c39a0e08",
   "outputs": [
    {
     "name": "stdout",
     "output_type": "stream",
     "text": [
      "Input:\n",
      "tensor([[-0.8798,  0.3790],\n",
      "        [-0.0098, -0.8997],\n",
      "        [ 2.0947, -0.1007],\n",
      "        [ 0.0061, -0.4889],\n",
      "        [-1.0419, -0.2032]])\n",
      "Output:\n",
      "tensor([[-0.0239,  0.0082],\n",
      "        [-0.0550,  0.0266],\n",
      "        [ 0.0222, -0.0241],\n",
      "        [-0.0317,  0.0058],\n",
      "        [-0.0507,  0.0232]], grad_fn=<MmBackward0>)\n"
     ]
    }
   ],
   "execution_count": 9
  },
  {
   "metadata": {
    "ExecuteTime": {
     "end_time": "2025-07-03T16:19:59.435410Z",
     "start_time": "2025-07-03T16:19:59.427411Z"
    }
   },
   "cell_type": "code",
   "source": "model_summary(finer_model, input_size=(1, 2))",
   "id": "ed0dfd6ffc9a7f8b",
   "outputs": [
    {
     "name": "stdout",
     "output_type": "stream",
     "text": [
      "==========================================================================================\n",
      "Layer (type:depth-idx)                   Output Shape              Param #\n",
      "==========================================================================================\n",
      "FinerModel                               [1, 2]                    --\n",
      "├─Sequential: 1-1                        [1, 2]                    --\n",
      "│    └─FinerLayer: 2-1                   [1, 128]                  --\n",
      "│    │    └─Linear: 3-1                  [1, 128]                  384\n",
      "│    │    └─siren_activation: 3-2        [1, 128]                  --\n",
      "│    └─FinerLayer: 2-2                   [1, 128]                  --\n",
      "│    │    └─Linear: 3-3                  [1, 128]                  16,512\n",
      "│    │    └─siren_activation: 3-4        [1, 128]                  --\n",
      "│    └─FinerLayer: 2-3                   [1, 128]                  --\n",
      "│    │    └─Linear: 3-5                  [1, 128]                  16,512\n",
      "│    │    └─siren_activation: 3-6        [1, 128]                  --\n",
      "│    └─FinerLayer: 2-4                   [1, 128]                  --\n",
      "│    │    └─Linear: 3-7                  [1, 128]                  16,512\n",
      "│    │    └─siren_activation: 3-8        [1, 128]                  --\n",
      "│    └─FinerLayer: 2-5                   [1, 128]                  --\n",
      "│    │    └─Linear: 3-9                  [1, 128]                  16,512\n",
      "│    │    └─siren_activation: 3-10       [1, 128]                  --\n",
      "│    └─FinerLayer: 2-6                   [1, 128]                  --\n",
      "│    │    └─Linear: 3-11                 [1, 128]                  16,512\n",
      "│    │    └─siren_activation: 3-12       [1, 128]                  --\n",
      "│    └─Linear: 2-7                       [1, 2]                    256\n",
      "==========================================================================================\n",
      "Total params: 83,200\n",
      "Trainable params: 83,200\n",
      "Non-trainable params: 0\n",
      "Total mult-adds (Units.MEGABYTES): 0.08\n",
      "==========================================================================================\n",
      "Input size (MB): 0.00\n",
      "Forward/backward pass size (MB): 0.01\n",
      "Params size (MB): 0.33\n",
      "Estimated Total Size (MB): 0.34\n",
      "==========================================================================================\n"
     ]
    },
    {
     "data": {
      "text/plain": [
       "==========================================================================================\n",
       "Layer (type:depth-idx)                   Output Shape              Param #\n",
       "==========================================================================================\n",
       "FinerModel                               [1, 2]                    --\n",
       "├─Sequential: 1-1                        [1, 2]                    --\n",
       "│    └─FinerLayer: 2-1                   [1, 128]                  --\n",
       "│    │    └─Linear: 3-1                  [1, 128]                  384\n",
       "│    │    └─siren_activation: 3-2        [1, 128]                  --\n",
       "│    └─FinerLayer: 2-2                   [1, 128]                  --\n",
       "│    │    └─Linear: 3-3                  [1, 128]                  16,512\n",
       "│    │    └─siren_activation: 3-4        [1, 128]                  --\n",
       "│    └─FinerLayer: 2-3                   [1, 128]                  --\n",
       "│    │    └─Linear: 3-5                  [1, 128]                  16,512\n",
       "│    │    └─siren_activation: 3-6        [1, 128]                  --\n",
       "│    └─FinerLayer: 2-4                   [1, 128]                  --\n",
       "│    │    └─Linear: 3-7                  [1, 128]                  16,512\n",
       "│    │    └─siren_activation: 3-8        [1, 128]                  --\n",
       "│    └─FinerLayer: 2-5                   [1, 128]                  --\n",
       "│    │    └─Linear: 3-9                  [1, 128]                  16,512\n",
       "│    │    └─siren_activation: 3-10       [1, 128]                  --\n",
       "│    └─FinerLayer: 2-6                   [1, 128]                  --\n",
       "│    │    └─Linear: 3-11                 [1, 128]                  16,512\n",
       "│    │    └─siren_activation: 3-12       [1, 128]                  --\n",
       "│    └─Linear: 2-7                       [1, 2]                    256\n",
       "==========================================================================================\n",
       "Total params: 83,200\n",
       "Trainable params: 83,200\n",
       "Non-trainable params: 0\n",
       "Total mult-adds (Units.MEGABYTES): 0.08\n",
       "==========================================================================================\n",
       "Input size (MB): 0.00\n",
       "Forward/backward pass size (MB): 0.01\n",
       "Params size (MB): 0.33\n",
       "Estimated Total Size (MB): 0.34\n",
       "=========================================================================================="
      ]
     },
     "execution_count": 10,
     "metadata": {},
     "output_type": "execute_result"
    }
   ],
   "execution_count": 10
  },
  {
   "metadata": {
    "ExecuteTime": {
     "end_time": "2025-07-03T16:19:59.509381Z",
     "start_time": "2025-07-03T16:19:59.491907Z"
    }
   },
   "cell_type": "code",
   "source": [
    "siren_residual_model = SirenModel(\n",
    "    in_features=2,\n",
    "    out_features=2,\n",
    "    hidden_layers=5,\n",
    "    hidden_features=512,\n",
    "    first_omega_0=30.0,\n",
    "    hidden_omega_0=30.0,\n",
    "    residual_net=True\n",
    ")"
   ],
   "id": "ce4ad6f79b9f0daf",
   "outputs": [],
   "execution_count": 11
  },
  {
   "metadata": {
    "ExecuteTime": {
     "end_time": "2025-07-03T16:19:59.524478Z",
     "start_time": "2025-07-03T16:19:59.515513Z"
    }
   },
   "cell_type": "code",
   "source": "output = siren_residual_model(x_dummy)",
   "id": "ffcc799028eefe3c",
   "outputs": [],
   "execution_count": 12
  },
  {
   "metadata": {
    "ExecuteTime": {
     "end_time": "2025-07-03T16:19:59.536794Z",
     "start_time": "2025-07-03T16:19:59.532795Z"
    }
   },
   "cell_type": "code",
   "source": [
    "# Print input and output\n",
    "print(\"Input:\")\n",
    "print(x_dummy)\n",
    "print(\"Output:\")\n",
    "print(output)"
   ],
   "id": "ef89bf21830f6054",
   "outputs": [
    {
     "name": "stdout",
     "output_type": "stream",
     "text": [
      "Input:\n",
      "tensor([[-0.8798,  0.3790],\n",
      "        [-0.0098, -0.8997],\n",
      "        [ 2.0947, -0.1007],\n",
      "        [ 0.0061, -0.4889],\n",
      "        [-1.0419, -0.2032]])\n",
      "Output:\n",
      "tensor([[-0.0366, -0.0571],\n",
      "        [-0.0365,  0.0362],\n",
      "        [-0.0642, -0.0379],\n",
      "        [ 0.0017, -0.0269],\n",
      "        [-0.0124,  0.0504]], grad_fn=<MmBackward0>)\n"
     ]
    }
   ],
   "execution_count": 13
  },
  {
   "metadata": {
    "ExecuteTime": {
     "end_time": "2025-07-03T16:19:59.577223Z",
     "start_time": "2025-07-03T16:19:59.565218Z"
    }
   },
   "cell_type": "code",
   "source": "model_summary(siren_residual_model, input_size=(1, 2))",
   "id": "f1aa40bae8bfa0cb",
   "outputs": [
    {
     "name": "stdout",
     "output_type": "stream",
     "text": [
      "==========================================================================================\n",
      "Layer (type:depth-idx)                   Output Shape              Param #\n",
      "==========================================================================================\n",
      "SirenModel                               [1, 2]                    --\n",
      "├─Sequential: 1-1                        [1, 2]                    --\n",
      "│    └─SirenLayer: 2-1                   [1, 512]                  --\n",
      "│    │    └─Linear: 3-1                  [1, 512]                  1,536\n",
      "│    │    └─siren_activation: 3-2        [1, 512]                  --\n",
      "│    └─SirenResidualLayer: 2-2           [1, 512]                  --\n",
      "│    │    └─Linear: 3-3                  [1, 512]                  262,656\n",
      "│    │    └─siren_activation: 3-4        [1, 512]                  --\n",
      "│    │    └─Linear: 3-5                  [1, 512]                  262,656\n",
      "│    │    └─siren_activation: 3-6        [1, 512]                  --\n",
      "│    └─SirenResidualLayer: 2-3           [1, 512]                  --\n",
      "│    │    └─Linear: 3-7                  [1, 512]                  262,656\n",
      "│    │    └─siren_activation: 3-8        [1, 512]                  --\n",
      "│    │    └─Linear: 3-9                  [1, 512]                  262,656\n",
      "│    │    └─siren_activation: 3-10       [1, 512]                  --\n",
      "│    └─SirenResidualLayer: 2-4           [1, 512]                  --\n",
      "│    │    └─Linear: 3-11                 [1, 512]                  262,656\n",
      "│    │    └─siren_activation: 3-12       [1, 512]                  --\n",
      "│    │    └─Linear: 3-13                 [1, 512]                  262,656\n",
      "│    │    └─siren_activation: 3-14       [1, 512]                  --\n",
      "│    └─SirenResidualLayer: 2-5           [1, 512]                  --\n",
      "│    │    └─Linear: 3-15                 [1, 512]                  262,656\n",
      "│    │    └─siren_activation: 3-16       [1, 512]                  --\n",
      "│    │    └─Linear: 3-17                 [1, 512]                  262,656\n",
      "│    │    └─siren_activation: 3-18       [1, 512]                  --\n",
      "│    └─SirenResidualLayer: 2-6           [1, 512]                  --\n",
      "│    │    └─Linear: 3-19                 [1, 512]                  262,656\n",
      "│    │    └─siren_activation: 3-20       [1, 512]                  --\n",
      "│    │    └─Linear: 3-21                 [1, 512]                  262,656\n",
      "│    │    └─siren_activation: 3-22       [1, 512]                  --\n",
      "│    └─Linear: 2-7                       [1, 2]                    1,024\n",
      "==========================================================================================\n",
      "Total params: 2,629,120\n",
      "Trainable params: 2,629,120\n",
      "Non-trainable params: 0\n",
      "Total mult-adds (Units.MEGABYTES): 2.63\n",
      "==========================================================================================\n",
      "Input size (MB): 0.00\n",
      "Forward/backward pass size (MB): 0.05\n",
      "Params size (MB): 10.52\n",
      "Estimated Total Size (MB): 10.56\n",
      "==========================================================================================\n"
     ]
    },
    {
     "data": {
      "text/plain": [
       "==========================================================================================\n",
       "Layer (type:depth-idx)                   Output Shape              Param #\n",
       "==========================================================================================\n",
       "SirenModel                               [1, 2]                    --\n",
       "├─Sequential: 1-1                        [1, 2]                    --\n",
       "│    └─SirenLayer: 2-1                   [1, 512]                  --\n",
       "│    │    └─Linear: 3-1                  [1, 512]                  1,536\n",
       "│    │    └─siren_activation: 3-2        [1, 512]                  --\n",
       "│    └─SirenResidualLayer: 2-2           [1, 512]                  --\n",
       "│    │    └─Linear: 3-3                  [1, 512]                  262,656\n",
       "│    │    └─siren_activation: 3-4        [1, 512]                  --\n",
       "│    │    └─Linear: 3-5                  [1, 512]                  262,656\n",
       "│    │    └─siren_activation: 3-6        [1, 512]                  --\n",
       "│    └─SirenResidualLayer: 2-3           [1, 512]                  --\n",
       "│    │    └─Linear: 3-7                  [1, 512]                  262,656\n",
       "│    │    └─siren_activation: 3-8        [1, 512]                  --\n",
       "│    │    └─Linear: 3-9                  [1, 512]                  262,656\n",
       "│    │    └─siren_activation: 3-10       [1, 512]                  --\n",
       "│    └─SirenResidualLayer: 2-4           [1, 512]                  --\n",
       "│    │    └─Linear: 3-11                 [1, 512]                  262,656\n",
       "│    │    └─siren_activation: 3-12       [1, 512]                  --\n",
       "│    │    └─Linear: 3-13                 [1, 512]                  262,656\n",
       "│    │    └─siren_activation: 3-14       [1, 512]                  --\n",
       "│    └─SirenResidualLayer: 2-5           [1, 512]                  --\n",
       "│    │    └─Linear: 3-15                 [1, 512]                  262,656\n",
       "│    │    └─siren_activation: 3-16       [1, 512]                  --\n",
       "│    │    └─Linear: 3-17                 [1, 512]                  262,656\n",
       "│    │    └─siren_activation: 3-18       [1, 512]                  --\n",
       "│    └─SirenResidualLayer: 2-6           [1, 512]                  --\n",
       "│    │    └─Linear: 3-19                 [1, 512]                  262,656\n",
       "│    │    └─siren_activation: 3-20       [1, 512]                  --\n",
       "│    │    └─Linear: 3-21                 [1, 512]                  262,656\n",
       "│    │    └─siren_activation: 3-22       [1, 512]                  --\n",
       "│    └─Linear: 2-7                       [1, 2]                    1,024\n",
       "==========================================================================================\n",
       "Total params: 2,629,120\n",
       "Trainable params: 2,629,120\n",
       "Non-trainable params: 0\n",
       "Total mult-adds (Units.MEGABYTES): 2.63\n",
       "==========================================================================================\n",
       "Input size (MB): 0.00\n",
       "Forward/backward pass size (MB): 0.05\n",
       "Params size (MB): 10.52\n",
       "Estimated Total Size (MB): 10.56\n",
       "=========================================================================================="
      ]
     },
     "execution_count": 14,
     "metadata": {},
     "output_type": "execute_result"
    }
   ],
   "execution_count": 14
  },
  {
   "metadata": {
    "ExecuteTime": {
     "end_time": "2025-07-03T16:19:59.628942Z",
     "start_time": "2025-07-03T16:19:59.622935Z"
    }
   },
   "cell_type": "code",
   "source": [
    "finer_residual_model = FinerModel( \n",
    "    in_features=2,\n",
    "    out_features=2,\n",
    "    bias=True,\n",
    "    hidden_layers=5,\n",
    "    hidden_features=128,\n",
    "    first_omega_0=30.,\n",
    "    hidden_omega_0=30.,\n",
    "    first_k=10,\n",
    "    hidden_k=10,\n",
    "    residual_net=True\n",
    ")"
   ],
   "id": "1b815d502c6cbd92",
   "outputs": [],
   "execution_count": 15
  },
  {
   "metadata": {
    "ExecuteTime": {
     "end_time": "2025-07-03T16:19:59.644862Z",
     "start_time": "2025-07-03T16:19:59.639918Z"
    }
   },
   "cell_type": "code",
   "source": "output = finer_residual_model(x_dummy)",
   "id": "2052922e4f26d50b",
   "outputs": [],
   "execution_count": 16
  },
  {
   "metadata": {
    "ExecuteTime": {
     "end_time": "2025-07-03T16:19:59.662672Z",
     "start_time": "2025-07-03T16:19:59.658441Z"
    }
   },
   "cell_type": "code",
   "source": [
    "# Print input and output\n",
    "print(\"Input:\")\n",
    "print(x_dummy)\n",
    "print(\"Output:\")\n",
    "print(output)"
   ],
   "id": "1ade6f5941e980f7",
   "outputs": [
    {
     "name": "stdout",
     "output_type": "stream",
     "text": [
      "Input:\n",
      "tensor([[-0.8798,  0.3790],\n",
      "        [-0.0098, -0.8997],\n",
      "        [ 2.0947, -0.1007],\n",
      "        [ 0.0061, -0.4889],\n",
      "        [-1.0419, -0.2032]])\n",
      "Output:\n",
      "tensor([[ 0.0049,  0.0167],\n",
      "        [ 0.0325, -0.0285],\n",
      "        [ 0.0161,  0.0168],\n",
      "        [ 0.0296,  0.0229],\n",
      "        [ 0.0170, -0.0005]], grad_fn=<MmBackward0>)\n"
     ]
    }
   ],
   "execution_count": 17
  },
  {
   "metadata": {
    "ExecuteTime": {
     "end_time": "2025-07-03T16:19:59.699324Z",
     "start_time": "2025-07-03T16:19:59.690641Z"
    }
   },
   "cell_type": "code",
   "source": "model_summary(finer_residual_model, input_size=(1, 2))",
   "id": "b6467d01c01379de",
   "outputs": [
    {
     "name": "stdout",
     "output_type": "stream",
     "text": [
      "==========================================================================================\n",
      "Layer (type:depth-idx)                   Output Shape              Param #\n",
      "==========================================================================================\n",
      "FinerModel                               [1, 2]                    --\n",
      "├─Sequential: 1-1                        [1, 2]                    --\n",
      "│    └─FinerLayer: 2-1                   [1, 128]                  --\n",
      "│    │    └─Linear: 3-1                  [1, 128]                  384\n",
      "│    │    └─siren_activation: 3-2        [1, 128]                  --\n",
      "│    └─FinerResidualLayer: 2-2           [1, 128]                  --\n",
      "│    │    └─Linear: 3-3                  [1, 128]                  16,512\n",
      "│    │    └─siren_activation: 3-4        [1, 128]                  --\n",
      "│    │    └─Linear: 3-5                  [1, 128]                  16,512\n",
      "│    │    └─siren_activation: 3-6        [1, 128]                  --\n",
      "│    └─FinerResidualLayer: 2-3           [1, 128]                  --\n",
      "│    │    └─Linear: 3-7                  [1, 128]                  16,512\n",
      "│    │    └─siren_activation: 3-8        [1, 128]                  --\n",
      "│    │    └─Linear: 3-9                  [1, 128]                  16,512\n",
      "│    │    └─siren_activation: 3-10       [1, 128]                  --\n",
      "│    └─FinerResidualLayer: 2-4           [1, 128]                  --\n",
      "│    │    └─Linear: 3-11                 [1, 128]                  16,512\n",
      "│    │    └─siren_activation: 3-12       [1, 128]                  --\n",
      "│    │    └─Linear: 3-13                 [1, 128]                  16,512\n",
      "│    │    └─siren_activation: 3-14       [1, 128]                  --\n",
      "│    └─FinerResidualLayer: 2-5           [1, 128]                  --\n",
      "│    │    └─Linear: 3-15                 [1, 128]                  16,512\n",
      "│    │    └─siren_activation: 3-16       [1, 128]                  --\n",
      "│    │    └─Linear: 3-17                 [1, 128]                  16,512\n",
      "│    │    └─siren_activation: 3-18       [1, 128]                  --\n",
      "│    └─FinerResidualLayer: 2-6           [1, 128]                  --\n",
      "│    │    └─Linear: 3-19                 [1, 128]                  16,512\n",
      "│    │    └─siren_activation: 3-20       [1, 128]                  --\n",
      "│    │    └─Linear: 3-21                 [1, 128]                  16,512\n",
      "│    │    └─siren_activation: 3-22       [1, 128]                  --\n",
      "│    └─Linear: 2-7                       [1, 2]                    256\n",
      "==========================================================================================\n",
      "Total params: 165,760\n",
      "Trainable params: 165,760\n",
      "Non-trainable params: 0\n",
      "Total mult-adds (Units.MEGABYTES): 0.17\n",
      "==========================================================================================\n",
      "Input size (MB): 0.00\n",
      "Forward/backward pass size (MB): 0.01\n",
      "Params size (MB): 0.66\n",
      "Estimated Total Size (MB): 0.67\n",
      "==========================================================================================\n"
     ]
    },
    {
     "data": {
      "text/plain": [
       "==========================================================================================\n",
       "Layer (type:depth-idx)                   Output Shape              Param #\n",
       "==========================================================================================\n",
       "FinerModel                               [1, 2]                    --\n",
       "├─Sequential: 1-1                        [1, 2]                    --\n",
       "│    └─FinerLayer: 2-1                   [1, 128]                  --\n",
       "│    │    └─Linear: 3-1                  [1, 128]                  384\n",
       "│    │    └─siren_activation: 3-2        [1, 128]                  --\n",
       "│    └─FinerResidualLayer: 2-2           [1, 128]                  --\n",
       "│    │    └─Linear: 3-3                  [1, 128]                  16,512\n",
       "│    │    └─siren_activation: 3-4        [1, 128]                  --\n",
       "│    │    └─Linear: 3-5                  [1, 128]                  16,512\n",
       "│    │    └─siren_activation: 3-6        [1, 128]                  --\n",
       "│    └─FinerResidualLayer: 2-3           [1, 128]                  --\n",
       "│    │    └─Linear: 3-7                  [1, 128]                  16,512\n",
       "│    │    └─siren_activation: 3-8        [1, 128]                  --\n",
       "│    │    └─Linear: 3-9                  [1, 128]                  16,512\n",
       "│    │    └─siren_activation: 3-10       [1, 128]                  --\n",
       "│    └─FinerResidualLayer: 2-4           [1, 128]                  --\n",
       "│    │    └─Linear: 3-11                 [1, 128]                  16,512\n",
       "│    │    └─siren_activation: 3-12       [1, 128]                  --\n",
       "│    │    └─Linear: 3-13                 [1, 128]                  16,512\n",
       "│    │    └─siren_activation: 3-14       [1, 128]                  --\n",
       "│    └─FinerResidualLayer: 2-5           [1, 128]                  --\n",
       "│    │    └─Linear: 3-15                 [1, 128]                  16,512\n",
       "│    │    └─siren_activation: 3-16       [1, 128]                  --\n",
       "│    │    └─Linear: 3-17                 [1, 128]                  16,512\n",
       "│    │    └─siren_activation: 3-18       [1, 128]                  --\n",
       "│    └─FinerResidualLayer: 2-6           [1, 128]                  --\n",
       "│    │    └─Linear: 3-19                 [1, 128]                  16,512\n",
       "│    │    └─siren_activation: 3-20       [1, 128]                  --\n",
       "│    │    └─Linear: 3-21                 [1, 128]                  16,512\n",
       "│    │    └─siren_activation: 3-22       [1, 128]                  --\n",
       "│    └─Linear: 2-7                       [1, 2]                    256\n",
       "==========================================================================================\n",
       "Total params: 165,760\n",
       "Trainable params: 165,760\n",
       "Non-trainable params: 0\n",
       "Total mult-adds (Units.MEGABYTES): 0.17\n",
       "==========================================================================================\n",
       "Input size (MB): 0.00\n",
       "Forward/backward pass size (MB): 0.01\n",
       "Params size (MB): 0.66\n",
       "Estimated Total Size (MB): 0.67\n",
       "=========================================================================================="
      ]
     },
     "execution_count": 18,
     "metadata": {},
     "output_type": "execute_result"
    }
   ],
   "execution_count": 18
  },
  {
   "metadata": {},
   "cell_type": "markdown",
   "source": "## Gaussian Model and Finer Gaussian",
   "id": "14d8e2a41e4fbc36"
  },
  {
   "metadata": {
    "ExecuteTime": {
     "end_time": "2025-07-03T16:20:00.015210Z",
     "start_time": "2025-07-03T16:19:59.745702Z"
    }
   },
   "cell_type": "code",
   "source": "from models.implicit_neural_representations.inr_models.gaussian_model import GaussianModel, GaussianFinerModel",
   "id": "5d0cc6ed7f5663fa",
   "outputs": [],
   "execution_count": 19
  },
  {
   "metadata": {
    "ExecuteTime": {
     "end_time": "2025-07-03T16:20:00.029699Z",
     "start_time": "2025-07-03T16:20:00.018215Z"
    }
   },
   "cell_type": "code",
   "source": [
    "# initialize gaussian model without residual layers\n",
    "gaussian_model = GaussianModel(\n",
    "    in_features=2,\n",
    "    out_features=2,\n",
    "    hidden_layers=5,\n",
    "    hidden_features=512,\n",
    "    scale=30.0,\n",
    "    weight_init=2.0,\n",
    "    bias_init=2.0,\n",
    "    residual_net=False\n",
    ")"
   ],
   "id": "9419766ccc6c99a3",
   "outputs": [],
   "execution_count": 20
  },
  {
   "metadata": {
    "ExecuteTime": {
     "end_time": "2025-07-03T16:20:00.043955Z",
     "start_time": "2025-07-03T16:20:00.034884Z"
    }
   },
   "cell_type": "code",
   "source": "output = gaussian_model(x_dummy)",
   "id": "6f452b3e0af142e5",
   "outputs": [],
   "execution_count": 21
  },
  {
   "metadata": {
    "ExecuteTime": {
     "end_time": "2025-07-03T16:20:00.056764Z",
     "start_time": "2025-07-03T16:20:00.053444Z"
    }
   },
   "cell_type": "code",
   "source": [
    "# Print input and output\n",
    "print(\"Input:\")\n",
    "print(x_dummy)\n",
    "print(\"Output:\")\n",
    "print(output)"
   ],
   "id": "731c6834df07b74",
   "outputs": [
    {
     "name": "stdout",
     "output_type": "stream",
     "text": [
      "Input:\n",
      "tensor([[-0.8798,  0.3790],\n",
      "        [-0.0098, -0.8997],\n",
      "        [ 2.0947, -0.1007],\n",
      "        [ 0.0061, -0.4889],\n",
      "        [-1.0419, -0.2032]])\n",
      "Output:\n",
      "tensor([[-1.9259, -0.2457],\n",
      "        [ 3.0072, -3.3295],\n",
      "        [ 0.4148, -0.1276],\n",
      "        [ 1.3377, -3.3764],\n",
      "        [-3.0452,  3.2900]], grad_fn=<MmBackward0>)\n"
     ]
    }
   ],
   "execution_count": 22
  },
  {
   "metadata": {
    "ExecuteTime": {
     "end_time": "2025-07-03T16:20:00.084016Z",
     "start_time": "2025-07-03T16:20:00.075726Z"
    }
   },
   "cell_type": "code",
   "source": "model_summary(gaussian_model, input_size=(1, 2))",
   "id": "f43f9c0c2cec68df",
   "outputs": [
    {
     "name": "stdout",
     "output_type": "stream",
     "text": [
      "====================================================================================================\n",
      "Layer (type:depth-idx)                             Output Shape              Param #\n",
      "====================================================================================================\n",
      "GaussianModel                                      [1, 2]                    --\n",
      "├─Sequential: 1-1                                  [1, 2]                    --\n",
      "│    └─GaussianFourierFeatureTransform: 2-1        [1, 4]                    --\n",
      "│    └─GaussianLayer: 2-2                          [1, 512]                  --\n",
      "│    │    └─Linear: 3-1                            [1, 512]                  2,560\n",
      "│    │    └─gaussian_activation: 3-2               [1, 512]                  --\n",
      "│    └─GaussianLayer: 2-3                          [1, 512]                  --\n",
      "│    │    └─Linear: 3-3                            [1, 512]                  262,656\n",
      "│    │    └─gaussian_activation: 3-4               [1, 512]                  --\n",
      "│    └─GaussianLayer: 2-4                          [1, 512]                  --\n",
      "│    │    └─Linear: 3-5                            [1, 512]                  262,656\n",
      "│    │    └─gaussian_activation: 3-6               [1, 512]                  --\n",
      "│    └─GaussianLayer: 2-5                          [1, 512]                  --\n",
      "│    │    └─Linear: 3-7                            [1, 512]                  262,656\n",
      "│    │    └─gaussian_activation: 3-8               [1, 512]                  --\n",
      "│    └─GaussianLayer: 2-6                          [1, 512]                  --\n",
      "│    │    └─Linear: 3-9                            [1, 512]                  262,656\n",
      "│    │    └─gaussian_activation: 3-10              [1, 512]                  --\n",
      "│    └─GaussianLayer: 2-7                          [1, 512]                  --\n",
      "│    │    └─Linear: 3-11                           [1, 512]                  262,656\n",
      "│    │    └─gaussian_activation: 3-12              [1, 512]                  --\n",
      "│    └─Linear: 2-8                                 [1, 2]                    1,024\n",
      "====================================================================================================\n",
      "Total params: 1,316,864\n",
      "Trainable params: 1,316,864\n",
      "Non-trainable params: 0\n",
      "Total mult-adds (Units.MEGABYTES): 1.32\n",
      "====================================================================================================\n",
      "Input size (MB): 0.00\n",
      "Forward/backward pass size (MB): 0.02\n",
      "Params size (MB): 5.27\n",
      "Estimated Total Size (MB): 5.29\n",
      "====================================================================================================\n"
     ]
    },
    {
     "data": {
      "text/plain": [
       "====================================================================================================\n",
       "Layer (type:depth-idx)                             Output Shape              Param #\n",
       "====================================================================================================\n",
       "GaussianModel                                      [1, 2]                    --\n",
       "├─Sequential: 1-1                                  [1, 2]                    --\n",
       "│    └─GaussianFourierFeatureTransform: 2-1        [1, 4]                    --\n",
       "│    └─GaussianLayer: 2-2                          [1, 512]                  --\n",
       "│    │    └─Linear: 3-1                            [1, 512]                  2,560\n",
       "│    │    └─gaussian_activation: 3-2               [1, 512]                  --\n",
       "│    └─GaussianLayer: 2-3                          [1, 512]                  --\n",
       "│    │    └─Linear: 3-3                            [1, 512]                  262,656\n",
       "│    │    └─gaussian_activation: 3-4               [1, 512]                  --\n",
       "│    └─GaussianLayer: 2-4                          [1, 512]                  --\n",
       "│    │    └─Linear: 3-5                            [1, 512]                  262,656\n",
       "│    │    └─gaussian_activation: 3-6               [1, 512]                  --\n",
       "│    └─GaussianLayer: 2-5                          [1, 512]                  --\n",
       "│    │    └─Linear: 3-7                            [1, 512]                  262,656\n",
       "│    │    └─gaussian_activation: 3-8               [1, 512]                  --\n",
       "│    └─GaussianLayer: 2-6                          [1, 512]                  --\n",
       "│    │    └─Linear: 3-9                            [1, 512]                  262,656\n",
       "│    │    └─gaussian_activation: 3-10              [1, 512]                  --\n",
       "│    └─GaussianLayer: 2-7                          [1, 512]                  --\n",
       "│    │    └─Linear: 3-11                           [1, 512]                  262,656\n",
       "│    │    └─gaussian_activation: 3-12              [1, 512]                  --\n",
       "│    └─Linear: 2-8                                 [1, 2]                    1,024\n",
       "====================================================================================================\n",
       "Total params: 1,316,864\n",
       "Trainable params: 1,316,864\n",
       "Non-trainable params: 0\n",
       "Total mult-adds (Units.MEGABYTES): 1.32\n",
       "====================================================================================================\n",
       "Input size (MB): 0.00\n",
       "Forward/backward pass size (MB): 0.02\n",
       "Params size (MB): 5.27\n",
       "Estimated Total Size (MB): 5.29\n",
       "===================================================================================================="
      ]
     },
     "execution_count": 23,
     "metadata": {},
     "output_type": "execute_result"
    }
   ],
   "execution_count": 23
  },
  {
   "metadata": {
    "ExecuteTime": {
     "end_time": "2025-07-03T16:20:00.157174Z",
     "start_time": "2025-07-03T16:20:00.137490Z"
    }
   },
   "cell_type": "code",
   "source": [
    "gaussian_residual_model = GaussianModel(\n",
    "    in_features=2,\n",
    "    out_features=2,\n",
    "    hidden_layers=5,\n",
    "    hidden_features=512,\n",
    "    scale=30.0,\n",
    "    weight_init=0.1,\n",
    "    residual_net=True\n",
    ")"
   ],
   "id": "77574003ab24e637",
   "outputs": [],
   "execution_count": 24
  },
  {
   "metadata": {
    "ExecuteTime": {
     "end_time": "2025-07-03T16:20:00.175614Z",
     "start_time": "2025-07-03T16:20:00.164003Z"
    }
   },
   "cell_type": "code",
   "source": "output = gaussian_residual_model(x_dummy)",
   "id": "d6dedce5e6c4c2b8",
   "outputs": [],
   "execution_count": 25
  },
  {
   "metadata": {
    "ExecuteTime": {
     "end_time": "2025-07-03T16:20:00.188036Z",
     "start_time": "2025-07-03T16:20:00.184036Z"
    }
   },
   "cell_type": "code",
   "source": [
    "print(\"Input:\")\n",
    "print(x_dummy)\n",
    "print(\"Output:\")\n",
    "print(output)"
   ],
   "id": "96fad802bea59adc",
   "outputs": [
    {
     "name": "stdout",
     "output_type": "stream",
     "text": [
      "Input:\n",
      "tensor([[-0.8798,  0.3790],\n",
      "        [-0.0098, -0.8997],\n",
      "        [ 2.0947, -0.1007],\n",
      "        [ 0.0061, -0.4889],\n",
      "        [-1.0419, -0.2032]])\n",
      "Output:\n",
      "tensor([[-0.2840, -0.1326],\n",
      "        [ 0.0570, -0.0336],\n",
      "        [ 0.3011,  0.3241],\n",
      "        [ 0.6340,  0.0129],\n",
      "        [ 0.5427,  0.0706]], grad_fn=<MmBackward0>)\n"
     ]
    }
   ],
   "execution_count": 26
  },
  {
   "metadata": {
    "ExecuteTime": {
     "end_time": "2025-07-03T16:20:00.226969Z",
     "start_time": "2025-07-03T16:20:00.214313Z"
    }
   },
   "cell_type": "code",
   "source": "model_summary(gaussian_residual_model, input_size=(1, 2))",
   "id": "2dfdbee952212e29",
   "outputs": [
    {
     "name": "stdout",
     "output_type": "stream",
     "text": [
      "====================================================================================================\n",
      "Layer (type:depth-idx)                             Output Shape              Param #\n",
      "====================================================================================================\n",
      "GaussianModel                                      [1, 2]                    --\n",
      "├─Sequential: 1-1                                  [1, 2]                    --\n",
      "│    └─GaussianFourierFeatureTransform: 2-1        [1, 4]                    --\n",
      "│    └─GaussianLayer: 2-2                          [1, 512]                  --\n",
      "│    │    └─Linear: 3-1                            [1, 512]                  2,560\n",
      "│    │    └─gaussian_activation: 3-2               [1, 512]                  --\n",
      "│    └─GaussianResidualLayer: 2-3                  [1, 512]                  --\n",
      "│    │    └─Linear: 3-3                            [1, 512]                  262,656\n",
      "│    │    └─gaussian_activation: 3-4               [1, 512]                  --\n",
      "│    │    └─Linear: 3-5                            [1, 512]                  262,656\n",
      "│    │    └─gaussian_activation: 3-6               [1, 512]                  --\n",
      "│    └─GaussianResidualLayer: 2-4                  [1, 512]                  --\n",
      "│    │    └─Linear: 3-7                            [1, 512]                  262,656\n",
      "│    │    └─gaussian_activation: 3-8               [1, 512]                  --\n",
      "│    │    └─Linear: 3-9                            [1, 512]                  262,656\n",
      "│    │    └─gaussian_activation: 3-10              [1, 512]                  --\n",
      "│    └─GaussianResidualLayer: 2-5                  [1, 512]                  --\n",
      "│    │    └─Linear: 3-11                           [1, 512]                  262,656\n",
      "│    │    └─gaussian_activation: 3-12              [1, 512]                  --\n",
      "│    │    └─Linear: 3-13                           [1, 512]                  262,656\n",
      "│    │    └─gaussian_activation: 3-14              [1, 512]                  --\n",
      "│    └─GaussianResidualLayer: 2-6                  [1, 512]                  --\n",
      "│    │    └─Linear: 3-15                           [1, 512]                  262,656\n",
      "│    │    └─gaussian_activation: 3-16              [1, 512]                  --\n",
      "│    │    └─Linear: 3-17                           [1, 512]                  262,656\n",
      "│    │    └─gaussian_activation: 3-18              [1, 512]                  --\n",
      "│    └─GaussianResidualLayer: 2-7                  [1, 512]                  --\n",
      "│    │    └─Linear: 3-19                           [1, 512]                  262,656\n",
      "│    │    └─gaussian_activation: 3-20              [1, 512]                  --\n",
      "│    │    └─Linear: 3-21                           [1, 512]                  262,656\n",
      "│    │    └─gaussian_activation: 3-22              [1, 512]                  --\n",
      "│    └─Linear: 2-8                                 [1, 2]                    1,024\n",
      "====================================================================================================\n",
      "Total params: 2,630,144\n",
      "Trainable params: 2,630,144\n",
      "Non-trainable params: 0\n",
      "Total mult-adds (Units.MEGABYTES): 2.63\n",
      "====================================================================================================\n",
      "Input size (MB): 0.00\n",
      "Forward/backward pass size (MB): 0.05\n",
      "Params size (MB): 10.52\n",
      "Estimated Total Size (MB): 10.57\n",
      "====================================================================================================\n"
     ]
    },
    {
     "data": {
      "text/plain": [
       "====================================================================================================\n",
       "Layer (type:depth-idx)                             Output Shape              Param #\n",
       "====================================================================================================\n",
       "GaussianModel                                      [1, 2]                    --\n",
       "├─Sequential: 1-1                                  [1, 2]                    --\n",
       "│    └─GaussianFourierFeatureTransform: 2-1        [1, 4]                    --\n",
       "│    └─GaussianLayer: 2-2                          [1, 512]                  --\n",
       "│    │    └─Linear: 3-1                            [1, 512]                  2,560\n",
       "│    │    └─gaussian_activation: 3-2               [1, 512]                  --\n",
       "│    └─GaussianResidualLayer: 2-3                  [1, 512]                  --\n",
       "│    │    └─Linear: 3-3                            [1, 512]                  262,656\n",
       "│    │    └─gaussian_activation: 3-4               [1, 512]                  --\n",
       "│    │    └─Linear: 3-5                            [1, 512]                  262,656\n",
       "│    │    └─gaussian_activation: 3-6               [1, 512]                  --\n",
       "│    └─GaussianResidualLayer: 2-4                  [1, 512]                  --\n",
       "│    │    └─Linear: 3-7                            [1, 512]                  262,656\n",
       "│    │    └─gaussian_activation: 3-8               [1, 512]                  --\n",
       "│    │    └─Linear: 3-9                            [1, 512]                  262,656\n",
       "│    │    └─gaussian_activation: 3-10              [1, 512]                  --\n",
       "│    └─GaussianResidualLayer: 2-5                  [1, 512]                  --\n",
       "│    │    └─Linear: 3-11                           [1, 512]                  262,656\n",
       "│    │    └─gaussian_activation: 3-12              [1, 512]                  --\n",
       "│    │    └─Linear: 3-13                           [1, 512]                  262,656\n",
       "│    │    └─gaussian_activation: 3-14              [1, 512]                  --\n",
       "│    └─GaussianResidualLayer: 2-6                  [1, 512]                  --\n",
       "│    │    └─Linear: 3-15                           [1, 512]                  262,656\n",
       "│    │    └─gaussian_activation: 3-16              [1, 512]                  --\n",
       "│    │    └─Linear: 3-17                           [1, 512]                  262,656\n",
       "│    │    └─gaussian_activation: 3-18              [1, 512]                  --\n",
       "│    └─GaussianResidualLayer: 2-7                  [1, 512]                  --\n",
       "│    │    └─Linear: 3-19                           [1, 512]                  262,656\n",
       "│    │    └─gaussian_activation: 3-20              [1, 512]                  --\n",
       "│    │    └─Linear: 3-21                           [1, 512]                  262,656\n",
       "│    │    └─gaussian_activation: 3-22              [1, 512]                  --\n",
       "│    └─Linear: 2-8                                 [1, 2]                    1,024\n",
       "====================================================================================================\n",
       "Total params: 2,630,144\n",
       "Trainable params: 2,630,144\n",
       "Non-trainable params: 0\n",
       "Total mult-adds (Units.MEGABYTES): 2.63\n",
       "====================================================================================================\n",
       "Input size (MB): 0.00\n",
       "Forward/backward pass size (MB): 0.05\n",
       "Params size (MB): 10.52\n",
       "Estimated Total Size (MB): 10.57\n",
       "===================================================================================================="
      ]
     },
     "execution_count": 27,
     "metadata": {},
     "output_type": "execute_result"
    }
   ],
   "execution_count": 27
  },
  {
   "metadata": {
    "ExecuteTime": {
     "end_time": "2025-07-03T16:20:00.251674Z",
     "start_time": "2025-07-03T16:20:00.247255Z"
    }
   },
   "cell_type": "code",
   "source": [
    "gaussian_finer_model = GaussianFinerModel(\n",
    "    in_features=2,\n",
    "    out_features=2,\n",
    "    scale=30.0,\n",
    "    omega_f=2.5,\n",
    "    bias_init=5.0,\n",
    "    weight_init=1.5,\n",
    "    residual_net=False\n",
    ")"
   ],
   "id": "15f75d9285f88d56",
   "outputs": [],
   "execution_count": 28
  },
  {
   "metadata": {
    "ExecuteTime": {
     "end_time": "2025-07-03T16:20:00.270798Z",
     "start_time": "2025-07-03T16:20:00.265797Z"
    }
   },
   "cell_type": "code",
   "source": "output = gaussian_finer_model(x_dummy)",
   "id": "fef55696294111fc",
   "outputs": [],
   "execution_count": 29
  },
  {
   "metadata": {
    "ExecuteTime": {
     "end_time": "2025-07-03T16:20:00.283819Z",
     "start_time": "2025-07-03T16:20:00.279923Z"
    }
   },
   "cell_type": "code",
   "source": [
    "print(\"Input:\")\n",
    "print(x_dummy)\n",
    "print(\"Output:\")\n",
    "print(output)"
   ],
   "id": "2f8dba4030255a98",
   "outputs": [
    {
     "name": "stdout",
     "output_type": "stream",
     "text": [
      "Input:\n",
      "tensor([[-0.8798,  0.3790],\n",
      "        [-0.0098, -0.8997],\n",
      "        [ 2.0947, -0.1007],\n",
      "        [ 0.0061, -0.4889],\n",
      "        [-1.0419, -0.2032]])\n",
      "Output:\n",
      "tensor([[-2.0869, -1.7512],\n",
      "        [ 2.2883, -0.2161],\n",
      "        [-1.9643,  0.7797],\n",
      "        [ 4.3409,  1.0523],\n",
      "        [ 1.6237,  1.5996]], grad_fn=<MmBackward0>)\n"
     ]
    }
   ],
   "execution_count": 30
  },
  {
   "metadata": {
    "ExecuteTime": {
     "end_time": "2025-07-03T16:20:00.313647Z",
     "start_time": "2025-07-03T16:20:00.306140Z"
    }
   },
   "cell_type": "code",
   "source": "model_summary(gaussian_finer_model, input_size=(1, 2))",
   "id": "93a19d70f8c96ae0",
   "outputs": [
    {
     "name": "stdout",
     "output_type": "stream",
     "text": [
      "====================================================================================================\n",
      "Layer (type:depth-idx)                             Output Shape              Param #\n",
      "====================================================================================================\n",
      "GaussianFinerModel                                 [1, 2]                    --\n",
      "├─Sequential: 1-1                                  [1, 2]                    --\n",
      "│    └─GaussianFourierFeatureTransform: 2-1        [1, 4]                    --\n",
      "│    └─GaussianFinerLayer: 2-2                     [1, 128]                  --\n",
      "│    │    └─Linear: 3-1                            [1, 128]                  640\n",
      "│    │    └─gaussian_activation: 3-2               [1, 128]                  --\n",
      "│    └─GaussianFinerLayer: 2-3                     [1, 128]                  --\n",
      "│    │    └─Linear: 3-3                            [1, 128]                  16,512\n",
      "│    │    └─gaussian_activation: 3-4               [1, 128]                  --\n",
      "│    └─GaussianFinerLayer: 2-4                     [1, 128]                  --\n",
      "│    │    └─Linear: 3-5                            [1, 128]                  16,512\n",
      "│    │    └─gaussian_activation: 3-6               [1, 128]                  --\n",
      "│    └─GaussianFinerLayer: 2-5                     [1, 128]                  --\n",
      "│    │    └─Linear: 3-7                            [1, 128]                  16,512\n",
      "│    │    └─gaussian_activation: 3-8               [1, 128]                  --\n",
      "│    └─GaussianFinerLayer: 2-6                     [1, 128]                  --\n",
      "│    │    └─Linear: 3-9                            [1, 128]                  16,512\n",
      "│    │    └─gaussian_activation: 3-10              [1, 128]                  --\n",
      "│    └─GaussianFinerLayer: 2-7                     [1, 128]                  --\n",
      "│    │    └─Linear: 3-11                           [1, 128]                  16,512\n",
      "│    │    └─gaussian_activation: 3-12              [1, 128]                  --\n",
      "│    └─Linear: 2-8                                 [1, 2]                    256\n",
      "====================================================================================================\n",
      "Total params: 83,456\n",
      "Trainable params: 83,456\n",
      "Non-trainable params: 0\n",
      "Total mult-adds (Units.MEGABYTES): 0.08\n",
      "====================================================================================================\n",
      "Input size (MB): 0.00\n",
      "Forward/backward pass size (MB): 0.01\n",
      "Params size (MB): 0.33\n",
      "Estimated Total Size (MB): 0.34\n",
      "====================================================================================================\n"
     ]
    },
    {
     "data": {
      "text/plain": [
       "====================================================================================================\n",
       "Layer (type:depth-idx)                             Output Shape              Param #\n",
       "====================================================================================================\n",
       "GaussianFinerModel                                 [1, 2]                    --\n",
       "├─Sequential: 1-1                                  [1, 2]                    --\n",
       "│    └─GaussianFourierFeatureTransform: 2-1        [1, 4]                    --\n",
       "│    └─GaussianFinerLayer: 2-2                     [1, 128]                  --\n",
       "│    │    └─Linear: 3-1                            [1, 128]                  640\n",
       "│    │    └─gaussian_activation: 3-2               [1, 128]                  --\n",
       "│    └─GaussianFinerLayer: 2-3                     [1, 128]                  --\n",
       "│    │    └─Linear: 3-3                            [1, 128]                  16,512\n",
       "│    │    └─gaussian_activation: 3-4               [1, 128]                  --\n",
       "│    └─GaussianFinerLayer: 2-4                     [1, 128]                  --\n",
       "│    │    └─Linear: 3-5                            [1, 128]                  16,512\n",
       "│    │    └─gaussian_activation: 3-6               [1, 128]                  --\n",
       "│    └─GaussianFinerLayer: 2-5                     [1, 128]                  --\n",
       "│    │    └─Linear: 3-7                            [1, 128]                  16,512\n",
       "│    │    └─gaussian_activation: 3-8               [1, 128]                  --\n",
       "│    └─GaussianFinerLayer: 2-6                     [1, 128]                  --\n",
       "│    │    └─Linear: 3-9                            [1, 128]                  16,512\n",
       "│    │    └─gaussian_activation: 3-10              [1, 128]                  --\n",
       "│    └─GaussianFinerLayer: 2-7                     [1, 128]                  --\n",
       "│    │    └─Linear: 3-11                           [1, 128]                  16,512\n",
       "│    │    └─gaussian_activation: 3-12              [1, 128]                  --\n",
       "│    └─Linear: 2-8                                 [1, 2]                    256\n",
       "====================================================================================================\n",
       "Total params: 83,456\n",
       "Trainable params: 83,456\n",
       "Non-trainable params: 0\n",
       "Total mult-adds (Units.MEGABYTES): 0.08\n",
       "====================================================================================================\n",
       "Input size (MB): 0.00\n",
       "Forward/backward pass size (MB): 0.01\n",
       "Params size (MB): 0.33\n",
       "Estimated Total Size (MB): 0.34\n",
       "===================================================================================================="
      ]
     },
     "execution_count": 31,
     "metadata": {},
     "output_type": "execute_result"
    }
   ],
   "execution_count": 31
  },
  {
   "metadata": {
    "ExecuteTime": {
     "end_time": "2025-07-03T16:20:00.354041Z",
     "start_time": "2025-07-03T16:20:00.348036Z"
    }
   },
   "cell_type": "code",
   "source": [
    "gaussian_finer_residual_model = GaussianFinerModel(\n",
    "    in_features=2,\n",
    "    out_features=2,\n",
    "    scale=30.0,\n",
    "    omega_f=2.5,\n",
    "    bias_init=5.0,\n",
    "    weight_init=0.1,\n",
    "    residual_net=True\n",
    ")"
   ],
   "id": "6dce263d2a0765b9",
   "outputs": [],
   "execution_count": 32
  },
  {
   "metadata": {
    "ExecuteTime": {
     "end_time": "2025-07-03T16:20:00.374990Z",
     "start_time": "2025-07-03T16:20:00.367879Z"
    }
   },
   "cell_type": "code",
   "source": "output = gaussian_finer_residual_model(x_dummy)",
   "id": "329de2f8c99c1a59",
   "outputs": [],
   "execution_count": 33
  },
  {
   "metadata": {
    "ExecuteTime": {
     "end_time": "2025-07-03T16:20:00.386497Z",
     "start_time": "2025-07-03T16:20:00.382065Z"
    }
   },
   "cell_type": "code",
   "source": [
    "print(\"Input:\")\n",
    "print(x_dummy)\n",
    "print(\"Output:\")\n",
    "print(output)"
   ],
   "id": "1e84596644ef36fc",
   "outputs": [
    {
     "name": "stdout",
     "output_type": "stream",
     "text": [
      "Input:\n",
      "tensor([[-0.8798,  0.3790],\n",
      "        [-0.0098, -0.8997],\n",
      "        [ 2.0947, -0.1007],\n",
      "        [ 0.0061, -0.4889],\n",
      "        [-1.0419, -0.2032]])\n",
      "Output:\n",
      "tensor([[-0.0456,  0.1968],\n",
      "        [-0.1735,  0.0115],\n",
      "        [ 0.1207, -0.0982],\n",
      "        [-0.1311,  0.2900],\n",
      "        [-0.0350,  0.0712]], grad_fn=<MmBackward0>)\n"
     ]
    }
   ],
   "execution_count": 34
  },
  {
   "metadata": {
    "ExecuteTime": {
     "end_time": "2025-07-03T16:20:00.416061Z",
     "start_time": "2025-07-03T16:20:00.406667Z"
    }
   },
   "cell_type": "code",
   "source": "model_summary(gaussian_finer_residual_model, input_size=(1, 2))",
   "id": "a4df428b7e58a756",
   "outputs": [
    {
     "name": "stdout",
     "output_type": "stream",
     "text": [
      "====================================================================================================\n",
      "Layer (type:depth-idx)                             Output Shape              Param #\n",
      "====================================================================================================\n",
      "GaussianFinerModel                                 [1, 2]                    --\n",
      "├─Sequential: 1-1                                  [1, 2]                    --\n",
      "│    └─GaussianFourierFeatureTransform: 2-1        [1, 4]                    --\n",
      "│    └─GaussianFinerLayer: 2-2                     [1, 128]                  --\n",
      "│    │    └─Linear: 3-1                            [1, 128]                  640\n",
      "│    │    └─gaussian_activation: 3-2               [1, 128]                  --\n",
      "│    └─GaussianFinerResidualLayer: 2-3             [1, 128]                  --\n",
      "│    │    └─Linear: 3-3                            [1, 128]                  16,512\n",
      "│    │    └─gaussian_activation: 3-4               [1, 128]                  --\n",
      "│    │    └─Linear: 3-5                            [1, 128]                  16,512\n",
      "│    │    └─gaussian_activation: 3-6               [1, 128]                  --\n",
      "│    └─GaussianFinerResidualLayer: 2-4             [1, 128]                  --\n",
      "│    │    └─Linear: 3-7                            [1, 128]                  16,512\n",
      "│    │    └─gaussian_activation: 3-8               [1, 128]                  --\n",
      "│    │    └─Linear: 3-9                            [1, 128]                  16,512\n",
      "│    │    └─gaussian_activation: 3-10              [1, 128]                  --\n",
      "│    └─GaussianFinerResidualLayer: 2-5             [1, 128]                  --\n",
      "│    │    └─Linear: 3-11                           [1, 128]                  16,512\n",
      "│    │    └─gaussian_activation: 3-12              [1, 128]                  --\n",
      "│    │    └─Linear: 3-13                           [1, 128]                  16,512\n",
      "│    │    └─gaussian_activation: 3-14              [1, 128]                  --\n",
      "│    └─GaussianFinerResidualLayer: 2-6             [1, 128]                  --\n",
      "│    │    └─Linear: 3-15                           [1, 128]                  16,512\n",
      "│    │    └─gaussian_activation: 3-16              [1, 128]                  --\n",
      "│    │    └─Linear: 3-17                           [1, 128]                  16,512\n",
      "│    │    └─gaussian_activation: 3-18              [1, 128]                  --\n",
      "│    └─GaussianFinerResidualLayer: 2-7             [1, 128]                  --\n",
      "│    │    └─Linear: 3-19                           [1, 128]                  16,512\n",
      "│    │    └─gaussian_activation: 3-20              [1, 128]                  --\n",
      "│    │    └─Linear: 3-21                           [1, 128]                  16,512\n",
      "│    │    └─gaussian_activation: 3-22              [1, 128]                  --\n",
      "│    └─Linear: 2-8                                 [1, 2]                    256\n",
      "====================================================================================================\n",
      "Total params: 166,016\n",
      "Trainable params: 166,016\n",
      "Non-trainable params: 0\n",
      "Total mult-adds (Units.MEGABYTES): 0.17\n",
      "====================================================================================================\n",
      "Input size (MB): 0.00\n",
      "Forward/backward pass size (MB): 0.01\n",
      "Params size (MB): 0.66\n",
      "Estimated Total Size (MB): 0.68\n",
      "====================================================================================================\n"
     ]
    },
    {
     "data": {
      "text/plain": [
       "====================================================================================================\n",
       "Layer (type:depth-idx)                             Output Shape              Param #\n",
       "====================================================================================================\n",
       "GaussianFinerModel                                 [1, 2]                    --\n",
       "├─Sequential: 1-1                                  [1, 2]                    --\n",
       "│    └─GaussianFourierFeatureTransform: 2-1        [1, 4]                    --\n",
       "│    └─GaussianFinerLayer: 2-2                     [1, 128]                  --\n",
       "│    │    └─Linear: 3-1                            [1, 128]                  640\n",
       "│    │    └─gaussian_activation: 3-2               [1, 128]                  --\n",
       "│    └─GaussianFinerResidualLayer: 2-3             [1, 128]                  --\n",
       "│    │    └─Linear: 3-3                            [1, 128]                  16,512\n",
       "│    │    └─gaussian_activation: 3-4               [1, 128]                  --\n",
       "│    │    └─Linear: 3-5                            [1, 128]                  16,512\n",
       "│    │    └─gaussian_activation: 3-6               [1, 128]                  --\n",
       "│    └─GaussianFinerResidualLayer: 2-4             [1, 128]                  --\n",
       "│    │    └─Linear: 3-7                            [1, 128]                  16,512\n",
       "│    │    └─gaussian_activation: 3-8               [1, 128]                  --\n",
       "│    │    └─Linear: 3-9                            [1, 128]                  16,512\n",
       "│    │    └─gaussian_activation: 3-10              [1, 128]                  --\n",
       "│    └─GaussianFinerResidualLayer: 2-5             [1, 128]                  --\n",
       "│    │    └─Linear: 3-11                           [1, 128]                  16,512\n",
       "│    │    └─gaussian_activation: 3-12              [1, 128]                  --\n",
       "│    │    └─Linear: 3-13                           [1, 128]                  16,512\n",
       "│    │    └─gaussian_activation: 3-14              [1, 128]                  --\n",
       "│    └─GaussianFinerResidualLayer: 2-6             [1, 128]                  --\n",
       "│    │    └─Linear: 3-15                           [1, 128]                  16,512\n",
       "│    │    └─gaussian_activation: 3-16              [1, 128]                  --\n",
       "│    │    └─Linear: 3-17                           [1, 128]                  16,512\n",
       "│    │    └─gaussian_activation: 3-18              [1, 128]                  --\n",
       "│    └─GaussianFinerResidualLayer: 2-7             [1, 128]                  --\n",
       "│    │    └─Linear: 3-19                           [1, 128]                  16,512\n",
       "│    │    └─gaussian_activation: 3-20              [1, 128]                  --\n",
       "│    │    └─Linear: 3-21                           [1, 128]                  16,512\n",
       "│    │    └─gaussian_activation: 3-22              [1, 128]                  --\n",
       "│    └─Linear: 2-8                                 [1, 2]                    256\n",
       "====================================================================================================\n",
       "Total params: 166,016\n",
       "Trainable params: 166,016\n",
       "Non-trainable params: 0\n",
       "Total mult-adds (Units.MEGABYTES): 0.17\n",
       "====================================================================================================\n",
       "Input size (MB): 0.00\n",
       "Forward/backward pass size (MB): 0.01\n",
       "Params size (MB): 0.66\n",
       "Estimated Total Size (MB): 0.68\n",
       "===================================================================================================="
      ]
     },
     "execution_count": 35,
     "metadata": {},
     "output_type": "execute_result"
    }
   ],
   "execution_count": 35
  },
  {
   "metadata": {},
   "cell_type": "markdown",
   "source": "## MLP MODEL",
   "id": "5e16b99dddc3a2f1"
  },
  {
   "metadata": {
    "ExecuteTime": {
     "end_time": "2025-07-03T16:20:00.444247Z",
     "start_time": "2025-07-03T16:20:00.440053Z"
    }
   },
   "cell_type": "code",
   "source": "from models.implicit_neural_representations.inr_models.mlp_model import MLPModel",
   "id": "993af880de38c136",
   "outputs": [],
   "execution_count": 36
  },
  {
   "metadata": {
    "ExecuteTime": {
     "end_time": "2025-07-03T16:20:00.455946Z",
     "start_time": "2025-07-03T16:20:00.449760Z"
    }
   },
   "cell_type": "code",
   "source": [
    "mlp_model = MLPModel(\n",
    "    in_features=2,\n",
    "    out_features=2,\n",
    "    mapping_type=\"gauss\",\n",
    "    mapping_dim=4,\n",
    "    mapping_scale=10,\n",
    "    hidden_features=128,\n",
    "    hidden_layers = 5, \n",
    "    bias=True,\n",
    "    weight_init=0.1,\n",
    "    bias_init=None,\n",
    "    residual_net=False)"
   ],
   "id": "4e606d57db8d7561",
   "outputs": [],
   "execution_count": 37
  },
  {
   "metadata": {
    "ExecuteTime": {
     "end_time": "2025-07-03T16:20:00.471855Z",
     "start_time": "2025-07-03T16:20:00.467862Z"
    }
   },
   "cell_type": "code",
   "source": "output = mlp_model(x_dummy)",
   "id": "cc78849fb95d1ad3",
   "outputs": [],
   "execution_count": 38
  },
  {
   "metadata": {
    "ExecuteTime": {
     "end_time": "2025-07-03T16:20:00.482985Z",
     "start_time": "2025-07-03T16:20:00.478990Z"
    }
   },
   "cell_type": "code",
   "source": [
    "print(\"Input:\")\n",
    "print(x_dummy)\n",
    "print(\"Output:\")\n",
    "print(output)"
   ],
   "id": "6af33433ffac42ba",
   "outputs": [
    {
     "name": "stdout",
     "output_type": "stream",
     "text": [
      "Input:\n",
      "tensor([[-0.8798,  0.3790],\n",
      "        [-0.0098, -0.8997],\n",
      "        [ 2.0947, -0.1007],\n",
      "        [ 0.0061, -0.4889],\n",
      "        [-1.0419, -0.2032]])\n",
      "Output:\n",
      "tensor([[0.0951, 0.0301],\n",
      "        [0.0949, 0.0318],\n",
      "        [0.0948, 0.0303],\n",
      "        [0.0959, 0.0303],\n",
      "        [0.0950, 0.0300]], grad_fn=<AddmmBackward0>)\n"
     ]
    }
   ],
   "execution_count": 39
  },
  {
   "metadata": {
    "ExecuteTime": {
     "end_time": "2025-07-03T16:20:00.511913Z",
     "start_time": "2025-07-03T16:20:00.505383Z"
    }
   },
   "cell_type": "code",
   "source": "model_summary(mlp_model, input_size=(1, 2))",
   "id": "782a5322fa9d3ca6",
   "outputs": [
    {
     "name": "stdout",
     "output_type": "stream",
     "text": [
      "====================================================================================================\n",
      "Layer (type:depth-idx)                             Output Shape              Param #\n",
      "====================================================================================================\n",
      "MLPModel                                           [1, 2]                    --\n",
      "├─Sequential: 1-1                                  [1, 2]                    --\n",
      "│    └─GaussianFourierFeatureTransform: 2-1        [1, 4]                    --\n",
      "│    └─MLPLayer: 2-2                               [1, 128]                  --\n",
      "│    │    └─Linear: 3-1                            [1, 128]                  640\n",
      "│    │    └─ReLU: 3-2                              [1, 128]                  --\n",
      "│    └─MLPLayer: 2-3                               [1, 128]                  --\n",
      "│    │    └─Linear: 3-3                            [1, 128]                  16,512\n",
      "│    │    └─ReLU: 3-4                              [1, 128]                  --\n",
      "│    └─MLPLayer: 2-4                               [1, 128]                  --\n",
      "│    │    └─Linear: 3-5                            [1, 128]                  16,512\n",
      "│    │    └─ReLU: 3-6                              [1, 128]                  --\n",
      "│    └─MLPLayer: 2-5                               [1, 128]                  --\n",
      "│    │    └─Linear: 3-7                            [1, 128]                  16,512\n",
      "│    │    └─ReLU: 3-8                              [1, 128]                  --\n",
      "│    └─MLPLayer: 2-6                               [1, 128]                  --\n",
      "│    │    └─Linear: 3-9                            [1, 128]                  16,512\n",
      "│    │    └─ReLU: 3-10                             [1, 128]                  --\n",
      "│    └─MLPLayer: 2-7                               [1, 128]                  --\n",
      "│    │    └─Linear: 3-11                           [1, 128]                  16,512\n",
      "│    │    └─ReLU: 3-12                             [1, 128]                  --\n",
      "│    └─Linear: 2-8                                 [1, 2]                    258\n",
      "====================================================================================================\n",
      "Total params: 83,458\n",
      "Trainable params: 83,458\n",
      "Non-trainable params: 0\n",
      "Total mult-adds (Units.MEGABYTES): 0.08\n",
      "====================================================================================================\n",
      "Input size (MB): 0.00\n",
      "Forward/backward pass size (MB): 0.01\n",
      "Params size (MB): 0.33\n",
      "Estimated Total Size (MB): 0.34\n",
      "====================================================================================================\n"
     ]
    },
    {
     "data": {
      "text/plain": [
       "====================================================================================================\n",
       "Layer (type:depth-idx)                             Output Shape              Param #\n",
       "====================================================================================================\n",
       "MLPModel                                           [1, 2]                    --\n",
       "├─Sequential: 1-1                                  [1, 2]                    --\n",
       "│    └─GaussianFourierFeatureTransform: 2-1        [1, 4]                    --\n",
       "│    └─MLPLayer: 2-2                               [1, 128]                  --\n",
       "│    │    └─Linear: 3-1                            [1, 128]                  640\n",
       "│    │    └─ReLU: 3-2                              [1, 128]                  --\n",
       "│    └─MLPLayer: 2-3                               [1, 128]                  --\n",
       "│    │    └─Linear: 3-3                            [1, 128]                  16,512\n",
       "│    │    └─ReLU: 3-4                              [1, 128]                  --\n",
       "│    └─MLPLayer: 2-4                               [1, 128]                  --\n",
       "│    │    └─Linear: 3-5                            [1, 128]                  16,512\n",
       "│    │    └─ReLU: 3-6                              [1, 128]                  --\n",
       "│    └─MLPLayer: 2-5                               [1, 128]                  --\n",
       "│    │    └─Linear: 3-7                            [1, 128]                  16,512\n",
       "│    │    └─ReLU: 3-8                              [1, 128]                  --\n",
       "│    └─MLPLayer: 2-6                               [1, 128]                  --\n",
       "│    │    └─Linear: 3-9                            [1, 128]                  16,512\n",
       "│    │    └─ReLU: 3-10                             [1, 128]                  --\n",
       "│    └─MLPLayer: 2-7                               [1, 128]                  --\n",
       "│    │    └─Linear: 3-11                           [1, 128]                  16,512\n",
       "│    │    └─ReLU: 3-12                             [1, 128]                  --\n",
       "│    └─Linear: 2-8                                 [1, 2]                    258\n",
       "====================================================================================================\n",
       "Total params: 83,458\n",
       "Trainable params: 83,458\n",
       "Non-trainable params: 0\n",
       "Total mult-adds (Units.MEGABYTES): 0.08\n",
       "====================================================================================================\n",
       "Input size (MB): 0.00\n",
       "Forward/backward pass size (MB): 0.01\n",
       "Params size (MB): 0.33\n",
       "Estimated Total Size (MB): 0.34\n",
       "===================================================================================================="
      ]
     },
     "execution_count": 40,
     "metadata": {},
     "output_type": "execute_result"
    }
   ],
   "execution_count": 40
  },
  {
   "metadata": {
    "ExecuteTime": {
     "end_time": "2025-07-03T16:20:00.545267Z",
     "start_time": "2025-07-03T16:20:00.540247Z"
    }
   },
   "cell_type": "code",
   "source": [
    "mlp_residual_model = MLPModel(\n",
    "    in_features=2,\n",
    "    out_features=2,\n",
    "    mapping_type=\"gauss\",\n",
    "    mapping_dim=4,\n",
    "    mapping_scale=10,\n",
    "    hidden_features=128,\n",
    "    hidden_layers = 5, \n",
    "    bias=True,\n",
    "    weight_init=0.1,\n",
    "    bias_init=None,\n",
    "    residual_net=True)"
   ],
   "id": "f2c8354cf066a683",
   "outputs": [],
   "execution_count": 41
  },
  {
   "metadata": {
    "ExecuteTime": {
     "end_time": "2025-07-03T16:20:00.558523Z",
     "start_time": "2025-07-03T16:20:00.555273Z"
    }
   },
   "cell_type": "code",
   "source": "output = mlp_residual_model(x_dummy)",
   "id": "938140693446ee64",
   "outputs": [],
   "execution_count": 42
  },
  {
   "metadata": {
    "ExecuteTime": {
     "end_time": "2025-07-03T16:20:00.571151Z",
     "start_time": "2025-07-03T16:20:00.566149Z"
    }
   },
   "cell_type": "code",
   "source": [
    "print(\"Input:\")\n",
    "print(x_dummy)\n",
    "print(\"Output:\")\n",
    "print(output)"
   ],
   "id": "e927b3fbde7cd4ce",
   "outputs": [
    {
     "name": "stdout",
     "output_type": "stream",
     "text": [
      "Input:\n",
      "tensor([[-0.8798,  0.3790],\n",
      "        [-0.0098, -0.8997],\n",
      "        [ 2.0947, -0.1007],\n",
      "        [ 0.0061, -0.4889],\n",
      "        [-1.0419, -0.2032]])\n",
      "Output:\n",
      "tensor([[-0.1502, -0.3982],\n",
      "        [-0.0654, -0.2902],\n",
      "        [-0.1168, -0.3392],\n",
      "        [-0.1001, -0.3710],\n",
      "        [-0.0913, -0.3534]], grad_fn=<AddmmBackward0>)\n"
     ]
    }
   ],
   "execution_count": 43
  },
  {
   "metadata": {
    "ExecuteTime": {
     "end_time": "2025-07-03T16:20:00.774801Z",
     "start_time": "2025-07-03T16:20:00.764706Z"
    }
   },
   "cell_type": "code",
   "source": "model_summary(mlp_residual_model, input_size=(1, 2))",
   "id": "94cd0e5d1fc386ae",
   "outputs": [
    {
     "name": "stdout",
     "output_type": "stream",
     "text": [
      "====================================================================================================\n",
      "Layer (type:depth-idx)                             Output Shape              Param #\n",
      "====================================================================================================\n",
      "MLPModel                                           [1, 2]                    --\n",
      "├─Sequential: 1-1                                  [1, 2]                    --\n",
      "│    └─GaussianFourierFeatureTransform: 2-1        [1, 4]                    --\n",
      "│    └─MLPLayer: 2-2                               [1, 128]                  --\n",
      "│    │    └─Linear: 3-1                            [1, 128]                  640\n",
      "│    │    └─ReLU: 3-2                              [1, 128]                  --\n",
      "│    └─MLPResidualLayer: 2-3                       [1, 128]                  --\n",
      "│    │    └─Linear: 3-3                            [1, 128]                  16,512\n",
      "│    │    └─ReLU: 3-4                              [1, 128]                  --\n",
      "│    │    └─Linear: 3-5                            [1, 128]                  16,512\n",
      "│    │    └─ReLU: 3-6                              [1, 128]                  --\n",
      "│    └─MLPResidualLayer: 2-4                       [1, 128]                  --\n",
      "│    │    └─Linear: 3-7                            [1, 128]                  16,512\n",
      "│    │    └─ReLU: 3-8                              [1, 128]                  --\n",
      "│    │    └─Linear: 3-9                            [1, 128]                  16,512\n",
      "│    │    └─ReLU: 3-10                             [1, 128]                  --\n",
      "│    └─MLPResidualLayer: 2-5                       [1, 128]                  --\n",
      "│    │    └─Linear: 3-11                           [1, 128]                  16,512\n",
      "│    │    └─ReLU: 3-12                             [1, 128]                  --\n",
      "│    │    └─Linear: 3-13                           [1, 128]                  16,512\n",
      "│    │    └─ReLU: 3-14                             [1, 128]                  --\n",
      "│    └─MLPResidualLayer: 2-6                       [1, 128]                  --\n",
      "│    │    └─Linear: 3-15                           [1, 128]                  16,512\n",
      "│    │    └─ReLU: 3-16                             [1, 128]                  --\n",
      "│    │    └─Linear: 3-17                           [1, 128]                  16,512\n",
      "│    │    └─ReLU: 3-18                             [1, 128]                  --\n",
      "│    └─MLPResidualLayer: 2-7                       [1, 128]                  --\n",
      "│    │    └─Linear: 3-19                           [1, 128]                  16,512\n",
      "│    │    └─ReLU: 3-20                             [1, 128]                  --\n",
      "│    │    └─Linear: 3-21                           [1, 128]                  16,512\n",
      "│    │    └─ReLU: 3-22                             [1, 128]                  --\n",
      "│    └─Linear: 2-8                                 [1, 2]                    258\n",
      "====================================================================================================\n",
      "Total params: 166,018\n",
      "Trainable params: 166,018\n",
      "Non-trainable params: 0\n",
      "Total mult-adds (Units.MEGABYTES): 0.17\n",
      "====================================================================================================\n",
      "Input size (MB): 0.00\n",
      "Forward/backward pass size (MB): 0.01\n",
      "Params size (MB): 0.66\n",
      "Estimated Total Size (MB): 0.68\n",
      "====================================================================================================\n"
     ]
    },
    {
     "data": {
      "text/plain": [
       "====================================================================================================\n",
       "Layer (type:depth-idx)                             Output Shape              Param #\n",
       "====================================================================================================\n",
       "MLPModel                                           [1, 2]                    --\n",
       "├─Sequential: 1-1                                  [1, 2]                    --\n",
       "│    └─GaussianFourierFeatureTransform: 2-1        [1, 4]                    --\n",
       "│    └─MLPLayer: 2-2                               [1, 128]                  --\n",
       "│    │    └─Linear: 3-1                            [1, 128]                  640\n",
       "│    │    └─ReLU: 3-2                              [1, 128]                  --\n",
       "│    └─MLPResidualLayer: 2-3                       [1, 128]                  --\n",
       "│    │    └─Linear: 3-3                            [1, 128]                  16,512\n",
       "│    │    └─ReLU: 3-4                              [1, 128]                  --\n",
       "│    │    └─Linear: 3-5                            [1, 128]                  16,512\n",
       "│    │    └─ReLU: 3-6                              [1, 128]                  --\n",
       "│    └─MLPResidualLayer: 2-4                       [1, 128]                  --\n",
       "│    │    └─Linear: 3-7                            [1, 128]                  16,512\n",
       "│    │    └─ReLU: 3-8                              [1, 128]                  --\n",
       "│    │    └─Linear: 3-9                            [1, 128]                  16,512\n",
       "│    │    └─ReLU: 3-10                             [1, 128]                  --\n",
       "│    └─MLPResidualLayer: 2-5                       [1, 128]                  --\n",
       "│    │    └─Linear: 3-11                           [1, 128]                  16,512\n",
       "│    │    └─ReLU: 3-12                             [1, 128]                  --\n",
       "│    │    └─Linear: 3-13                           [1, 128]                  16,512\n",
       "│    │    └─ReLU: 3-14                             [1, 128]                  --\n",
       "│    └─MLPResidualLayer: 2-6                       [1, 128]                  --\n",
       "│    │    └─Linear: 3-15                           [1, 128]                  16,512\n",
       "│    │    └─ReLU: 3-16                             [1, 128]                  --\n",
       "│    │    └─Linear: 3-17                           [1, 128]                  16,512\n",
       "│    │    └─ReLU: 3-18                             [1, 128]                  --\n",
       "│    └─MLPResidualLayer: 2-7                       [1, 128]                  --\n",
       "│    │    └─Linear: 3-19                           [1, 128]                  16,512\n",
       "│    │    └─ReLU: 3-20                             [1, 128]                  --\n",
       "│    │    └─Linear: 3-21                           [1, 128]                  16,512\n",
       "│    │    └─ReLU: 3-22                             [1, 128]                  --\n",
       "│    └─Linear: 2-8                                 [1, 2]                    258\n",
       "====================================================================================================\n",
       "Total params: 166,018\n",
       "Trainable params: 166,018\n",
       "Non-trainable params: 0\n",
       "Total mult-adds (Units.MEGABYTES): 0.17\n",
       "====================================================================================================\n",
       "Input size (MB): 0.00\n",
       "Forward/backward pass size (MB): 0.01\n",
       "Params size (MB): 0.66\n",
       "Estimated Total Size (MB): 0.68\n",
       "===================================================================================================="
      ]
     },
     "execution_count": 44,
     "metadata": {},
     "output_type": "execute_result"
    }
   ],
   "execution_count": 44
  },
  {
   "metadata": {
    "ExecuteTime": {
     "end_time": "2025-07-03T16:20:00.902882Z",
     "start_time": "2025-07-03T16:20:00.900672Z"
    }
   },
   "cell_type": "code",
   "source": "",
   "id": "cdacd2570c3a2b5",
   "outputs": [],
   "execution_count": null
  },
  {
   "metadata": {
    "ExecuteTime": {
     "end_time": "2025-07-03T16:20:00.917556Z",
     "start_time": "2025-07-03T16:20:00.915689Z"
    }
   },
   "cell_type": "code",
   "source": "",
   "id": "39ee9f42b1c5a8db",
   "outputs": [],
   "execution_count": null
  },
  {
   "metadata": {
    "ExecuteTime": {
     "end_time": "2025-07-03T16:20:00.928289Z",
     "start_time": "2025-07-03T16:20:00.926069Z"
    }
   },
   "cell_type": "code",
   "source": "",
   "id": "7ea788c03a4ed5f7",
   "outputs": [],
   "execution_count": null
  },
  {
   "metadata": {
    "ExecuteTime": {
     "end_time": "2025-07-03T16:20:00.937435Z",
     "start_time": "2025-07-03T16:20:00.935610Z"
    }
   },
   "cell_type": "code",
   "source": "",
   "id": "1ba0d93fe9cb7d4c",
   "outputs": [],
   "execution_count": null
  },
  {
   "metadata": {
    "ExecuteTime": {
     "end_time": "2025-07-03T16:20:00.946068Z",
     "start_time": "2025-07-03T16:20:00.944064Z"
    }
   },
   "cell_type": "code",
   "source": "",
   "id": "c0eaec1ce0dee73a",
   "outputs": [],
   "execution_count": null
  },
  {
   "metadata": {
    "ExecuteTime": {
     "end_time": "2025-07-03T16:20:00.960523Z",
     "start_time": "2025-07-03T16:20:00.958019Z"
    }
   },
   "cell_type": "code",
   "source": "",
   "id": "a02f89fae1331d93",
   "outputs": [],
   "execution_count": null
  },
  {
   "metadata": {
    "ExecuteTime": {
     "end_time": "2025-07-03T16:20:00.971894Z",
     "start_time": "2025-07-03T16:20:00.969584Z"
    }
   },
   "cell_type": "code",
   "source": "",
   "id": "aa8ae554db37a562",
   "outputs": [],
   "execution_count": null
  },
  {
   "metadata": {
    "ExecuteTime": {
     "end_time": "2025-07-03T16:20:00.992227Z",
     "start_time": "2025-07-03T16:20:00.990251Z"
    }
   },
   "cell_type": "code",
   "source": "",
   "id": "c53d34806b1394f7",
   "outputs": [],
   "execution_count": null
  },
  {
   "metadata": {
    "ExecuteTime": {
     "end_time": "2025-07-03T16:20:01.000559Z",
     "start_time": "2025-07-03T16:20:00.997814Z"
    }
   },
   "cell_type": "code",
   "source": "",
   "id": "25e9c7815a57135e",
   "outputs": [],
   "execution_count": null
  },
  {
   "metadata": {
    "ExecuteTime": {
     "end_time": "2025-07-03T16:20:01.009711Z",
     "start_time": "2025-07-03T16:20:01.007854Z"
    }
   },
   "cell_type": "code",
   "source": "",
   "id": "f0de6b30b350f444",
   "outputs": [],
   "execution_count": null
  },
  {
   "metadata": {
    "ExecuteTime": {
     "end_time": "2025-07-03T16:20:01.017576Z",
     "start_time": "2025-07-03T16:20:01.015575Z"
    }
   },
   "cell_type": "code",
   "source": "",
   "id": "ecc2ab29e41daefe",
   "outputs": [],
   "execution_count": null
  },
  {
   "metadata": {
    "ExecuteTime": {
     "end_time": "2025-07-03T16:20:01.043073Z",
     "start_time": "2025-07-03T16:20:01.040984Z"
    }
   },
   "cell_type": "code",
   "source": "",
   "id": "c55709a1f00f4a0c",
   "outputs": [],
   "execution_count": null
  },
  {
   "metadata": {
    "ExecuteTime": {
     "end_time": "2025-07-03T16:20:01.057022Z",
     "start_time": "2025-07-03T16:20:01.054022Z"
    }
   },
   "cell_type": "code",
   "source": "",
   "id": "413e8f2b1e7dce96",
   "outputs": [],
   "execution_count": null
  },
  {
   "metadata": {
    "ExecuteTime": {
     "end_time": "2025-07-03T16:20:01.070797Z",
     "start_time": "2025-07-03T16:20:01.067915Z"
    }
   },
   "cell_type": "code",
   "source": "",
   "id": "bb2f27ab49d412d",
   "outputs": [],
   "execution_count": null
  },
  {
   "metadata": {
    "ExecuteTime": {
     "end_time": "2025-07-03T16:20:01.083389Z",
     "start_time": "2025-07-03T16:20:01.081320Z"
    }
   },
   "cell_type": "code",
   "source": "",
   "id": "fff5b0ff440e3a2d",
   "outputs": [],
   "execution_count": null
  },
  {
   "metadata": {
    "ExecuteTime": {
     "end_time": "2025-07-03T16:20:01.099387Z",
     "start_time": "2025-07-03T16:20:01.096910Z"
    }
   },
   "cell_type": "code",
   "source": "",
   "id": "7dbfad97f8f89743",
   "outputs": [],
   "execution_count": null
  }
 ],
 "metadata": {
  "kernelspec": {
   "display_name": "Python (worldclim)",
   "language": "python",
   "name": "worldclim"
  },
  "language_info": {
   "codemirror_mode": {
    "name": "ipython",
    "version": 2
   },
   "file_extension": ".py",
   "mimetype": "text/x-python",
   "name": "python",
   "nbconvert_exporter": "python",
   "pygments_lexer": "ipython2",
   "version": "2.7.6"
  }
 },
 "nbformat": 4,
 "nbformat_minor": 5
}
