{
 "cells": [
  {
   "metadata": {},
   "cell_type": "markdown",
   "source": "## SIREN and FINER MODEL",
   "id": "5e0fcc9793abb39f"
  },
  {
   "cell_type": "code",
   "id": "initial_id",
   "metadata": {
    "collapsed": true,
    "ExecuteTime": {
     "end_time": "2025-06-26T18:15:51.217630Z",
     "start_time": "2025-06-26T18:15:49.202176Z"
    }
   },
   "source": [
    "import torch\n",
    "from models.implicit_neural_representations.inr_models.siren_model import SirenModel, FinerModel"
   ],
   "outputs": [],
   "execution_count": 1
  },
  {
   "metadata": {
    "ExecuteTime": {
     "end_time": "2025-06-26T18:15:51.223196Z",
     "start_time": "2025-06-26T18:15:51.220637Z"
    }
   },
   "cell_type": "code",
   "source": "x_dummy = torch.randn(5, 2)",
   "id": "8f91803098cae9cd",
   "outputs": [],
   "execution_count": 2
  },
  {
   "metadata": {
    "ExecuteTime": {
     "end_time": "2025-06-26T18:15:51.322535Z",
     "start_time": "2025-06-26T18:15:51.310551Z"
    }
   },
   "cell_type": "code",
   "source": [
    "# initialize siren model without residual layers\n",
    "siren_model = SirenModel(\n",
    "    in_features=2,\n",
    "    out_features=2,\n",
    "    hidden_layers=5,\n",
    "    hidden_features=512,\n",
    "    first_omega_0=30.0,\n",
    "    hidden_omega_0=30.0,\n",
    "    residual_net=False\n",
    ")"
   ],
   "id": "1351d587cbfe65fd",
   "outputs": [],
   "execution_count": 3
  },
  {
   "metadata": {
    "ExecuteTime": {
     "end_time": "2025-06-26T18:15:51.337221Z",
     "start_time": "2025-06-26T18:15:51.327544Z"
    }
   },
   "cell_type": "code",
   "source": "output = siren_model(x_dummy)",
   "id": "b8b6be995c71318e",
   "outputs": [],
   "execution_count": 4
  },
  {
   "metadata": {
    "ExecuteTime": {
     "end_time": "2025-06-26T18:15:51.350909Z",
     "start_time": "2025-06-26T18:15:51.346391Z"
    }
   },
   "cell_type": "code",
   "source": [
    "# Print input and output\n",
    "print(\"Input:\")\n",
    "print(x_dummy)\n",
    "print(\"Output:\")\n",
    "print(output)"
   ],
   "id": "5e5969588e434a48",
   "outputs": [
    {
     "name": "stdout",
     "output_type": "stream",
     "text": [
      "Input:\n",
      "tensor([[-0.6986, -0.1619],\n",
      "        [-0.3133,  0.4067],\n",
      "        [ 0.4126,  0.2592],\n",
      "        [ 0.2147,  0.2995],\n",
      "        [-0.6245, -0.6845]])\n",
      "Output:\n",
      "tensor([[-0.0139,  0.0276],\n",
      "        [-0.0022,  0.0550],\n",
      "        [-0.0090,  0.0697],\n",
      "        [-0.0237,  0.0379],\n",
      "        [-0.0088,  0.0527]], grad_fn=<AddmmBackward0>)\n"
     ]
    }
   ],
   "execution_count": 5
  },
  {
   "metadata": {
    "ExecuteTime": {
     "end_time": "2025-06-26T18:15:51.359363Z",
     "start_time": "2025-06-26T18:15:51.353911Z"
    }
   },
   "cell_type": "code",
   "source": [
    "finer_model = FinerModel(\n",
    "    in_features=2,\n",
    "    out_features=2,\n",
    "    bias=True,\n",
    "    hidden_layers=5,\n",
    "    hidden_features=128,\n",
    "    first_omega_0=30.,\n",
    "    hidden_omega_0=30.,\n",
    "    first_bias=10,\n",
    "    hidden_bias=10,\n",
    "    residual_net=False\n",
    ")"
   ],
   "id": "d10b5ab135cb770b",
   "outputs": [],
   "execution_count": 6
  },
  {
   "metadata": {
    "ExecuteTime": {
     "end_time": "2025-06-26T18:15:51.368890Z",
     "start_time": "2025-06-26T18:15:51.364881Z"
    }
   },
   "cell_type": "code",
   "source": "output = finer_model(x_dummy)",
   "id": "3cda3b4e3fd8068e",
   "outputs": [],
   "execution_count": 7
  },
  {
   "metadata": {
    "ExecuteTime": {
     "end_time": "2025-06-26T18:15:51.377260Z",
     "start_time": "2025-06-26T18:15:51.373237Z"
    }
   },
   "cell_type": "code",
   "source": [
    "# Print input and output\n",
    "print(\"Input:\")\n",
    "print(x_dummy)\n",
    "print(\"Output:\")\n",
    "print(output)"
   ],
   "id": "d5ab8845c39a0e08",
   "outputs": [
    {
     "name": "stdout",
     "output_type": "stream",
     "text": [
      "Input:\n",
      "tensor([[-0.6986, -0.1619],\n",
      "        [-0.3133,  0.4067],\n",
      "        [ 0.4126,  0.2592],\n",
      "        [ 0.2147,  0.2995],\n",
      "        [-0.6245, -0.6845]])\n",
      "Output:\n",
      "tensor([[-0.0127, -0.0748],\n",
      "        [-0.0118, -0.0746],\n",
      "        [-0.0124, -0.0743],\n",
      "        [-0.0123, -0.0748],\n",
      "        [-0.0118, -0.0741]], grad_fn=<AddmmBackward0>)\n"
     ]
    }
   ],
   "execution_count": 8
  },
  {
   "metadata": {
    "ExecuteTime": {
     "end_time": "2025-06-26T18:15:51.394938Z",
     "start_time": "2025-06-26T18:15:51.383871Z"
    }
   },
   "cell_type": "code",
   "source": [
    "siren_residual_model = SirenModel(\n",
    "    in_features=2,\n",
    "    out_features=2,\n",
    "    hidden_layers=5,\n",
    "    hidden_features=512,\n",
    "    first_omega_0=30.0,\n",
    "    hidden_omega_0=30.0,\n",
    "    residual_net=True\n",
    ")"
   ],
   "id": "ce4ad6f79b9f0daf",
   "outputs": [],
   "execution_count": 9
  },
  {
   "metadata": {
    "ExecuteTime": {
     "end_time": "2025-06-26T18:15:51.404363Z",
     "start_time": "2025-06-26T18:15:51.399140Z"
    }
   },
   "cell_type": "code",
   "source": "output = siren_residual_model(x_dummy)",
   "id": "ffcc799028eefe3c",
   "outputs": [],
   "execution_count": 10
  },
  {
   "metadata": {
    "ExecuteTime": {
     "end_time": "2025-06-26T18:15:51.414222Z",
     "start_time": "2025-06-26T18:15:51.410929Z"
    }
   },
   "cell_type": "code",
   "source": [
    "# Print input and output\n",
    "print(\"Input:\")\n",
    "print(x_dummy)\n",
    "print(\"Output:\")\n",
    "print(output)"
   ],
   "id": "ef89bf21830f6054",
   "outputs": [
    {
     "name": "stdout",
     "output_type": "stream",
     "text": [
      "Input:\n",
      "tensor([[-0.6986, -0.1619],\n",
      "        [-0.3133,  0.4067],\n",
      "        [ 0.4126,  0.2592],\n",
      "        [ 0.2147,  0.2995],\n",
      "        [-0.6245, -0.6845]])\n",
      "Output:\n",
      "tensor([[-0.1467,  0.1285],\n",
      "        [-0.0211, -0.1325],\n",
      "        [ 0.1184, -0.1266],\n",
      "        [ 0.0400, -0.0928],\n",
      "        [-0.0412, -0.0479]], grad_fn=<AddmmBackward0>)\n"
     ]
    }
   ],
   "execution_count": 11
  },
  {
   "metadata": {
    "ExecuteTime": {
     "end_time": "2025-06-26T18:15:51.513380Z",
     "start_time": "2025-06-26T18:15:51.504025Z"
    }
   },
   "cell_type": "code",
   "source": [
    "finer_residual_model = FinerModel( \n",
    "    in_features=2,\n",
    "    out_features=2,\n",
    "    bias=True,\n",
    "    hidden_layers=5,\n",
    "    hidden_features=128,\n",
    "    first_omega_0=30.,\n",
    "    hidden_omega_0=30.,\n",
    "    first_bias=10,\n",
    "    hidden_bias=10,\n",
    "    residual_net=True\n",
    ")"
   ],
   "id": "1b815d502c6cbd92",
   "outputs": [],
   "execution_count": 12
  },
  {
   "metadata": {
    "ExecuteTime": {
     "end_time": "2025-06-26T18:15:51.553238Z",
     "start_time": "2025-06-26T18:15:51.548576Z"
    }
   },
   "cell_type": "code",
   "source": "output = finer_residual_model(x_dummy)",
   "id": "2052922e4f26d50b",
   "outputs": [],
   "execution_count": 13
  },
  {
   "metadata": {
    "ExecuteTime": {
     "end_time": "2025-06-26T18:16:01.317116Z",
     "start_time": "2025-06-26T18:16:01.312225Z"
    }
   },
   "cell_type": "code",
   "source": [
    "# Print input and output\n",
    "print(\"Input:\")\n",
    "print(x_dummy)\n",
    "print(\"Output:\")\n",
    "print(output)"
   ],
   "id": "1ade6f5941e980f7",
   "outputs": [
    {
     "name": "stdout",
     "output_type": "stream",
     "text": [
      "Input:\n",
      "tensor([[-0.6986, -0.1619],\n",
      "        [-0.3133,  0.4067],\n",
      "        [ 0.4126,  0.2592],\n",
      "        [ 0.2147,  0.2995],\n",
      "        [-0.6245, -0.6845]])\n",
      "Output:\n",
      "tensor([[ 0.0014, -0.1981],\n",
      "        [ 0.0493, -0.1526],\n",
      "        [-0.0993, -0.1100],\n",
      "        [-0.0830, -0.0592],\n",
      "        [-0.0248, -0.0688]], grad_fn=<AddmmBackward0>)\n"
     ]
    }
   ],
   "execution_count": 14
  },
  {
   "metadata": {
    "ExecuteTime": {
     "end_time": "2025-06-26T18:15:51.580693Z",
     "start_time": "2025-06-26T18:15:51.578939Z"
    }
   },
   "cell_type": "code",
   "source": "",
   "id": "f202e984ecacc1ec",
   "outputs": [],
   "execution_count": null
  },
  {
   "metadata": {
    "ExecuteTime": {
     "end_time": "2025-06-26T18:15:51.588734Z",
     "start_time": "2025-06-26T18:15:51.586141Z"
    }
   },
   "cell_type": "code",
   "source": "",
   "id": "7dbfad97f8f89743",
   "outputs": [],
   "execution_count": null
  }
 ],
 "metadata": {
  "kernelspec": {
   "display_name": "Python (worldclim)",
   "language": "python",
   "name": "worldclim"
  },
  "language_info": {
   "codemirror_mode": {
    "name": "ipython",
    "version": 2
   },
   "file_extension": ".py",
   "mimetype": "text/x-python",
   "name": "python",
   "nbconvert_exporter": "python",
   "pygments_lexer": "ipython2",
   "version": "2.7.6"
  }
 },
 "nbformat": 4,
 "nbformat_minor": 5
}
